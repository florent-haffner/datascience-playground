{
 "cells": [
  {
   "cell_type": "code",
   "execution_count": 1,
   "id": "11dc3a91-57a8-495c-b7fd-1fe58d7b8034",
   "metadata": {},
   "outputs": [],
   "source": [
    "import os\n",
    "import requests\n",
    "import json"
   ]
  },
  {
   "cell_type": "code",
   "execution_count": 2,
   "id": "4b0d5bd1-3cdd-4aec-afdc-9b33e50318d4",
   "metadata": {},
   "outputs": [],
   "source": [
    "TWITTER_TOKEN = os.getenv('TWITTER_TOKEN')"
   ]
  },
  {
   "cell_type": "code",
   "execution_count": 3,
   "id": "be99cc5d-e84a-4888-8306-95a3a998c709",
   "metadata": {},
   "outputs": [],
   "source": [
    "def get_twitter_id_from_username(username):\n",
    "    url = f'https://api.twitter.com/2/users/by/username/{username}'\n",
    "    header = { 'Authorization': f'Bearer {TWITTER_TOKEN}'}\n",
    "    response = requests.get(url, headers=header)\n",
    "    \n",
    "    if response.status_code == 200:\n",
    "        return response.json()['data']\n",
    "    else:\n",
    "        print('error on request')"
   ]
  },
  {
   "cell_type": "code",
   "execution_count": 4,
   "id": "8da7bd41-9314-4f9f-bffb-a49131e5c7d4",
   "metadata": {},
   "outputs": [
    {
     "data": {
      "text/plain": [
       "{'id': '996727069798264832', 'name': 'Florent HAFFNER', 'username': 'nelth_fr'}"
      ]
     },
     "execution_count": 4,
     "metadata": {},
     "output_type": "execute_result"
    }
   ],
   "source": [
    "twitter_user = get_twitter_id_from_username('nelth_fr'); twitter_user"
   ]
  },
  {
   "cell_type": "code",
   "execution_count": 5,
   "id": "c6ecfa10-95fa-4db9-a287-d2f98d773fd9",
   "metadata": {},
   "outputs": [],
   "source": [
    "def get_twitter_data_from_userid(user_id, max_results, next_token):\n",
    "    url = f'https://api.twitter.com/2/users/{user_id}/tweets'\n",
    "    url_params = '?'+ \\\n",
    "        f'max_results={max_results}&' + \\\n",
    "        'tweet.fields=created_at&' + \\\n",
    "        'expansions=author_id'\n",
    "    if next_token:\n",
    "        url_params += f'&pagination_token={next_token}'\n",
    "\n",
    "    header = { 'Authorization': f'Bearer {TWITTER_TOKEN}'}   \n",
    "    response = requests.get(url+url_params, headers=header)\n",
    "    \n",
    "    if response.status_code == 200:\n",
    "        return response.json()\n",
    "    else:\n",
    "        print('error on request')"
   ]
  },
  {
   "cell_type": "code",
   "execution_count": 6,
   "id": "d580381f-08d2-42aa-9a25-ddd22a39ecab",
   "metadata": {},
   "outputs": [
    {
     "data": {
      "text/plain": [
       "'996727069798264832'"
      ]
     },
     "execution_count": 6,
     "metadata": {},
     "output_type": "execute_result"
    }
   ],
   "source": [
    "user_id = twitter_user['id']; user_id"
   ]
  },
  {
   "cell_type": "code",
   "execution_count": 7,
   "id": "d74775c0-2466-4fd6-b9e0-a8f294d95226",
   "metadata": {},
   "outputs": [],
   "source": [
    "def get_full_tweets(max_results=500, nbr_per_page=100):\n",
    "    dataset = []\n",
    "    \n",
    "    try:\n",
    "        results = get_twitter_data_from_userid(user_id, nbr_per_page, '')\n",
    "        next_token = results['meta']['next_token']\n",
    "        for res in results['data']:\n",
    "            dataset.append(res)\n",
    "\n",
    "        nbr_pages = int(max_results/nbr_per_page)\n",
    "        for i in range(0, nbr_pages):\n",
    "            results = get_twitter_data_from_userid(user_id, nbr_per_page, next_token)\n",
    "            next_token = results['meta']['next_token']\n",
    "            for res in results['data']:\n",
    "                dataset.append(res)\n",
    "    \n",
    "    except KeyError:\n",
    "        print('seems like you don\\'t have access to more tweets...')\n",
    "\n",
    "    return dataset"
   ]
  },
  {
   "cell_type": "code",
   "execution_count": 8,
   "id": "c9dfbe54-6650-4ce9-9207-9ff71ec6c022",
   "metadata": {
    "tags": []
   },
   "outputs": [
    {
     "name": "stdout",
     "output_type": "stream",
     "text": [
      "seems like you don't have access to more tweets...\n"
     ]
    }
   ],
   "source": [
    "archive = get_full_tweets()"
   ]
  },
  {
   "cell_type": "code",
   "execution_count": 9,
   "id": "04378ab7-9f5c-4038-a2ef-65bcdad96ad8",
   "metadata": {},
   "outputs": [
    {
     "data": {
      "text/plain": [
       "300"
      ]
     },
     "execution_count": 9,
     "metadata": {},
     "output_type": "execute_result"
    }
   ],
   "source": [
    "len(archive)"
   ]
  },
  {
   "cell_type": "code",
   "execution_count": 15,
   "id": "d3354495-33f3-4dcc-a1d3-eb1409b0e1f7",
   "metadata": {},
   "outputs": [],
   "source": [
    "def write_data_to_fs(data):\n",
    "    directory_to_write = '../../data'\n",
    "    if not os.path.exists(directory_to_write):\n",
    "        os.mkdir(directory_to_write)\n",
    "    with open(f'{directory_to_write}/tweets-{user_id}.json', 'w') as outfile:\n",
    "        json.dump(data, outfile)"
   ]
  },
  {
   "cell_type": "code",
   "execution_count": 16,
   "id": "d2d802a9-a691-455c-8a84-f7b589f20593",
   "metadata": {},
   "outputs": [],
   "source": [
    "write_data_to_fs(archive)"
   ]
  },
  {
   "cell_type": "code",
   "execution_count": null,
   "id": "04dafec4-f8fa-45fd-8ed6-17c7c95e81c3",
   "metadata": {},
   "outputs": [],
   "source": []
  }
 ],
 "metadata": {
  "kernelspec": {
   "display_name": "Python 3 (ipykernel)",
   "language": "python",
   "name": "python3"
  },
  "language_info": {
   "codemirror_mode": {
    "name": "ipython",
    "version": 3
   },
   "file_extension": ".py",
   "mimetype": "text/x-python",
   "name": "python",
   "nbconvert_exporter": "python",
   "pygments_lexer": "ipython3",
   "version": "3.10.4"
  }
 },
 "nbformat": 4,
 "nbformat_minor": 5
}
