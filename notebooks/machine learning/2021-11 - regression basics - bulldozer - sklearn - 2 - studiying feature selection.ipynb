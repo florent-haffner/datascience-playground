{
 "cells": [
  {
   "cell_type": "markdown",
   "id": "b8c66542",
   "metadata": {},
   "source": [
    "# Bulldozer dataset\n",
    "\n",
    "This notebook will use a datasets with a large number of columns (>30) and will propose and entire pipeline of treatments.\n",
    "\n",
    "After this it will focus on the subjects of datasets distribution/randomness and features selection."
   ]
  },
  {
   "cell_type": "code",
   "execution_count": 1,
   "id": "f221d27d",
   "metadata": {},
   "outputs": [],
   "source": [
    "import os\n",
    "import json\n",
    "import random\n",
    "from pathlib import Path\n",
    "from zipfile import ZipFile"
   ]
  },
  {
   "cell_type": "code",
   "execution_count": 2,
   "id": "9bdc1ce3",
   "metadata": {},
   "outputs": [],
   "source": [
    "import kaggle\n",
    "import pandas as pd\n",
    "import numpy as np\n",
    "import matplotlib.pyplot as plt\n",
    "\n",
    "from sklearn.model_selection import train_test_split\n",
    "from sklearn.utils import resample\n",
    "from sklearn.linear_model import LinearRegression\n",
    "from sklearn.ensemble import RandomForestRegressor"
   ]
  },
  {
   "cell_type": "code",
   "execution_count": 3,
   "id": "bfeb9e2a",
   "metadata": {},
   "outputs": [],
   "source": [
    "def display_all(df):\n",
    "    with pd.option_context(\"display.max_rows\", 1000, \"display.max_columns\", 1000): \n",
    "        display(df)"
   ]
  },
  {
   "cell_type": "code",
   "execution_count": 4,
   "id": "61535ed9",
   "metadata": {},
   "outputs": [],
   "source": [
    "df = pd.read_feather('tmp/feather')"
   ]
  },
  {
   "cell_type": "code",
   "execution_count": 5,
   "id": "615e8db0",
   "metadata": {
    "scrolled": false
   },
   "outputs": [
    {
     "data": {
      "text/html": [
       "<div>\n",
       "<style scoped>\n",
       "    .dataframe tbody tr th:only-of-type {\n",
       "        vertical-align: middle;\n",
       "    }\n",
       "\n",
       "    .dataframe tbody tr th {\n",
       "        vertical-align: top;\n",
       "    }\n",
       "\n",
       "    .dataframe thead th {\n",
       "        text-align: right;\n",
       "    }\n",
       "</style>\n",
       "<table border=\"1\" class=\"dataframe\">\n",
       "  <thead>\n",
       "    <tr style=\"text-align: right;\">\n",
       "      <th></th>\n",
       "      <th>0</th>\n",
       "      <th>1</th>\n",
       "      <th>2</th>\n",
       "      <th>3</th>\n",
       "      <th>4</th>\n",
       "    </tr>\n",
       "  </thead>\n",
       "  <tbody>\n",
       "    <tr>\n",
       "      <th>SalesID</th>\n",
       "      <td>1139246</td>\n",
       "      <td>1139248</td>\n",
       "      <td>1139249</td>\n",
       "      <td>1139251</td>\n",
       "      <td>1139253</td>\n",
       "    </tr>\n",
       "    <tr>\n",
       "      <th>SalePrice</th>\n",
       "      <td>11.09741</td>\n",
       "      <td>10.950807</td>\n",
       "      <td>9.21034</td>\n",
       "      <td>10.558414</td>\n",
       "      <td>9.305651</td>\n",
       "    </tr>\n",
       "    <tr>\n",
       "      <th>MachineID</th>\n",
       "      <td>999089</td>\n",
       "      <td>117657</td>\n",
       "      <td>434808</td>\n",
       "      <td>1026470</td>\n",
       "      <td>1057373</td>\n",
       "    </tr>\n",
       "    <tr>\n",
       "      <th>ModelID</th>\n",
       "      <td>3157</td>\n",
       "      <td>77</td>\n",
       "      <td>7009</td>\n",
       "      <td>332</td>\n",
       "      <td>17311</td>\n",
       "    </tr>\n",
       "    <tr>\n",
       "      <th>datasource</th>\n",
       "      <td>121</td>\n",
       "      <td>121</td>\n",
       "      <td>121</td>\n",
       "      <td>121</td>\n",
       "      <td>121</td>\n",
       "    </tr>\n",
       "    <tr>\n",
       "      <th>auctioneerID</th>\n",
       "      <td>3.0</td>\n",
       "      <td>3.0</td>\n",
       "      <td>3.0</td>\n",
       "      <td>3.0</td>\n",
       "      <td>3.0</td>\n",
       "    </tr>\n",
       "    <tr>\n",
       "      <th>YearMade</th>\n",
       "      <td>2004</td>\n",
       "      <td>1996</td>\n",
       "      <td>2001</td>\n",
       "      <td>2001</td>\n",
       "      <td>2007</td>\n",
       "    </tr>\n",
       "    <tr>\n",
       "      <th>MachineHoursCurrentMeter</th>\n",
       "      <td>68.0</td>\n",
       "      <td>4640.0</td>\n",
       "      <td>2838.0</td>\n",
       "      <td>3486.0</td>\n",
       "      <td>722.0</td>\n",
       "    </tr>\n",
       "    <tr>\n",
       "      <th>UsageBand</th>\n",
       "      <td>1.0</td>\n",
       "      <td>1.0</td>\n",
       "      <td>0.0</td>\n",
       "      <td>0.0</td>\n",
       "      <td>2.0</td>\n",
       "    </tr>\n",
       "    <tr>\n",
       "      <th>fiModelDesc</th>\n",
       "      <td>949.0</td>\n",
       "      <td>1724.0</td>\n",
       "      <td>330.0</td>\n",
       "      <td>3673.0</td>\n",
       "      <td>4207.0</td>\n",
       "    </tr>\n",
       "    <tr>\n",
       "      <th>fiBaseModel</th>\n",
       "      <td>295.0</td>\n",
       "      <td>526.0</td>\n",
       "      <td>109.0</td>\n",
       "      <td>1374.0</td>\n",
       "      <td>1528.0</td>\n",
       "    </tr>\n",
       "    <tr>\n",
       "      <th>fiSecondaryDesc</th>\n",
       "      <td>40.0</td>\n",
       "      <td>54.0</td>\n",
       "      <td>54.0</td>\n",
       "      <td>54.0</td>\n",
       "      <td>54.0</td>\n",
       "    </tr>\n",
       "    <tr>\n",
       "      <th>fiProductClassDesc</th>\n",
       "      <td>58.0</td>\n",
       "      <td>61.0</td>\n",
       "      <td>38.0</td>\n",
       "      <td>7.0</td>\n",
       "      <td>39.0</td>\n",
       "    </tr>\n",
       "    <tr>\n",
       "      <th>state</th>\n",
       "      <td>0.0</td>\n",
       "      <td>32.0</td>\n",
       "      <td>31.0</td>\n",
       "      <td>43.0</td>\n",
       "      <td>31.0</td>\n",
       "    </tr>\n",
       "    <tr>\n",
       "      <th>ProductGroup</th>\n",
       "      <td>5.0</td>\n",
       "      <td>5.0</td>\n",
       "      <td>2.0</td>\n",
       "      <td>3.0</td>\n",
       "      <td>2.0</td>\n",
       "    </tr>\n",
       "    <tr>\n",
       "      <th>ProductGroupDesc</th>\n",
       "      <td>5.0</td>\n",
       "      <td>5.0</td>\n",
       "      <td>2.0</td>\n",
       "      <td>3.0</td>\n",
       "      <td>2.0</td>\n",
       "    </tr>\n",
       "    <tr>\n",
       "      <th>Enclosure</th>\n",
       "      <td>2.0</td>\n",
       "      <td>2.0</td>\n",
       "      <td>5.0</td>\n",
       "      <td>2.0</td>\n",
       "      <td>0.0</td>\n",
       "    </tr>\n",
       "    <tr>\n",
       "      <th>Forks</th>\n",
       "      <td>0.0</td>\n",
       "      <td>0.0</td>\n",
       "      <td>0.0</td>\n",
       "      <td>0.0</td>\n",
       "      <td>0.0</td>\n",
       "    </tr>\n",
       "    <tr>\n",
       "      <th>Ride_Control</th>\n",
       "      <td>1.0</td>\n",
       "      <td>1.0</td>\n",
       "      <td>1.0</td>\n",
       "      <td>1.0</td>\n",
       "      <td>1.0</td>\n",
       "    </tr>\n",
       "    <tr>\n",
       "      <th>Hydraulics</th>\n",
       "      <td>0.0</td>\n",
       "      <td>0.0</td>\n",
       "      <td>3.0</td>\n",
       "      <td>0.0</td>\n",
       "      <td>3.0</td>\n",
       "    </tr>\n",
       "    <tr>\n",
       "      <th>Tire_Size</th>\n",
       "      <td>16.0</td>\n",
       "      <td>11.0</td>\n",
       "      <td>11.0</td>\n",
       "      <td>11.0</td>\n",
       "      <td>11.0</td>\n",
       "    </tr>\n",
       "    <tr>\n",
       "      <th>Coupler</th>\n",
       "      <td>2.0</td>\n",
       "      <td>2.0</td>\n",
       "      <td>2.0</td>\n",
       "      <td>2.0</td>\n",
       "      <td>2.0</td>\n",
       "    </tr>\n",
       "    <tr>\n",
       "      <th>Differential_Type</th>\n",
       "      <td>3.0</td>\n",
       "      <td>3.0</td>\n",
       "      <td>3.0</td>\n",
       "      <td>3.0</td>\n",
       "      <td>3.0</td>\n",
       "    </tr>\n",
       "    <tr>\n",
       "      <th>Steering_Controls</th>\n",
       "      <td>1.0</td>\n",
       "      <td>1.0</td>\n",
       "      <td>1.0</td>\n",
       "      <td>1.0</td>\n",
       "      <td>1.0</td>\n",
       "    </tr>\n",
       "    <tr>\n",
       "      <th>saleYear</th>\n",
       "      <td>2006</td>\n",
       "      <td>2004</td>\n",
       "      <td>2004</td>\n",
       "      <td>2011</td>\n",
       "      <td>2009</td>\n",
       "    </tr>\n",
       "    <tr>\n",
       "      <th>saleElapsed</th>\n",
       "      <td>1163635200</td>\n",
       "      <td>1080259200</td>\n",
       "      <td>1077753600</td>\n",
       "      <td>1305763200</td>\n",
       "      <td>1248307200</td>\n",
       "    </tr>\n",
       "    <tr>\n",
       "      <th>saleMonth</th>\n",
       "      <td>11</td>\n",
       "      <td>3</td>\n",
       "      <td>2</td>\n",
       "      <td>5</td>\n",
       "      <td>7</td>\n",
       "    </tr>\n",
       "    <tr>\n",
       "      <th>saleWeek</th>\n",
       "      <td>46</td>\n",
       "      <td>13</td>\n",
       "      <td>9</td>\n",
       "      <td>20</td>\n",
       "      <td>30</td>\n",
       "    </tr>\n",
       "    <tr>\n",
       "      <th>saleDay</th>\n",
       "      <td>16</td>\n",
       "      <td>26</td>\n",
       "      <td>26</td>\n",
       "      <td>19</td>\n",
       "      <td>23</td>\n",
       "    </tr>\n",
       "    <tr>\n",
       "      <th>saleDayofweek</th>\n",
       "      <td>3</td>\n",
       "      <td>4</td>\n",
       "      <td>3</td>\n",
       "      <td>3</td>\n",
       "      <td>3</td>\n",
       "    </tr>\n",
       "    <tr>\n",
       "      <th>saleDayofyear</th>\n",
       "      <td>320</td>\n",
       "      <td>86</td>\n",
       "      <td>57</td>\n",
       "      <td>139</td>\n",
       "      <td>204</td>\n",
       "    </tr>\n",
       "    <tr>\n",
       "      <th>saleIs_month_end</th>\n",
       "      <td>False</td>\n",
       "      <td>False</td>\n",
       "      <td>False</td>\n",
       "      <td>False</td>\n",
       "      <td>False</td>\n",
       "    </tr>\n",
       "    <tr>\n",
       "      <th>saleIs_month_start</th>\n",
       "      <td>False</td>\n",
       "      <td>False</td>\n",
       "      <td>False</td>\n",
       "      <td>False</td>\n",
       "      <td>False</td>\n",
       "    </tr>\n",
       "    <tr>\n",
       "      <th>saleIs_quarter_end</th>\n",
       "      <td>False</td>\n",
       "      <td>False</td>\n",
       "      <td>False</td>\n",
       "      <td>False</td>\n",
       "      <td>False</td>\n",
       "    </tr>\n",
       "    <tr>\n",
       "      <th>saleIs_quarter_start</th>\n",
       "      <td>False</td>\n",
       "      <td>False</td>\n",
       "      <td>False</td>\n",
       "      <td>False</td>\n",
       "      <td>False</td>\n",
       "    </tr>\n",
       "    <tr>\n",
       "      <th>saleIs_year_end</th>\n",
       "      <td>False</td>\n",
       "      <td>False</td>\n",
       "      <td>False</td>\n",
       "      <td>False</td>\n",
       "      <td>False</td>\n",
       "    </tr>\n",
       "    <tr>\n",
       "      <th>saleIs_year_start</th>\n",
       "      <td>False</td>\n",
       "      <td>False</td>\n",
       "      <td>False</td>\n",
       "      <td>False</td>\n",
       "      <td>False</td>\n",
       "    </tr>\n",
       "  </tbody>\n",
       "</table>\n",
       "</div>"
      ],
      "text/plain": [
       "                                   0           1           2           3  \\\n",
       "SalesID                      1139246     1139248     1139249     1139251   \n",
       "SalePrice                   11.09741   10.950807     9.21034   10.558414   \n",
       "MachineID                     999089      117657      434808     1026470   \n",
       "ModelID                         3157          77        7009         332   \n",
       "datasource                       121         121         121         121   \n",
       "auctioneerID                     3.0         3.0         3.0         3.0   \n",
       "YearMade                        2004        1996        2001        2001   \n",
       "MachineHoursCurrentMeter        68.0      4640.0      2838.0      3486.0   \n",
       "UsageBand                        1.0         1.0         0.0         0.0   \n",
       "fiModelDesc                    949.0      1724.0       330.0      3673.0   \n",
       "fiBaseModel                    295.0       526.0       109.0      1374.0   \n",
       "fiSecondaryDesc                 40.0        54.0        54.0        54.0   \n",
       "fiProductClassDesc              58.0        61.0        38.0         7.0   \n",
       "state                            0.0        32.0        31.0        43.0   \n",
       "ProductGroup                     5.0         5.0         2.0         3.0   \n",
       "ProductGroupDesc                 5.0         5.0         2.0         3.0   \n",
       "Enclosure                        2.0         2.0         5.0         2.0   \n",
       "Forks                            0.0         0.0         0.0         0.0   \n",
       "Ride_Control                     1.0         1.0         1.0         1.0   \n",
       "Hydraulics                       0.0         0.0         3.0         0.0   \n",
       "Tire_Size                       16.0        11.0        11.0        11.0   \n",
       "Coupler                          2.0         2.0         2.0         2.0   \n",
       "Differential_Type                3.0         3.0         3.0         3.0   \n",
       "Steering_Controls                1.0         1.0         1.0         1.0   \n",
       "saleYear                        2006        2004        2004        2011   \n",
       "saleElapsed               1163635200  1080259200  1077753600  1305763200   \n",
       "saleMonth                         11           3           2           5   \n",
       "saleWeek                          46          13           9          20   \n",
       "saleDay                           16          26          26          19   \n",
       "saleDayofweek                      3           4           3           3   \n",
       "saleDayofyear                    320          86          57         139   \n",
       "saleIs_month_end               False       False       False       False   \n",
       "saleIs_month_start             False       False       False       False   \n",
       "saleIs_quarter_end             False       False       False       False   \n",
       "saleIs_quarter_start           False       False       False       False   \n",
       "saleIs_year_end                False       False       False       False   \n",
       "saleIs_year_start              False       False       False       False   \n",
       "\n",
       "                                   4  \n",
       "SalesID                      1139253  \n",
       "SalePrice                   9.305651  \n",
       "MachineID                    1057373  \n",
       "ModelID                        17311  \n",
       "datasource                       121  \n",
       "auctioneerID                     3.0  \n",
       "YearMade                        2007  \n",
       "MachineHoursCurrentMeter       722.0  \n",
       "UsageBand                        2.0  \n",
       "fiModelDesc                   4207.0  \n",
       "fiBaseModel                   1528.0  \n",
       "fiSecondaryDesc                 54.0  \n",
       "fiProductClassDesc              39.0  \n",
       "state                           31.0  \n",
       "ProductGroup                     2.0  \n",
       "ProductGroupDesc                 2.0  \n",
       "Enclosure                        0.0  \n",
       "Forks                            0.0  \n",
       "Ride_Control                     1.0  \n",
       "Hydraulics                       3.0  \n",
       "Tire_Size                       11.0  \n",
       "Coupler                          2.0  \n",
       "Differential_Type                3.0  \n",
       "Steering_Controls                1.0  \n",
       "saleYear                        2009  \n",
       "saleElapsed               1248307200  \n",
       "saleMonth                          7  \n",
       "saleWeek                          30  \n",
       "saleDay                           23  \n",
       "saleDayofweek                      3  \n",
       "saleDayofyear                    204  \n",
       "saleIs_month_end               False  \n",
       "saleIs_month_start             False  \n",
       "saleIs_quarter_end             False  \n",
       "saleIs_quarter_start           False  \n",
       "saleIs_year_end                False  \n",
       "saleIs_year_start              False  "
      ]
     },
     "execution_count": 5,
     "metadata": {},
     "output_type": "execute_result"
    }
   ],
   "source": [
    "df.head().T"
   ]
  },
  {
   "cell_type": "markdown",
   "id": "e314ba6d",
   "metadata": {},
   "source": [
    "---"
   ]
  },
  {
   "cell_type": "markdown",
   "id": "eb271940",
   "metadata": {},
   "source": [
    "## Crossvalidation and model training"
   ]
  },
  {
   "cell_type": "code",
   "execution_count": 6,
   "id": "2541845a",
   "metadata": {},
   "outputs": [],
   "source": [
    "import sklearn.metrics as metrics\n",
    "\n",
    "def regression_results(y_true, y_pred):\n",
    "\n",
    "    # Regression metrics\n",
    "    explained_variance=metrics.explained_variance_score(y_true, y_pred)\n",
    "    mean_absolute_error=metrics.mean_absolute_error(y_true, y_pred) \n",
    "    mse=metrics.mean_squared_error(y_true, y_pred) \n",
    "    mean_squared_log_error=metrics.mean_squared_log_error(y_true, y_pred)\n",
    "    median_absolute_error=metrics.median_absolute_error(y_true, y_pred)\n",
    "    r2=metrics.r2_score(y_true, y_pred)\n",
    "\n",
    "    print('explained_variance: ', round(explained_variance,4))    \n",
    "    print('mean_squared_log_error: ', round(mean_squared_log_error,4))\n",
    "    print('r2: ', round(r2,4))\n",
    "    print('MAE: ', round(mean_absolute_error,4))\n",
    "    print('MSE: ', round(mse,4))\n",
    "    print('RMSE: ', round(np.sqrt(mse),4))"
   ]
  },
  {
   "cell_type": "markdown",
   "id": "975454cb",
   "metadata": {},
   "source": [
    "### Let's begin"
   ]
  },
  {
   "cell_type": "markdown",
   "id": "fc3d40db",
   "metadata": {},
   "source": [
    "### Model fitting /w log(dependant variable)"
   ]
  },
  {
   "cell_type": "code",
   "execution_count": 7,
   "id": "660a0bac",
   "metadata": {},
   "outputs": [],
   "source": [
    "X, y = df.drop('SalePrice', axis=1), df.SalePrice.values"
   ]
  },
  {
   "cell_type": "code",
   "execution_count": 8,
   "id": "6a085926",
   "metadata": {},
   "outputs": [],
   "source": [
    "X_train, X_test, y_train, y_test = train_test_split(X, y, test_size=0.2, random_state=0)"
   ]
  },
  {
   "cell_type": "code",
   "execution_count": 9,
   "id": "452b9b19",
   "metadata": {},
   "outputs": [
    {
     "data": {
      "text/plain": [
       "((320900, 36), pandas.core.frame.DataFrame, (320900,), numpy.ndarray)"
      ]
     },
     "execution_count": 9,
     "metadata": {},
     "output_type": "execute_result"
    }
   ],
   "source": [
    "X_train.shape, type(X_train), y_train.shape, type(y_train)"
   ]
  },
  {
   "cell_type": "code",
   "execution_count": 10,
   "id": "4fac6fc3",
   "metadata": {},
   "outputs": [],
   "source": [
    "y_train = y_train.reshape(-1, 1)"
   ]
  },
  {
   "cell_type": "code",
   "execution_count": 11,
   "id": "dbe38f06",
   "metadata": {},
   "outputs": [],
   "source": [
    "y_test = y_test.reshape(-1, 1)"
   ]
  },
  {
   "cell_type": "code",
   "execution_count": 12,
   "id": "428b79d8",
   "metadata": {},
   "outputs": [],
   "source": [
    "m = RandomForestRegressor(n_jobs=-1)"
   ]
  },
  {
   "cell_type": "code",
   "execution_count": 13,
   "id": "fbf521e5",
   "metadata": {},
   "outputs": [
    {
     "name": "stderr",
     "output_type": "stream",
     "text": [
      "<timed eval>:1: DataConversionWarning: A column-vector y was passed when a 1d array was expected. Please change the shape of y to (n_samples,), for example using ravel().\n"
     ]
    },
    {
     "name": "stdout",
     "output_type": "stream",
     "text": [
      "CPU times: user 8min 55s, sys: 3.9 s, total: 8min 59s\n",
      "Wall time: 1min 15s\n"
     ]
    },
    {
     "data": {
      "text/plain": [
       "RandomForestRegressor(n_jobs=-1)"
      ]
     },
     "execution_count": 13,
     "metadata": {},
     "output_type": "execute_result"
    }
   ],
   "source": [
    "%time m.fit(X_train, y_train)"
   ]
  },
  {
   "cell_type": "code",
   "execution_count": 14,
   "id": "51aaadf2",
   "metadata": {
    "scrolled": true
   },
   "outputs": [
    {
     "data": {
      "text/plain": [
       "0.9863208064566023"
      ]
     },
     "execution_count": 14,
     "metadata": {},
     "output_type": "execute_result"
    }
   ],
   "source": [
    "m.score(X_train, y_train)"
   ]
  },
  {
   "cell_type": "code",
   "execution_count": 15,
   "id": "869050ce",
   "metadata": {},
   "outputs": [],
   "source": [
    "preds = m.predict(X_test)"
   ]
  },
  {
   "cell_type": "code",
   "execution_count": 16,
   "id": "4698e0eb",
   "metadata": {},
   "outputs": [
    {
     "name": "stdout",
     "output_type": "stream",
     "text": [
      "explained_variance:  0.9022\n",
      "mean_squared_log_error:  0.0004\n",
      "r2:  0.9022\n",
      "MAE:  0.154\n",
      "MSE:  0.0471\n",
      "RMSE:  0.2171\n"
     ]
    }
   ],
   "source": [
    "regression_results(y_test, preds)"
   ]
  },
  {
   "cell_type": "markdown",
   "id": "5f0e3d18",
   "metadata": {},
   "source": [
    "The base results are actually not bad, still if there's a little overfit !"
   ]
  },
  {
   "cell_type": "markdown",
   "id": "62021be2",
   "metadata": {},
   "source": [
    "### Log + shuffling"
   ]
  },
  {
   "cell_type": "code",
   "execution_count": 17,
   "id": "fb74b158",
   "metadata": {},
   "outputs": [],
   "source": [
    "X, y = df.drop('SalePrice', axis=1), df.SalePrice.values"
   ]
  },
  {
   "cell_type": "code",
   "execution_count": 18,
   "id": "bcecce9b",
   "metadata": {},
   "outputs": [],
   "source": [
    "X_train, X_test, y_train, y_test = train_test_split(X, y, test_size=0.2, random_state=1)"
   ]
  },
  {
   "cell_type": "code",
   "execution_count": 19,
   "id": "6b5e1dc1",
   "metadata": {},
   "outputs": [
    {
     "data": {
      "text/plain": [
       "((320900, 36), pandas.core.frame.DataFrame, (320900,), numpy.ndarray)"
      ]
     },
     "execution_count": 19,
     "metadata": {},
     "output_type": "execute_result"
    }
   ],
   "source": [
    "X_train.shape, type(X_train), y_train.shape, type(y_train)"
   ]
  },
  {
   "cell_type": "code",
   "execution_count": 20,
   "id": "b588f0fa",
   "metadata": {},
   "outputs": [],
   "source": [
    "y_train = y_train.reshape(-1, 1)"
   ]
  },
  {
   "cell_type": "code",
   "execution_count": 21,
   "id": "08a1c398",
   "metadata": {},
   "outputs": [],
   "source": [
    "y_test = y_test.reshape(-1, 1)"
   ]
  },
  {
   "cell_type": "code",
   "execution_count": 22,
   "id": "87ee0815",
   "metadata": {},
   "outputs": [],
   "source": [
    "m = RandomForestRegressor(n_jobs=-1)"
   ]
  },
  {
   "cell_type": "code",
   "execution_count": 23,
   "id": "fc6e7fb4",
   "metadata": {},
   "outputs": [
    {
     "name": "stderr",
     "output_type": "stream",
     "text": [
      "<timed eval>:1: DataConversionWarning: A column-vector y was passed when a 1d array was expected. Please change the shape of y to (n_samples,), for example using ravel().\n"
     ]
    },
    {
     "name": "stdout",
     "output_type": "stream",
     "text": [
      "CPU times: user 8min 53s, sys: 3.71 s, total: 8min 56s\n",
      "Wall time: 1min 17s\n"
     ]
    },
    {
     "data": {
      "text/plain": [
       "RandomForestRegressor(n_jobs=-1)"
      ]
     },
     "execution_count": 23,
     "metadata": {},
     "output_type": "execute_result"
    }
   ],
   "source": [
    "%time m.fit(X_train, y_train)"
   ]
  },
  {
   "cell_type": "code",
   "execution_count": 24,
   "id": "3b6ade5e",
   "metadata": {
    "scrolled": true
   },
   "outputs": [
    {
     "data": {
      "text/plain": [
       "0.9863907182909847"
      ]
     },
     "execution_count": 24,
     "metadata": {},
     "output_type": "execute_result"
    }
   ],
   "source": [
    "m.score(X_train, y_train)"
   ]
  },
  {
   "cell_type": "code",
   "execution_count": 25,
   "id": "4cf7db51",
   "metadata": {},
   "outputs": [],
   "source": [
    "preds = m.predict(X_test)"
   ]
  },
  {
   "cell_type": "code",
   "execution_count": 26,
   "id": "d4de1b20",
   "metadata": {},
   "outputs": [
    {
     "name": "stdout",
     "output_type": "stream",
     "text": [
      "explained_variance:  0.9048\n",
      "mean_squared_log_error:  0.0004\n",
      "r2:  0.9047\n",
      "MAE:  0.1526\n",
      "MSE:  0.046\n",
      "RMSE:  0.2145\n"
     ]
    }
   ],
   "source": [
    "regression_results(y_test, preds)"
   ]
  },
  {
   "cell_type": "markdown",
   "id": "06dc7262",
   "metadata": {},
   "source": [
    "It's just a little bit better, maybe we should try to get a representative part of the dataset or selecting meaningful features ?"
   ]
  },
  {
   "cell_type": "markdown",
   "id": "c9424807",
   "metadata": {},
   "source": [
    "---"
   ]
  },
  {
   "cell_type": "markdown",
   "id": "699d2a82",
   "metadata": {},
   "source": [
    "### Feature selection"
   ]
  },
  {
   "cell_type": "markdown",
   "id": "64d174a9",
   "metadata": {},
   "source": [
    "#### Basic first try\n",
    "Let's try to select the most usefull features with an automated approach"
   ]
  },
  {
   "cell_type": "code",
   "execution_count": 27,
   "id": "543acd67",
   "metadata": {},
   "outputs": [
    {
     "data": {
      "text/plain": [
       "(320900, 36)"
      ]
     },
     "execution_count": 27,
     "metadata": {},
     "output_type": "execute_result"
    }
   ],
   "source": [
    "X_train.shape"
   ]
  },
  {
   "cell_type": "code",
   "execution_count": 28,
   "id": "c8bbb3fd",
   "metadata": {},
   "outputs": [
    {
     "data": {
      "text/plain": [
       "3209"
      ]
     },
     "execution_count": 28,
     "metadata": {},
     "output_type": "execute_result"
    }
   ],
   "source": [
    "minimal_df_size = int(len(X_train)/100); minimal_df_size"
   ]
  },
  {
   "cell_type": "code",
   "execution_count": 29,
   "id": "b14fdefa",
   "metadata": {},
   "outputs": [
    {
     "data": {
      "text/plain": [
       "(3209, 36)"
      ]
     },
     "execution_count": 29,
     "metadata": {},
     "output_type": "execute_result"
    }
   ],
   "source": [
    "# prepare bootstrap sample\n",
    "X_train_boot = resample(X_train, replace=True, n_samples=minimal_df_size, random_state=1)\n",
    "X_train_boot.shape"
   ]
  },
  {
   "cell_type": "code",
   "execution_count": 30,
   "id": "bd860344",
   "metadata": {},
   "outputs": [
    {
     "data": {
      "text/plain": [
       "(3209, 1)"
      ]
     },
     "execution_count": 30,
     "metadata": {},
     "output_type": "execute_result"
    }
   ],
   "source": [
    "# prepare bootstrap sample\n",
    "y_train_boot = resample(y_train, replace=True, n_samples=minimal_df_size, random_state=1)\n",
    "y_train_boot.shape"
   ]
  },
  {
   "cell_type": "code",
   "execution_count": 31,
   "id": "827663ef",
   "metadata": {
    "scrolled": true
   },
   "outputs": [],
   "source": [
    "# from sklearn.feature_selection import SequentialFeatureSelector\n",
    "\n",
    "# #Selecting the Best important features according to RandomForestRegressor\n",
    "# sfs_selector = SequentialFeatureSelector(estimator=RandomForestRegressor(), \n",
    "#                                         n_features_to_select=10,\n",
    "#                                         cv=4,\n",
    "#                                         direction ='backward')\n",
    "\n",
    "# sfs_selector.fit(X_train_boot, y_train_boot)\n",
    "# X.columns[sfs_selector.get_support()]"
   ]
  },
  {
   "cell_type": "markdown",
   "id": "ea36a4f5",
   "metadata": {},
   "source": [
    "We try boostraping with the previous method of feature selection but it doesen't work.\n",
    "\n",
    "Even with a very tiny part of our dataset (0.8% random parts from the original set) the computation take too much time (more than 10mins on an 8 core CPU)."
   ]
  },
  {
   "cell_type": "markdown",
   "id": "bbf221ec",
   "metadata": {},
   "source": [
    "#### Fastai approach of feature Importance"
   ]
  },
  {
   "cell_type": "code",
   "execution_count": 32,
   "id": "8f2ce639",
   "metadata": {},
   "outputs": [],
   "source": [
    "def rf_feat_importance(m, df):\n",
    "    return pd.DataFrame({'cols':df.columns, 'imp':m.feature_importances_})\n",
    "\n",
    "def plot_fi(fi): return fi.plot('cols', 'imp', 'barh', figsize=(12,7), legend=False)"
   ]
  },
  {
   "cell_type": "code",
   "execution_count": 33,
   "id": "b2f07cde",
   "metadata": {
    "scrolled": true
   },
   "outputs": [
    {
     "name": "stdout",
     "output_type": "stream",
     "text": [
      "CPU times: user 514 ms, sys: 6.45 ms, total: 520 ms\n",
      "Wall time: 87 ms\n"
     ]
    },
    {
     "data": {
      "text/html": [
       "<div>\n",
       "<style scoped>\n",
       "    .dataframe tbody tr th:only-of-type {\n",
       "        vertical-align: middle;\n",
       "    }\n",
       "\n",
       "    .dataframe tbody tr th {\n",
       "        vertical-align: top;\n",
       "    }\n",
       "\n",
       "    .dataframe thead th {\n",
       "        text-align: right;\n",
       "    }\n",
       "</style>\n",
       "<table border=\"1\" class=\"dataframe\">\n",
       "  <thead>\n",
       "    <tr style=\"text-align: right;\">\n",
       "      <th></th>\n",
       "      <th>cols</th>\n",
       "      <th>imp</th>\n",
       "    </tr>\n",
       "  </thead>\n",
       "  <tbody>\n",
       "    <tr>\n",
       "      <th>0</th>\n",
       "      <td>SalesID</td>\n",
       "      <td>0.034048</td>\n",
       "    </tr>\n",
       "    <tr>\n",
       "      <th>1</th>\n",
       "      <td>MachineID</td>\n",
       "      <td>0.014505</td>\n",
       "    </tr>\n",
       "    <tr>\n",
       "      <th>2</th>\n",
       "      <td>ModelID</td>\n",
       "      <td>0.081906</td>\n",
       "    </tr>\n",
       "    <tr>\n",
       "      <th>3</th>\n",
       "      <td>datasource</td>\n",
       "      <td>0.000659</td>\n",
       "    </tr>\n",
       "    <tr>\n",
       "      <th>4</th>\n",
       "      <td>auctioneerID</td>\n",
       "      <td>0.005052</td>\n",
       "    </tr>\n",
       "    <tr>\n",
       "      <th>5</th>\n",
       "      <td>YearMade</td>\n",
       "      <td>0.159864</td>\n",
       "    </tr>\n",
       "    <tr>\n",
       "      <th>6</th>\n",
       "      <td>MachineHoursCurrentMeter</td>\n",
       "      <td>0.009411</td>\n",
       "    </tr>\n",
       "    <tr>\n",
       "      <th>7</th>\n",
       "      <td>UsageBand</td>\n",
       "      <td>0.002017</td>\n",
       "    </tr>\n",
       "    <tr>\n",
       "      <th>8</th>\n",
       "      <td>fiModelDesc</td>\n",
       "      <td>0.058929</td>\n",
       "    </tr>\n",
       "    <tr>\n",
       "      <th>9</th>\n",
       "      <td>fiBaseModel</td>\n",
       "      <td>0.041561</td>\n",
       "    </tr>\n",
       "    <tr>\n",
       "      <th>10</th>\n",
       "      <td>fiSecondaryDesc</td>\n",
       "      <td>0.040236</td>\n",
       "    </tr>\n",
       "    <tr>\n",
       "      <th>11</th>\n",
       "      <td>fiProductClassDesc</td>\n",
       "      <td>0.151441</td>\n",
       "    </tr>\n",
       "    <tr>\n",
       "      <th>12</th>\n",
       "      <td>state</td>\n",
       "      <td>0.008862</td>\n",
       "    </tr>\n",
       "    <tr>\n",
       "      <th>13</th>\n",
       "      <td>ProductGroup</td>\n",
       "      <td>0.039060</td>\n",
       "    </tr>\n",
       "    <tr>\n",
       "      <th>14</th>\n",
       "      <td>ProductGroupDesc</td>\n",
       "      <td>0.025566</td>\n",
       "    </tr>\n",
       "    <tr>\n",
       "      <th>15</th>\n",
       "      <td>Enclosure</td>\n",
       "      <td>0.169347</td>\n",
       "    </tr>\n",
       "    <tr>\n",
       "      <th>16</th>\n",
       "      <td>Forks</td>\n",
       "      <td>0.000772</td>\n",
       "    </tr>\n",
       "    <tr>\n",
       "      <th>17</th>\n",
       "      <td>Ride_Control</td>\n",
       "      <td>0.001940</td>\n",
       "    </tr>\n",
       "    <tr>\n",
       "      <th>18</th>\n",
       "      <td>Hydraulics</td>\n",
       "      <td>0.048150</td>\n",
       "    </tr>\n",
       "    <tr>\n",
       "      <th>19</th>\n",
       "      <td>Tire_Size</td>\n",
       "      <td>0.002702</td>\n",
       "    </tr>\n",
       "    <tr>\n",
       "      <th>20</th>\n",
       "      <td>Coupler</td>\n",
       "      <td>0.001015</td>\n",
       "    </tr>\n",
       "    <tr>\n",
       "      <th>21</th>\n",
       "      <td>Differential_Type</td>\n",
       "      <td>0.000175</td>\n",
       "    </tr>\n",
       "    <tr>\n",
       "      <th>22</th>\n",
       "      <td>Steering_Controls</td>\n",
       "      <td>0.000142</td>\n",
       "    </tr>\n",
       "    <tr>\n",
       "      <th>23</th>\n",
       "      <td>saleYear</td>\n",
       "      <td>0.002758</td>\n",
       "    </tr>\n",
       "    <tr>\n",
       "      <th>24</th>\n",
       "      <td>saleElapsed</td>\n",
       "      <td>0.073617</td>\n",
       "    </tr>\n",
       "    <tr>\n",
       "      <th>25</th>\n",
       "      <td>saleMonth</td>\n",
       "      <td>0.001922</td>\n",
       "    </tr>\n",
       "    <tr>\n",
       "      <th>26</th>\n",
       "      <td>saleWeek</td>\n",
       "      <td>0.004015</td>\n",
       "    </tr>\n",
       "    <tr>\n",
       "      <th>27</th>\n",
       "      <td>saleDay</td>\n",
       "      <td>0.008370</td>\n",
       "    </tr>\n",
       "    <tr>\n",
       "      <th>28</th>\n",
       "      <td>saleDayofweek</td>\n",
       "      <td>0.004320</td>\n",
       "    </tr>\n",
       "    <tr>\n",
       "      <th>29</th>\n",
       "      <td>saleDayofyear</td>\n",
       "      <td>0.006915</td>\n",
       "    </tr>\n",
       "    <tr>\n",
       "      <th>30</th>\n",
       "      <td>saleIs_month_end</td>\n",
       "      <td>0.000225</td>\n",
       "    </tr>\n",
       "    <tr>\n",
       "      <th>31</th>\n",
       "      <td>saleIs_month_start</td>\n",
       "      <td>0.000186</td>\n",
       "    </tr>\n",
       "    <tr>\n",
       "      <th>32</th>\n",
       "      <td>saleIs_quarter_end</td>\n",
       "      <td>0.000187</td>\n",
       "    </tr>\n",
       "    <tr>\n",
       "      <th>33</th>\n",
       "      <td>saleIs_quarter_start</td>\n",
       "      <td>0.000124</td>\n",
       "    </tr>\n",
       "    <tr>\n",
       "      <th>34</th>\n",
       "      <td>saleIs_year_end</td>\n",
       "      <td>0.000000</td>\n",
       "    </tr>\n",
       "    <tr>\n",
       "      <th>35</th>\n",
       "      <td>saleIs_year_start</td>\n",
       "      <td>0.000000</td>\n",
       "    </tr>\n",
       "  </tbody>\n",
       "</table>\n",
       "</div>"
      ],
      "text/plain": [
       "                        cols       imp\n",
       "0                    SalesID  0.034048\n",
       "1                  MachineID  0.014505\n",
       "2                    ModelID  0.081906\n",
       "3                 datasource  0.000659\n",
       "4               auctioneerID  0.005052\n",
       "5                   YearMade  0.159864\n",
       "6   MachineHoursCurrentMeter  0.009411\n",
       "7                  UsageBand  0.002017\n",
       "8                fiModelDesc  0.058929\n",
       "9                fiBaseModel  0.041561\n",
       "10           fiSecondaryDesc  0.040236\n",
       "11        fiProductClassDesc  0.151441\n",
       "12                     state  0.008862\n",
       "13              ProductGroup  0.039060\n",
       "14          ProductGroupDesc  0.025566\n",
       "15                 Enclosure  0.169347\n",
       "16                     Forks  0.000772\n",
       "17              Ride_Control  0.001940\n",
       "18                Hydraulics  0.048150\n",
       "19                 Tire_Size  0.002702\n",
       "20                   Coupler  0.001015\n",
       "21         Differential_Type  0.000175\n",
       "22         Steering_Controls  0.000142\n",
       "23                  saleYear  0.002758\n",
       "24               saleElapsed  0.073617\n",
       "25                 saleMonth  0.001922\n",
       "26                  saleWeek  0.004015\n",
       "27                   saleDay  0.008370\n",
       "28             saleDayofweek  0.004320\n",
       "29             saleDayofyear  0.006915\n",
       "30          saleIs_month_end  0.000225\n",
       "31        saleIs_month_start  0.000186\n",
       "32        saleIs_quarter_end  0.000187\n",
       "33      saleIs_quarter_start  0.000124\n",
       "34           saleIs_year_end  0.000000\n",
       "35         saleIs_year_start  0.000000"
      ]
     },
     "execution_count": 33,
     "metadata": {},
     "output_type": "execute_result"
    }
   ],
   "source": [
    "%time fi = rf_feat_importance(m, X_train); fi"
   ]
  },
  {
   "cell_type": "markdown",
   "id": "565d1084",
   "metadata": {},
   "source": [
    "This approach is manuel but yet efficient and powerfull !\n",
    "\n",
    "Let's select the most interesting features :"
   ]
  },
  {
   "cell_type": "code",
   "execution_count": 34,
   "id": "8156c324",
   "metadata": {},
   "outputs": [
    {
     "data": {
      "text/plain": [
       "<AxesSubplot:ylabel='cols'>"
      ]
     },
     "execution_count": 34,
     "metadata": {},
     "output_type": "execute_result"
    },
    {
     "data": {
      "image/png": "[encoded data removed]",
      "text/plain": [
       "<Figure size 864x504 with 1 Axes>"
      ]
     },
     "metadata": {
      "needs_background": "light"
     },
     "output_type": "display_data"
    }
   ],
   "source": [
    "plot_fi(fi)"
   ]
  },
  {
   "cell_type": "code",
   "execution_count": 35,
   "id": "fc5e2348",
   "metadata": {},
   "outputs": [
    {
     "data": {
      "text/plain": [
       "(36, 2)"
      ]
     },
     "execution_count": 35,
     "metadata": {},
     "output_type": "execute_result"
    }
   ],
   "source": [
    "fi.shape"
   ]
  },
  {
   "cell_type": "code",
   "execution_count": 36,
   "id": "eca0e49f",
   "metadata": {
    "scrolled": false
   },
   "outputs": [
    {
     "data": {
      "text/plain": [
       "<AxesSubplot:ylabel='cols'>"
      ]
     },
     "execution_count": 36,
     "metadata": {},
     "output_type": "execute_result"
    },
    {
     "data": {
      "image/png": "[encoded data removed]",
      "text/plain": [
       "<Figure size 864x504 with 1 Axes>"
      ]
     },
     "metadata": {
      "needs_background": "light"
     },
     "output_type": "display_data"
    }
   ],
   "source": [
    "to_keep = fi[fi.imp > 0.025]\n",
    "plot_fi(to_keep)"
   ]
  },
  {
   "cell_type": "code",
   "execution_count": 37,
   "id": "8ad4481a",
   "metadata": {},
   "outputs": [
    {
     "data": {
      "text/plain": [
       "(12, 2)"
      ]
     },
     "execution_count": 37,
     "metadata": {},
     "output_type": "execute_result"
    }
   ],
   "source": [
    "to_keep.shape"
   ]
  },
  {
   "cell_type": "markdown",
   "id": "6ef62b14",
   "metadata": {},
   "source": [
    "---"
   ]
  },
  {
   "cell_type": "markdown",
   "id": "5208dca9",
   "metadata": {},
   "source": [
    "## Optimizing training time and results with features importance and bagging"
   ]
  },
  {
   "cell_type": "code",
   "execution_count": 38,
   "id": "5e7d5eea",
   "metadata": {},
   "outputs": [
    {
     "data": {
      "text/plain": [
       "3209"
      ]
     },
     "execution_count": 38,
     "metadata": {},
     "output_type": "execute_result"
    }
   ],
   "source": [
    "minimal_df_size = int(len(X_train)/100); minimal_df_size"
   ]
  },
  {
   "cell_type": "code",
   "execution_count": 39,
   "id": "429d3dfb",
   "metadata": {},
   "outputs": [
    {
     "data": {
      "text/plain": [
       "((3209, 36), (3209, 1))"
      ]
     },
     "execution_count": 39,
     "metadata": {},
     "output_type": "execute_result"
    }
   ],
   "source": [
    "# prepare bootstrap sample\n",
    "X_train_boot = resample(X_train.copy(), n_samples=minimal_df_size, random_state=1)\n",
    "y_train_boot = resample(y_train.copy(), n_samples=minimal_df_size, random_state=1)\n",
    "\n",
    "X_train_boot.shape, y_train_boot.shape"
   ]
  },
  {
   "cell_type": "code",
   "execution_count": 40,
   "id": "501b4e44",
   "metadata": {},
   "outputs": [
    {
     "data": {
      "text/plain": [
       "((3209, 36), (3209, 1))"
      ]
     },
     "execution_count": 40,
     "metadata": {},
     "output_type": "execute_result"
    }
   ],
   "source": [
    "# prepare bootstrap sample\n",
    "X_test_boot = resample(X_test.copy(), n_samples=minimal_df_size, random_state=1)\n",
    "y_test_boot = resample(y_test.copy(), n_samples=minimal_df_size, random_state=1)\n",
    "\n",
    "X_train_boot.shape, y_train_boot.shape"
   ]
  },
  {
   "cell_type": "code",
   "execution_count": 41,
   "id": "cae0be04",
   "metadata": {},
   "outputs": [
    {
     "data": {
      "text/html": [
       "<div>\n",
       "<style scoped>\n",
       "    .dataframe tbody tr th:only-of-type {\n",
       "        vertical-align: middle;\n",
       "    }\n",
       "\n",
       "    .dataframe tbody tr th {\n",
       "        vertical-align: top;\n",
       "    }\n",
       "\n",
       "    .dataframe thead th {\n",
       "        text-align: right;\n",
       "    }\n",
       "</style>\n",
       "<table border=\"1\" class=\"dataframe\">\n",
       "  <thead>\n",
       "    <tr style=\"text-align: right;\">\n",
       "      <th></th>\n",
       "      <th>SalesID</th>\n",
       "      <th>MachineID</th>\n",
       "      <th>ModelID</th>\n",
       "      <th>datasource</th>\n",
       "      <th>auctioneerID</th>\n",
       "      <th>YearMade</th>\n",
       "      <th>MachineHoursCurrentMeter</th>\n",
       "      <th>UsageBand</th>\n",
       "      <th>fiModelDesc</th>\n",
       "      <th>fiBaseModel</th>\n",
       "      <th>...</th>\n",
       "      <th>saleWeek</th>\n",
       "      <th>saleDay</th>\n",
       "      <th>saleDayofweek</th>\n",
       "      <th>saleDayofyear</th>\n",
       "      <th>saleIs_month_end</th>\n",
       "      <th>saleIs_month_start</th>\n",
       "      <th>saleIs_quarter_end</th>\n",
       "      <th>saleIs_quarter_start</th>\n",
       "      <th>saleIs_year_end</th>\n",
       "      <th>saleIs_year_start</th>\n",
       "    </tr>\n",
       "  </thead>\n",
       "  <tbody>\n",
       "    <tr>\n",
       "      <th>383368</th>\n",
       "      <td>4303470</td>\n",
       "      <td>248990</td>\n",
       "      <td>1169</td>\n",
       "      <td>172</td>\n",
       "      <td>1.0</td>\n",
       "      <td>2005</td>\n",
       "      <td>4370.0</td>\n",
       "      <td>2.0</td>\n",
       "      <td>546.0</td>\n",
       "      <td>185.0</td>\n",
       "      <td>...</td>\n",
       "      <td>7</td>\n",
       "      <td>15</td>\n",
       "      <td>1</td>\n",
       "      <td>46</td>\n",
       "      <td>False</td>\n",
       "      <td>False</td>\n",
       "      <td>False</td>\n",
       "      <td>False</td>\n",
       "      <td>False</td>\n",
       "      <td>False</td>\n",
       "    </tr>\n",
       "    <tr>\n",
       "      <th>233859</th>\n",
       "      <td>1730237</td>\n",
       "      <td>1398976</td>\n",
       "      <td>9113</td>\n",
       "      <td>132</td>\n",
       "      <td>1.0</td>\n",
       "      <td>1985</td>\n",
       "      <td>3478.0</td>\n",
       "      <td>2.0</td>\n",
       "      <td>4756.0</td>\n",
       "      <td>1848.0</td>\n",
       "      <td>...</td>\n",
       "      <td>11</td>\n",
       "      <td>15</td>\n",
       "      <td>3</td>\n",
       "      <td>74</td>\n",
       "      <td>False</td>\n",
       "      <td>False</td>\n",
       "      <td>False</td>\n",
       "      <td>False</td>\n",
       "      <td>False</td>\n",
       "      <td>False</td>\n",
       "    </tr>\n",
       "    <tr>\n",
       "      <th>56898</th>\n",
       "      <td>1312908</td>\n",
       "      <td>1365560</td>\n",
       "      <td>3414</td>\n",
       "      <td>132</td>\n",
       "      <td>1.0</td>\n",
       "      <td>1986</td>\n",
       "      <td>4971.0</td>\n",
       "      <td>2.0</td>\n",
       "      <td>347.0</td>\n",
       "      <td>116.0</td>\n",
       "      <td>...</td>\n",
       "      <td>50</td>\n",
       "      <td>13</td>\n",
       "      <td>0</td>\n",
       "      <td>347</td>\n",
       "      <td>False</td>\n",
       "      <td>False</td>\n",
       "      <td>False</td>\n",
       "      <td>False</td>\n",
       "      <td>False</td>\n",
       "      <td>False</td>\n",
       "    </tr>\n",
       "    <tr>\n",
       "      <th>208732</th>\n",
       "      <td>1659566</td>\n",
       "      <td>1305163</td>\n",
       "      <td>4991</td>\n",
       "      <td>132</td>\n",
       "      <td>1.0</td>\n",
       "      <td>1999</td>\n",
       "      <td>495.0</td>\n",
       "      <td>2.0</td>\n",
       "      <td>1015.0</td>\n",
       "      <td>310.0</td>\n",
       "      <td>...</td>\n",
       "      <td>41</td>\n",
       "      <td>9</td>\n",
       "      <td>1</td>\n",
       "      <td>282</td>\n",
       "      <td>False</td>\n",
       "      <td>False</td>\n",
       "      <td>False</td>\n",
       "      <td>False</td>\n",
       "      <td>False</td>\n",
       "      <td>False</td>\n",
       "    </tr>\n",
       "    <tr>\n",
       "      <th>266409</th>\n",
       "      <td>1802998</td>\n",
       "      <td>1376920</td>\n",
       "      <td>9506</td>\n",
       "      <td>132</td>\n",
       "      <td>1.0</td>\n",
       "      <td>1000</td>\n",
       "      <td>2000.0</td>\n",
       "      <td>1.0</td>\n",
       "      <td>576.0</td>\n",
       "      <td>191.0</td>\n",
       "      <td>...</td>\n",
       "      <td>11</td>\n",
       "      <td>14</td>\n",
       "      <td>2</td>\n",
       "      <td>73</td>\n",
       "      <td>False</td>\n",
       "      <td>False</td>\n",
       "      <td>False</td>\n",
       "      <td>False</td>\n",
       "      <td>False</td>\n",
       "      <td>False</td>\n",
       "    </tr>\n",
       "    <tr>\n",
       "      <th>...</th>\n",
       "      <td>...</td>\n",
       "      <td>...</td>\n",
       "      <td>...</td>\n",
       "      <td>...</td>\n",
       "      <td>...</td>\n",
       "      <td>...</td>\n",
       "      <td>...</td>\n",
       "      <td>...</td>\n",
       "      <td>...</td>\n",
       "      <td>...</td>\n",
       "      <td>...</td>\n",
       "      <td>...</td>\n",
       "      <td>...</td>\n",
       "      <td>...</td>\n",
       "      <td>...</td>\n",
       "      <td>...</td>\n",
       "      <td>...</td>\n",
       "      <td>...</td>\n",
       "      <td>...</td>\n",
       "      <td>...</td>\n",
       "      <td>...</td>\n",
       "    </tr>\n",
       "    <tr>\n",
       "      <th>73349</th>\n",
       "      <td>1359824</td>\n",
       "      <td>1422787</td>\n",
       "      <td>3406</td>\n",
       "      <td>132</td>\n",
       "      <td>1.0</td>\n",
       "      <td>1988</td>\n",
       "      <td>4455.0</td>\n",
       "      <td>1.0</td>\n",
       "      <td>318.0</td>\n",
       "      <td>107.0</td>\n",
       "      <td>...</td>\n",
       "      <td>49</td>\n",
       "      <td>7</td>\n",
       "      <td>1</td>\n",
       "      <td>341</td>\n",
       "      <td>False</td>\n",
       "      <td>False</td>\n",
       "      <td>False</td>\n",
       "      <td>False</td>\n",
       "      <td>False</td>\n",
       "      <td>False</td>\n",
       "    </tr>\n",
       "    <tr>\n",
       "      <th>371403</th>\n",
       "      <td>2646355</td>\n",
       "      <td>1924827</td>\n",
       "      <td>4606</td>\n",
       "      <td>149</td>\n",
       "      <td>99.0</td>\n",
       "      <td>2000</td>\n",
       "      <td>0.0</td>\n",
       "      <td>1.0</td>\n",
       "      <td>496.0</td>\n",
       "      <td>174.0</td>\n",
       "      <td>...</td>\n",
       "      <td>4</td>\n",
       "      <td>29</td>\n",
       "      <td>5</td>\n",
       "      <td>29</td>\n",
       "      <td>False</td>\n",
       "      <td>False</td>\n",
       "      <td>False</td>\n",
       "      <td>False</td>\n",
       "      <td>False</td>\n",
       "      <td>False</td>\n",
       "    </tr>\n",
       "    <tr>\n",
       "      <th>312201</th>\n",
       "      <td>2273241</td>\n",
       "      <td>350696</td>\n",
       "      <td>3537</td>\n",
       "      <td>136</td>\n",
       "      <td>1.0</td>\n",
       "      <td>1994</td>\n",
       "      <td>0.0</td>\n",
       "      <td>1.0</td>\n",
       "      <td>735.0</td>\n",
       "      <td>242.0</td>\n",
       "      <td>...</td>\n",
       "      <td>2</td>\n",
       "      <td>12</td>\n",
       "      <td>5</td>\n",
       "      <td>12</td>\n",
       "      <td>False</td>\n",
       "      <td>False</td>\n",
       "      <td>False</td>\n",
       "      <td>False</td>\n",
       "      <td>False</td>\n",
       "      <td>False</td>\n",
       "    </tr>\n",
       "    <tr>\n",
       "      <th>267336</th>\n",
       "      <td>1804322</td>\n",
       "      <td>1423136</td>\n",
       "      <td>9563</td>\n",
       "      <td>132</td>\n",
       "      <td>2.0</td>\n",
       "      <td>1996</td>\n",
       "      <td>533.0</td>\n",
       "      <td>1.0</td>\n",
       "      <td>1598.0</td>\n",
       "      <td>474.0</td>\n",
       "      <td>...</td>\n",
       "      <td>50</td>\n",
       "      <td>15</td>\n",
       "      <td>5</td>\n",
       "      <td>349</td>\n",
       "      <td>False</td>\n",
       "      <td>False</td>\n",
       "      <td>False</td>\n",
       "      <td>False</td>\n",
       "      <td>False</td>\n",
       "      <td>False</td>\n",
       "    </tr>\n",
       "    <tr>\n",
       "      <th>128037</th>\n",
       "      <td>1476157</td>\n",
       "      <td>1258168</td>\n",
       "      <td>7277</td>\n",
       "      <td>132</td>\n",
       "      <td>1.0</td>\n",
       "      <td>1977</td>\n",
       "      <td>675.0</td>\n",
       "      <td>1.0</td>\n",
       "      <td>1718.0</td>\n",
       "      <td>526.0</td>\n",
       "      <td>...</td>\n",
       "      <td>25</td>\n",
       "      <td>16</td>\n",
       "      <td>1</td>\n",
       "      <td>167</td>\n",
       "      <td>False</td>\n",
       "      <td>False</td>\n",
       "      <td>False</td>\n",
       "      <td>False</td>\n",
       "      <td>False</td>\n",
       "      <td>False</td>\n",
       "    </tr>\n",
       "  </tbody>\n",
       "</table>\n",
       "<p>320900 rows × 36 columns</p>\n",
       "</div>"
      ],
      "text/plain": [
       "        SalesID  MachineID  ModelID  datasource  auctioneerID  YearMade  \\\n",
       "383368  4303470     248990     1169         172           1.0      2005   \n",
       "233859  1730237    1398976     9113         132           1.0      1985   \n",
       "56898   1312908    1365560     3414         132           1.0      1986   \n",
       "208732  1659566    1305163     4991         132           1.0      1999   \n",
       "266409  1802998    1376920     9506         132           1.0      1000   \n",
       "...         ...        ...      ...         ...           ...       ...   \n",
       "73349   1359824    1422787     3406         132           1.0      1988   \n",
       "371403  2646355    1924827     4606         149          99.0      2000   \n",
       "312201  2273241     350696     3537         136           1.0      1994   \n",
       "267336  1804322    1423136     9563         132           2.0      1996   \n",
       "128037  1476157    1258168     7277         132           1.0      1977   \n",
       "\n",
       "        MachineHoursCurrentMeter  UsageBand  fiModelDesc  fiBaseModel  ...  \\\n",
       "383368                    4370.0        2.0        546.0        185.0  ...   \n",
       "233859                    3478.0        2.0       4756.0       1848.0  ...   \n",
       "56898                     4971.0        2.0        347.0        116.0  ...   \n",
       "208732                     495.0        2.0       1015.0        310.0  ...   \n",
       "266409                    2000.0        1.0        576.0        191.0  ...   \n",
       "...                          ...        ...          ...          ...  ...   \n",
       "73349                     4455.0        1.0        318.0        107.0  ...   \n",
       "371403                       0.0        1.0        496.0        174.0  ...   \n",
       "312201                       0.0        1.0        735.0        242.0  ...   \n",
       "267336                     533.0        1.0       1598.0        474.0  ...   \n",
       "128037                     675.0        1.0       1718.0        526.0  ...   \n",
       "\n",
       "        saleWeek  saleDay  saleDayofweek  saleDayofyear  saleIs_month_end  \\\n",
       "383368         7       15              1             46             False   \n",
       "233859        11       15              3             74             False   \n",
       "56898         50       13              0            347             False   \n",
       "208732        41        9              1            282             False   \n",
       "266409        11       14              2             73             False   \n",
       "...          ...      ...            ...            ...               ...   \n",
       "73349         49        7              1            341             False   \n",
       "371403         4       29              5             29             False   \n",
       "312201         2       12              5             12             False   \n",
       "267336        50       15              5            349             False   \n",
       "128037        25       16              1            167             False   \n",
       "\n",
       "        saleIs_month_start  saleIs_quarter_end  saleIs_quarter_start  \\\n",
       "383368               False               False                 False   \n",
       "233859               False               False                 False   \n",
       "56898                False               False                 False   \n",
       "208732               False               False                 False   \n",
       "266409               False               False                 False   \n",
       "...                    ...                 ...                   ...   \n",
       "73349                False               False                 False   \n",
       "371403               False               False                 False   \n",
       "312201               False               False                 False   \n",
       "267336               False               False                 False   \n",
       "128037               False               False                 False   \n",
       "\n",
       "        saleIs_year_end  saleIs_year_start  \n",
       "383368            False              False  \n",
       "233859            False              False  \n",
       "56898             False              False  \n",
       "208732            False              False  \n",
       "266409            False              False  \n",
       "...                 ...                ...  \n",
       "73349             False              False  \n",
       "371403            False              False  \n",
       "312201            False              False  \n",
       "267336            False              False  \n",
       "128037            False              False  \n",
       "\n",
       "[320900 rows x 36 columns]"
      ]
     },
     "execution_count": 41,
     "metadata": {},
     "output_type": "execute_result"
    }
   ],
   "source": [
    "X_train"
   ]
  },
  {
   "cell_type": "markdown",
   "id": "9da18b59",
   "metadata": {},
   "source": [
    "Let's compare our multiple set :\n",
    "\n",
    "- (line, columns)"
   ]
  },
  {
   "cell_type": "code",
   "execution_count": 42,
   "id": "bf6225c6",
   "metadata": {},
   "outputs": [
    {
     "data": {
      "text/plain": [
       "(320900, 36)"
      ]
     },
     "execution_count": 42,
     "metadata": {},
     "output_type": "execute_result"
    }
   ],
   "source": [
    "X_train.shape"
   ]
  },
  {
   "cell_type": "code",
   "execution_count": 43,
   "id": "20121ddd",
   "metadata": {},
   "outputs": [
    {
     "data": {
      "text/plain": [
       "(320900, 12)"
      ]
     },
     "execution_count": 43,
     "metadata": {},
     "output_type": "execute_result"
    }
   ],
   "source": [
    "X_train[to_keep.cols].shape"
   ]
  },
  {
   "cell_type": "code",
   "execution_count": 44,
   "id": "fd73625f",
   "metadata": {},
   "outputs": [
    {
     "data": {
      "text/plain": [
       "(3209, 12)"
      ]
     },
     "execution_count": 44,
     "metadata": {},
     "output_type": "execute_result"
    }
   ],
   "source": [
    "X_train_boot[to_keep.cols].shape"
   ]
  },
  {
   "cell_type": "markdown",
   "id": "5f5b63fa",
   "metadata": {},
   "source": [
    "How fast a model is trained now ? Let's see some numbers !"
   ]
  },
  {
   "cell_type": "code",
   "execution_count": 45,
   "id": "fdea9e98",
   "metadata": {},
   "outputs": [
    {
     "data": {
      "text/plain": [
       "(3209, 12)"
      ]
     },
     "execution_count": 45,
     "metadata": {},
     "output_type": "execute_result"
    }
   ],
   "source": [
    "X_train_mini = X_train_boot[to_keep.cols]; X_train_mini.shape"
   ]
  },
  {
   "cell_type": "code",
   "execution_count": 46,
   "id": "0752ccba",
   "metadata": {},
   "outputs": [
    {
     "data": {
      "text/plain": [
       "(3209, 1)"
      ]
     },
     "execution_count": 46,
     "metadata": {},
     "output_type": "execute_result"
    }
   ],
   "source": [
    "y_train_mini = y_train_boot[:]; y_train_mini.shape"
   ]
  },
  {
   "cell_type": "code",
   "execution_count": 47,
   "id": "ba1ef6f5",
   "metadata": {},
   "outputs": [],
   "source": [
    "m = RandomForestRegressor(n_jobs=-1)"
   ]
  },
  {
   "cell_type": "code",
   "execution_count": 48,
   "id": "ef49ba54",
   "metadata": {},
   "outputs": [
    {
     "name": "stderr",
     "output_type": "stream",
     "text": [
      "<timed eval>:1: DataConversionWarning: A column-vector y was passed when a 1d array was expected. Please change the shape of y to (n_samples,), for example using ravel().\n"
     ]
    },
    {
     "name": "stdout",
     "output_type": "stream",
     "text": [
      "CPU times: user 1.45 s, sys: 23.3 ms, total: 1.47 s\n",
      "Wall time: 288 ms\n"
     ]
    },
    {
     "data": {
      "text/plain": [
       "RandomForestRegressor(n_jobs=-1)"
      ]
     },
     "execution_count": 48,
     "metadata": {},
     "output_type": "execute_result"
    }
   ],
   "source": [
    "%time m.fit(X_train_mini, y_train_mini)"
   ]
  },
  {
   "cell_type": "code",
   "execution_count": 49,
   "id": "2de5ef40",
   "metadata": {
    "scrolled": true
   },
   "outputs": [
    {
     "data": {
      "text/plain": [
       "0.7638063092361757"
      ]
     },
     "execution_count": 49,
     "metadata": {},
     "output_type": "execute_result"
    }
   ],
   "source": [
    "m.score(X_test_boot[to_keep.cols], y_test_boot[:])"
   ]
  },
  {
   "cell_type": "code",
   "execution_count": 50,
   "id": "6d855c2e",
   "metadata": {},
   "outputs": [],
   "source": [
    "preds = m.predict(X_test_boot[to_keep.cols])"
   ]
  },
  {
   "cell_type": "code",
   "execution_count": 51,
   "id": "23adbe91",
   "metadata": {},
   "outputs": [
    {
     "name": "stdout",
     "output_type": "stream",
     "text": [
      "explained_variance:  0.7645\n",
      "mean_squared_log_error:  0.0009\n",
      "r2:  0.7638\n",
      "MAE:  0.2561\n",
      "MSE:  0.1158\n",
      "RMSE:  0.3402\n"
     ]
    }
   ],
   "source": [
    "regression_results(y_test_boot, preds)"
   ]
  },
  {
   "cell_type": "code",
   "execution_count": null,
   "id": "8bce814b",
   "metadata": {},
   "outputs": [],
   "source": []
  },
  {
   "cell_type": "code",
   "execution_count": null,
   "id": "b660deb3",
   "metadata": {},
   "outputs": [],
   "source": []
  },
  {
   "cell_type": "code",
   "execution_count": null,
   "id": "782faf3f",
   "metadata": {},
   "outputs": [],
   "source": []
  }
 ],
 "metadata": {
  "kernelspec": {
   "display_name": "Python 3 (ipykernel)",
   "language": "python",
   "name": "python3"
  },
  "language_info": {
   "codemirror_mode": {
    "name": "ipython",
    "version": 3
   },
   "file_extension": ".py",
   "mimetype": "text/x-python",
   "name": "python",
   "nbconvert_exporter": "python",
   "pygments_lexer": "ipython3",
   "version": "3.9.7"
  }
 },
 "nbformat": 4,
 "nbformat_minor": 5
}
