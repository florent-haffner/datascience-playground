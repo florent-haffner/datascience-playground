{
 "cells": [
  {
   "cell_type": "markdown",
   "id": "b8c66542",
   "metadata": {},
   "source": [
    "# Bulldozer dataset\n",
    "\n",
    "This notebook will use a datasets with a large number of columns (>30) and will propose and entire pipeline of treatments.\n",
    "\n",
    "After this it will focus on the subjects of datasets distribution/randomness and features selection."
   ]
  },
  {
   "cell_type": "code",
   "execution_count": 1,
   "id": "f221d27d",
   "metadata": {},
   "outputs": [],
   "source": [
    "import os\n",
    "import json\n",
    "import random\n",
    "from pathlib import Path\n",
    "from zipfile import ZipFile"
   ]
  },
  {
   "cell_type": "code",
   "execution_count": 2,
   "id": "9bdc1ce3",
   "metadata": {},
   "outputs": [],
   "source": [
    "import kaggle\n",
    "import pandas as pd\n",
    "import numpy as np\n",
    "import matplotlib.pyplot as plt\n",
    "\n",
    "from sklearn.model_selection import train_test_split\n",
    "from sklearn.utils import resample\n",
    "from sklearn.linear_model import LinearRegression\n",
    "from sklearn.ensemble import RandomForestRegressor"
   ]
  },
  {
   "cell_type": "code",
   "execution_count": 3,
   "id": "bfeb9e2a",
   "metadata": {},
   "outputs": [],
   "source": [
    "def display_all(df):\n",
    "    with pd.option_context(\"display.max_rows\", 1000, \"display.max_columns\", 1000): \n",
    "        display(df)"
   ]
  },
  {
   "cell_type": "code",
   "execution_count": 4,
   "id": "393e6990",
   "metadata": {},
   "outputs": [],
   "source": [
    "df = pd.read_feather('tmp/feather')"
   ]
  },
  {
   "cell_type": "code",
   "execution_count": 5,
   "id": "d718d036",
   "metadata": {
    "scrolled": true
   },
   "outputs": [
    {
     "data": {
      "text/html": [
       "<div>\n",
       "<style scoped>\n",
       "    .dataframe tbody tr th:only-of-type {\n",
       "        vertical-align: middle;\n",
       "    }\n",
       "\n",
       "    .dataframe tbody tr th {\n",
       "        vertical-align: top;\n",
       "    }\n",
       "\n",
       "    .dataframe thead th {\n",
       "        text-align: right;\n",
       "    }\n",
       "</style>\n",
       "<table border=\"1\" class=\"dataframe\">\n",
       "  <thead>\n",
       "    <tr style=\"text-align: right;\">\n",
       "      <th></th>\n",
       "      <th>0</th>\n",
       "      <th>1</th>\n",
       "      <th>2</th>\n",
       "      <th>3</th>\n",
       "      <th>4</th>\n",
       "    </tr>\n",
       "  </thead>\n",
       "  <tbody>\n",
       "    <tr>\n",
       "      <th>SalesID</th>\n",
       "      <td>1139246</td>\n",
       "      <td>1139248</td>\n",
       "      <td>1139249</td>\n",
       "      <td>1139251</td>\n",
       "      <td>1139253</td>\n",
       "    </tr>\n",
       "    <tr>\n",
       "      <th>SalePrice</th>\n",
       "      <td>11.09741</td>\n",
       "      <td>10.950807</td>\n",
       "      <td>9.21034</td>\n",
       "      <td>10.558414</td>\n",
       "      <td>9.305651</td>\n",
       "    </tr>\n",
       "    <tr>\n",
       "      <th>MachineID</th>\n",
       "      <td>999089</td>\n",
       "      <td>117657</td>\n",
       "      <td>434808</td>\n",
       "      <td>1026470</td>\n",
       "      <td>1057373</td>\n",
       "    </tr>\n",
       "    <tr>\n",
       "      <th>ModelID</th>\n",
       "      <td>3157</td>\n",
       "      <td>77</td>\n",
       "      <td>7009</td>\n",
       "      <td>332</td>\n",
       "      <td>17311</td>\n",
       "    </tr>\n",
       "    <tr>\n",
       "      <th>datasource</th>\n",
       "      <td>121</td>\n",
       "      <td>121</td>\n",
       "      <td>121</td>\n",
       "      <td>121</td>\n",
       "      <td>121</td>\n",
       "    </tr>\n",
       "    <tr>\n",
       "      <th>auctioneerID</th>\n",
       "      <td>3.0</td>\n",
       "      <td>3.0</td>\n",
       "      <td>3.0</td>\n",
       "      <td>3.0</td>\n",
       "      <td>3.0</td>\n",
       "    </tr>\n",
       "    <tr>\n",
       "      <th>YearMade</th>\n",
       "      <td>2004</td>\n",
       "      <td>1996</td>\n",
       "      <td>2001</td>\n",
       "      <td>2001</td>\n",
       "      <td>2007</td>\n",
       "    </tr>\n",
       "    <tr>\n",
       "      <th>MachineHoursCurrentMeter</th>\n",
       "      <td>68.0</td>\n",
       "      <td>4640.0</td>\n",
       "      <td>2838.0</td>\n",
       "      <td>3486.0</td>\n",
       "      <td>722.0</td>\n",
       "    </tr>\n",
       "    <tr>\n",
       "      <th>UsageBand</th>\n",
       "      <td>1.0</td>\n",
       "      <td>1.0</td>\n",
       "      <td>0.0</td>\n",
       "      <td>0.0</td>\n",
       "      <td>2.0</td>\n",
       "    </tr>\n",
       "    <tr>\n",
       "      <th>fiModelDesc</th>\n",
       "      <td>949.0</td>\n",
       "      <td>1724.0</td>\n",
       "      <td>330.0</td>\n",
       "      <td>3673.0</td>\n",
       "      <td>4207.0</td>\n",
       "    </tr>\n",
       "    <tr>\n",
       "      <th>fiBaseModel</th>\n",
       "      <td>295.0</td>\n",
       "      <td>526.0</td>\n",
       "      <td>109.0</td>\n",
       "      <td>1374.0</td>\n",
       "      <td>1528.0</td>\n",
       "    </tr>\n",
       "    <tr>\n",
       "      <th>fiSecondaryDesc</th>\n",
       "      <td>40.0</td>\n",
       "      <td>54.0</td>\n",
       "      <td>54.0</td>\n",
       "      <td>54.0</td>\n",
       "      <td>54.0</td>\n",
       "    </tr>\n",
       "    <tr>\n",
       "      <th>fiProductClassDesc</th>\n",
       "      <td>58.0</td>\n",
       "      <td>61.0</td>\n",
       "      <td>38.0</td>\n",
       "      <td>7.0</td>\n",
       "      <td>39.0</td>\n",
       "    </tr>\n",
       "    <tr>\n",
       "      <th>state</th>\n",
       "      <td>0.0</td>\n",
       "      <td>32.0</td>\n",
       "      <td>31.0</td>\n",
       "      <td>43.0</td>\n",
       "      <td>31.0</td>\n",
       "    </tr>\n",
       "    <tr>\n",
       "      <th>ProductGroup</th>\n",
       "      <td>5.0</td>\n",
       "      <td>5.0</td>\n",
       "      <td>2.0</td>\n",
       "      <td>3.0</td>\n",
       "      <td>2.0</td>\n",
       "    </tr>\n",
       "    <tr>\n",
       "      <th>ProductGroupDesc</th>\n",
       "      <td>5.0</td>\n",
       "      <td>5.0</td>\n",
       "      <td>2.0</td>\n",
       "      <td>3.0</td>\n",
       "      <td>2.0</td>\n",
       "    </tr>\n",
       "    <tr>\n",
       "      <th>Enclosure</th>\n",
       "      <td>2.0</td>\n",
       "      <td>2.0</td>\n",
       "      <td>5.0</td>\n",
       "      <td>2.0</td>\n",
       "      <td>0.0</td>\n",
       "    </tr>\n",
       "    <tr>\n",
       "      <th>Forks</th>\n",
       "      <td>0.0</td>\n",
       "      <td>0.0</td>\n",
       "      <td>0.0</td>\n",
       "      <td>0.0</td>\n",
       "      <td>0.0</td>\n",
       "    </tr>\n",
       "    <tr>\n",
       "      <th>Ride_Control</th>\n",
       "      <td>1.0</td>\n",
       "      <td>1.0</td>\n",
       "      <td>1.0</td>\n",
       "      <td>1.0</td>\n",
       "      <td>1.0</td>\n",
       "    </tr>\n",
       "    <tr>\n",
       "      <th>Hydraulics</th>\n",
       "      <td>0.0</td>\n",
       "      <td>0.0</td>\n",
       "      <td>3.0</td>\n",
       "      <td>0.0</td>\n",
       "      <td>3.0</td>\n",
       "    </tr>\n",
       "    <tr>\n",
       "      <th>Tire_Size</th>\n",
       "      <td>16.0</td>\n",
       "      <td>11.0</td>\n",
       "      <td>11.0</td>\n",
       "      <td>11.0</td>\n",
       "      <td>11.0</td>\n",
       "    </tr>\n",
       "    <tr>\n",
       "      <th>Coupler</th>\n",
       "      <td>2.0</td>\n",
       "      <td>2.0</td>\n",
       "      <td>2.0</td>\n",
       "      <td>2.0</td>\n",
       "      <td>2.0</td>\n",
       "    </tr>\n",
       "    <tr>\n",
       "      <th>Differential_Type</th>\n",
       "      <td>3.0</td>\n",
       "      <td>3.0</td>\n",
       "      <td>3.0</td>\n",
       "      <td>3.0</td>\n",
       "      <td>3.0</td>\n",
       "    </tr>\n",
       "    <tr>\n",
       "      <th>Steering_Controls</th>\n",
       "      <td>1.0</td>\n",
       "      <td>1.0</td>\n",
       "      <td>1.0</td>\n",
       "      <td>1.0</td>\n",
       "      <td>1.0</td>\n",
       "    </tr>\n",
       "    <tr>\n",
       "      <th>saleYear</th>\n",
       "      <td>2006</td>\n",
       "      <td>2004</td>\n",
       "      <td>2004</td>\n",
       "      <td>2011</td>\n",
       "      <td>2009</td>\n",
       "    </tr>\n",
       "    <tr>\n",
       "      <th>saleElapsed</th>\n",
       "      <td>1163635200</td>\n",
       "      <td>1080259200</td>\n",
       "      <td>1077753600</td>\n",
       "      <td>1305763200</td>\n",
       "      <td>1248307200</td>\n",
       "    </tr>\n",
       "    <tr>\n",
       "      <th>saleMonth</th>\n",
       "      <td>11</td>\n",
       "      <td>3</td>\n",
       "      <td>2</td>\n",
       "      <td>5</td>\n",
       "      <td>7</td>\n",
       "    </tr>\n",
       "    <tr>\n",
       "      <th>saleWeek</th>\n",
       "      <td>46</td>\n",
       "      <td>13</td>\n",
       "      <td>9</td>\n",
       "      <td>20</td>\n",
       "      <td>30</td>\n",
       "    </tr>\n",
       "    <tr>\n",
       "      <th>saleDay</th>\n",
       "      <td>16</td>\n",
       "      <td>26</td>\n",
       "      <td>26</td>\n",
       "      <td>19</td>\n",
       "      <td>23</td>\n",
       "    </tr>\n",
       "    <tr>\n",
       "      <th>saleDayofweek</th>\n",
       "      <td>3</td>\n",
       "      <td>4</td>\n",
       "      <td>3</td>\n",
       "      <td>3</td>\n",
       "      <td>3</td>\n",
       "    </tr>\n",
       "    <tr>\n",
       "      <th>saleDayofyear</th>\n",
       "      <td>320</td>\n",
       "      <td>86</td>\n",
       "      <td>57</td>\n",
       "      <td>139</td>\n",
       "      <td>204</td>\n",
       "    </tr>\n",
       "    <tr>\n",
       "      <th>saleIs_month_end</th>\n",
       "      <td>False</td>\n",
       "      <td>False</td>\n",
       "      <td>False</td>\n",
       "      <td>False</td>\n",
       "      <td>False</td>\n",
       "    </tr>\n",
       "    <tr>\n",
       "      <th>saleIs_month_start</th>\n",
       "      <td>False</td>\n",
       "      <td>False</td>\n",
       "      <td>False</td>\n",
       "      <td>False</td>\n",
       "      <td>False</td>\n",
       "    </tr>\n",
       "    <tr>\n",
       "      <th>saleIs_quarter_end</th>\n",
       "      <td>False</td>\n",
       "      <td>False</td>\n",
       "      <td>False</td>\n",
       "      <td>False</td>\n",
       "      <td>False</td>\n",
       "    </tr>\n",
       "    <tr>\n",
       "      <th>saleIs_quarter_start</th>\n",
       "      <td>False</td>\n",
       "      <td>False</td>\n",
       "      <td>False</td>\n",
       "      <td>False</td>\n",
       "      <td>False</td>\n",
       "    </tr>\n",
       "    <tr>\n",
       "      <th>saleIs_year_end</th>\n",
       "      <td>False</td>\n",
       "      <td>False</td>\n",
       "      <td>False</td>\n",
       "      <td>False</td>\n",
       "      <td>False</td>\n",
       "    </tr>\n",
       "    <tr>\n",
       "      <th>saleIs_year_start</th>\n",
       "      <td>False</td>\n",
       "      <td>False</td>\n",
       "      <td>False</td>\n",
       "      <td>False</td>\n",
       "      <td>False</td>\n",
       "    </tr>\n",
       "  </tbody>\n",
       "</table>\n",
       "</div>"
      ],
      "text/plain": [
       "                                   0           1           2           3  \\\n",
       "SalesID                      1139246     1139248     1139249     1139251   \n",
       "SalePrice                   11.09741   10.950807     9.21034   10.558414   \n",
       "MachineID                     999089      117657      434808     1026470   \n",
       "ModelID                         3157          77        7009         332   \n",
       "datasource                       121         121         121         121   \n",
       "auctioneerID                     3.0         3.0         3.0         3.0   \n",
       "YearMade                        2004        1996        2001        2001   \n",
       "MachineHoursCurrentMeter        68.0      4640.0      2838.0      3486.0   \n",
       "UsageBand                        1.0         1.0         0.0         0.0   \n",
       "fiModelDesc                    949.0      1724.0       330.0      3673.0   \n",
       "fiBaseModel                    295.0       526.0       109.0      1374.0   \n",
       "fiSecondaryDesc                 40.0        54.0        54.0        54.0   \n",
       "fiProductClassDesc              58.0        61.0        38.0         7.0   \n",
       "state                            0.0        32.0        31.0        43.0   \n",
       "ProductGroup                     5.0         5.0         2.0         3.0   \n",
       "ProductGroupDesc                 5.0         5.0         2.0         3.0   \n",
       "Enclosure                        2.0         2.0         5.0         2.0   \n",
       "Forks                            0.0         0.0         0.0         0.0   \n",
       "Ride_Control                     1.0         1.0         1.0         1.0   \n",
       "Hydraulics                       0.0         0.0         3.0         0.0   \n",
       "Tire_Size                       16.0        11.0        11.0        11.0   \n",
       "Coupler                          2.0         2.0         2.0         2.0   \n",
       "Differential_Type                3.0         3.0         3.0         3.0   \n",
       "Steering_Controls                1.0         1.0         1.0         1.0   \n",
       "saleYear                        2006        2004        2004        2011   \n",
       "saleElapsed               1163635200  1080259200  1077753600  1305763200   \n",
       "saleMonth                         11           3           2           5   \n",
       "saleWeek                          46          13           9          20   \n",
       "saleDay                           16          26          26          19   \n",
       "saleDayofweek                      3           4           3           3   \n",
       "saleDayofyear                    320          86          57         139   \n",
       "saleIs_month_end               False       False       False       False   \n",
       "saleIs_month_start             False       False       False       False   \n",
       "saleIs_quarter_end             False       False       False       False   \n",
       "saleIs_quarter_start           False       False       False       False   \n",
       "saleIs_year_end                False       False       False       False   \n",
       "saleIs_year_start              False       False       False       False   \n",
       "\n",
       "                                   4  \n",
       "SalesID                      1139253  \n",
       "SalePrice                   9.305651  \n",
       "MachineID                    1057373  \n",
       "ModelID                        17311  \n",
       "datasource                       121  \n",
       "auctioneerID                     3.0  \n",
       "YearMade                        2007  \n",
       "MachineHoursCurrentMeter       722.0  \n",
       "UsageBand                        2.0  \n",
       "fiModelDesc                   4207.0  \n",
       "fiBaseModel                   1528.0  \n",
       "fiSecondaryDesc                 54.0  \n",
       "fiProductClassDesc              39.0  \n",
       "state                           31.0  \n",
       "ProductGroup                     2.0  \n",
       "ProductGroupDesc                 2.0  \n",
       "Enclosure                        0.0  \n",
       "Forks                            0.0  \n",
       "Ride_Control                     1.0  \n",
       "Hydraulics                       3.0  \n",
       "Tire_Size                       11.0  \n",
       "Coupler                          2.0  \n",
       "Differential_Type                3.0  \n",
       "Steering_Controls                1.0  \n",
       "saleYear                        2009  \n",
       "saleElapsed               1248307200  \n",
       "saleMonth                          7  \n",
       "saleWeek                          30  \n",
       "saleDay                           23  \n",
       "saleDayofweek                      3  \n",
       "saleDayofyear                    204  \n",
       "saleIs_month_end               False  \n",
       "saleIs_month_start             False  \n",
       "saleIs_quarter_end             False  \n",
       "saleIs_quarter_start           False  \n",
       "saleIs_year_end                False  \n",
       "saleIs_year_start              False  "
      ]
     },
     "execution_count": 5,
     "metadata": {},
     "output_type": "execute_result"
    }
   ],
   "source": [
    "df.head().T"
   ]
  },
  {
   "cell_type": "markdown",
   "id": "e314ba6d",
   "metadata": {},
   "source": [
    "---"
   ]
  },
  {
   "cell_type": "markdown",
   "id": "eb271940",
   "metadata": {},
   "source": [
    "## Crossvalidation and model training"
   ]
  },
  {
   "cell_type": "code",
   "execution_count": 6,
   "id": "2541845a",
   "metadata": {},
   "outputs": [],
   "source": [
    "import sklearn.metrics as metrics\n",
    "\n",
    "def regression_results(y_true, y_pred):\n",
    "\n",
    "    # Regression metrics\n",
    "    explained_variance=metrics.explained_variance_score(y_true, y_pred)\n",
    "    mean_absolute_error=metrics.mean_absolute_error(y_true, y_pred) \n",
    "    mse=metrics.mean_squared_error(y_true, y_pred) \n",
    "    mean_squared_log_error=metrics.mean_squared_log_error(y_true, y_pred)\n",
    "    median_absolute_error=metrics.median_absolute_error(y_true, y_pred)\n",
    "    r2=metrics.r2_score(y_true, y_pred)\n",
    "\n",
    "    print('explained_variance: ', round(explained_variance,4))    \n",
    "    print('mean_squared_log_error: ', round(mean_squared_log_error,4))\n",
    "    print('r2: ', round(r2,4))\n",
    "    print('MAE: ', round(mean_absolute_error,4))\n",
    "    print('MSE: ', round(mse,4))\n",
    "    print('RMSE: ', round(np.sqrt(mse),4))"
   ]
  },
  {
   "cell_type": "markdown",
   "id": "975454cb",
   "metadata": {},
   "source": [
    "### Let's begin"
   ]
  },
  {
   "cell_type": "markdown",
   "id": "fc3d40db",
   "metadata": {},
   "source": [
    "### Model fitting /w log(dependant variable)"
   ]
  },
  {
   "cell_type": "code",
   "execution_count": 7,
   "id": "660a0bac",
   "metadata": {},
   "outputs": [],
   "source": [
    "X, y = df.drop('SalePrice', axis=1), df.SalePrice.values"
   ]
  },
  {
   "cell_type": "code",
   "execution_count": 8,
   "id": "6a085926",
   "metadata": {},
   "outputs": [],
   "source": [
    "X_train, X_test, y_train, y_test = train_test_split(X, y, test_size=0.2, random_state=0)"
   ]
  },
  {
   "cell_type": "code",
   "execution_count": 9,
   "id": "452b9b19",
   "metadata": {},
   "outputs": [
    {
     "data": {
      "text/plain": [
       "((320900, 36), pandas.core.frame.DataFrame, (320900,), numpy.ndarray)"
      ]
     },
     "execution_count": 9,
     "metadata": {},
     "output_type": "execute_result"
    }
   ],
   "source": [
    "X_train.shape, type(X_train), y_train.shape, type(y_train)"
   ]
  },
  {
   "cell_type": "code",
   "execution_count": 10,
   "id": "4fac6fc3",
   "metadata": {},
   "outputs": [],
   "source": [
    "y_train = y_train.reshape(-1, 1)"
   ]
  },
  {
   "cell_type": "code",
   "execution_count": 11,
   "id": "dbe38f06",
   "metadata": {},
   "outputs": [],
   "source": [
    "y_test = y_test.reshape(-1, 1)"
   ]
  },
  {
   "cell_type": "code",
   "execution_count": 12,
   "id": "428b79d8",
   "metadata": {},
   "outputs": [],
   "source": [
    "m = RandomForestRegressor(n_jobs=-1)"
   ]
  },
  {
   "cell_type": "code",
   "execution_count": 13,
   "id": "fbf521e5",
   "metadata": {},
   "outputs": [
    {
     "name": "stderr",
     "output_type": "stream",
     "text": [
      "<timed eval>:1: DataConversionWarning: A column-vector y was passed when a 1d array was expected. Please change the shape of y to (n_samples,), for example using ravel().\n"
     ]
    },
    {
     "name": "stdout",
     "output_type": "stream",
     "text": [
      "CPU times: user 8min 51s, sys: 5.65 s, total: 8min 56s\n",
      "Wall time: 1min 14s\n"
     ]
    },
    {
     "data": {
      "text/plain": [
       "RandomForestRegressor(n_jobs=-1)"
      ]
     },
     "execution_count": 13,
     "metadata": {},
     "output_type": "execute_result"
    }
   ],
   "source": [
    "%time m.fit(X_train, y_train)"
   ]
  },
  {
   "cell_type": "code",
   "execution_count": 14,
   "id": "51aaadf2",
   "metadata": {
    "scrolled": true
   },
   "outputs": [
    {
     "data": {
      "text/plain": [
       "0.9863907146232807"
      ]
     },
     "execution_count": 14,
     "metadata": {},
     "output_type": "execute_result"
    }
   ],
   "source": [
    "m.score(X_train, y_train)"
   ]
  },
  {
   "cell_type": "code",
   "execution_count": 15,
   "id": "869050ce",
   "metadata": {},
   "outputs": [],
   "source": [
    "preds = m.predict(X_test)"
   ]
  },
  {
   "cell_type": "code",
   "execution_count": 16,
   "id": "4698e0eb",
   "metadata": {},
   "outputs": [
    {
     "name": "stdout",
     "output_type": "stream",
     "text": [
      "explained_variance:  0.9027\n",
      "mean_squared_log_error:  0.0004\n",
      "r2:  0.9027\n",
      "MAE:  0.1536\n",
      "MSE:  0.0469\n",
      "RMSE:  0.2166\n"
     ]
    }
   ],
   "source": [
    "regression_results(y_test, preds)"
   ]
  },
  {
   "cell_type": "markdown",
   "id": "5f0e3d18",
   "metadata": {},
   "source": [
    "The base results are actually not bad, still if there's a little overfit !"
   ]
  },
  {
   "cell_type": "markdown",
   "id": "6ef62b14",
   "metadata": {},
   "source": [
    "---"
   ]
  },
  {
   "cell_type": "markdown",
   "id": "62021be2",
   "metadata": {},
   "source": [
    "### Log + shuffling"
   ]
  },
  {
   "cell_type": "code",
   "execution_count": 17,
   "id": "fb74b158",
   "metadata": {},
   "outputs": [],
   "source": [
    "X, y = df.drop('SalePrice', axis=1), df.SalePrice.values"
   ]
  },
  {
   "cell_type": "code",
   "execution_count": 18,
   "id": "bcecce9b",
   "metadata": {},
   "outputs": [],
   "source": [
    "X_train, X_test, y_train, y_test = train_test_split(X, y, test_size=0.2, random_state=1)"
   ]
  },
  {
   "cell_type": "code",
   "execution_count": 19,
   "id": "6b5e1dc1",
   "metadata": {},
   "outputs": [
    {
     "data": {
      "text/plain": [
       "((320900, 36), pandas.core.frame.DataFrame, (320900,), numpy.ndarray)"
      ]
     },
     "execution_count": 19,
     "metadata": {},
     "output_type": "execute_result"
    }
   ],
   "source": [
    "X_train.shape, type(X_train), y_train.shape, type(y_train)"
   ]
  },
  {
   "cell_type": "code",
   "execution_count": 20,
   "id": "b588f0fa",
   "metadata": {},
   "outputs": [],
   "source": [
    "y_train = y_train.reshape(-1, 1)"
   ]
  },
  {
   "cell_type": "code",
   "execution_count": 21,
   "id": "08a1c398",
   "metadata": {},
   "outputs": [],
   "source": [
    "y_test = y_test.reshape(-1, 1)"
   ]
  },
  {
   "cell_type": "code",
   "execution_count": 22,
   "id": "87ee0815",
   "metadata": {},
   "outputs": [],
   "source": [
    "m = RandomForestRegressor(n_jobs=-1)"
   ]
  },
  {
   "cell_type": "code",
   "execution_count": 23,
   "id": "fc6e7fb4",
   "metadata": {},
   "outputs": [
    {
     "name": "stderr",
     "output_type": "stream",
     "text": [
      "<timed eval>:1: DataConversionWarning: A column-vector y was passed when a 1d array was expected. Please change the shape of y to (n_samples,), for example using ravel().\n"
     ]
    },
    {
     "name": "stdout",
     "output_type": "stream",
     "text": [
      "CPU times: user 8min 53s, sys: 3.46 s, total: 8min 57s\n",
      "Wall time: 1min 14s\n"
     ]
    },
    {
     "data": {
      "text/plain": [
       "RandomForestRegressor(n_jobs=-1)"
      ]
     },
     "execution_count": 23,
     "metadata": {},
     "output_type": "execute_result"
    }
   ],
   "source": [
    "%time m.fit(X_train, y_train)"
   ]
  },
  {
   "cell_type": "code",
   "execution_count": null,
   "id": "3b6ade5e",
   "metadata": {
    "scrolled": true
   },
   "outputs": [],
   "source": [
    "m.score(X_train, y_train)"
   ]
  },
  {
   "cell_type": "code",
   "execution_count": null,
   "id": "4cf7db51",
   "metadata": {},
   "outputs": [],
   "source": [
    "preds = m.predict(X_test)"
   ]
  },
  {
   "cell_type": "code",
   "execution_count": null,
   "id": "d4de1b20",
   "metadata": {},
   "outputs": [],
   "source": [
    "regression_results(y_test, preds)"
   ]
  },
  {
   "cell_type": "markdown",
   "id": "06dc7262",
   "metadata": {},
   "source": [
    "It's just a little bit better, maybe we should try to get a representative part of the dataset or selecting meaningful features ?"
   ]
  },
  {
   "cell_type": "markdown",
   "id": "c9424807",
   "metadata": {},
   "source": [
    "---"
   ]
  },
  {
   "cell_type": "markdown",
   "id": "699d2a82",
   "metadata": {},
   "source": [
    "### Feature selection"
   ]
  },
  {
   "cell_type": "markdown",
   "id": "64d174a9",
   "metadata": {},
   "source": [
    "Let's try to select the most usefull features with an automated approach"
   ]
  },
  {
   "cell_type": "code",
   "execution_count": null,
   "id": "ef5b812c",
   "metadata": {},
   "outputs": [],
   "source": [
    "X.shape"
   ]
  },
  {
   "cell_type": "code",
   "execution_count": null,
   "id": "f389c645",
   "metadata": {},
   "outputs": [],
   "source": [
    "X_train.shape"
   ]
  },
  {
   "cell_type": "code",
   "execution_count": null,
   "id": "3ad01fc3",
   "metadata": {},
   "outputs": [],
   "source": [
    "minimal_df_size = int(len(X_train)/100); minimal_df_size"
   ]
  },
  {
   "cell_type": "code",
   "execution_count": null,
   "id": "8c6b6e6e",
   "metadata": {},
   "outputs": [],
   "source": [
    "# prepare bootstrap sample\n",
    "X_train_boot = resample(X_train, n_samples=minimal_df_size, random_state=1)\n",
    "X_train_boot.shape"
   ]
  },
  {
   "cell_type": "code",
   "execution_count": null,
   "id": "65c10a18",
   "metadata": {},
   "outputs": [],
   "source": [
    "# prepare bootstrap sample\n",
    "y_train_boot = resample(y_train, n_samples=minimal_df_size, random_state=1)\n",
    "y_train_boot.shape"
   ]
  },
  {
   "cell_type": "code",
   "execution_count": null,
   "id": "827663ef",
   "metadata": {
    "scrolled": true
   },
   "outputs": [],
   "source": [
    "# from sklearn.feature_selection import SequentialFeatureSelector\n",
    "\n",
    "# #Selecting the Best important features according to RandomForestRegressor\n",
    "# sfs_selector = SequentialFeatureSelector(estimator=RandomForestRegressor(), \n",
    "#                                         n_features_to_select=10,\n",
    "#                                         cv=4,\n",
    "#                                         direction ='backward')\n",
    "\n",
    "# sfs_selector.fit(X_train_boot, y_train_boot)\n",
    "# X.columns[sfs_selector.get_support()]"
   ]
  },
  {
   "cell_type": "markdown",
   "id": "76ec23ef",
   "metadata": {},
   "source": [
    "We try boostraping with the previous method of feature selection but it doesen't work.\n",
    "\n",
    "Even with a very tiny part of our dataset (0.8% random parts from the original set) the computation take too much time (more than 10mins on an 8 core CPU)."
   ]
  },
  {
   "cell_type": "code",
   "execution_count": null,
   "id": "4909228b",
   "metadata": {},
   "outputs": [],
   "source": []
  },
  {
   "cell_type": "code",
   "execution_count": null,
   "id": "b660deb3",
   "metadata": {},
   "outputs": [],
   "source": []
  },
  {
   "cell_type": "code",
   "execution_count": null,
   "id": "782faf3f",
   "metadata": {},
   "outputs": [],
   "source": []
  }
 ],
 "metadata": {
  "kernelspec": {
   "display_name": "Python 3 (ipykernel)",
   "language": "python",
   "name": "python3"
  },
  "language_info": {
   "codemirror_mode": {
    "name": "ipython",
    "version": 3
   },
   "file_extension": ".py",
   "mimetype": "text/x-python",
   "name": "python",
   "nbconvert_exporter": "python",
   "pygments_lexer": "ipython3",
   "version": "3.9.7"
  }
 },
 "nbformat": 4,
 "nbformat_minor": 5
}
