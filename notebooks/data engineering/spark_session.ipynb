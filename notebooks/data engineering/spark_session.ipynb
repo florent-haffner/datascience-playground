{
 "cells": [
  {
   "cell_type": "code",
   "execution_count": 1,
   "id": "1795cef3-e1be-451b-9be6-7e3064e29b54",
   "metadata": {},
   "outputs": [
    {
     "name": "stdout",
     "output_type": "stream",
     "text": [
      "Collecting findspark\n",
      "  Downloading findspark-2.0.1-py2.py3-none-any.whl (4.4 kB)\n",
      "Installing collected packages: findspark\n",
      "Successfully installed findspark-2.0.1\n"
     ]
    }
   ],
   "source": [
    "!pip3 install findspark"
   ]
  },
  {
   "cell_type": "code",
   "execution_count": 21,
   "id": "2da708ad-1311-4146-a968-c8f712edeea6",
   "metadata": {},
   "outputs": [],
   "source": [
    "import os\n",
    "os.environ[\"JAVA_HOME\"] = \"/usr/lib/jvm/java-8-openjdk/jre\"\n",
    "# os.environ[\"SPARK_HOME\"] = \"/home/nelth/spark-3.2.1-bin-hadoop3.2\"\n",
    "os.environ[\"SPARK_HOME\"] = \"$HOME/spark-3.2.1-bin-hadoop3.2\"\n",
    "\n",
    "import findspark\n",
    "findspark.init()\n",
    "from pyspark.sql import SparkSession"
   ]
  },
  {
   "cell_type": "code",
   "execution_count": 22,
   "id": "d6138f9a-7795-4e7a-a832-1d15e1f4f335",
   "metadata": {},
   "outputs": [],
   "source": [
    "# spark = SparkSession.builder.enableHiveSupport().master(\"local[*]\").getOrCreate()\n",
    "\n",
    "spark = SparkSession.builder\\\n",
    "  .config('spark.executor.memory', '10g')\\\n",
    "  .config('spark.driver.memory', '10g')\\\n",
    "  .enableHiveSupport().master(\"local[*]\").getOrCreate()"
   ]
  },
  {
   "cell_type": "code",
   "execution_count": 24,
   "id": "e218e5ea-dfd9-4676-b689-f9baaafaf240",
   "metadata": {},
   "outputs": [
    {
     "data": {
      "text/plain": [
       "11457"
      ]
     },
     "execution_count": 24,
     "metadata": {},
     "output_type": "execute_result"
    }
   ],
   "source": [
    "df = spark.read.csv('/home/nelth/WORKSPACE/ml_meilleures_communes/Resources/communes_commentaire_tmp.csv')\n",
    "df.count()"
   ]
  },
  {
   "cell_type": "code",
   "execution_count": null,
   "id": "f2637028-0836-4be7-b8d7-a89a4b5a3cbb",
   "metadata": {},
   "outputs": [],
   "source": []
  }
 ],
 "metadata": {
  "kernelspec": {
   "display_name": "Python 3 (ipykernel)",
   "language": "python",
   "name": "python3"
  },
  "language_info": {
   "codemirror_mode": {
    "name": "ipython",
    "version": 3
   },
   "file_extension": ".py",
   "mimetype": "text/x-python",
   "name": "python",
   "nbconvert_exporter": "python",
   "pygments_lexer": "ipython3",
   "version": "3.9.7"
  }
 },
 "nbformat": 4,
 "nbformat_minor": 5
}
