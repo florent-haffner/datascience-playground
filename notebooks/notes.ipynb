{
 "cells": [
  {
   "cell_type": "markdown",
   "id": "ae37cd6f",
   "metadata": {},
   "source": [
    "# Notes\n",
    "\n",
    "This notebook will focus on statistics and probabilities tools to understand your data and better train your model.\n",
    "\n",
    "Remind yourself to understand properly your data to solve your business problem."
   ]
  },
  {
   "cell_type": "markdown",
   "id": "3531fb86",
   "metadata": {},
   "source": [
    "## Focus yourself on a few indicators\n",
    "\n",
    "- Min / Max / Mean\n",
    "- Median\n",
    "- Standard deviation\n",
    "- Normal distribution\n",
    "- Quantile\n",
    "- R2 (compare train, test and validation)\n",
    "- P-value"
   ]
  },
  {
   "cell_type": "markdown",
   "id": "89a1a052",
   "metadata": {},
   "source": [
    "## Minimizing Loss OR maximizing Accuracy\n",
    "\n",
    "- Bootstraping OR multiple sequence\n",
    "- IF img → data augmentation via RandomResizeCrop\n",
    "- One hot encoder [0, 0, 0, 1] to map categories\n",
    "- Using distributions on certains columns\n",
    "- Scaling data (min, current data, max) on certains columns\n"
   ]
  },
  {
   "cell_type": "markdown",
   "id": "d7df3649",
   "metadata": {},
   "source": [
    "## Regularization\n",
    "\n",
    "<img src=\"https://media.geeksforgeeks.org/wp-content/uploads/20210323204619/imgonlinecomuaresizeLOjqonkALC.jpg\"\n",
    "     alt=\"High bias (Underfit) / high variance (overfit)\"\n",
    "     style=\"padding: 5vh;\" />\n",
    "\n",
    "Source : https://media.geeksforgeeks.org/wp-content/uploads/20210323204619/imgonlinecomuaresizeLOjqonkALC.jpg"
   ]
  },
  {
   "cell_type": "markdown",
   "id": "4e49f2ce",
   "metadata": {},
   "source": []
  },
  {
   "cell_type": "code",
   "execution_count": null,
   "id": "6c8c437c",
   "metadata": {},
   "outputs": [],
   "source": []
  },
  {
   "cell_type": "code",
   "execution_count": null,
   "id": "4aadc5d6",
   "metadata": {},
   "outputs": [],
   "source": []
  }
 ],
 "metadata": {
  "kernelspec": {
   "display_name": "Python 3 (ipykernel)",
   "language": "python",
   "name": "python3"
  },
  "language_info": {
   "codemirror_mode": {
    "name": "ipython",
    "version": 3
   },
   "file_extension": ".py",
   "mimetype": "text/x-python",
   "name": "python",
   "nbconvert_exporter": "python",
   "pygments_lexer": "ipython3",
   "version": "3.9.7"
  }
 },
 "nbformat": 4,
 "nbformat_minor": 5
}
