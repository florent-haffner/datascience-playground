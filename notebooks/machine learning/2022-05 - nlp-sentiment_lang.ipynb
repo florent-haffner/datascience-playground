{
 "cells": [
  {
   "cell_type": "code",
   "execution_count": 1,
   "id": "7bf925d0-4fbe-405f-bef6-edaa13242bc0",
   "metadata": {},
   "outputs": [],
   "source": [
    "import pandas as pd\n",
    "\n",
    "import seaborn\n",
    "import matplotlib.pyplot as plt\n",
    "\n",
    "import nltk\n",
    "import spacy\n",
    "from spacy.language import Language\n",
    "from spacy_langdetect import LanguageDetector\n",
    "from spacy.lang.en.stop_words import STOP_WORDS as STOP_WORDS_EN\n",
    "from spacy.lang.fr.stop_words import STOP_WORDS as STOP_WORDS_FR\n",
    "\n",
    "from textblob import Blobber\n",
    "from textblob_fr import PatternTagger, PatternAnalyzer"
   ]
  },
  {
   "cell_type": "code",
   "execution_count": 2,
   "id": "605b88e9-9caa-4d29-a694-212a18d34584",
   "metadata": {},
   "outputs": [],
   "source": [
    "import re"
   ]
  },
  {
   "cell_type": "code",
   "execution_count": 3,
   "id": "085ac7a4-7a7f-4bf8-9070-409bd7156a02",
   "metadata": {},
   "outputs": [
    {
     "name": "stdout",
     "output_type": "stream",
     "text": [
      "\u001b[38;5;3m⚠ As of spaCy v3.0, shortcuts like 'en' are deprecated. Please use the\n",
      "full pipeline package name 'en_core_web_sm' instead.\u001b[0m\n",
      "Collecting en-core-web-sm==3.3.0\n",
      "  Using cached https://github.com/explosion/spacy-models/releases/download/en_core_web_sm-3.3.0/en_core_web_sm-3.3.0-py3-none-any.whl (12.8 MB)\n",
      "Requirement already satisfied: spacy<3.4.0,>=3.3.0.dev0 in /home/nelth/miniconda3/envs/nlp-lab/lib/python3.10/site-packages (from en-core-web-sm==3.3.0) (3.3.0)\n",
      "Requirement already satisfied: pathy>=0.3.5 in /home/nelth/miniconda3/envs/nlp-lab/lib/python3.10/site-packages (from spacy<3.4.0,>=3.3.0.dev0->en-core-web-sm==3.3.0) (0.6.1)\n",
      "Requirement already satisfied: catalogue<2.1.0,>=2.0.6 in /home/nelth/miniconda3/envs/nlp-lab/lib/python3.10/site-packages (from spacy<3.4.0,>=3.3.0.dev0->en-core-web-sm==3.3.0) (2.0.7)\n",
      "Requirement already satisfied: blis<0.8.0,>=0.4.0 in /home/nelth/miniconda3/envs/nlp-lab/lib/python3.10/site-packages (from spacy<3.4.0,>=3.3.0.dev0->en-core-web-sm==3.3.0) (0.7.7)\n",
      "Requirement already satisfied: jinja2 in /home/nelth/miniconda3/envs/nlp-lab/lib/python3.10/site-packages (from spacy<3.4.0,>=3.3.0.dev0->en-core-web-sm==3.3.0) (3.1.2)\n",
      "Requirement already satisfied: wasabi<1.1.0,>=0.9.1 in /home/nelth/miniconda3/envs/nlp-lab/lib/python3.10/site-packages (from spacy<3.4.0,>=3.3.0.dev0->en-core-web-sm==3.3.0) (0.9.1)\n",
      "Requirement already satisfied: requests<3.0.0,>=2.13.0 in /home/nelth/miniconda3/envs/nlp-lab/lib/python3.10/site-packages (from spacy<3.4.0,>=3.3.0.dev0->en-core-web-sm==3.3.0) (2.27.1)\n",
      "Requirement already satisfied: murmurhash<1.1.0,>=0.28.0 in /home/nelth/miniconda3/envs/nlp-lab/lib/python3.10/site-packages (from spacy<3.4.0,>=3.3.0.dev0->en-core-web-sm==3.3.0) (1.0.7)\n",
      "Requirement already satisfied: spacy-loggers<2.0.0,>=1.0.0 in /home/nelth/miniconda3/envs/nlp-lab/lib/python3.10/site-packages (from spacy<3.4.0,>=3.3.0.dev0->en-core-web-sm==3.3.0) (1.0.2)\n",
      "Requirement already satisfied: pydantic!=1.8,!=1.8.1,<1.9.0,>=1.7.4 in /home/nelth/miniconda3/envs/nlp-lab/lib/python3.10/site-packages (from spacy<3.4.0,>=3.3.0.dev0->en-core-web-sm==3.3.0) (1.8.2)\n",
      "Requirement already satisfied: setuptools in /home/nelth/miniconda3/envs/nlp-lab/lib/python3.10/site-packages (from spacy<3.4.0,>=3.3.0.dev0->en-core-web-sm==3.3.0) (61.2.0)\n",
      "Requirement already satisfied: packaging>=20.0 in /home/nelth/miniconda3/envs/nlp-lab/lib/python3.10/site-packages (from spacy<3.4.0,>=3.3.0.dev0->en-core-web-sm==3.3.0) (21.3)\n",
      "Requirement already satisfied: preshed<3.1.0,>=3.0.2 in /home/nelth/miniconda3/envs/nlp-lab/lib/python3.10/site-packages (from spacy<3.4.0,>=3.3.0.dev0->en-core-web-sm==3.3.0) (3.0.6)\n",
      "Requirement already satisfied: cymem<2.1.0,>=2.0.2 in /home/nelth/miniconda3/envs/nlp-lab/lib/python3.10/site-packages (from spacy<3.4.0,>=3.3.0.dev0->en-core-web-sm==3.3.0) (2.0.6)\n",
      "Requirement already satisfied: tqdm<5.0.0,>=4.38.0 in /home/nelth/miniconda3/envs/nlp-lab/lib/python3.10/site-packages (from spacy<3.4.0,>=3.3.0.dev0->en-core-web-sm==3.3.0) (4.64.0)\n",
      "Requirement already satisfied: thinc<8.1.0,>=8.0.14 in /home/nelth/miniconda3/envs/nlp-lab/lib/python3.10/site-packages (from spacy<3.4.0,>=3.3.0.dev0->en-core-web-sm==3.3.0) (8.0.15)\n",
      "Requirement already satisfied: langcodes<4.0.0,>=3.2.0 in /home/nelth/miniconda3/envs/nlp-lab/lib/python3.10/site-packages (from spacy<3.4.0,>=3.3.0.dev0->en-core-web-sm==3.3.0) (3.3.0)\n",
      "Requirement already satisfied: srsly<3.0.0,>=2.4.3 in /home/nelth/miniconda3/envs/nlp-lab/lib/python3.10/site-packages (from spacy<3.4.0,>=3.3.0.dev0->en-core-web-sm==3.3.0) (2.4.3)\n",
      "Requirement already satisfied: numpy>=1.15.0 in /home/nelth/miniconda3/envs/nlp-lab/lib/python3.10/site-packages (from spacy<3.4.0,>=3.3.0.dev0->en-core-web-sm==3.3.0) (1.22.3)\n",
      "Requirement already satisfied: typer<0.5.0,>=0.3.0 in /home/nelth/miniconda3/envs/nlp-lab/lib/python3.10/site-packages (from spacy<3.4.0,>=3.3.0.dev0->en-core-web-sm==3.3.0) (0.4.1)\n",
      "Requirement already satisfied: spacy-legacy<3.1.0,>=3.0.9 in /home/nelth/miniconda3/envs/nlp-lab/lib/python3.10/site-packages (from spacy<3.4.0,>=3.3.0.dev0->en-core-web-sm==3.3.0) (3.0.9)\n",
      "Requirement already satisfied: pyparsing!=3.0.5,>=2.0.2 in /home/nelth/miniconda3/envs/nlp-lab/lib/python3.10/site-packages (from packaging>=20.0->spacy<3.4.0,>=3.3.0.dev0->en-core-web-sm==3.3.0) (3.0.8)\n",
      "Requirement already satisfied: smart-open<6.0.0,>=5.0.0 in /home/nelth/miniconda3/envs/nlp-lab/lib/python3.10/site-packages (from pathy>=0.3.5->spacy<3.4.0,>=3.3.0.dev0->en-core-web-sm==3.3.0) (5.2.1)\n",
      "Requirement already satisfied: typing-extensions>=3.7.4.3 in /home/nelth/miniconda3/envs/nlp-lab/lib/python3.10/site-packages (from pydantic!=1.8,!=1.8.1,<1.9.0,>=1.7.4->spacy<3.4.0,>=3.3.0.dev0->en-core-web-sm==3.3.0) (4.2.0)\n",
      "Requirement already satisfied: idna<4,>=2.5 in /home/nelth/miniconda3/envs/nlp-lab/lib/python3.10/site-packages (from requests<3.0.0,>=2.13.0->spacy<3.4.0,>=3.3.0.dev0->en-core-web-sm==3.3.0) (3.3)\n",
      "Requirement already satisfied: charset-normalizer~=2.0.0 in /home/nelth/miniconda3/envs/nlp-lab/lib/python3.10/site-packages (from requests<3.0.0,>=2.13.0->spacy<3.4.0,>=3.3.0.dev0->en-core-web-sm==3.3.0) (2.0.12)\n",
      "Requirement already satisfied: urllib3<1.27,>=1.21.1 in /home/nelth/miniconda3/envs/nlp-lab/lib/python3.10/site-packages (from requests<3.0.0,>=2.13.0->spacy<3.4.0,>=3.3.0.dev0->en-core-web-sm==3.3.0) (1.26.9)\n",
      "Requirement already satisfied: certifi>=2017.4.17 in /home/nelth/miniconda3/envs/nlp-lab/lib/python3.10/site-packages (from requests<3.0.0,>=2.13.0->spacy<3.4.0,>=3.3.0.dev0->en-core-web-sm==3.3.0) (2020.6.20)\n",
      "Requirement already satisfied: click<9.0.0,>=7.1.1 in /home/nelth/miniconda3/envs/nlp-lab/lib/python3.10/site-packages (from typer<0.5.0,>=0.3.0->spacy<3.4.0,>=3.3.0.dev0->en-core-web-sm==3.3.0) (8.1.3)\n",
      "Requirement already satisfied: MarkupSafe>=2.0 in /home/nelth/miniconda3/envs/nlp-lab/lib/python3.10/site-packages (from jinja2->spacy<3.4.0,>=3.3.0.dev0->en-core-web-sm==3.3.0) (2.1.1)\n",
      "\u001b[38;5;2m✔ Download and installation successful\u001b[0m\n",
      "You can now load the package via spacy.load('en_core_web_sm')\n"
     ]
    }
   ],
   "source": [
    "!python -m spacy download en"
   ]
  },
  {
   "cell_type": "code",
   "execution_count": 4,
   "id": "ceb949e2-afc6-47f7-95f6-d1ffb0dbd94e",
   "metadata": {},
   "outputs": [],
   "source": [
    "import en_core_web_sm\n",
    "nlp = en_core_web_sm.load()"
   ]
  },
  {
   "cell_type": "code",
   "execution_count": 5,
   "id": "2fce0432-7907-473a-bd14-65e676dbed1e",
   "metadata": {},
   "outputs": [
    {
     "name": "stdout",
     "output_type": "stream",
     "text": [
      "<class 'pandas.core.frame.DataFrame'>\n",
      "RangeIndex: 300 entries, 0 to 299\n",
      "Data columns (total 4 columns):\n",
      " #   Column      Non-Null Count  Dtype              \n",
      "---  ------      --------------  -----              \n",
      " 0   created_at  300 non-null    datetime64[ns, UTC]\n",
      " 1   id          300 non-null    int64              \n",
      " 2   author_id   300 non-null    int64              \n",
      " 3   text        300 non-null    object             \n",
      "dtypes: datetime64[ns, UTC](1), int64(2), object(1)\n",
      "memory usage: 9.5+ KB\n"
     ]
    }
   ],
   "source": [
    "df_raw = pd.read_json('../../data/tweets-996727069798264832.json'); df_raw.info()"
   ]
  },
  {
   "cell_type": "code",
   "execution_count": 6,
   "id": "68c4d154-1cdc-4266-927c-19f390a5bd64",
   "metadata": {},
   "outputs": [
    {
     "data": {
      "text/html": [
       "<div>\n",
       "<style scoped>\n",
       "    .dataframe tbody tr th:only-of-type {\n",
       "        vertical-align: middle;\n",
       "    }\n",
       "\n",
       "    .dataframe tbody tr th {\n",
       "        vertical-align: top;\n",
       "    }\n",
       "\n",
       "    .dataframe thead th {\n",
       "        text-align: right;\n",
       "    }\n",
       "</style>\n",
       "<table border=\"1\" class=\"dataframe\">\n",
       "  <thead>\n",
       "    <tr style=\"text-align: right;\">\n",
       "      <th></th>\n",
       "      <th>created_at</th>\n",
       "      <th>id</th>\n",
       "      <th>author_id</th>\n",
       "      <th>text</th>\n",
       "    </tr>\n",
       "  </thead>\n",
       "  <tbody>\n",
       "    <tr>\n",
       "      <th>0</th>\n",
       "      <td>2022-05-01 12:42:03+00:00</td>\n",
       "      <td>1520745362004262912</td>\n",
       "      <td>996727069798264832</td>\n",
       "      <td>@SouadH9 ptdrrr, c'est génial ça quand t'as la...</td>\n",
       "    </tr>\n",
       "    <tr>\n",
       "      <th>1</th>\n",
       "      <td>2022-05-01 12:02:51+00:00</td>\n",
       "      <td>1520735499601780736</td>\n",
       "      <td>996727069798264832</td>\n",
       "      <td>@lexfridman Seems like you remember of Cambrid...</td>\n",
       "    </tr>\n",
       "    <tr>\n",
       "      <th>2</th>\n",
       "      <td>2022-05-01 11:29:49+00:00</td>\n",
       "      <td>1520727184352108544</td>\n",
       "      <td>996727069798264832</td>\n",
       "      <td>@benjamincode Bon courage à toi, je suis entra...</td>\n",
       "    </tr>\n",
       "    <tr>\n",
       "      <th>3</th>\n",
       "      <td>2022-04-30 17:34:53+00:00</td>\n",
       "      <td>1520456670979276800</td>\n",
       "      <td>996727069798264832</td>\n",
       "      <td>@Pasdepression_ Je suis dans le marché ultra c...</td>\n",
       "    </tr>\n",
       "    <tr>\n",
       "      <th>4</th>\n",
       "      <td>2022-04-30 16:08:48+00:00</td>\n",
       "      <td>1520435006392483840</td>\n",
       "      <td>996727069798264832</td>\n",
       "      <td>@logiezer @OlivierReims @Console_buche @fchaba...</td>\n",
       "    </tr>\n",
       "    <tr>\n",
       "      <th>...</th>\n",
       "      <td>...</td>\n",
       "      <td>...</td>\n",
       "      <td>...</td>\n",
       "      <td>...</td>\n",
       "    </tr>\n",
       "    <tr>\n",
       "      <th>295</th>\n",
       "      <td>2020-08-03 07:08:26+00:00</td>\n",
       "      <td>1290182725299625984</td>\n",
       "      <td>996727069798264832</td>\n",
       "      <td>@Prathkum @GyenAbubakar Nope</td>\n",
       "    </tr>\n",
       "    <tr>\n",
       "      <th>296</th>\n",
       "      <td>2020-07-30 06:43:06+00:00</td>\n",
       "      <td>1288726796800864256</td>\n",
       "      <td>996727069798264832</td>\n",
       "      <td>@SchmiegSophie @__apf__ Maybe he just like pho...</td>\n",
       "    </tr>\n",
       "    <tr>\n",
       "      <th>297</th>\n",
       "      <td>2020-07-22 21:43:51+00:00</td>\n",
       "      <td>1286054375731978240</td>\n",
       "      <td>996727069798264832</td>\n",
       "      <td>@BKTrending @denicmarko Java, JS and HTML/CSS ...</td>\n",
       "    </tr>\n",
       "    <tr>\n",
       "      <th>298</th>\n",
       "      <td>2020-07-22 21:40:34+00:00</td>\n",
       "      <td>1286053550901125120</td>\n",
       "      <td>996727069798264832</td>\n",
       "      <td>@BKTrending @denicmarko There is no better lan...</td>\n",
       "    </tr>\n",
       "    <tr>\n",
       "      <th>299</th>\n",
       "      <td>2020-07-22 21:36:28+00:00</td>\n",
       "      <td>1286052516841562112</td>\n",
       "      <td>996727069798264832</td>\n",
       "      <td>@denicmarko You can also build a black hole if...</td>\n",
       "    </tr>\n",
       "  </tbody>\n",
       "</table>\n",
       "<p>300 rows × 4 columns</p>\n",
       "</div>"
      ],
      "text/plain": [
       "                   created_at                   id           author_id  \\\n",
       "0   2022-05-01 12:42:03+00:00  1520745362004262912  996727069798264832   \n",
       "1   2022-05-01 12:02:51+00:00  1520735499601780736  996727069798264832   \n",
       "2   2022-05-01 11:29:49+00:00  1520727184352108544  996727069798264832   \n",
       "3   2022-04-30 17:34:53+00:00  1520456670979276800  996727069798264832   \n",
       "4   2022-04-30 16:08:48+00:00  1520435006392483840  996727069798264832   \n",
       "..                        ...                  ...                 ...   \n",
       "295 2020-08-03 07:08:26+00:00  1290182725299625984  996727069798264832   \n",
       "296 2020-07-30 06:43:06+00:00  1288726796800864256  996727069798264832   \n",
       "297 2020-07-22 21:43:51+00:00  1286054375731978240  996727069798264832   \n",
       "298 2020-07-22 21:40:34+00:00  1286053550901125120  996727069798264832   \n",
       "299 2020-07-22 21:36:28+00:00  1286052516841562112  996727069798264832   \n",
       "\n",
       "                                                  text  \n",
       "0    @SouadH9 ptdrrr, c'est génial ça quand t'as la...  \n",
       "1    @lexfridman Seems like you remember of Cambrid...  \n",
       "2    @benjamincode Bon courage à toi, je suis entra...  \n",
       "3    @Pasdepression_ Je suis dans le marché ultra c...  \n",
       "4    @logiezer @OlivierReims @Console_buche @fchaba...  \n",
       "..                                                 ...  \n",
       "295                       @Prathkum @GyenAbubakar Nope  \n",
       "296  @SchmiegSophie @__apf__ Maybe he just like pho...  \n",
       "297  @BKTrending @denicmarko Java, JS and HTML/CSS ...  \n",
       "298  @BKTrending @denicmarko There is no better lan...  \n",
       "299  @denicmarko You can also build a black hole if...  \n",
       "\n",
       "[300 rows x 4 columns]"
      ]
     },
     "execution_count": 6,
     "metadata": {},
     "output_type": "execute_result"
    }
   ],
   "source": [
    "df_raw"
   ]
  },
  {
   "cell_type": "code",
   "execution_count": 7,
   "id": "b83c9be5-0d17-485a-be38-54e17e39cb66",
   "metadata": {},
   "outputs": [],
   "source": [
    "df_raw['text'] = df_raw['text'].apply(lambda f: f.lower())"
   ]
  },
  {
   "cell_type": "markdown",
   "id": "12c7cb5b-20cb-4a22-9ce0-d4fa6ffe3245",
   "metadata": {},
   "source": [
    "## Data processing"
   ]
  },
  {
   "cell_type": "markdown",
   "id": "edeec13d-5944-460f-bbbf-71ddc4a870e6",
   "metadata": {},
   "source": [
    "### Tokenization"
   ]
  },
  {
   "cell_type": "code",
   "execution_count": 8,
   "id": "26c1d5fd-e3b9-4bbd-9f15-6c70d7add479",
   "metadata": {},
   "outputs": [],
   "source": [
    "def processing_text_to_token(series):\n",
    "    token = []\n",
    "    for comment in series.apply(str):\n",
    "        Word_Tok = []\n",
    "        for word in  re.sub(\"\\W\",\" \",comment ).split():\n",
    "            Word_Tok.append(word)\n",
    "        token.append(Word_Tok)\n",
    "    return token"
   ]
  },
  {
   "cell_type": "code",
   "execution_count": 9,
   "id": "cdaaa29a-035d-4dbf-8978-ceabc401c3d7",
   "metadata": {},
   "outputs": [],
   "source": [
    "tokens = processing_text_to_token(df_raw['text'])"
   ]
  },
  {
   "cell_type": "code",
   "execution_count": 10,
   "id": "ad35aff7-11dd-4294-a73a-467b9ec57e31",
   "metadata": {},
   "outputs": [
    {
     "data": {
      "text/plain": [
       "[['souadh9',\n",
       "  'ptdrrr',\n",
       "  'c',\n",
       "  'est',\n",
       "  'génial',\n",
       "  'ça',\n",
       "  'quand',\n",
       "  't',\n",
       "  'as',\n",
       "  'la',\n",
       "  'connaissance',\n",
       "  'du',\n",
       "  'domaine',\n",
       "  'pour',\n",
       "  'mesurer',\n",
       "  'à',\n",
       "  'quel',\n",
       "  'point',\n",
       "  'c',\n",
       "  'est',\n",
       "  'faux',\n",
       "  'xd'],\n",
       " ['lexfridman',\n",
       "  'seems',\n",
       "  'like',\n",
       "  'you',\n",
       "  'remember',\n",
       "  'of',\n",
       "  'cambridge',\n",
       "  'analytica',\n",
       "  'and',\n",
       "  'the',\n",
       "  'power',\n",
       "  'tech',\n",
       "  'giant',\n",
       "  'have',\n",
       "  'am',\n",
       "  'i',\n",
       "  'right']]"
      ]
     },
     "execution_count": 10,
     "metadata": {},
     "output_type": "execute_result"
    }
   ],
   "source": [
    "tokens[:2]"
   ]
  },
  {
   "cell_type": "code",
   "execution_count": 11,
   "id": "939392a8-6b02-49b3-9953-fd5a8cd82136",
   "metadata": {},
   "outputs": [],
   "source": [
    "df_raw['token'] = tokens"
   ]
  },
  {
   "cell_type": "code",
   "execution_count": 12,
   "id": "deaf661a-d18c-4a97-a209-af9d11c1f0cf",
   "metadata": {},
   "outputs": [
    {
     "data": {
      "text/html": [
       "<div>\n",
       "<style scoped>\n",
       "    .dataframe tbody tr th:only-of-type {\n",
       "        vertical-align: middle;\n",
       "    }\n",
       "\n",
       "    .dataframe tbody tr th {\n",
       "        vertical-align: top;\n",
       "    }\n",
       "\n",
       "    .dataframe thead th {\n",
       "        text-align: right;\n",
       "    }\n",
       "</style>\n",
       "<table border=\"1\" class=\"dataframe\">\n",
       "  <thead>\n",
       "    <tr style=\"text-align: right;\">\n",
       "      <th></th>\n",
       "      <th>created_at</th>\n",
       "      <th>id</th>\n",
       "      <th>author_id</th>\n",
       "      <th>text</th>\n",
       "      <th>token</th>\n",
       "    </tr>\n",
       "  </thead>\n",
       "  <tbody>\n",
       "    <tr>\n",
       "      <th>0</th>\n",
       "      <td>2022-05-01 12:42:03+00:00</td>\n",
       "      <td>1520745362004262912</td>\n",
       "      <td>996727069798264832</td>\n",
       "      <td>@souadh9 ptdrrr, c'est génial ça quand t'as la...</td>\n",
       "      <td>[souadh9, ptdrrr, c, est, génial, ça, quand, t...</td>\n",
       "    </tr>\n",
       "    <tr>\n",
       "      <th>1</th>\n",
       "      <td>2022-05-01 12:02:51+00:00</td>\n",
       "      <td>1520735499601780736</td>\n",
       "      <td>996727069798264832</td>\n",
       "      <td>@lexfridman seems like you remember of cambrid...</td>\n",
       "      <td>[lexfridman, seems, like, you, remember, of, c...</td>\n",
       "    </tr>\n",
       "    <tr>\n",
       "      <th>2</th>\n",
       "      <td>2022-05-01 11:29:49+00:00</td>\n",
       "      <td>1520727184352108544</td>\n",
       "      <td>996727069798264832</td>\n",
       "      <td>@benjamincode bon courage à toi, je suis entra...</td>\n",
       "      <td>[benjamincode, bon, courage, à, toi, je, suis,...</td>\n",
       "    </tr>\n",
       "    <tr>\n",
       "      <th>3</th>\n",
       "      <td>2022-04-30 17:34:53+00:00</td>\n",
       "      <td>1520456670979276800</td>\n",
       "      <td>996727069798264832</td>\n",
       "      <td>@pasdepression_ je suis dans le marché ultra c...</td>\n",
       "      <td>[pasdepression_, je, suis, dans, le, marché, u...</td>\n",
       "    </tr>\n",
       "    <tr>\n",
       "      <th>4</th>\n",
       "      <td>2022-04-30 16:08:48+00:00</td>\n",
       "      <td>1520435006392483840</td>\n",
       "      <td>996727069798264832</td>\n",
       "      <td>@logiezer @olivierreims @console_buche @fchaba...</td>\n",
       "      <td>[logiezer, olivierreims, console_buche, fchaba...</td>\n",
       "    </tr>\n",
       "    <tr>\n",
       "      <th>...</th>\n",
       "      <td>...</td>\n",
       "      <td>...</td>\n",
       "      <td>...</td>\n",
       "      <td>...</td>\n",
       "      <td>...</td>\n",
       "    </tr>\n",
       "    <tr>\n",
       "      <th>295</th>\n",
       "      <td>2020-08-03 07:08:26+00:00</td>\n",
       "      <td>1290182725299625984</td>\n",
       "      <td>996727069798264832</td>\n",
       "      <td>@prathkum @gyenabubakar nope</td>\n",
       "      <td>[prathkum, gyenabubakar, nope]</td>\n",
       "    </tr>\n",
       "    <tr>\n",
       "      <th>296</th>\n",
       "      <td>2020-07-30 06:43:06+00:00</td>\n",
       "      <td>1288726796800864256</td>\n",
       "      <td>996727069798264832</td>\n",
       "      <td>@schmiegsophie @__apf__ maybe he just like pho...</td>\n",
       "      <td>[schmiegsophie, __apf__, maybe, he, just, like...</td>\n",
       "    </tr>\n",
       "    <tr>\n",
       "      <th>297</th>\n",
       "      <td>2020-07-22 21:43:51+00:00</td>\n",
       "      <td>1286054375731978240</td>\n",
       "      <td>996727069798264832</td>\n",
       "      <td>@bktrending @denicmarko java, js and html/css ...</td>\n",
       "      <td>[bktrending, denicmarko, java, js, and, html, ...</td>\n",
       "    </tr>\n",
       "    <tr>\n",
       "      <th>298</th>\n",
       "      <td>2020-07-22 21:40:34+00:00</td>\n",
       "      <td>1286053550901125120</td>\n",
       "      <td>996727069798264832</td>\n",
       "      <td>@bktrending @denicmarko there is no better lan...</td>\n",
       "      <td>[bktrending, denicmarko, there, is, no, better...</td>\n",
       "    </tr>\n",
       "    <tr>\n",
       "      <th>299</th>\n",
       "      <td>2020-07-22 21:36:28+00:00</td>\n",
       "      <td>1286052516841562112</td>\n",
       "      <td>996727069798264832</td>\n",
       "      <td>@denicmarko you can also build a black hole if...</td>\n",
       "      <td>[denicmarko, you, can, also, build, a, black, ...</td>\n",
       "    </tr>\n",
       "  </tbody>\n",
       "</table>\n",
       "<p>300 rows × 5 columns</p>\n",
       "</div>"
      ],
      "text/plain": [
       "                   created_at                   id           author_id  \\\n",
       "0   2022-05-01 12:42:03+00:00  1520745362004262912  996727069798264832   \n",
       "1   2022-05-01 12:02:51+00:00  1520735499601780736  996727069798264832   \n",
       "2   2022-05-01 11:29:49+00:00  1520727184352108544  996727069798264832   \n",
       "3   2022-04-30 17:34:53+00:00  1520456670979276800  996727069798264832   \n",
       "4   2022-04-30 16:08:48+00:00  1520435006392483840  996727069798264832   \n",
       "..                        ...                  ...                 ...   \n",
       "295 2020-08-03 07:08:26+00:00  1290182725299625984  996727069798264832   \n",
       "296 2020-07-30 06:43:06+00:00  1288726796800864256  996727069798264832   \n",
       "297 2020-07-22 21:43:51+00:00  1286054375731978240  996727069798264832   \n",
       "298 2020-07-22 21:40:34+00:00  1286053550901125120  996727069798264832   \n",
       "299 2020-07-22 21:36:28+00:00  1286052516841562112  996727069798264832   \n",
       "\n",
       "                                                  text  \\\n",
       "0    @souadh9 ptdrrr, c'est génial ça quand t'as la...   \n",
       "1    @lexfridman seems like you remember of cambrid...   \n",
       "2    @benjamincode bon courage à toi, je suis entra...   \n",
       "3    @pasdepression_ je suis dans le marché ultra c...   \n",
       "4    @logiezer @olivierreims @console_buche @fchaba...   \n",
       "..                                                 ...   \n",
       "295                       @prathkum @gyenabubakar nope   \n",
       "296  @schmiegsophie @__apf__ maybe he just like pho...   \n",
       "297  @bktrending @denicmarko java, js and html/css ...   \n",
       "298  @bktrending @denicmarko there is no better lan...   \n",
       "299  @denicmarko you can also build a black hole if...   \n",
       "\n",
       "                                                 token  \n",
       "0    [souadh9, ptdrrr, c, est, génial, ça, quand, t...  \n",
       "1    [lexfridman, seems, like, you, remember, of, c...  \n",
       "2    [benjamincode, bon, courage, à, toi, je, suis,...  \n",
       "3    [pasdepression_, je, suis, dans, le, marché, u...  \n",
       "4    [logiezer, olivierreims, console_buche, fchaba...  \n",
       "..                                                 ...  \n",
       "295                     [prathkum, gyenabubakar, nope]  \n",
       "296  [schmiegsophie, __apf__, maybe, he, just, like...  \n",
       "297  [bktrending, denicmarko, java, js, and, html, ...  \n",
       "298  [bktrending, denicmarko, there, is, no, better...  \n",
       "299  [denicmarko, you, can, also, build, a, black, ...  \n",
       "\n",
       "[300 rows x 5 columns]"
      ]
     },
     "execution_count": 12,
     "metadata": {},
     "output_type": "execute_result"
    }
   ],
   "source": [
    "df_raw"
   ]
  },
  {
   "cell_type": "markdown",
   "id": "f249ee42-8f56-45cc-9925-8a6e55ccffab",
   "metadata": {},
   "source": [
    "### Vocabulary"
   ]
  },
  {
   "cell_type": "code",
   "execution_count": 13,
   "id": "60bdce02-f41f-44dc-a739-2b6ccd519f49",
   "metadata": {},
   "outputs": [],
   "source": [
    "stop_words=set(STOP_WORDS_FR)"
   ]
  },
  {
   "cell_type": "code",
   "execution_count": 14,
   "id": "f9de6eae-a228-4de9-92f8-9137e6c83d66",
   "metadata": {},
   "outputs": [],
   "source": [
    "WORDS_FR_TO_REMOVE = set(['qu', 'faire', 'faut', 'ans'])\n",
    "stop_words.update(WORDS_FR_TO_REMOVE)"
   ]
  },
  {
   "cell_type": "code",
   "execution_count": 15,
   "id": "29b8013a-efc7-466d-9fb7-8ec343fc2ad4",
   "metadata": {},
   "outputs": [
    {
     "data": {
      "text/plain": [
       "511"
      ]
     },
     "execution_count": 15,
     "metadata": {},
     "output_type": "execute_result"
    }
   ],
   "source": [
    "len(stop_words)"
   ]
  },
  {
   "cell_type": "code",
   "execution_count": 16,
   "id": "72a9545d-eebb-48d9-ba0a-069a1d6cd310",
   "metadata": {},
   "outputs": [],
   "source": [
    "stop_words.update(STOP_WORDS_EN)"
   ]
  },
  {
   "cell_type": "code",
   "execution_count": 17,
   "id": "6251252a-5198-4585-8630-1b681ed0d0ca",
   "metadata": {},
   "outputs": [
    {
     "data": {
      "text/plain": [
       "829"
      ]
     },
     "execution_count": 17,
     "metadata": {},
     "output_type": "execute_result"
    }
   ],
   "source": [
    "len(stop_words)"
   ]
  },
  {
   "cell_type": "code",
   "execution_count": 18,
   "id": "f5255af1-3274-4b50-b6f3-9addb8cc44a2",
   "metadata": {},
   "outputs": [],
   "source": [
    "def filtering_series(series):\n",
    "    AllfilteredText=[]\n",
    "    for text in series:\n",
    "        filteredText = [w for w in text if not ((w in stop_words) or (len(w) == 1))]\n",
    "        AllfilteredText.append(' '.join(filteredText))\n",
    "    return AllfilteredText"
   ]
  },
  {
   "cell_type": "code",
   "execution_count": 19,
   "id": "5bd0a5a0-c434-474c-a7ff-8043d28c331b",
   "metadata": {},
   "outputs": [],
   "source": [
    "text_processed = filtering_series(df_raw['token'])"
   ]
  },
  {
   "cell_type": "code",
   "execution_count": 20,
   "id": "6859d530-b7b8-44e3-a4b7-f2390739b6ff",
   "metadata": {},
   "outputs": [
    {
     "data": {
      "text/plain": [
       "['souadh9 ptdrrr génial connaissance domaine mesurer point faux xd',\n",
       " 'lexfridman like remember cambridge analytica power tech giant right']"
      ]
     },
     "execution_count": 20,
     "metadata": {},
     "output_type": "execute_result"
    }
   ],
   "source": [
    "text_processed[:2]"
   ]
  },
  {
   "cell_type": "code",
   "execution_count": 21,
   "id": "e7853230-546e-49fc-a454-fdf61ead9760",
   "metadata": {},
   "outputs": [],
   "source": [
    "df_raw['text_processed'] = text_processed"
   ]
  },
  {
   "cell_type": "code",
   "execution_count": null,
   "id": "df003809-5498-4ec0-a2b5-19c00a4a8de8",
   "metadata": {},
   "outputs": [],
   "source": []
  },
  {
   "cell_type": "markdown",
   "id": "01e971e8-ad19-49b8-985f-4494908fbc86",
   "metadata": {},
   "source": [
    "## Model inference & analysis"
   ]
  },
  {
   "cell_type": "code",
   "execution_count": 22,
   "id": "6329a32d-65c5-4fae-b39b-7d7dc11eb190",
   "metadata": {},
   "outputs": [],
   "source": [
    "def generate_sentiment(df, series_key):\n",
    "    tb = Blobber(pos_tagger=PatternTagger(), analyzer=PatternAnalyzer())\n",
    "    sentiment_list = []\n",
    "    polarity_list = []\n",
    "    sentiment_type = []\n",
    "    polarity_type = []\n",
    "    \n",
    "    for i in df[series_key]:\n",
    "        sentiment = tb(i).sentiment[0]\n",
    "        polarity = tb(i).sentiment[1]\n",
    "            \n",
    "        if (sentiment > .2): \n",
    "            sentiment_type.append('Positive')\n",
    "        elif (sentiment < -.2): \n",
    "            sentiment_type.append('Negative')\n",
    "        else:\n",
    "            sentiment_type.append('Neutral')\n",
    "        \n",
    "        if (polarity > .8): \n",
    "            polarity_type.append('Subjective')\n",
    "        elif (polarity < .2): \n",
    "            polarity_type.append('Objective')\n",
    "        else:\n",
    "            polarity_type.append('Neutral')\n",
    "\n",
    "        sentiment_list.append(sentiment)\n",
    "        polarity_list.append(polarity)\n",
    "\n",
    "    df['sentiment'] = sentiment_list\n",
    "    df['sentiment_type'] = sentiment_type\n",
    "    df['polarity'] = polarity\n",
    "    df['polarity_type'] = polarity_type\n",
    "        \n",
    "    return df"
   ]
  },
  {
   "cell_type": "code",
   "execution_count": 23,
   "id": "a9b91d67-4d52-40e2-b110-51802b1b0cee",
   "metadata": {},
   "outputs": [],
   "source": [
    "df_sentiment = generate_sentiment(df_raw, 'text_processed')"
   ]
  },
  {
   "cell_type": "code",
   "execution_count": 24,
   "id": "3a0748d5-89a2-4462-aeea-b107f12d84b6",
   "metadata": {},
   "outputs": [
    {
     "data": {
      "text/html": [
       "<div>\n",
       "<style scoped>\n",
       "    .dataframe tbody tr th:only-of-type {\n",
       "        vertical-align: middle;\n",
       "    }\n",
       "\n",
       "    .dataframe tbody tr th {\n",
       "        vertical-align: top;\n",
       "    }\n",
       "\n",
       "    .dataframe thead th {\n",
       "        text-align: right;\n",
       "    }\n",
       "</style>\n",
       "<table border=\"1\" class=\"dataframe\">\n",
       "  <thead>\n",
       "    <tr style=\"text-align: right;\">\n",
       "      <th></th>\n",
       "      <th>created_at</th>\n",
       "      <th>id</th>\n",
       "      <th>author_id</th>\n",
       "      <th>text</th>\n",
       "      <th>token</th>\n",
       "      <th>text_processed</th>\n",
       "      <th>sentiment</th>\n",
       "      <th>sentiment_type</th>\n",
       "      <th>polarity</th>\n",
       "      <th>polarity_type</th>\n",
       "    </tr>\n",
       "  </thead>\n",
       "  <tbody>\n",
       "    <tr>\n",
       "      <th>0</th>\n",
       "      <td>2022-05-01 12:42:03+00:00</td>\n",
       "      <td>1520745362004262912</td>\n",
       "      <td>996727069798264832</td>\n",
       "      <td>@souadh9 ptdrrr, c'est génial ça quand t'as la...</td>\n",
       "      <td>[souadh9, ptdrrr, c, est, génial, ça, quand, t...</td>\n",
       "      <td>souadh9 ptdrrr génial connaissance domaine mes...</td>\n",
       "      <td>0.200000</td>\n",
       "      <td>Neutral</td>\n",
       "      <td>0.0</td>\n",
       "      <td>Neutral</td>\n",
       "    </tr>\n",
       "    <tr>\n",
       "      <th>1</th>\n",
       "      <td>2022-05-01 12:02:51+00:00</td>\n",
       "      <td>1520735499601780736</td>\n",
       "      <td>996727069798264832</td>\n",
       "      <td>@lexfridman seems like you remember of cambrid...</td>\n",
       "      <td>[lexfridman, seems, like, you, remember, of, c...</td>\n",
       "      <td>lexfridman like remember cambridge analytica p...</td>\n",
       "      <td>0.000000</td>\n",
       "      <td>Neutral</td>\n",
       "      <td>0.0</td>\n",
       "      <td>Objective</td>\n",
       "    </tr>\n",
       "    <tr>\n",
       "      <th>2</th>\n",
       "      <td>2022-05-01 11:29:49+00:00</td>\n",
       "      <td>1520727184352108544</td>\n",
       "      <td>996727069798264832</td>\n",
       "      <td>@benjamincode bon courage à toi, je suis entra...</td>\n",
       "      <td>[benjamincode, bon, courage, à, toi, je, suis,...</td>\n",
       "      <td>benjamincode bon courage entrain remplir sac d...</td>\n",
       "      <td>0.700000</td>\n",
       "      <td>Positive</td>\n",
       "      <td>0.0</td>\n",
       "      <td>Neutral</td>\n",
       "    </tr>\n",
       "    <tr>\n",
       "      <th>3</th>\n",
       "      <td>2022-04-30 17:34:53+00:00</td>\n",
       "      <td>1520456670979276800</td>\n",
       "      <td>996727069798264832</td>\n",
       "      <td>@pasdepression_ je suis dans le marché ultra c...</td>\n",
       "      <td>[pasdepression_, je, suis, dans, le, marché, u...</td>\n",
       "      <td>pasdepression_ marché ultra compétitif data sc...</td>\n",
       "      <td>0.100000</td>\n",
       "      <td>Neutral</td>\n",
       "      <td>0.0</td>\n",
       "      <td>Objective</td>\n",
       "    </tr>\n",
       "    <tr>\n",
       "      <th>4</th>\n",
       "      <td>2022-04-30 16:08:48+00:00</td>\n",
       "      <td>1520435006392483840</td>\n",
       "      <td>996727069798264832</td>\n",
       "      <td>@logiezer @olivierreims @console_buche @fchaba...</td>\n",
       "      <td>[logiezer, olivierreims, console_buche, fchaba...</td>\n",
       "      <td>logiezer olivierreims console_buche fchabanois...</td>\n",
       "      <td>-0.116667</td>\n",
       "      <td>Neutral</td>\n",
       "      <td>0.0</td>\n",
       "      <td>Neutral</td>\n",
       "    </tr>\n",
       "    <tr>\n",
       "      <th>...</th>\n",
       "      <td>...</td>\n",
       "      <td>...</td>\n",
       "      <td>...</td>\n",
       "      <td>...</td>\n",
       "      <td>...</td>\n",
       "      <td>...</td>\n",
       "      <td>...</td>\n",
       "      <td>...</td>\n",
       "      <td>...</td>\n",
       "      <td>...</td>\n",
       "    </tr>\n",
       "    <tr>\n",
       "      <th>295</th>\n",
       "      <td>2020-08-03 07:08:26+00:00</td>\n",
       "      <td>1290182725299625984</td>\n",
       "      <td>996727069798264832</td>\n",
       "      <td>@prathkum @gyenabubakar nope</td>\n",
       "      <td>[prathkum, gyenabubakar, nope]</td>\n",
       "      <td>prathkum gyenabubakar nope</td>\n",
       "      <td>0.000000</td>\n",
       "      <td>Neutral</td>\n",
       "      <td>0.0</td>\n",
       "      <td>Objective</td>\n",
       "    </tr>\n",
       "    <tr>\n",
       "      <th>296</th>\n",
       "      <td>2020-07-30 06:43:06+00:00</td>\n",
       "      <td>1288726796800864256</td>\n",
       "      <td>996727069798264832</td>\n",
       "      <td>@schmiegsophie @__apf__ maybe he just like pho...</td>\n",
       "      <td>[schmiegsophie, __apf__, maybe, he, just, like...</td>\n",
       "      <td>schmiegsophie __apf__ maybe like photography</td>\n",
       "      <td>0.000000</td>\n",
       "      <td>Neutral</td>\n",
       "      <td>0.0</td>\n",
       "      <td>Objective</td>\n",
       "    </tr>\n",
       "    <tr>\n",
       "      <th>297</th>\n",
       "      <td>2020-07-22 21:43:51+00:00</td>\n",
       "      <td>1286054375731978240</td>\n",
       "      <td>996727069798264832</td>\n",
       "      <td>@bktrending @denicmarko java, js and html/css ...</td>\n",
       "      <td>[bktrending, denicmarko, java, js, and, html, ...</td>\n",
       "      <td>bktrending denicmarko java js html css job cpp...</td>\n",
       "      <td>0.000000</td>\n",
       "      <td>Neutral</td>\n",
       "      <td>0.0</td>\n",
       "      <td>Objective</td>\n",
       "    </tr>\n",
       "    <tr>\n",
       "      <th>298</th>\n",
       "      <td>2020-07-22 21:40:34+00:00</td>\n",
       "      <td>1286053550901125120</td>\n",
       "      <td>996727069798264832</td>\n",
       "      <td>@bktrending @denicmarko there is no better lan...</td>\n",
       "      <td>[bktrending, denicmarko, there, is, no, better...</td>\n",
       "      <td>bktrending denicmarko better language tools de...</td>\n",
       "      <td>0.000000</td>\n",
       "      <td>Neutral</td>\n",
       "      <td>0.0</td>\n",
       "      <td>Objective</td>\n",
       "    </tr>\n",
       "    <tr>\n",
       "      <th>299</th>\n",
       "      <td>2020-07-22 21:36:28+00:00</td>\n",
       "      <td>1286052516841562112</td>\n",
       "      <td>996727069798264832</td>\n",
       "      <td>@denicmarko you can also build a black hole if...</td>\n",
       "      <td>[denicmarko, you, can, also, build, a, black, ...</td>\n",
       "      <td>denicmarko build black hole use npm sshhh</td>\n",
       "      <td>0.000000</td>\n",
       "      <td>Neutral</td>\n",
       "      <td>0.0</td>\n",
       "      <td>Objective</td>\n",
       "    </tr>\n",
       "  </tbody>\n",
       "</table>\n",
       "<p>300 rows × 10 columns</p>\n",
       "</div>"
      ],
      "text/plain": [
       "                   created_at                   id           author_id  \\\n",
       "0   2022-05-01 12:42:03+00:00  1520745362004262912  996727069798264832   \n",
       "1   2022-05-01 12:02:51+00:00  1520735499601780736  996727069798264832   \n",
       "2   2022-05-01 11:29:49+00:00  1520727184352108544  996727069798264832   \n",
       "3   2022-04-30 17:34:53+00:00  1520456670979276800  996727069798264832   \n",
       "4   2022-04-30 16:08:48+00:00  1520435006392483840  996727069798264832   \n",
       "..                        ...                  ...                 ...   \n",
       "295 2020-08-03 07:08:26+00:00  1290182725299625984  996727069798264832   \n",
       "296 2020-07-30 06:43:06+00:00  1288726796800864256  996727069798264832   \n",
       "297 2020-07-22 21:43:51+00:00  1286054375731978240  996727069798264832   \n",
       "298 2020-07-22 21:40:34+00:00  1286053550901125120  996727069798264832   \n",
       "299 2020-07-22 21:36:28+00:00  1286052516841562112  996727069798264832   \n",
       "\n",
       "                                                  text  \\\n",
       "0    @souadh9 ptdrrr, c'est génial ça quand t'as la...   \n",
       "1    @lexfridman seems like you remember of cambrid...   \n",
       "2    @benjamincode bon courage à toi, je suis entra...   \n",
       "3    @pasdepression_ je suis dans le marché ultra c...   \n",
       "4    @logiezer @olivierreims @console_buche @fchaba...   \n",
       "..                                                 ...   \n",
       "295                       @prathkum @gyenabubakar nope   \n",
       "296  @schmiegsophie @__apf__ maybe he just like pho...   \n",
       "297  @bktrending @denicmarko java, js and html/css ...   \n",
       "298  @bktrending @denicmarko there is no better lan...   \n",
       "299  @denicmarko you can also build a black hole if...   \n",
       "\n",
       "                                                 token  \\\n",
       "0    [souadh9, ptdrrr, c, est, génial, ça, quand, t...   \n",
       "1    [lexfridman, seems, like, you, remember, of, c...   \n",
       "2    [benjamincode, bon, courage, à, toi, je, suis,...   \n",
       "3    [pasdepression_, je, suis, dans, le, marché, u...   \n",
       "4    [logiezer, olivierreims, console_buche, fchaba...   \n",
       "..                                                 ...   \n",
       "295                     [prathkum, gyenabubakar, nope]   \n",
       "296  [schmiegsophie, __apf__, maybe, he, just, like...   \n",
       "297  [bktrending, denicmarko, java, js, and, html, ...   \n",
       "298  [bktrending, denicmarko, there, is, no, better...   \n",
       "299  [denicmarko, you, can, also, build, a, black, ...   \n",
       "\n",
       "                                        text_processed  sentiment  \\\n",
       "0    souadh9 ptdrrr génial connaissance domaine mes...   0.200000   \n",
       "1    lexfridman like remember cambridge analytica p...   0.000000   \n",
       "2    benjamincode bon courage entrain remplir sac d...   0.700000   \n",
       "3    pasdepression_ marché ultra compétitif data sc...   0.100000   \n",
       "4    logiezer olivierreims console_buche fchabanois...  -0.116667   \n",
       "..                                                 ...        ...   \n",
       "295                         prathkum gyenabubakar nope   0.000000   \n",
       "296       schmiegsophie __apf__ maybe like photography   0.000000   \n",
       "297  bktrending denicmarko java js html css job cpp...   0.000000   \n",
       "298  bktrending denicmarko better language tools de...   0.000000   \n",
       "299          denicmarko build black hole use npm sshhh   0.000000   \n",
       "\n",
       "    sentiment_type  polarity polarity_type  \n",
       "0          Neutral       0.0       Neutral  \n",
       "1          Neutral       0.0     Objective  \n",
       "2         Positive       0.0       Neutral  \n",
       "3          Neutral       0.0     Objective  \n",
       "4          Neutral       0.0       Neutral  \n",
       "..             ...       ...           ...  \n",
       "295        Neutral       0.0     Objective  \n",
       "296        Neutral       0.0     Objective  \n",
       "297        Neutral       0.0     Objective  \n",
       "298        Neutral       0.0     Objective  \n",
       "299        Neutral       0.0     Objective  \n",
       "\n",
       "[300 rows x 10 columns]"
      ]
     },
     "execution_count": 24,
     "metadata": {},
     "output_type": "execute_result"
    }
   ],
   "source": [
    "df_sentiment"
   ]
  },
  {
   "cell_type": "code",
   "execution_count": 25,
   "id": "55e620fc-71b4-4cc8-bdad-79dc486f3829",
   "metadata": {},
   "outputs": [
    {
     "data": {
      "text/plain": [
       "0        Neutral\n",
       "1      Objective\n",
       "2        Neutral\n",
       "3      Objective\n",
       "4        Neutral\n",
       "         ...    \n",
       "295    Objective\n",
       "296    Objective\n",
       "297    Objective\n",
       "298    Objective\n",
       "299    Objective\n",
       "Name: polarity_type, Length: 300, dtype: object"
      ]
     },
     "execution_count": 25,
     "metadata": {},
     "output_type": "execute_result"
    }
   ],
   "source": [
    "df_sentiment.polarity_type"
   ]
  },
  {
   "cell_type": "code",
   "execution_count": null,
   "id": "89817a82-006c-4c33-82a1-6850a1947ae0",
   "metadata": {},
   "outputs": [],
   "source": []
  },
  {
   "cell_type": "code",
   "execution_count": 26,
   "id": "83b2d80b-1562-44ef-a650-6279dc926a53",
   "metadata": {},
   "outputs": [],
   "source": [
    "def get_lang_detector(nlp, name):\n",
    "    return LanguageDetector()\n",
    "\n",
    "def setup_spacy(nlp):\n",
    "    Language.factory(\"language_detector\", func=get_lang_detector)\n",
    "    nlp.add_pipe('language_detector', last=True)\n",
    "    \n",
    "def get_current_language(text):    \n",
    "    doc = nlp(text)\n",
    "    # print(doc._.language)\n",
    "    if doc._.language['score'] > .85:\n",
    "        return doc._.language['language']\n",
    "    else:\n",
    "        return 'multiple'"
   ]
  },
  {
   "cell_type": "code",
   "execution_count": 27,
   "id": "359901e0-8c58-48cc-b49e-1064d72f4029",
   "metadata": {},
   "outputs": [],
   "source": [
    "setup_spacy(nlp)"
   ]
  },
  {
   "cell_type": "code",
   "execution_count": 28,
   "id": "9dd6c073-df31-409c-bbb5-2fa7d5f6454d",
   "metadata": {},
   "outputs": [],
   "source": [
    "df_sentiment['language'] = df_sentiment.text_processed.apply(lambda f: get_current_language(f))"
   ]
  },
  {
   "cell_type": "code",
   "execution_count": 29,
   "id": "5c62636f-065f-46bd-b9ca-6ded1e60a8ad",
   "metadata": {},
   "outputs": [
    {
     "data": {
      "text/plain": [
       "fr          166\n",
       "en           77\n",
       "multiple     37\n",
       "af            4\n",
       "it            2\n",
       "es            2\n",
       "ca            2\n",
       "sv            1\n",
       "so            1\n",
       "hu            1\n",
       "fi            1\n",
       "nl            1\n",
       "sl            1\n",
       "cy            1\n",
       "tr            1\n",
       "da            1\n",
       "ro            1\n",
       "Name: language, dtype: int64"
      ]
     },
     "execution_count": 29,
     "metadata": {},
     "output_type": "execute_result"
    }
   ],
   "source": [
    "df_sentiment.language.value_counts()"
   ]
  },
  {
   "cell_type": "code",
   "execution_count": null,
   "id": "3b828fed-c7dc-4ff5-82a2-1af8d1c42b49",
   "metadata": {},
   "outputs": [],
   "source": []
  }
 ],
 "metadata": {
  "kernelspec": {
   "display_name": "Python 3 (ipykernel)",
   "language": "python",
   "name": "python3"
  },
  "language_info": {
   "codemirror_mode": {
    "name": "ipython",
    "version": 3
   },
   "file_extension": ".py",
   "mimetype": "text/x-python",
   "name": "python",
   "nbconvert_exporter": "python",
   "pygments_lexer": "ipython3",
   "version": "3.10.4"
  }
 },
 "nbformat": 4,
 "nbformat_minor": 5
}
