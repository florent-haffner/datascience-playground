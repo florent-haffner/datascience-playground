{
 "cells": [
  {
   "cell_type": "code",
   "execution_count": 1,
   "metadata": {},
   "outputs": [],
   "source": [
    "import numpy as np \n",
    "np.set_printoptions(threshold=10000,suppress=True) \n",
    "import pandas as pd\n",
    "import warnings\n",
    "import matplotlib.pyplot as plt \n",
    "warnings.filterwarnings('ignore')"
   ]
  },
  {
   "cell_type": "code",
   "execution_count": 2,
   "metadata": {},
   "outputs": [],
   "source": [
    "from sklearn.neighbors import KNeighborsClassifier\n",
    "from sklearn.ensemble import RandomForestClassifier,BaggingClassifier,AdaBoostClassifier,ExtraTreesClassifier\n",
    "from sklearn.tree import DecisionTreeClassifier\n",
    "from sklearn.neural_network import MLPClassifier\n",
    "from sklearn.model_selection import KFold,cross_val_score\n",
    "import time\n",
    "import xgboost as xgb\n",
    "from sklearn.preprocessing import StandardScaler\n",
    "\n",
    "clfs = {\n",
    "    'RF': RandomForestClassifier(n_estimators=100, random_state=1), \n",
    "    'ADA': AdaBoostClassifier(n_estimators=100,random_state=1),\n",
    "    'ET': ExtraTreesClassifier(n_estimators=100,random_state=1),\n",
    "    'KNN': KNeighborsClassifier(n_neighbors=5),\n",
    "    'MLP': MLPClassifier(hidden_layer_sizes=(20,10),random_state=1),\n",
    "    'XGB': xgb.XGBClassifier(n_estimators=100,random_state=1,objective='reg:logistic',\n",
    "                             colsample_bytree=0.95,max_depth=4,verbosity=0)\n",
    "\n",
    "\n",
    "}\n",
    "\n",
    "def run_classifieurs(X,Y,clfs):\n",
    "    kf = KFold(n_splits=10, shuffle=True, random_state=1) \n",
    "    for i in clfs:\n",
    "        clf = clfs[i]\n",
    "        debut=time.time()\n",
    "        cv_acc = cross_val_score(clf, X, Y, cv=kf,scoring='accuracy')\n",
    "        fin=time.time()\n",
    "        print(\"Accuracy for {0} is: {1:.3f} +/- {2:.3f} en {3:.3f}s\".format(i,\n",
    "                                                                            np.mean(cv_acc),\n",
    "                                                                            np.std(cv_acc),fin-debut))"
   ]
  },
  {
   "cell_type": "markdown",
   "metadata": {},
   "source": [
    "## Dataset SMS"
   ]
  },
  {
   "cell_type": "code",
   "execution_count": 3,
   "metadata": {},
   "outputs": [],
   "source": [
    "datasms=pd.read_csv('../../TP/TPAS/SMSSpamCollection.data',sep='\\t',header=None)"
   ]
  },
  {
   "cell_type": "code",
   "execution_count": 4,
   "metadata": {},
   "outputs": [
    {
     "data": {
      "text/html": [
       "<div>\n",
       "<style scoped>\n",
       "    .dataframe tbody tr th:only-of-type {\n",
       "        vertical-align: middle;\n",
       "    }\n",
       "\n",
       "    .dataframe tbody tr th {\n",
       "        vertical-align: top;\n",
       "    }\n",
       "\n",
       "    .dataframe thead th {\n",
       "        text-align: right;\n",
       "    }\n",
       "</style>\n",
       "<table border=\"1\" class=\"dataframe\">\n",
       "  <thead>\n",
       "    <tr style=\"text-align: right;\">\n",
       "      <th></th>\n",
       "      <th>0</th>\n",
       "      <th>1</th>\n",
       "    </tr>\n",
       "  </thead>\n",
       "  <tbody>\n",
       "    <tr>\n",
       "      <th>0</th>\n",
       "      <td>ham</td>\n",
       "      <td>Go until jurong point, crazy.. Available only ...</td>\n",
       "    </tr>\n",
       "    <tr>\n",
       "      <th>1</th>\n",
       "      <td>ham</td>\n",
       "      <td>Ok lar... Joking wif u oni...</td>\n",
       "    </tr>\n",
       "    <tr>\n",
       "      <th>2</th>\n",
       "      <td>spam</td>\n",
       "      <td>Free entry in 2 a wkly comp to win FA Cup fina...</td>\n",
       "    </tr>\n",
       "  </tbody>\n",
       "</table>\n",
       "</div>"
      ],
      "text/plain": [
       "      0                                                  1\n",
       "0   ham  Go until jurong point, crazy.. Available only ...\n",
       "1   ham                      Ok lar... Joking wif u oni...\n",
       "2  spam  Free entry in 2 a wkly comp to win FA Cup fina..."
      ]
     },
     "execution_count": 4,
     "metadata": {},
     "output_type": "execute_result"
    }
   ],
   "source": [
    "datasms.head(3)"
   ]
  },
  {
   "cell_type": "code",
   "execution_count": 5,
   "metadata": {},
   "outputs": [],
   "source": [
    "Y=datasms.iloc[:,0].values\n",
    "corpus=datasms.iloc[:,1].values\n",
    "Y[Y=='spam']=1\n",
    "Y[Y=='ham']=0\n",
    "Y=Y.astype(int)"
   ]
  },
  {
   "cell_type": "code",
   "execution_count": 6,
   "metadata": {},
   "outputs": [
    {
     "name": "stdout",
     "output_type": "stream",
     "text": [
      "Ham = 4825 et Spam = 747\n"
     ]
    }
   ],
   "source": [
    "nbham=np.sum(Y==0)\n",
    "nbspam=np.sum(Y==1)\n",
    "print('Ham = {0:d} et Spam = {1:d}'.format(nbham,nbspam))"
   ]
  },
  {
   "cell_type": "markdown",
   "metadata": {},
   "source": [
    "## CountVectorizer : création de la matrice de co-occurence"
   ]
  },
  {
   "cell_type": "code",
   "execution_count": 7,
   "metadata": {},
   "outputs": [],
   "source": [
    "# from sklearn.feature_extraction import stop_words\n",
    "from sklearn.feature_extraction.text import CountVectorizer\n",
    "from sklearn.feature_extraction.text import ENGLISH_STOP_WORDS"
   ]
  },
  {
   "cell_type": "code",
   "execution_count": 8,
   "metadata": {},
   "outputs": [],
   "source": [
    "CV=CountVectorizer(max_features=300,stop_words='english')\n",
    "CV.fit(corpus)\n",
    "X=CV.transform(corpus)"
   ]
  },
  {
   "cell_type": "code",
   "execution_count": 9,
   "metadata": {},
   "outputs": [
    {
     "data": {
      "text/plain": [
       "'Go until jurong point, crazy.. Available only in bugis n great world la e buffet... Cine there got amore wat...'"
      ]
     },
     "execution_count": 9,
     "metadata": {},
     "output_type": "execute_result"
    }
   ],
   "source": [
    "corpus[0]"
   ]
  },
  {
   "cell_type": "code",
   "execution_count": 10,
   "metadata": {},
   "outputs": [
    {
     "data": {
      "text/plain": [
       "array([[0, 0, 0, 0, 0, 0, 0, 0, 0, 0, 0, 0, 0, 0, 0, 0, 0, 0, 0, 0, 0, 0,\n",
       "        0, 0, 0, 0, 0, 0, 0, 0, 0, 0, 0, 0, 0, 0, 0, 0, 0, 0, 0, 0, 0, 0,\n",
       "        0, 0, 0, 0, 0, 0, 0, 0, 0, 0, 0, 0, 0, 0, 0, 0, 0, 0, 0, 0, 0, 0,\n",
       "        0, 0, 0, 0, 0, 0, 0, 0, 0, 0, 0, 0, 0, 0, 0, 0, 0, 0, 0, 0, 0, 0,\n",
       "        0, 0, 0, 0, 0, 0, 0, 0, 0, 0, 0, 0, 0, 1, 1, 0, 0, 0, 0, 0, 0, 0,\n",
       "        0, 0, 0, 0, 0, 0, 0, 0, 0, 0, 0, 0, 0, 0, 0, 0, 0, 0, 0, 0, 0, 0,\n",
       "        0, 0, 0, 0, 0, 0, 0, 0, 0, 0, 0, 0, 0, 0, 0, 0, 0, 0, 0, 0, 0, 0,\n",
       "        0, 0, 0, 0, 0, 0, 0, 0, 0, 0, 0, 0, 0, 0, 0, 0, 0, 0, 0, 0, 0, 0,\n",
       "        0, 0, 0, 0, 0, 0, 0, 0, 0, 0, 0, 0, 0, 0, 0, 0, 0, 0, 0, 0, 0, 0,\n",
       "        0, 0, 0, 0, 0, 0, 0, 0, 0, 0, 0, 0, 0, 0, 0, 0, 0, 0, 0, 0, 0, 0,\n",
       "        0, 0, 0, 0, 0, 0, 0, 0, 0, 0, 0, 0, 0, 0, 0, 0, 0, 0, 0, 0, 0, 0,\n",
       "        0, 0, 0, 0, 0, 0, 0, 0, 0, 0, 0, 0, 0, 0, 0, 0, 0, 0, 0, 0, 0, 0,\n",
       "        0, 0, 0, 0, 0, 0, 0, 0, 0, 0, 0, 1, 0, 0, 0, 0, 0, 0, 0, 0, 0, 0,\n",
       "        0, 0, 0, 0, 0, 1, 0, 0, 0, 0, 0, 0, 0, 0]])"
      ]
     },
     "execution_count": 10,
     "metadata": {},
     "output_type": "execute_result"
    }
   ],
   "source": [
    "X[0,:].toarray()"
   ]
  },
  {
   "cell_type": "code",
   "execution_count": 11,
   "metadata": {},
   "outputs": [
    {
     "data": {
      "text/plain": [
       "(array([102]),)"
      ]
     },
     "execution_count": 11,
     "metadata": {},
     "output_type": "execute_result"
    }
   ],
   "source": [
    "CV.vocabulary_ # pour afficher le vocabulaire des mots (Bag of words) et les index\n",
    "features=np.asarray(CV.get_feature_names()) # pour afficher que le vocabulaire des mots (Bag of words)\n",
    "np.where(features=='great') # Recherche de l'index d'un mot"
   ]
  },
  {
   "cell_type": "code",
   "execution_count": 12,
   "metadata": {},
   "outputs": [
    {
     "name": "stdout",
     "output_type": "stream",
     "text": [
      "['1st' '2nd' '50' '500' 'account' 'actually' 'afternoon' 'ah' 'aight'\n",
      " 'amp' 'apply' 'ask' 'asked' 'award' 'awarded' 'babe' 'baby' 'bad' 'bed'\n",
      " 'best' 'better' 'big' 'birthday' 'bit' 'box' 'boy' 'bt' 'bus' 'buy'\n",
      " 'called' 'calls' 'came' 'camera' 'car' 'care' 'cash' 'chance' 'chat'\n",
      " 'check' 'claim' 'class' 'code' 'collect' 'com' 'come' 'coming' 'contact'\n",
      " 'cool' 'cos' 'cost' 'cs' 'customer' 'da' 'dad' 'dat' 'day' 'days' 'dear'\n",
      " 'den' 'details' 'did' 'didn' 'didnt' 'dinner' 'dis' 'does' 'doing' 'don'\n",
      " 'dont' 'draw' 'dun' 'dunno' 'early' 'easy' 'eat' 'end' 'enjoy' 'evening'\n",
      " 'face' 'feel' 'fine' 'finish' 'forgot' 'free' 'friend' 'friends' 'fuck'\n",
      " 'fun' 'getting' 'girl' 'god' 'going' 'gonna' 'good' 'got' 'great' 'gt'\n",
      " 'guaranteed' 'gud' 'guess' 'guys' 'haha' 'half' 'happy' 'having' 'hear'\n",
      " 'heart' 'hello' 'help' 'hey' 'hi' 'holiday' 'home' 'hope' 'hour' 'house'\n",
      " 'ill' 'im' 'important' 'job' 'join' 'jus' 'just' 'kiss' 'know' 'landline'\n",
      " 'lar' 'late' 'later' 'latest' 'leave' 'left' 'leh' 'let' 'liao' 'life'\n",
      " 'like' 'line' 'little' 'live' 'll' 'lol' 'long' 'look' 'looking' 'lor'\n",
      " 'lot' 'love' 'lt' 'lunch' 'luv' 'mail' 'make' 'man' 'maybe' 'meet'\n",
      " 'meeting' 'message' 'min' 'mind' 'mins' 'minutes' 'miss' 'missing'\n",
      " 'mobile' 'money' 'month' 'morning' 'msg' 'need' 'network' 'new' 'nice'\n",
      " 'night' 'nokia' 'number' 'offer' 'office' 'oh' 'ok' 'orange' 'pa' 'pain'\n",
      " 'pay' 'people' 'person' 'phone' 'pick' 'place' 'plan' 'play' 'pls' 'po'\n",
      " 'princess' 'prize' 'probably' 'problem' 'quite' 'rate' 'reach' 'ready'\n",
      " 'real' 'really' 'receive' 'remember' 'reply' 'right' 'ringtone' 'room'\n",
      " 'said' 'sat' 'say' 'says' 'selected' 'send' 'sent' 'service' 'sexy'\n",
      " 'shall' 'shit' 'shopping' 'shows' 'sir' 'sleep' 'smile' 'sms' 'soon'\n",
      " 'sorry' 'speak' 'special' 'start' 'stop' 'stuff' 'sure' 'sweet' 'talk'\n",
      " 'tell' 'text' 'texts' 'thank' 'thanks' 'thanx' 'thats' 'thing' 'things'\n",
      " 'think' 'thk' 'thought' 'time' 'tmr' 'today' 'told' 'tomorrow' 'tone'\n",
      " 'tonight' 'town' 'true' 'try' 'trying' 'tv' 'txt' 'uk' 'ur' 'urgent'\n",
      " 'use' 've' 'video' 'wait' 'waiting' 'wan' 'wanna' 'want' 'wanted' 'wat'\n",
      " 'watch' 'watching' 'way' 'week' 'weekend' 'went' 'wif' 'wife' 'win'\n",
      " 'wish' 'wk' 'won' 'wont' 'word' 'work' 'working' 'world' 'www' 'xmas'\n",
      " 'xxx' 'ya' 'yeah' 'year' 'yes' 'yo' 'yup']\n"
     ]
    }
   ],
   "source": [
    "## Dans le cas de rajout de nouveaux stop_words et de re-run du Count Vectorizor\n",
    "new_list=ENGLISH_STOP_WORDS.union(frozenset({'000','10','100','1000','150p','150ppm','16','18'}))\n",
    "CV=CountVectorizer(max_features=300,stop_words=new_list)\n",
    "CV.fit(corpus)\n",
    "X=CV.transform(corpus)\n",
    "features=np.asarray(CV.get_feature_names())\n",
    "print(features)"
   ]
  },
  {
   "cell_type": "code",
   "execution_count": 13,
   "metadata": {},
   "outputs": [
    {
     "name": "stdout",
     "output_type": "stream",
     "text": [
      "Accuracy for RF is: 0.975 +/- 0.003 en 14.335s\n",
      "Accuracy for ADA is: 0.975 +/- 0.005 en 18.490s\n",
      "Accuracy for ET is: 0.973 +/- 0.005 en 35.104s\n",
      "Accuracy for KNN is: 0.946 +/- 0.007 en 0.848s\n",
      "Accuracy for MLP is: 0.975 +/- 0.005 en 32.904s\n",
      "Accuracy for XGB is: 0.976 +/- 0.003 en 15.241s\n"
     ]
    }
   ],
   "source": [
    "run_classifieurs(X.toarray(),Y,clfs)"
   ]
  },
  {
   "cell_type": "markdown",
   "metadata": {},
   "source": [
    "### TF-IDF : normalisation"
   ]
  },
  {
   "cell_type": "code",
   "execution_count": 14,
   "metadata": {},
   "outputs": [],
   "source": [
    "from sklearn.feature_extraction.text import TfidfTransformer,TfidfVectorizer"
   ]
  },
  {
   "cell_type": "code",
   "execution_count": 15,
   "metadata": {},
   "outputs": [],
   "source": [
    "TFIDF=TfidfTransformer()\n",
    "TFIDF.fit(X)\n",
    "X_TFIDF=TFIDF.transform(X)"
   ]
  },
  {
   "cell_type": "markdown",
   "metadata": {},
   "source": [
    "#### Si vous souhaitez faire les deux étape en même temps\n",
    "TFIDF=TfidfVectorizer(max_features=300,stop_words='english')\n",
    "TFIDF.fit(corpus)\n",
    "X_TFIDF=TDIDF.transform(corpus)"
   ]
  },
  {
   "cell_type": "code",
   "execution_count": 16,
   "metadata": {},
   "outputs": [
    {
     "name": "stdout",
     "output_type": "stream",
     "text": [
      "Accuracy for RF is: 0.975 +/- 0.005 en 18.325s\n",
      "Accuracy for ADA is: 0.976 +/- 0.004 en 14.045s\n",
      "Accuracy for ET is: 0.977 +/- 0.003 en 26.991s\n",
      "Accuracy for KNN is: 0.951 +/- 0.006 en 0.735s\n",
      "Accuracy for MLP is: 0.977 +/- 0.007 en 39.466s\n",
      "Accuracy for XGB is: 0.977 +/- 0.004 en 12.461s\n"
     ]
    }
   ],
   "source": [
    "run_classifieurs(X_TFIDF.toarray(),Y,clfs)"
   ]
  },
  {
   "cell_type": "markdown",
   "metadata": {},
   "source": [
    "## Sélection des mots clés les plus importants"
   ]
  },
  {
   "cell_type": "code",
   "execution_count": 17,
   "metadata": {},
   "outputs": [
    {
     "name": "stdout",
     "output_type": "stream",
     "text": [
      "['txt' 'free' 'claim' 'mobile' 'www' 'uk' 'prize' 'service' 'stop' 'text'\n",
      " 'reply' 'win' '50' 'contact' 'cash' 'com' 'urgent' 'won' 'new' '500'\n",
      " 'code' 'nokia' 'customer' 'chat' 'ringtone' 'cs' 'landline' 'sms' 'video'\n",
      " 'cost' 'rate' 'tone' 'awarded' 'min' 'guaranteed' 'latest' 'shows' 'po'\n",
      " 'message' 'box' 'camera' 'send' 'ur' 'mins' 'line' 'msg' 'draw' 'receive'\n",
      " 'account' 'selected' 'help' 'apply' 'orange' 'just' 'award' 'collect'\n",
      " 'holiday' 'hi' 'special' 'play' 'network' 'gt' 'lt' 'll' 'waiting'\n",
      " 'phone' 'good' 'calls' 'know' 'like' 'week' 'tv' 'need' '1st' 'live'\n",
      " 'time' 'number' 'make' 'xxx' 'xmas' 'got' 'chance' 'pls' 'offer' 'dont'\n",
      " 'want' 'texts' 'day' 'sexy' 'real' 'hey' 'sent' 'did' 'love' 'buy'\n",
      " 'looking' 'place' 'pick' 'days' 'let' 'little' 'think' 'luv' 'important'\n",
      " 'wk' 'ok' 'don' 'end' 'hello' 'night' 'today' 'going' 'enjoy' 'wanna'\n",
      " 'come' 've' 'talk' 'sorry' 'later' '2nd' 'thanks' 'tomorrow' 'year' 'sat'\n",
      " 'great' 'babe' 'late' 'yes' 'ready' 'tell' 'mail' 'check' 'sir' 'home'\n",
      " 'cool' 'join' 'bt' 'work' 'hope' 'word' 'way' 'dear' 'stuff' 'meet' 'use'\n",
      " 'bad' 'morning' 'money' 'problem' 'speak' 'left' 'start' 'miss' 'hear'\n",
      " 'sure' 'easy' 'pa' 'details' 'amp' 'bus' 'doing' 'im' 'fun' 'getting'\n",
      " 'big' 'oh' 'care' 'leave' 'half' 'evening' 'month' 'ya' 'wait' 'gonna'\n",
      " 'asked' 'try' 'finish' 'really' 'actually' 'aight' 'called' 'right'\n",
      " 'happy' 'ask' 'car' 'bit' 'wan' 'shopping' 'cos' 'lor' 'people' 'da'\n",
      " 'didn' 'life' 'said' 'office' 'world' 'guess' 'friends' 'does' 'long'\n",
      " 'ill' 'probably' 'true' 'person' 'thought' 'friend' 'man' 'wat'\n",
      " 'remember' 'say' 'quite' 'afternoon' 'came' 'yo' 'yup' 'heart' 'leh'\n",
      " 'guys' 'working' 'weekend' 'pay' 'better' 'lol' 'feel' 'tonight' 'god'\n",
      " 'wanted' 'yeah' 'girl' 'look' 'wont' 'mind' 'having' 'soon' 'baby' 'ah'\n",
      " 'job' 'things' 'told' 'minutes' 'reach' 'house' 'watch' 'lot' 'thk'\n",
      " 'thing' 'nice' 'didnt' 'town' 'thats' 'best' 'plan' 'gud' 'hour' 'wish'\n",
      " 'room' 'dat' 'liao' 'lar' 'haha' 'bed' 'shit' 'forgot' 'dinner' 'missing'\n",
      " 'dis' 'thank' 'sleep' 'pain' 'wif' 'wife' 'dunno' 'class' 'birthday'\n",
      " 'dad' 'sweet' 'trying' 'lunch' 'eat' 'coming' 'meeting' 'dun' 'shall'\n",
      " 'tmr' 'watching' 'smile' 'early' 'face' 'jus' 'fine' 'princess' 'maybe'\n",
      " 'fuck' 'says' 'kiss' 'den' 'went' 'boy' 'thanx']\n"
     ]
    },
    {
     "data": {
      "image/png": "[encoded data removed]",
      "text/plain": [
       "<Figure size 432x288 with 1 Axes>"
      ]
     },
     "metadata": {
      "needs_background": "light"
     },
     "output_type": "display_data"
    }
   ],
   "source": [
    "X_array=X_TFIDF.toarray()\n",
    "clf = RandomForestClassifier(n_estimators=1000,random_state=1)\n",
    "clf.fit(X_array, Y)\n",
    "importances=clf.feature_importances_\n",
    "std = np.std([tree.feature_importances_ for tree in clf.estimators_],axis=0) \n",
    "sorted_idx = np.argsort(importances)[::-1]\n",
    "features =np.asarray(CV.get_feature_names())\n",
    "print(features[sorted_idx])\n",
    "padding = np.arange(X_array.size/len(X_array)) + 0.5\n",
    "plt.barh(padding, importances[sorted_idx],xerr=std[sorted_idx], align='center') \n",
    "plt.yticks(padding, features[sorted_idx])\n",
    "plt.xlabel(\"Relative Importance\")\n",
    "plt.title(\"Variable Importance\") \n",
    "plt.show()"
   ]
  },
  {
   "cell_type": "markdown",
   "metadata": {},
   "source": [
    "### Recherche du nombre de mots clés pertinents à garder (critère d'arret)"
   ]
  },
  {
   "cell_type": "code",
   "execution_count": 18,
   "metadata": {},
   "outputs": [],
   "source": [
    "# conda install -c conda-forge kneed"
   ]
  },
  {
   "cell_type": "code",
   "execution_count": 19,
   "metadata": {},
   "outputs": [
    {
     "data": {
      "image/png": "[encoded data removed]",
      "text/plain": [
       "<Figure size 432x432 with 1 Axes>"
      ]
     },
     "metadata": {
      "needs_background": "light"
     },
     "output_type": "display_data"
    }
   ],
   "source": [
    "from kneed import KneeLocator\n",
    "from sklearn.preprocessing import MinMaxScaler\n",
    "importances_S=MinMaxScaler().fit_transform(importances.reshape((-1,1))).flatten()\n",
    "sorted_idx = np.argsort(importances_S)[::-1]\n",
    "importances_trie = np.sort(importances_S)[::-1]\n",
    "I = range(0, len(importances_S))\n",
    "kneedle = KneeLocator(I, importances_trie, curve='convex', direction='decreasing')\n",
    "nb_best=kneedle.elbow\n",
    "kneedle.plot_knee_normalized()"
   ]
  },
  {
   "cell_type": "markdown",
   "metadata": {},
   "source": [
    "### Affichage des mots clés pertinents"
   ]
  },
  {
   "cell_type": "code",
   "execution_count": 20,
   "metadata": {},
   "outputs": [
    {
     "name": "stdout",
     "output_type": "stream",
     "text": [
      "['txt' 'free' 'claim' 'mobile' 'www' 'uk' 'prize' 'service' 'stop' 'text'\n",
      " 'reply' 'win' '50' 'contact' 'cash' 'com' 'urgent' 'won' 'new' '500'\n",
      " 'code' 'nokia' 'customer' 'chat' 'ringtone' 'cs' 'landline' 'sms' 'video'\n",
      " 'cost']\n"
     ]
    },
    {
     "data": {
      "image/png": "[encoded data removed]",
      "text/plain": [
       "<Figure size 432x288 with 1 Axes>"
      ]
     },
     "metadata": {
      "needs_background": "light"
     },
     "output_type": "display_data"
    }
   ],
   "source": [
    "features =np.asarray(CV.get_feature_names())\n",
    "print(features[sorted_idx][:nb_best])\n",
    "padding = np.arange(nb_best) + 0.5\n",
    "plt.barh(padding, importances[sorted_idx][:nb_best],xerr=std[sorted_idx][:nb_best], align='center') \n",
    "plt.yticks(padding, features[sorted_idx][:nb_best])\n",
    "plt.xlabel(\"Relative Importance\")\n",
    "plt.title(\"Variable Importance\") \n",
    "plt.show()"
   ]
  },
  {
   "cell_type": "markdown",
   "metadata": {},
   "source": [
    "## SVD (Recherche de concepts)"
   ]
  },
  {
   "cell_type": "markdown",
   "metadata": {},
   "source": [
    "On résoud à l'aide de cette méthode les problèmes de polysémie et synonymie en compressant nos dimenssions."
   ]
  },
  {
   "cell_type": "code",
   "execution_count": 21,
   "metadata": {},
   "outputs": [],
   "source": [
    "from sklearn.decomposition import TruncatedSVD"
   ]
  },
  {
   "cell_type": "code",
   "execution_count": 22,
   "metadata": {},
   "outputs": [],
   "source": [
    "SVD=TruncatedSVD(n_components=20)\n",
    "SVD.fit(X_TFIDF)\n",
    "X_SVD=SVD.transform(X_TFIDF)"
   ]
  },
  {
   "cell_type": "code",
   "execution_count": 23,
   "metadata": {},
   "outputs": [
    {
     "name": "stdout",
     "output_type": "stream",
     "text": [
      "Accuracy for RF is: 0.973 +/- 0.005 en 8.156s\n",
      "Accuracy for ADA is: 0.961 +/- 0.007 en 9.192s\n",
      "Accuracy for ET is: 0.974 +/- 0.006 en 2.750s\n",
      "Accuracy for KNN is: 0.966 +/- 0.005 en 0.613s\n",
      "Accuracy for MLP is: 0.966 +/- 0.005 en 20.635s\n",
      "Accuracy for XGB is: 0.974 +/- 0.006 en 2.997s\n"
     ]
    }
   ],
   "source": [
    "run_classifieurs(X_SVD, Y, clfs)"
   ]
  },
  {
   "cell_type": "code",
   "execution_count": 24,
   "metadata": {},
   "outputs": [],
   "source": [
    "def print_top_words(model, feature_names, n_top_words):\n",
    "    for topic_idx, topic in enumerate(model.components_):\n",
    "        message = \"Concept #%d: \" % topic_idx\n",
    "        message += \" \".join([feature_names[i] for i in np.abs(topic).argsort()[:-n_top_words - 1: -1]])\n",
    "        print(message)"
   ]
  },
  {
   "cell_type": "code",
   "execution_count": 25,
   "metadata": {},
   "outputs": [
    {
     "name": "stdout",
     "output_type": "stream",
     "text": [
      "Concept #0: ok gt lt just ll\n",
      "Concept #1: ok gt lt lor ur\n",
      "Concept #2: ok gt lt just ur\n",
      "Concept #3: ll sorry later ur free\n",
      "Concept #4: just ur like free know\n",
      "Concept #5: come just free good going\n",
      "Concept #6: come like know just good\n",
      "Concept #7: like good know come day\n",
      "Concept #8: know good want come got\n",
      "Concept #9: got come going good da\n",
      "Concept #10: ur free good know text\n",
      "Concept #11: going got da home time\n",
      "Concept #12: da time going send pls\n",
      "Concept #13: time got going good want\n",
      "Concept #14: lor want time going da\n",
      "Concept #15: da time love good want\n",
      "Concept #16: want lor send going pls\n",
      "Concept #17: home pls did send good\n",
      "Concept #18: home sorry going free don\n",
      "Concept #19: need don prize claim won\n"
     ]
    }
   ],
   "source": [
    "print_top_words(SVD, CV.get_feature_names(), 5)"
   ]
  },
  {
   "cell_type": "code",
   "execution_count": null,
   "metadata": {},
   "outputs": [],
   "source": []
  },
  {
   "cell_type": "code",
   "execution_count": null,
   "metadata": {},
   "outputs": [],
   "source": []
  }
 ],
 "metadata": {
  "kernelspec": {
   "display_name": "Python 3 (ipykernel)",
   "language": "python",
   "name": "python3"
  },
  "language_info": {
   "codemirror_mode": {
    "name": "ipython",
    "version": 3
   },
   "file_extension": ".py",
   "mimetype": "text/x-python",
   "name": "python",
   "nbconvert_exporter": "python",
   "pygments_lexer": "ipython3",
   "version": "3.9.7"
  }
 },
 "nbformat": 4,
 "nbformat_minor": 4
}
