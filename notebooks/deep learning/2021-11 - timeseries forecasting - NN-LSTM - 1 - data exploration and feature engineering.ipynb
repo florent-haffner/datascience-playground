{
 "cells": [
  {
   "cell_type": "markdown",
   "id": "b8c66542",
   "metadata": {},
   "source": [
    "# Air-quality dataset\n",
    "\n",
    "This notebook will use a timeseries datasets around the subject of air-quality on an Italian city."
   ]
  },
  {
   "cell_type": "code",
   "execution_count": 1,
   "id": "f221d27d",
   "metadata": {},
   "outputs": [],
   "source": [
    "import os\n",
    "import json\n",
    "import random\n",
    "from datetime import datetime\n",
    "from pathlib import Path\n",
    "from zipfile import ZipFile"
   ]
  },
  {
   "cell_type": "code",
   "execution_count": 2,
   "id": "9bdc1ce3",
   "metadata": {},
   "outputs": [],
   "source": [
    "import kaggle\n",
    "import pandas as pd\n",
    "import numpy as np\n",
    "import matplotlib.pyplot as plt"
   ]
  },
  {
   "cell_type": "code",
   "execution_count": 3,
   "id": "72438673",
   "metadata": {},
   "outputs": [],
   "source": [
    "kaggle_data = json.load(open(str(Path.home()) + '/kaggle.json', 'r'))\n",
    "KAGGLE_USERNAME = kaggle_data['username']\n",
    "KAGGLE_KEY = kaggle_data['key']"
   ]
  },
  {
   "cell_type": "code",
   "execution_count": 4,
   "id": "2bd00500",
   "metadata": {},
   "outputs": [
    {
     "name": "stdout",
     "output_type": "stream",
     "text": [
      "Successfully imported access to kaggle\n"
     ]
    }
   ],
   "source": [
    "if KAGGLE_KEY and KAGGLE_USERNAME: print('Successfully imported access to kaggle')"
   ]
  },
  {
   "cell_type": "code",
   "execution_count": 5,
   "id": "1d8bd524",
   "metadata": {},
   "outputs": [],
   "source": [
    "os.environ['KAGGLE_USERNAME'] = KAGGLE_USERNAME\n",
    "os.environ['KAGGLE_KEY'] = KAGGLE_KEY"
   ]
  },
  {
   "cell_type": "code",
   "execution_count": 6,
   "id": "510eeee8",
   "metadata": {
    "scrolled": true
   },
   "outputs": [
    {
     "name": "stdout",
     "output_type": "stream",
     "text": [
      "Dataset will be downloaded as zip under the current directory\n",
      "Downloading airquality.zip to /home/nelth/WORKSPACE/ml-playground/notebooks/deep learning\n",
      "  0%|                                                | 0.00/244k [00:00<?, ?B/s]\n",
      "100%|████████████████████████████████████████| 244k/244k [00:00<00:00, 8.71MB/s]\n",
      "\n",
      "Information about the dataset : https://www.kaggle.com/citrahsagala/airquality\n"
     ]
    }
   ],
   "source": [
    "!rm -rf data/ && rm -rf *.zip\n",
    "\n",
    "print('Dataset will be downloaded as zip under the current directory')\n",
    "!kaggle datasets download -d citrahsagala/airquality\n",
    "\n",
    "print('\\nInformation about the dataset : https://www.kaggle.com/citrahsagala/airquality')"
   ]
  },
  {
   "cell_type": "code",
   "execution_count": 7,
   "id": "366fd7dd",
   "metadata": {},
   "outputs": [
    {
     "name": "stdout",
     "output_type": "stream",
     "text": [
      "'2021-10 - intro nn - fastai - multilabel classification.ipynb'\r\n",
      "'2021-10 - intro nn - from scratch  - kaggle download + dataloader.ipynb'\r\n",
      "'2021-11 - intro nn - fork - pytorch - multiclass - boats - 1 - data exploration.ipynb'\r\n",
      "'2021-11 - intro nn - fork - pytorch  - multiclass - boats - 2 - model creation.ipynb'\r\n",
      "'2021-11 - timeseries forecasting - NN-LSTM - 1 - data exploration and feature engineering.ipynb'\r\n",
      "'2021-11 - timeseries forecasting - NN-LSTM - 2 - model creation and regularization.ipynb'\r\n",
      " airquality.zip\r\n",
      " tmp\r\n"
     ]
    }
   ],
   "source": [
    "!ls"
   ]
  },
  {
   "cell_type": "code",
   "execution_count": 8,
   "id": "3784ecb2",
   "metadata": {},
   "outputs": [
    {
     "name": "stdout",
     "output_type": "stream",
     "text": [
      "Archive:  airquality.zip\n",
      "  inflating: ./data/AirQualityUCI.csv  \n"
     ]
    }
   ],
   "source": [
    "!unzip *.zip -d ./data"
   ]
  },
  {
   "cell_type": "code",
   "execution_count": 9,
   "id": "aef43a5d",
   "metadata": {},
   "outputs": [
    {
     "name": "stdout",
     "output_type": "stream",
     "text": [
      "AirQualityUCI.csv\r\n"
     ]
    }
   ],
   "source": [
    "!ls data/"
   ]
  },
  {
   "cell_type": "code",
   "execution_count": 10,
   "id": "bfeb9e2a",
   "metadata": {},
   "outputs": [],
   "source": [
    "def display_all(df):\n",
    "    with pd.option_context(\"display.max_rows\", 1000, \"display.max_columns\", 1000): \n",
    "        display(df)"
   ]
  },
  {
   "cell_type": "code",
   "execution_count": 11,
   "id": "b83711f9",
   "metadata": {
    "scrolled": true
   },
   "outputs": [],
   "source": [
    "df_raw = pd.read_csv('./data/AirQualityUCI.csv')"
   ]
  },
  {
   "cell_type": "code",
   "execution_count": 12,
   "id": "493c729a",
   "metadata": {},
   "outputs": [
    {
     "data": {
      "text/plain": [
       "15"
      ]
     },
     "execution_count": 12,
     "metadata": {},
     "output_type": "execute_result"
    }
   ],
   "source": [
    "len(df_raw.columns)"
   ]
  },
  {
   "cell_type": "code",
   "execution_count": 13,
   "id": "450ce277",
   "metadata": {
    "scrolled": false
   },
   "outputs": [
    {
     "data": {
      "text/html": [
       "<div>\n",
       "<style scoped>\n",
       "    .dataframe tbody tr th:only-of-type {\n",
       "        vertical-align: middle;\n",
       "    }\n",
       "\n",
       "    .dataframe tbody tr th {\n",
       "        vertical-align: top;\n",
       "    }\n",
       "\n",
       "    .dataframe thead th {\n",
       "        text-align: right;\n",
       "    }\n",
       "</style>\n",
       "<table border=\"1\" class=\"dataframe\">\n",
       "  <thead>\n",
       "    <tr style=\"text-align: right;\">\n",
       "      <th></th>\n",
       "      <th>0</th>\n",
       "      <th>1</th>\n",
       "      <th>2</th>\n",
       "      <th>3</th>\n",
       "      <th>4</th>\n",
       "    </tr>\n",
       "  </thead>\n",
       "  <tbody>\n",
       "    <tr>\n",
       "      <th>Date</th>\n",
       "      <td>10/3/2004</td>\n",
       "      <td>10/3/2004</td>\n",
       "      <td>10/3/2004</td>\n",
       "      <td>10/3/2004</td>\n",
       "      <td>10/3/2004</td>\n",
       "    </tr>\n",
       "    <tr>\n",
       "      <th>Time</th>\n",
       "      <td>18.00.00</td>\n",
       "      <td>19.00.00</td>\n",
       "      <td>20.00.00</td>\n",
       "      <td>21.00.00</td>\n",
       "      <td>22.00.00</td>\n",
       "    </tr>\n",
       "    <tr>\n",
       "      <th>CO(GT)</th>\n",
       "      <td>2.6</td>\n",
       "      <td>2.0</td>\n",
       "      <td>2.2</td>\n",
       "      <td>2.2</td>\n",
       "      <td>1.6</td>\n",
       "    </tr>\n",
       "    <tr>\n",
       "      <th>PT08.S1(CO)</th>\n",
       "      <td>1360</td>\n",
       "      <td>1292</td>\n",
       "      <td>1402</td>\n",
       "      <td>1376</td>\n",
       "      <td>1272</td>\n",
       "    </tr>\n",
       "    <tr>\n",
       "      <th>NMHC(GT)</th>\n",
       "      <td>150.0</td>\n",
       "      <td>112.0</td>\n",
       "      <td>88.0</td>\n",
       "      <td>80.0</td>\n",
       "      <td>51.0</td>\n",
       "    </tr>\n",
       "    <tr>\n",
       "      <th>C6H6(GT)</th>\n",
       "      <td>11.9</td>\n",
       "      <td>9.4</td>\n",
       "      <td>9.0</td>\n",
       "      <td>9.2</td>\n",
       "      <td>6.5</td>\n",
       "    </tr>\n",
       "    <tr>\n",
       "      <th>PT08.S2(NMHC)</th>\n",
       "      <td>1046</td>\n",
       "      <td>955</td>\n",
       "      <td>939</td>\n",
       "      <td>948</td>\n",
       "      <td>836</td>\n",
       "    </tr>\n",
       "    <tr>\n",
       "      <th>NOx(GT)</th>\n",
       "      <td>166</td>\n",
       "      <td>103</td>\n",
       "      <td>131</td>\n",
       "      <td>172</td>\n",
       "      <td>131</td>\n",
       "    </tr>\n",
       "    <tr>\n",
       "      <th>PT08.S3(NOx)</th>\n",
       "      <td>1056</td>\n",
       "      <td>1174</td>\n",
       "      <td>1140</td>\n",
       "      <td>1092</td>\n",
       "      <td>1205</td>\n",
       "    </tr>\n",
       "    <tr>\n",
       "      <th>NO2(GT)</th>\n",
       "      <td>113</td>\n",
       "      <td>92</td>\n",
       "      <td>114</td>\n",
       "      <td>122</td>\n",
       "      <td>116</td>\n",
       "    </tr>\n",
       "    <tr>\n",
       "      <th>PT08.S4(NO2)</th>\n",
       "      <td>1692</td>\n",
       "      <td>1559</td>\n",
       "      <td>1555</td>\n",
       "      <td>1584</td>\n",
       "      <td>1490</td>\n",
       "    </tr>\n",
       "    <tr>\n",
       "      <th>PT08.S5(O3)</th>\n",
       "      <td>1268.0</td>\n",
       "      <td>972.0</td>\n",
       "      <td>1074.0</td>\n",
       "      <td>1203.0</td>\n",
       "      <td>1110.0</td>\n",
       "    </tr>\n",
       "    <tr>\n",
       "      <th>T</th>\n",
       "      <td>13.6</td>\n",
       "      <td>13.3</td>\n",
       "      <td>11.9</td>\n",
       "      <td>11.0</td>\n",
       "      <td>11.2</td>\n",
       "    </tr>\n",
       "    <tr>\n",
       "      <th>RH</th>\n",
       "      <td>48.9</td>\n",
       "      <td>47.7</td>\n",
       "      <td>54.0</td>\n",
       "      <td>60.0</td>\n",
       "      <td>59.6</td>\n",
       "    </tr>\n",
       "    <tr>\n",
       "      <th>AH</th>\n",
       "      <td>0.7578</td>\n",
       "      <td>0.7255</td>\n",
       "      <td>0.7502</td>\n",
       "      <td>0.7867</td>\n",
       "      <td>0.7888</td>\n",
       "    </tr>\n",
       "  </tbody>\n",
       "</table>\n",
       "</div>"
      ],
      "text/plain": [
       "                       0          1          2          3          4\n",
       "Date           10/3/2004  10/3/2004  10/3/2004  10/3/2004  10/3/2004\n",
       "Time            18.00.00   19.00.00   20.00.00   21.00.00   22.00.00\n",
       "CO(GT)               2.6        2.0        2.2        2.2        1.6\n",
       "PT08.S1(CO)         1360       1292       1402       1376       1272\n",
       "NMHC(GT)           150.0      112.0       88.0       80.0       51.0\n",
       "C6H6(GT)            11.9        9.4        9.0        9.2        6.5\n",
       "PT08.S2(NMHC)       1046        955        939        948        836\n",
       "NOx(GT)              166        103        131        172        131\n",
       "PT08.S3(NOx)        1056       1174       1140       1092       1205\n",
       "NO2(GT)              113         92        114        122        116\n",
       "PT08.S4(NO2)        1692       1559       1555       1584       1490\n",
       "PT08.S5(O3)       1268.0      972.0     1074.0     1203.0     1110.0\n",
       "T                   13.6       13.3       11.9       11.0       11.2\n",
       "RH                  48.9       47.7       54.0       60.0       59.6\n",
       "AH                0.7578     0.7255     0.7502     0.7867     0.7888"
      ]
     },
     "metadata": {},
     "output_type": "display_data"
    }
   ],
   "source": [
    "display_all(df_raw.head().T)"
   ]
  },
  {
   "cell_type": "markdown",
   "id": "b7ebcf28",
   "metadata": {},
   "source": [
    "## Studying our dataset - EDA\n",
    "\n",
    "For each columns, we'll show description information and a plot using a logarithm scale (less sensitive to outliers)"
   ]
  },
  {
   "cell_type": "code",
   "execution_count": 14,
   "id": "be6de311",
   "metadata": {},
   "outputs": [
    {
     "data": {
      "text/plain": [
       "Index(['Date', 'Time', 'CO(GT)', 'PT08.S1(CO)', 'NMHC(GT)', 'C6H6(GT)',\n",
       "       'PT08.S2(NMHC)', 'NOx(GT)', 'PT08.S3(NOx)', 'NO2(GT)', 'PT08.S4(NO2)',\n",
       "       'PT08.S5(O3)', 'T', 'RH', 'AH'],\n",
       "      dtype='object')"
      ]
     },
     "execution_count": 14,
     "metadata": {},
     "output_type": "execute_result"
    }
   ],
   "source": [
    "keys = df_raw.columns; keys"
   ]
  },
  {
   "cell_type": "code",
   "execution_count": 15,
   "id": "e8fc5bae",
   "metadata": {},
   "outputs": [],
   "source": [
    "def show_eda_and_hist(key, bins=25):\n",
    "    print(\n",
    "        'Descriptive data\\n', \n",
    "        'Min', df_raw[key].min(), \n",
    "        'Max', df_raw[key].max(), \n",
    "        'Std', df_raw[key].std(), \n",
    "        'Median', df_raw[key].median(), \n",
    "        'Mean', df_raw[key].mean(),\n",
    "        '\\n'\n",
    "    )\n",
    "\n",
    "    plt.title(key)\n",
    "    try:\n",
    "        plt.hist(np.log(df_raw[key]), bins=bins)\n",
    "    except Exception:\n",
    "        plt.hist(df_raw[key], bins=bins)\n",
    "    plt.show()"
   ]
  },
  {
   "cell_type": "code",
   "execution_count": 16,
   "id": "d44031aa",
   "metadata": {},
   "outputs": [
    {
     "data": {
      "text/plain": [
       "('1/1/2005', '9/9/2004')"
      ]
     },
     "execution_count": 16,
     "metadata": {},
     "output_type": "execute_result"
    }
   ],
   "source": [
    "current_key = 'Date'\n",
    "df_raw[current_key].min(), df_raw[current_key].max()"
   ]
  },
  {
   "cell_type": "code",
   "execution_count": 17,
   "id": "6823d066",
   "metadata": {
    "scrolled": false
   },
   "outputs": [
    {
     "name": "stdout",
     "output_type": "stream",
     "text": [
      "CO(GT)\n",
      "Descriptive data\n",
      " Min -200.0 Max 1428.0 Std 79.09607960796946 Median 1.5 Mean -34.03353638986855 \n",
      "\n"
     ]
    },
    {
     "name": "stderr",
     "output_type": "stream",
     "text": [
      "/home/nelth/anaconda3/envs/ml-playground/lib/python3.9/site-packages/pandas/core/arraylike.py:364: RuntimeWarning: invalid value encountered in log\n",
      "  result = getattr(ufunc, method)(*inputs, **kwargs)\n"
     ]
    },
    {
     "data": {
      "image/png": "[encoded data removed]",
      "text/plain": [
       "<Figure size 432x288 with 1 Axes>"
      ]
     },
     "metadata": {
      "needs_background": "light"
     },
     "output_type": "display_data"
    },
    {
     "name": "stdout",
     "output_type": "stream",
     "text": [
      "PT08.S1(CO)\n",
      "Descriptive data\n",
      " Min -200 Max 2040 Std 330.06206686690444 Median 1053.0 Mean 1048.8160735278402 \n",
      "\n"
     ]
    },
    {
     "name": "stderr",
     "output_type": "stream",
     "text": [
      "/home/nelth/anaconda3/envs/ml-playground/lib/python3.9/site-packages/pandas/core/arraylike.py:364: RuntimeWarning: invalid value encountered in log\n",
      "  result = getattr(ufunc, method)(*inputs, **kwargs)\n"
     ]
    },
    {
     "data": {
      "image/png": "[encoded data removed]",
      "text/plain": [
       "<Figure size 432x288 with 1 Axes>"
      ]
     },
     "metadata": {
      "needs_background": "light"
     },
     "output_type": "display_data"
    },
    {
     "name": "stdout",
     "output_type": "stream",
     "text": [
      "NMHC(GT)\n",
      "Descriptive data\n",
      " Min -200.0 Max 1189.0 Std 139.80083580095925 Median -200.0 Mean -159.0664849845036 \n",
      "\n"
     ]
    },
    {
     "name": "stderr",
     "output_type": "stream",
     "text": [
      "/home/nelth/anaconda3/envs/ml-playground/lib/python3.9/site-packages/pandas/core/arraylike.py:364: RuntimeWarning: invalid value encountered in log\n",
      "  result = getattr(ufunc, method)(*inputs, **kwargs)\n"
     ]
    },
    {
     "data": {
      "image/png": "[encoded data removed]",
      "text/plain": [
       "<Figure size 432x288 with 1 Axes>"
      ]
     },
     "metadata": {
      "needs_background": "light"
     },
     "output_type": "display_data"
    },
    {
     "name": "stdout",
     "output_type": "stream",
     "text": [
      "C6H6(GT)\n",
      "Descriptive data\n",
      " Min -200.0 Max 1321.0 Std 43.56894185641545 Median 7.9 Mean 2.0046275515656724 \n",
      "\n"
     ]
    },
    {
     "name": "stderr",
     "output_type": "stream",
     "text": [
      "/home/nelth/anaconda3/envs/ml-playground/lib/python3.9/site-packages/pandas/core/arraylike.py:364: RuntimeWarning: invalid value encountered in log\n",
      "  result = getattr(ufunc, method)(*inputs, **kwargs)\n"
     ]
    },
    {
     "data": {
      "image/png": "[encoded data removed]",
      "text/plain": [
       "<Figure size 432x288 with 1 Axes>"
      ]
     },
     "metadata": {
      "needs_background": "light"
     },
     "output_type": "display_data"
    },
    {
     "name": "stdout",
     "output_type": "stream",
     "text": [
      "PT08.S2(NMHC)\n",
      "Descriptive data\n",
      " Min -200 Max 2214 Std 342.49183369209544 Median 895.0 Mean 894.4327241637277 \n",
      "\n"
     ]
    },
    {
     "name": "stderr",
     "output_type": "stream",
     "text": [
      "/home/nelth/anaconda3/envs/ml-playground/lib/python3.9/site-packages/pandas/core/arraylike.py:364: RuntimeWarning: invalid value encountered in log\n",
      "  result = getattr(ufunc, method)(*inputs, **kwargs)\n"
     ]
    },
    {
     "data": {
      "image/png": "[encoded data removed]",
      "text/plain": [
       "<Figure size 432x288 with 1 Axes>"
      ]
     },
     "metadata": {
      "needs_background": "light"
     },
     "output_type": "display_data"
    },
    {
     "name": "stdout",
     "output_type": "stream",
     "text": [
      "NOx(GT)\n",
      "Descriptive data\n",
      " Min -200 Max 1479 Std 257.4348990237945 Median 141.0 Mean 168.69648391578497 \n",
      "\n"
     ]
    },
    {
     "name": "stderr",
     "output_type": "stream",
     "text": [
      "/home/nelth/anaconda3/envs/ml-playground/lib/python3.9/site-packages/pandas/core/arraylike.py:364: RuntimeWarning: invalid value encountered in log\n",
      "  result = getattr(ufunc, method)(*inputs, **kwargs)\n"
     ]
    },
    {
     "data": {
      "image/png": "[encoded data removed]",
      "text/plain": [
       "<Figure size 432x288 with 1 Axes>"
      ]
     },
     "metadata": {
      "needs_background": "light"
     },
     "output_type": "display_data"
    },
    {
     "name": "stdout",
     "output_type": "stream",
     "text": [
      "PT08.S3(NOx)\n",
      "Descriptive data\n",
      " Min -200 Max 2683 Std 322.14736186452365 Median 794.0 Mean 794.9106551245058 \n",
      "\n"
     ]
    },
    {
     "name": "stderr",
     "output_type": "stream",
     "text": [
      "/home/nelth/anaconda3/envs/ml-playground/lib/python3.9/site-packages/pandas/core/arraylike.py:364: RuntimeWarning: invalid value encountered in log\n",
      "  result = getattr(ufunc, method)(*inputs, **kwargs)\n"
     ]
    },
    {
     "data": {
      "image/png": "[encoded data removed]",
      "text/plain": [
       "<Figure size 432x288 with 1 Axes>"
      ]
     },
     "metadata": {
      "needs_background": "light"
     },
     "output_type": "display_data"
    },
    {
     "name": "stdout",
     "output_type": "stream",
     "text": [
      "NO2(GT)\n",
      "Descriptive data\n",
      " Min -200 Max 1779 Std 128.15314345423764 Median 96.0 Mean 58.360371914075024 \n",
      "\n"
     ]
    },
    {
     "name": "stderr",
     "output_type": "stream",
     "text": [
      "/home/nelth/anaconda3/envs/ml-playground/lib/python3.9/site-packages/pandas/core/arraylike.py:364: RuntimeWarning: invalid value encountered in log\n",
      "  result = getattr(ufunc, method)(*inputs, **kwargs)\n"
     ]
    },
    {
     "data": {
      "image/png": "[encoded data removed]",
      "text/plain": [
       "<Figure size 432x288 with 1 Axes>"
      ]
     },
     "metadata": {
      "needs_background": "light"
     },
     "output_type": "display_data"
    },
    {
     "name": "stdout",
     "output_type": "stream",
     "text": [
      "PT08.S4(NO2)\n",
      "Descriptive data\n",
      " Min -200 Max 2775 Std 467.19897248609857 Median 1446.0 Mean 1391.4627551565673 \n",
      "\n"
     ]
    },
    {
     "name": "stderr",
     "output_type": "stream",
     "text": [
      "/home/nelth/anaconda3/envs/ml-playground/lib/python3.9/site-packages/pandas/core/arraylike.py:364: RuntimeWarning: invalid value encountered in log\n",
      "  result = getattr(ufunc, method)(*inputs, **kwargs)\n"
     ]
    },
    {
     "data": {
      "image/png": "[encoded data removed]",
      "text/plain": [
       "<Figure size 432x288 with 1 Axes>"
      ]
     },
     "metadata": {
      "needs_background": "light"
     },
     "output_type": "display_data"
    },
    {
     "name": "stdout",
     "output_type": "stream",
     "text": [
      "PT08.S5(O3)\n",
      "Descriptive data\n",
      " Min -200.0 Max 2523.0 Std 456.99634780984104 Median 942.0 Mean 974.9007801645827 \n",
      "\n"
     ]
    },
    {
     "name": "stderr",
     "output_type": "stream",
     "text": [
      "/home/nelth/anaconda3/envs/ml-playground/lib/python3.9/site-packages/pandas/core/arraylike.py:364: RuntimeWarning: invalid value encountered in log\n",
      "  result = getattr(ufunc, method)(*inputs, **kwargs)\n"
     ]
    },
    {
     "data": {
      "image/png": "[encoded data removed]",
      "text/plain": [
       "<Figure size 432x288 with 1 Axes>"
      ]
     },
     "metadata": {
      "needs_background": "light"
     },
     "output_type": "display_data"
    },
    {
     "name": "stdout",
     "output_type": "stream",
     "text": [
      "T\n",
      "Descriptive data\n",
      " Min -200.0 Max 57.2 Std 43.206308240532955 Median 17.2 Mean 9.782430266110932 \n",
      "\n"
     ]
    },
    {
     "name": "stderr",
     "output_type": "stream",
     "text": [
      "/home/nelth/anaconda3/envs/ml-playground/lib/python3.9/site-packages/pandas/core/arraylike.py:364: RuntimeWarning: divide by zero encountered in log\n",
      "  result = getattr(ufunc, method)(*inputs, **kwargs)\n",
      "/home/nelth/anaconda3/envs/ml-playground/lib/python3.9/site-packages/pandas/core/arraylike.py:364: RuntimeWarning: invalid value encountered in log\n",
      "  result = getattr(ufunc, method)(*inputs, **kwargs)\n"
     ]
    },
    {
     "data": {
      "image/png": "[encoded data removed]",
      "text/plain": [
       "<Figure size 432x288 with 1 Axes>"
      ]
     },
     "metadata": {
      "needs_background": "light"
     },
     "output_type": "display_data"
    },
    {
     "name": "stdout",
     "output_type": "stream",
     "text": [
      "RH\n",
      "Descriptive data\n",
      " Min -200.0 Max 88.7 Std 51.21734546069419 Median 48.5 Mean 39.47939666559795 \n",
      "\n"
     ]
    },
    {
     "name": "stderr",
     "output_type": "stream",
     "text": [
      "/home/nelth/anaconda3/envs/ml-playground/lib/python3.9/site-packages/pandas/core/arraylike.py:364: RuntimeWarning: invalid value encountered in log\n",
      "  result = getattr(ufunc, method)(*inputs, **kwargs)\n"
     ]
    },
    {
     "data": {
      "image/png": "[encoded data removed]",
      "text/plain": [
       "<Figure size 432x288 with 1 Axes>"
      ]
     },
     "metadata": {
      "needs_background": "light"
     },
     "output_type": "display_data"
    },
    {
     "name": "stdout",
     "output_type": "stream",
     "text": [
      "AH\n",
      "Descriptive data\n",
      " Min -200.0 Max 2.231 Std 38.978664395630815 Median 0.9768 Mean -6.838464290294997 \n",
      "\n"
     ]
    },
    {
     "name": "stderr",
     "output_type": "stream",
     "text": [
      "/home/nelth/anaconda3/envs/ml-playground/lib/python3.9/site-packages/pandas/core/arraylike.py:364: RuntimeWarning: invalid value encountered in log\n",
      "  result = getattr(ufunc, method)(*inputs, **kwargs)\n"
     ]
    },
    {
     "data": {
      "image/png": "[encoded data removed]",
      "text/plain": [
       "<Figure size 432x288 with 1 Axes>"
      ]
     },
     "metadata": {
      "needs_background": "light"
     },
     "output_type": "display_data"
    }
   ],
   "source": [
    "for key in list(keys[2:]):\n",
    "    print(key)\n",
    "    show_eda_and_hist(key)"
   ]
  },
  {
   "cell_type": "markdown",
   "id": "09770183",
   "metadata": {},
   "source": [
    "We can see that we have outliers with the temperature (a classic with IoT data), the rest of the data and properly distributed."
   ]
  },
  {
   "cell_type": "code",
   "execution_count": null,
   "id": "5171b563",
   "metadata": {},
   "outputs": [],
   "source": []
  },
  {
   "cell_type": "markdown",
   "id": "2089b9e1",
   "metadata": {},
   "source": [
    "## Feature engineering\n",
    "\n",
    "Applying domain knowledge to enrich dataset with meaningful informations"
   ]
  },
  {
   "cell_type": "code",
   "execution_count": 18,
   "id": "21dc0979",
   "metadata": {},
   "outputs": [],
   "source": [
    "filter_temperature = df_raw['T'] < -50"
   ]
  },
  {
   "cell_type": "code",
   "execution_count": 19,
   "id": "f732c169",
   "metadata": {},
   "outputs": [],
   "source": [
    "def apply_previous_value(df, key, filtered_df):\n",
    "    for outlier_index in filtered_df.index:\n",
    "        try:\n",
    "            df[key][outlier_index] = df[key][outlier_index-1]\n",
    "            return df\n",
    "        except Exception as err:\n",
    "            print(err)\n",
    "            pass"
   ]
  },
  {
   "cell_type": "code",
   "execution_count": 20,
   "id": "a4573f52",
   "metadata": {},
   "outputs": [
    {
     "name": "stderr",
     "output_type": "stream",
     "text": [
      "/tmp/ipykernel_22336/246015494.py:4: SettingWithCopyWarning: \n",
      "A value is trying to be set on a copy of a slice from a DataFrame\n",
      "\n",
      "See the caveats in the documentation: https://pandas.pydata.org/pandas-docs/stable/user_guide/indexing.html#returning-a-view-versus-a-copy\n",
      "  df[key][outlier_index] = df[key][outlier_index-1]\n"
     ]
    }
   ],
   "source": [
    "df = apply_previous_value(df_raw, 'T', df_raw[filter_temperature])"
   ]
  },
  {
   "cell_type": "code",
   "execution_count": 21,
   "id": "0ffcc098",
   "metadata": {},
   "outputs": [
    {
     "name": "stdout",
     "output_type": "stream",
     "text": [
      "Descriptive data\n",
      " Min -200.0 Max 57.2 Std 43.15201217999003 Median 17.2 Mean 9.806134444800685 \n",
      "\n"
     ]
    },
    {
     "name": "stderr",
     "output_type": "stream",
     "text": [
      "/home/nelth/anaconda3/envs/ml-playground/lib/python3.9/site-packages/pandas/core/arraylike.py:364: RuntimeWarning: divide by zero encountered in log\n",
      "  result = getattr(ufunc, method)(*inputs, **kwargs)\n",
      "/home/nelth/anaconda3/envs/ml-playground/lib/python3.9/site-packages/pandas/core/arraylike.py:364: RuntimeWarning: invalid value encountered in log\n",
      "  result = getattr(ufunc, method)(*inputs, **kwargs)\n"
     ]
    },
    {
     "data": {
      "image/png": "[encoded data removed]",
      "text/plain": [
       "<Figure size 432x288 with 1 Axes>"
      ]
     },
     "metadata": {
      "needs_background": "light"
     },
     "output_type": "display_data"
    }
   ],
   "source": [
    "show_eda_and_hist('T')"
   ]
  },
  {
   "cell_type": "code",
   "execution_count": null,
   "id": "b0386ab2",
   "metadata": {},
   "outputs": [],
   "source": []
  },
  {
   "cell_type": "code",
   "execution_count": 22,
   "id": "c0003b0e",
   "metadata": {},
   "outputs": [],
   "source": [
    "def get_datetime_from_str(f):\n",
    "    try:\n",
    "        f = f[:18] # Make sure our string object only contains datetime data\n",
    "        return datetime.strptime(f, \"%d/%m/%Y %H:%M:%S\")\n",
    "    except Exception as err:\n",
    "        print(f, err)"
   ]
  },
  {
   "cell_type": "code",
   "execution_count": 23,
   "id": "1ba3377c",
   "metadata": {},
   "outputs": [],
   "source": [
    "def apply_date_transformation(df):\n",
    "    df['Time'] = df['Time'].apply(lambda f: f.replace('.', ':'))\n",
    "    datetime_str = df['Date'] + ' ' + df['Time']\n",
    "    df['datetime'] = datetime_str.apply(get_datetime_from_str)\n",
    "#     df.set_index('datetime', inplace=True)\n",
    "#     df = df.drop(['Date', 'Time'], axis=1)\n",
    "    return df"
   ]
  },
  {
   "cell_type": "code",
   "execution_count": 24,
   "id": "ddfc4fea",
   "metadata": {},
   "outputs": [],
   "source": [
    "df = apply_date_transformation(df_raw)"
   ]
  },
  {
   "cell_type": "code",
   "execution_count": 25,
   "id": "3a3cf1fe",
   "metadata": {},
   "outputs": [
    {
     "data": {
      "text/html": [
       "<div>\n",
       "<style scoped>\n",
       "    .dataframe tbody tr th:only-of-type {\n",
       "        vertical-align: middle;\n",
       "    }\n",
       "\n",
       "    .dataframe tbody tr th {\n",
       "        vertical-align: top;\n",
       "    }\n",
       "\n",
       "    .dataframe thead th {\n",
       "        text-align: right;\n",
       "    }\n",
       "</style>\n",
       "<table border=\"1\" class=\"dataframe\">\n",
       "  <thead>\n",
       "    <tr style=\"text-align: right;\">\n",
       "      <th></th>\n",
       "      <th>0</th>\n",
       "      <th>1</th>\n",
       "      <th>2</th>\n",
       "      <th>3</th>\n",
       "      <th>4</th>\n",
       "    </tr>\n",
       "  </thead>\n",
       "  <tbody>\n",
       "    <tr>\n",
       "      <th>Date</th>\n",
       "      <td>10/3/2004</td>\n",
       "      <td>10/3/2004</td>\n",
       "      <td>10/3/2004</td>\n",
       "      <td>10/3/2004</td>\n",
       "      <td>10/3/2004</td>\n",
       "    </tr>\n",
       "    <tr>\n",
       "      <th>Time</th>\n",
       "      <td>18:00:00</td>\n",
       "      <td>19:00:00</td>\n",
       "      <td>20:00:00</td>\n",
       "      <td>21:00:00</td>\n",
       "      <td>22:00:00</td>\n",
       "    </tr>\n",
       "    <tr>\n",
       "      <th>CO(GT)</th>\n",
       "      <td>2.6</td>\n",
       "      <td>2.0</td>\n",
       "      <td>2.2</td>\n",
       "      <td>2.2</td>\n",
       "      <td>1.6</td>\n",
       "    </tr>\n",
       "    <tr>\n",
       "      <th>PT08.S1(CO)</th>\n",
       "      <td>1360</td>\n",
       "      <td>1292</td>\n",
       "      <td>1402</td>\n",
       "      <td>1376</td>\n",
       "      <td>1272</td>\n",
       "    </tr>\n",
       "    <tr>\n",
       "      <th>NMHC(GT)</th>\n",
       "      <td>150.0</td>\n",
       "      <td>112.0</td>\n",
       "      <td>88.0</td>\n",
       "      <td>80.0</td>\n",
       "      <td>51.0</td>\n",
       "    </tr>\n",
       "    <tr>\n",
       "      <th>C6H6(GT)</th>\n",
       "      <td>11.9</td>\n",
       "      <td>9.4</td>\n",
       "      <td>9.0</td>\n",
       "      <td>9.2</td>\n",
       "      <td>6.5</td>\n",
       "    </tr>\n",
       "    <tr>\n",
       "      <th>PT08.S2(NMHC)</th>\n",
       "      <td>1046</td>\n",
       "      <td>955</td>\n",
       "      <td>939</td>\n",
       "      <td>948</td>\n",
       "      <td>836</td>\n",
       "    </tr>\n",
       "    <tr>\n",
       "      <th>NOx(GT)</th>\n",
       "      <td>166</td>\n",
       "      <td>103</td>\n",
       "      <td>131</td>\n",
       "      <td>172</td>\n",
       "      <td>131</td>\n",
       "    </tr>\n",
       "    <tr>\n",
       "      <th>PT08.S3(NOx)</th>\n",
       "      <td>1056</td>\n",
       "      <td>1174</td>\n",
       "      <td>1140</td>\n",
       "      <td>1092</td>\n",
       "      <td>1205</td>\n",
       "    </tr>\n",
       "    <tr>\n",
       "      <th>NO2(GT)</th>\n",
       "      <td>113</td>\n",
       "      <td>92</td>\n",
       "      <td>114</td>\n",
       "      <td>122</td>\n",
       "      <td>116</td>\n",
       "    </tr>\n",
       "    <tr>\n",
       "      <th>PT08.S4(NO2)</th>\n",
       "      <td>1692</td>\n",
       "      <td>1559</td>\n",
       "      <td>1555</td>\n",
       "      <td>1584</td>\n",
       "      <td>1490</td>\n",
       "    </tr>\n",
       "    <tr>\n",
       "      <th>PT08.S5(O3)</th>\n",
       "      <td>1268.0</td>\n",
       "      <td>972.0</td>\n",
       "      <td>1074.0</td>\n",
       "      <td>1203.0</td>\n",
       "      <td>1110.0</td>\n",
       "    </tr>\n",
       "    <tr>\n",
       "      <th>T</th>\n",
       "      <td>13.6</td>\n",
       "      <td>13.3</td>\n",
       "      <td>11.9</td>\n",
       "      <td>11.0</td>\n",
       "      <td>11.2</td>\n",
       "    </tr>\n",
       "    <tr>\n",
       "      <th>RH</th>\n",
       "      <td>48.9</td>\n",
       "      <td>47.7</td>\n",
       "      <td>54.0</td>\n",
       "      <td>60.0</td>\n",
       "      <td>59.6</td>\n",
       "    </tr>\n",
       "    <tr>\n",
       "      <th>AH</th>\n",
       "      <td>0.7578</td>\n",
       "      <td>0.7255</td>\n",
       "      <td>0.7502</td>\n",
       "      <td>0.7867</td>\n",
       "      <td>0.7888</td>\n",
       "    </tr>\n",
       "    <tr>\n",
       "      <th>datetime</th>\n",
       "      <td>2004-03-10 18:00:00</td>\n",
       "      <td>2004-03-10 19:00:00</td>\n",
       "      <td>2004-03-10 20:00:00</td>\n",
       "      <td>2004-03-10 21:00:00</td>\n",
       "      <td>2004-03-10 22:00:00</td>\n",
       "    </tr>\n",
       "  </tbody>\n",
       "</table>\n",
       "</div>"
      ],
      "text/plain": [
       "                                 0                    1                    2  \\\n",
       "Date                     10/3/2004            10/3/2004            10/3/2004   \n",
       "Time                      18:00:00             19:00:00             20:00:00   \n",
       "CO(GT)                         2.6                  2.0                  2.2   \n",
       "PT08.S1(CO)                   1360                 1292                 1402   \n",
       "NMHC(GT)                     150.0                112.0                 88.0   \n",
       "C6H6(GT)                      11.9                  9.4                  9.0   \n",
       "PT08.S2(NMHC)                 1046                  955                  939   \n",
       "NOx(GT)                        166                  103                  131   \n",
       "PT08.S3(NOx)                  1056                 1174                 1140   \n",
       "NO2(GT)                        113                   92                  114   \n",
       "PT08.S4(NO2)                  1692                 1559                 1555   \n",
       "PT08.S5(O3)                 1268.0                972.0               1074.0   \n",
       "T                             13.6                 13.3                 11.9   \n",
       "RH                            48.9                 47.7                 54.0   \n",
       "AH                          0.7578               0.7255               0.7502   \n",
       "datetime       2004-03-10 18:00:00  2004-03-10 19:00:00  2004-03-10 20:00:00   \n",
       "\n",
       "                                 3                    4  \n",
       "Date                     10/3/2004            10/3/2004  \n",
       "Time                      21:00:00             22:00:00  \n",
       "CO(GT)                         2.2                  1.6  \n",
       "PT08.S1(CO)                   1376                 1272  \n",
       "NMHC(GT)                      80.0                 51.0  \n",
       "C6H6(GT)                       9.2                  6.5  \n",
       "PT08.S2(NMHC)                  948                  836  \n",
       "NOx(GT)                        172                  131  \n",
       "PT08.S3(NOx)                  1092                 1205  \n",
       "NO2(GT)                        122                  116  \n",
       "PT08.S4(NO2)                  1584                 1490  \n",
       "PT08.S5(O3)                 1203.0               1110.0  \n",
       "T                             11.0                 11.2  \n",
       "RH                            60.0                 59.6  \n",
       "AH                          0.7867               0.7888  \n",
       "datetime       2004-03-10 21:00:00  2004-03-10 22:00:00  "
      ]
     },
     "execution_count": 25,
     "metadata": {},
     "output_type": "execute_result"
    }
   ],
   "source": [
    "df.head().T"
   ]
  },
  {
   "cell_type": "code",
   "execution_count": 26,
   "id": "3b387737",
   "metadata": {},
   "outputs": [],
   "source": [
    "import re\n",
    "\n",
    "def add_datecols(df, fldname, drop=True):\n",
    "    fld = df[fldname]\n",
    "    if not np.issubdtype(fld.dtype, np.datetime64):\n",
    "        df[fldname] = fld = pd.to_datetime(fld, \n",
    "                                     infer_datetime_format=True)\n",
    "    targ_pre = re.sub('[Dd]ate$', '', fldname)\n",
    "    for n in ('Year', 'Month', 'Week', 'Day', 'Dayofweek', \n",
    "            'Dayofyear', 'Is_month_end', 'Is_month_start', \n",
    "            'Is_quarter_end', 'Is_quarter_start', 'Is_year_end', \n",
    "            'Is_year_start'):\n",
    "        df[targ_pre+n] = getattr(fld.dt,n.lower())\n",
    "        df[targ_pre+'Elapsed'] = fld.astype(np.int64) // 10**9\n",
    "    if drop: \n",
    "        df = df.drop(fldname, axis=1)\n",
    "    return df"
   ]
  },
  {
   "cell_type": "code",
   "execution_count": 27,
   "id": "4dc721be",
   "metadata": {},
   "outputs": [
    {
     "name": "stderr",
     "output_type": "stream",
     "text": [
      "/tmp/ipykernel_22336/155534989.py:14: FutureWarning: casting datetime64[ns] values to int64 with .astype(...) is deprecated and will raise in a future version. Use .view(...) instead.\n",
      "  df[targ_pre+'Elapsed'] = fld.astype(np.int64) // 10**9\n",
      "/tmp/ipykernel_22336/155534989.py:13: FutureWarning: Series.dt.weekofyear and Series.dt.week have been deprecated.  Please use Series.dt.isocalendar().week instead.\n",
      "  df[targ_pre+n] = getattr(fld.dt,n.lower())\n"
     ]
    }
   ],
   "source": [
    "df = add_datecols(df, 'datetime', drop=True)"
   ]
  },
  {
   "cell_type": "code",
   "execution_count": 28,
   "id": "ab1e03b0",
   "metadata": {},
   "outputs": [
    {
     "data": {
      "text/html": [
       "<div>\n",
       "<style scoped>\n",
       "    .dataframe tbody tr th:only-of-type {\n",
       "        vertical-align: middle;\n",
       "    }\n",
       "\n",
       "    .dataframe tbody tr th {\n",
       "        vertical-align: top;\n",
       "    }\n",
       "\n",
       "    .dataframe thead th {\n",
       "        text-align: right;\n",
       "    }\n",
       "</style>\n",
       "<table border=\"1\" class=\"dataframe\">\n",
       "  <thead>\n",
       "    <tr style=\"text-align: right;\">\n",
       "      <th></th>\n",
       "      <th>0</th>\n",
       "      <th>1</th>\n",
       "      <th>2</th>\n",
       "      <th>3</th>\n",
       "      <th>4</th>\n",
       "    </tr>\n",
       "  </thead>\n",
       "  <tbody>\n",
       "    <tr>\n",
       "      <th>Date</th>\n",
       "      <td>10/3/2004</td>\n",
       "      <td>10/3/2004</td>\n",
       "      <td>10/3/2004</td>\n",
       "      <td>10/3/2004</td>\n",
       "      <td>10/3/2004</td>\n",
       "    </tr>\n",
       "    <tr>\n",
       "      <th>Time</th>\n",
       "      <td>18:00:00</td>\n",
       "      <td>19:00:00</td>\n",
       "      <td>20:00:00</td>\n",
       "      <td>21:00:00</td>\n",
       "      <td>22:00:00</td>\n",
       "    </tr>\n",
       "    <tr>\n",
       "      <th>CO(GT)</th>\n",
       "      <td>2.6</td>\n",
       "      <td>2.0</td>\n",
       "      <td>2.2</td>\n",
       "      <td>2.2</td>\n",
       "      <td>1.6</td>\n",
       "    </tr>\n",
       "    <tr>\n",
       "      <th>PT08.S1(CO)</th>\n",
       "      <td>1360</td>\n",
       "      <td>1292</td>\n",
       "      <td>1402</td>\n",
       "      <td>1376</td>\n",
       "      <td>1272</td>\n",
       "    </tr>\n",
       "    <tr>\n",
       "      <th>NMHC(GT)</th>\n",
       "      <td>150.0</td>\n",
       "      <td>112.0</td>\n",
       "      <td>88.0</td>\n",
       "      <td>80.0</td>\n",
       "      <td>51.0</td>\n",
       "    </tr>\n",
       "    <tr>\n",
       "      <th>C6H6(GT)</th>\n",
       "      <td>11.9</td>\n",
       "      <td>9.4</td>\n",
       "      <td>9.0</td>\n",
       "      <td>9.2</td>\n",
       "      <td>6.5</td>\n",
       "    </tr>\n",
       "    <tr>\n",
       "      <th>PT08.S2(NMHC)</th>\n",
       "      <td>1046</td>\n",
       "      <td>955</td>\n",
       "      <td>939</td>\n",
       "      <td>948</td>\n",
       "      <td>836</td>\n",
       "    </tr>\n",
       "    <tr>\n",
       "      <th>NOx(GT)</th>\n",
       "      <td>166</td>\n",
       "      <td>103</td>\n",
       "      <td>131</td>\n",
       "      <td>172</td>\n",
       "      <td>131</td>\n",
       "    </tr>\n",
       "    <tr>\n",
       "      <th>PT08.S3(NOx)</th>\n",
       "      <td>1056</td>\n",
       "      <td>1174</td>\n",
       "      <td>1140</td>\n",
       "      <td>1092</td>\n",
       "      <td>1205</td>\n",
       "    </tr>\n",
       "    <tr>\n",
       "      <th>NO2(GT)</th>\n",
       "      <td>113</td>\n",
       "      <td>92</td>\n",
       "      <td>114</td>\n",
       "      <td>122</td>\n",
       "      <td>116</td>\n",
       "    </tr>\n",
       "    <tr>\n",
       "      <th>PT08.S4(NO2)</th>\n",
       "      <td>1692</td>\n",
       "      <td>1559</td>\n",
       "      <td>1555</td>\n",
       "      <td>1584</td>\n",
       "      <td>1490</td>\n",
       "    </tr>\n",
       "    <tr>\n",
       "      <th>PT08.S5(O3)</th>\n",
       "      <td>1268.0</td>\n",
       "      <td>972.0</td>\n",
       "      <td>1074.0</td>\n",
       "      <td>1203.0</td>\n",
       "      <td>1110.0</td>\n",
       "    </tr>\n",
       "    <tr>\n",
       "      <th>T</th>\n",
       "      <td>13.6</td>\n",
       "      <td>13.3</td>\n",
       "      <td>11.9</td>\n",
       "      <td>11.0</td>\n",
       "      <td>11.2</td>\n",
       "    </tr>\n",
       "    <tr>\n",
       "      <th>RH</th>\n",
       "      <td>48.9</td>\n",
       "      <td>47.7</td>\n",
       "      <td>54.0</td>\n",
       "      <td>60.0</td>\n",
       "      <td>59.6</td>\n",
       "    </tr>\n",
       "    <tr>\n",
       "      <th>AH</th>\n",
       "      <td>0.7578</td>\n",
       "      <td>0.7255</td>\n",
       "      <td>0.7502</td>\n",
       "      <td>0.7867</td>\n",
       "      <td>0.7888</td>\n",
       "    </tr>\n",
       "    <tr>\n",
       "      <th>datetimeYear</th>\n",
       "      <td>2004</td>\n",
       "      <td>2004</td>\n",
       "      <td>2004</td>\n",
       "      <td>2004</td>\n",
       "      <td>2004</td>\n",
       "    </tr>\n",
       "    <tr>\n",
       "      <th>datetimeElapsed</th>\n",
       "      <td>1078941600</td>\n",
       "      <td>1078945200</td>\n",
       "      <td>1078948800</td>\n",
       "      <td>1078952400</td>\n",
       "      <td>1078956000</td>\n",
       "    </tr>\n",
       "    <tr>\n",
       "      <th>datetimeMonth</th>\n",
       "      <td>3</td>\n",
       "      <td>3</td>\n",
       "      <td>3</td>\n",
       "      <td>3</td>\n",
       "      <td>3</td>\n",
       "    </tr>\n",
       "    <tr>\n",
       "      <th>datetimeWeek</th>\n",
       "      <td>11</td>\n",
       "      <td>11</td>\n",
       "      <td>11</td>\n",
       "      <td>11</td>\n",
       "      <td>11</td>\n",
       "    </tr>\n",
       "    <tr>\n",
       "      <th>datetimeDay</th>\n",
       "      <td>10</td>\n",
       "      <td>10</td>\n",
       "      <td>10</td>\n",
       "      <td>10</td>\n",
       "      <td>10</td>\n",
       "    </tr>\n",
       "    <tr>\n",
       "      <th>datetimeDayofweek</th>\n",
       "      <td>2</td>\n",
       "      <td>2</td>\n",
       "      <td>2</td>\n",
       "      <td>2</td>\n",
       "      <td>2</td>\n",
       "    </tr>\n",
       "    <tr>\n",
       "      <th>datetimeDayofyear</th>\n",
       "      <td>70</td>\n",
       "      <td>70</td>\n",
       "      <td>70</td>\n",
       "      <td>70</td>\n",
       "      <td>70</td>\n",
       "    </tr>\n",
       "    <tr>\n",
       "      <th>datetimeIs_month_end</th>\n",
       "      <td>False</td>\n",
       "      <td>False</td>\n",
       "      <td>False</td>\n",
       "      <td>False</td>\n",
       "      <td>False</td>\n",
       "    </tr>\n",
       "    <tr>\n",
       "      <th>datetimeIs_month_start</th>\n",
       "      <td>False</td>\n",
       "      <td>False</td>\n",
       "      <td>False</td>\n",
       "      <td>False</td>\n",
       "      <td>False</td>\n",
       "    </tr>\n",
       "    <tr>\n",
       "      <th>datetimeIs_quarter_end</th>\n",
       "      <td>False</td>\n",
       "      <td>False</td>\n",
       "      <td>False</td>\n",
       "      <td>False</td>\n",
       "      <td>False</td>\n",
       "    </tr>\n",
       "    <tr>\n",
       "      <th>datetimeIs_quarter_start</th>\n",
       "      <td>False</td>\n",
       "      <td>False</td>\n",
       "      <td>False</td>\n",
       "      <td>False</td>\n",
       "      <td>False</td>\n",
       "    </tr>\n",
       "    <tr>\n",
       "      <th>datetimeIs_year_end</th>\n",
       "      <td>False</td>\n",
       "      <td>False</td>\n",
       "      <td>False</td>\n",
       "      <td>False</td>\n",
       "      <td>False</td>\n",
       "    </tr>\n",
       "    <tr>\n",
       "      <th>datetimeIs_year_start</th>\n",
       "      <td>False</td>\n",
       "      <td>False</td>\n",
       "      <td>False</td>\n",
       "      <td>False</td>\n",
       "      <td>False</td>\n",
       "    </tr>\n",
       "  </tbody>\n",
       "</table>\n",
       "</div>"
      ],
      "text/plain": [
       "                                   0           1           2           3  \\\n",
       "Date                       10/3/2004   10/3/2004   10/3/2004   10/3/2004   \n",
       "Time                        18:00:00    19:00:00    20:00:00    21:00:00   \n",
       "CO(GT)                           2.6         2.0         2.2         2.2   \n",
       "PT08.S1(CO)                     1360        1292        1402        1376   \n",
       "NMHC(GT)                       150.0       112.0        88.0        80.0   \n",
       "C6H6(GT)                        11.9         9.4         9.0         9.2   \n",
       "PT08.S2(NMHC)                   1046         955         939         948   \n",
       "NOx(GT)                          166         103         131         172   \n",
       "PT08.S3(NOx)                    1056        1174        1140        1092   \n",
       "NO2(GT)                          113          92         114         122   \n",
       "PT08.S4(NO2)                    1692        1559        1555        1584   \n",
       "PT08.S5(O3)                   1268.0       972.0      1074.0      1203.0   \n",
       "T                               13.6        13.3        11.9        11.0   \n",
       "RH                              48.9        47.7        54.0        60.0   \n",
       "AH                            0.7578      0.7255      0.7502      0.7867   \n",
       "datetimeYear                    2004        2004        2004        2004   \n",
       "datetimeElapsed           1078941600  1078945200  1078948800  1078952400   \n",
       "datetimeMonth                      3           3           3           3   \n",
       "datetimeWeek                      11          11          11          11   \n",
       "datetimeDay                       10          10          10          10   \n",
       "datetimeDayofweek                  2           2           2           2   \n",
       "datetimeDayofyear                 70          70          70          70   \n",
       "datetimeIs_month_end           False       False       False       False   \n",
       "datetimeIs_month_start         False       False       False       False   \n",
       "datetimeIs_quarter_end         False       False       False       False   \n",
       "datetimeIs_quarter_start       False       False       False       False   \n",
       "datetimeIs_year_end            False       False       False       False   \n",
       "datetimeIs_year_start          False       False       False       False   \n",
       "\n",
       "                                   4  \n",
       "Date                       10/3/2004  \n",
       "Time                        22:00:00  \n",
       "CO(GT)                           1.6  \n",
       "PT08.S1(CO)                     1272  \n",
       "NMHC(GT)                        51.0  \n",
       "C6H6(GT)                         6.5  \n",
       "PT08.S2(NMHC)                    836  \n",
       "NOx(GT)                          131  \n",
       "PT08.S3(NOx)                    1205  \n",
       "NO2(GT)                          116  \n",
       "PT08.S4(NO2)                    1490  \n",
       "PT08.S5(O3)                   1110.0  \n",
       "T                               11.2  \n",
       "RH                              59.6  \n",
       "AH                            0.7888  \n",
       "datetimeYear                    2004  \n",
       "datetimeElapsed           1078956000  \n",
       "datetimeMonth                      3  \n",
       "datetimeWeek                      11  \n",
       "datetimeDay                       10  \n",
       "datetimeDayofweek                  2  \n",
       "datetimeDayofyear                 70  \n",
       "datetimeIs_month_end           False  \n",
       "datetimeIs_month_start         False  \n",
       "datetimeIs_quarter_end         False  \n",
       "datetimeIs_quarter_start       False  \n",
       "datetimeIs_year_end            False  \n",
       "datetimeIs_year_start          False  "
      ]
     },
     "execution_count": 28,
     "metadata": {},
     "output_type": "execute_result"
    }
   ],
   "source": [
    "df.head().T"
   ]
  },
  {
   "cell_type": "code",
   "execution_count": 29,
   "id": "3a5cad53",
   "metadata": {},
   "outputs": [
    {
     "name": "stdout",
     "output_type": "stream",
     "text": [
      "Requirement already satisfied: pyarrow in /home/nelth/anaconda3/envs/ml-playground/lib/python3.9/site-packages (6.0.0)\r\n",
      "Requirement already satisfied: numpy>=1.16.6 in /home/nelth/anaconda3/envs/ml-playground/lib/python3.9/site-packages (from pyarrow) (1.21.4)\r\n"
     ]
    }
   ],
   "source": [
    "!pip install pyarrow"
   ]
  },
  {
   "cell_type": "code",
   "execution_count": 30,
   "id": "87d32a46",
   "metadata": {},
   "outputs": [
    {
     "name": "stdout",
     "output_type": "stream",
     "text": [
      "mkdir: cannot create directory ‘tmp’: File exists\r\n"
     ]
    }
   ],
   "source": [
    "!mkdir tmp"
   ]
  },
  {
   "cell_type": "code",
   "execution_count": 31,
   "id": "467e34ec",
   "metadata": {},
   "outputs": [],
   "source": [
    "df.to_feather('tmp/feather')"
   ]
  },
  {
   "cell_type": "code",
   "execution_count": null,
   "id": "ccf6d40c",
   "metadata": {},
   "outputs": [],
   "source": []
  }
 ],
 "metadata": {
  "kernelspec": {
   "display_name": "Python 3 (ipykernel)",
   "language": "python",
   "name": "python3"
  },
  "language_info": {
   "codemirror_mode": {
    "name": "ipython",
    "version": 3
   },
   "file_extension": ".py",
   "mimetype": "text/x-python",
   "name": "python",
   "nbconvert_exporter": "python",
   "pygments_lexer": "ipython3",
   "version": "3.9.7"
  }
 },
 "nbformat": 4,
 "nbformat_minor": 5
}
