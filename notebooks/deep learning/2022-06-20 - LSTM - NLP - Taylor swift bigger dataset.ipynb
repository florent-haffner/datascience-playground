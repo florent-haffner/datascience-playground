{
 "cells": [
  {
   "cell_type": "markdown",
   "metadata": {
    "id": "fw8ehKmar771"
   },
   "source": [
    "# Deep learning - Final - LSTM prediction over lyrics\n"
   ]
  },
  {
   "cell_type": "code",
   "execution_count": 1,
   "metadata": {
    "executionInfo": {
     "elapsed": 4326,
     "status": "ok",
     "timestamp": 1655720639279,
     "user": {
      "displayName": "Florent HAFFNER",
      "userId": "00167581191322455559"
     },
     "user_tz": -120
    },
    "id": "bziNk1vb6EOE",
    "tags": []
   },
   "outputs": [],
   "source": [
    "import tensorflow as tf\n",
    "import pandas as pd\n",
    "from tensorflow.keras.preprocessing.sequence import pad_sequences\n",
    "from tensorflow.keras.layers import Embedding, LSTM, Dense, Bidirectional\n",
    "from tensorflow.keras.preprocessing.text import Tokenizer\n",
    "from tensorflow.keras.models import Sequential\n",
    "from tensorflow.keras.optimizers import Adam\n",
    "from keras.callbacks import EarlyStopping, ModelCheckpoint\n",
    "import numpy as np\n",
    "# from google.colab import drive\n",
    "from keras import backend as K\n",
    "\n",
    "import os\n",
    "import csv\n",
    "import nltk\n",
    "import string\n",
    "import numpy as np\n",
    "import pandas as pd\n",
    "\n",
    "from sklearn.manifold import TSNE"
   ]
  },
  {
   "cell_type": "markdown",
   "metadata": {
    "id": "-AqrBtqgqoQG"
   },
   "source": [
    "## Data loading"
   ]
  },
  {
   "cell_type": "code",
   "execution_count": 2,
   "metadata": {
    "colab": {
     "base_uri": "https://localhost:8080/"
    },
    "executionInfo": {
     "elapsed": 17083,
     "status": "ok",
     "timestamp": 1655720656355,
     "user": {
      "displayName": "Florent HAFFNER",
      "userId": "00167581191322455559"
     },
     "user_tz": -120
    },
    "id": "dJDA4WAQ7D1o",
    "outputId": "bd4567fc-8afd-477e-81a4-c51dcd97b706"
   },
   "outputs": [],
   "source": [
    "# drive_path = '/content/gdrive/'\n",
    "# drive.mount(drive_path)"
   ]
  },
  {
   "cell_type": "code",
   "execution_count": 3,
   "metadata": {
    "executionInfo": {
     "elapsed": 862,
     "status": "ok",
     "timestamp": 1655720659630,
     "user": {
      "displayName": "Florent HAFFNER",
      "userId": "00167581191322455559"
     },
     "user_tz": -120
    },
    "id": "efOdgWFHeMgc"
   },
   "outputs": [],
   "source": [
    "# path = drive_path + 'MyDrive/Colab Notebooks/Ynov - Deep learning/Semaine 2 - NLP on Keras & Spacy/'\n",
    "path = os.getcwd() + '/../../'\n",
    "data_path = path + 'data/lyrics.csv'\n",
    "\n",
    "# columns = []\n",
    "# rows = []\n",
    "# with open(data_path) as csvfile:\n",
    "#   reader = csv.reader(csvfile, delimiter=',')\n",
    "#   columns = next(reader)\n",
    "#   for row in reader:\n",
    "#     rows.append(row)"
   ]
  },
  {
   "cell_type": "code",
   "execution_count": 4,
   "metadata": {
    "colab": {
     "base_uri": "https://localhost:8080/",
     "height": 337
    },
    "executionInfo": {
     "elapsed": 1110,
     "status": "ok",
     "timestamp": 1655720660737,
     "user": {
      "displayName": "Florent HAFFNER",
      "userId": "00167581191322455559"
     },
     "user_tz": -120
    },
    "id": "h04Tw4v4iP3X",
    "outputId": "7789162d-0a6d-433a-d9a9-950f197a0a9d"
   },
   "outputs": [
    {
     "data": {
      "text/html": [
       "<div>\n",
       "<style scoped>\n",
       "    .dataframe tbody tr th:only-of-type {\n",
       "        vertical-align: middle;\n",
       "    }\n",
       "\n",
       "    .dataframe tbody tr th {\n",
       "        vertical-align: top;\n",
       "    }\n",
       "\n",
       "    .dataframe thead th {\n",
       "        text-align: right;\n",
       "    }\n",
       "</style>\n",
       "<table border=\"1\" class=\"dataframe\">\n",
       "  <thead>\n",
       "    <tr style=\"text-align: right;\">\n",
       "      <th></th>\n",
       "      <th>link</th>\n",
       "      <th>artist</th>\n",
       "      <th>song_name</th>\n",
       "      <th>lyrics</th>\n",
       "    </tr>\n",
       "  </thead>\n",
       "  <tbody>\n",
       "    <tr>\n",
       "      <th>0</th>\n",
       "      <td>../lyrics/backstreetboys/climbingthewalls.html</td>\n",
       "      <td>Backstreet Boys Lyrics</td>\n",
       "      <td>Climbing The Walls</td>\n",
       "      <td>\\n\\n[Brian:]\\nClose your eyes, make a wish\\nTh...</td>\n",
       "    </tr>\n",
       "    <tr>\n",
       "      <th>1</th>\n",
       "      <td>../lyrics/westlife/howtobreakaheart.html</td>\n",
       "      <td>Westlife Lyrics</td>\n",
       "      <td>How To Break A Heart</td>\n",
       "      <td>\\n\\r\\nSince you're not worth my love\\nI haven'...</td>\n",
       "    </tr>\n",
       "    <tr>\n",
       "      <th>2</th>\n",
       "      <td>../lyrics/deanmartin/iwill.html</td>\n",
       "      <td>Dean Martin Lyrics</td>\n",
       "      <td>I Will</td>\n",
       "      <td>\\n\\r\\nI don't want to be the one to say I'm go...</td>\n",
       "    </tr>\n",
       "    <tr>\n",
       "      <th>3</th>\n",
       "      <td>../lyrics/deanmartin/tellyourmotherhello.html</td>\n",
       "      <td>Dean Martin Lyrics</td>\n",
       "      <td>Tell Your Mother Hello</td>\n",
       "      <td>\\n\\r\\nSure I loved the dear money that shines ...</td>\n",
       "    </tr>\n",
       "    <tr>\n",
       "      <th>4</th>\n",
       "      <td>../lyrics/deanmartin/behonestwithme.html</td>\n",
       "      <td>Dean Martin Lyrics</td>\n",
       "      <td>Be Honest With Me</td>\n",
       "      <td>\\n\\r\\nBe honest with me dear whatever you do\\n...</td>\n",
       "    </tr>\n",
       "    <tr>\n",
       "      <th>5</th>\n",
       "      <td>../lyrics/deanmartin/myriflemyponyandme.html</td>\n",
       "      <td>Dean Martin Lyrics</td>\n",
       "      <td>My Rifle, My Pony And Me</td>\n",
       "      <td>\\n\\r\\nThe sun is sinking in the west\\nThe catt...</td>\n",
       "    </tr>\n",
       "    <tr>\n",
       "      <th>6</th>\n",
       "      <td>../lyrics/westlife/changeyourmind.html</td>\n",
       "      <td>Westlife Lyrics</td>\n",
       "      <td>Change Your Mind</td>\n",
       "      <td>\\n\\r\\nHey, girl, it's all over town \\r\\nSo how...</td>\n",
       "    </tr>\n",
       "    <tr>\n",
       "      <th>7</th>\n",
       "      <td>../lyrics/deanmartin/togetheragain.html</td>\n",
       "      <td>Dean Martin Lyrics</td>\n",
       "      <td>Together Again</td>\n",
       "      <td>\\n\\r\\nTogether again my tears have stopped fal...</td>\n",
       "    </tr>\n",
       "    <tr>\n",
       "      <th>8</th>\n",
       "      <td>../lyrics/westlife/fragileheart.html</td>\n",
       "      <td>Westlife Lyrics</td>\n",
       "      <td>Fragile Heart</td>\n",
       "      <td>\\n\\r\\nA fragile heart was broken before\\nI don...</td>\n",
       "    </tr>\n",
       "    <tr>\n",
       "      <th>9</th>\n",
       "      <td>../lyrics/backstreetboys/everytimeiclosemyeyes...</td>\n",
       "      <td>Backstreet Boys Lyrics</td>\n",
       "      <td>Everytime I Close My Eyes</td>\n",
       "      <td>\\n\\r\\nEverytime I close my eyes\\r\\nEverytime I...</td>\n",
       "    </tr>\n",
       "    <tr>\n",
       "      <th>10</th>\n",
       "      <td>../lyrics/deanmartin/whosyourlittlewhozis.html</td>\n",
       "      <td>Dean Martin Lyrics</td>\n",
       "      <td>Who's Your Little Who-Zis</td>\n",
       "      <td>\\n\\r\\nWho's your little who-zis\\nAh, your litt...</td>\n",
       "    </tr>\n",
       "    <tr>\n",
       "      <th>11</th>\n",
       "      <td>../lyrics/deanmartin/justtheothersideofnowhere...</td>\n",
       "      <td>Dean Martin Lyrics</td>\n",
       "      <td>Just The Other Side Of Nowhere</td>\n",
       "      <td>\\n\\r\\nI come from just the other side of nowhe...</td>\n",
       "    </tr>\n",
       "    <tr>\n",
       "      <th>12</th>\n",
       "      <td>../lyrics/backstreetboys/newlove.html</td>\n",
       "      <td>Backstreet Boys Lyrics</td>\n",
       "      <td>New Love</td>\n",
       "      <td>\\n\\r\\nOh yeah\\nOh, oh, oh yeah\\nOh, oh, oh, oh...</td>\n",
       "    </tr>\n",
       "    <tr>\n",
       "      <th>13</th>\n",
       "      <td>../lyrics/backstreetboys/theperfectfan.html</td>\n",
       "      <td>Backstreet Boys Lyrics</td>\n",
       "      <td>The Perfect Fan</td>\n",
       "      <td>\\n\\r\\nIt takes a lot to know what is love\\nIt'...</td>\n",
       "    </tr>\n",
       "    <tr>\n",
       "      <th>14</th>\n",
       "      <td>../lyrics/deanmartin/clingingvine.html</td>\n",
       "      <td>Dean Martin Lyrics</td>\n",
       "      <td>Clinging Vine</td>\n",
       "      <td>\\n\\r\\nCling to me clinging vine\\nJust to me cl...</td>\n",
       "    </tr>\n",
       "    <tr>\n",
       "      <th>15</th>\n",
       "      <td>../lyrics/westlife/thedance.html</td>\n",
       "      <td>Westlife Lyrics</td>\n",
       "      <td>The Dance</td>\n",
       "      <td>\\n\\r\\nLooking back on the memory of \\r\\nThe da...</td>\n",
       "    </tr>\n",
       "    <tr>\n",
       "      <th>16</th>\n",
       "      <td>../lyrics/taylorswift/stupidboy.html</td>\n",
       "      <td>Taylor Swift Lyrics</td>\n",
       "      <td>Stupid Boy</td>\n",
       "      <td>\\n\\r\\nLet me know, how's it feel\\nTo be under ...</td>\n",
       "    </tr>\n",
       "    <tr>\n",
       "      <th>17</th>\n",
       "      <td>../lyrics/deanmartin/captured.html</td>\n",
       "      <td>Dean Martin Lyrics</td>\n",
       "      <td>Captured</td>\n",
       "      <td>\\n\\r\\nI tried to get away from your burning li...</td>\n",
       "    </tr>\n",
       "    <tr>\n",
       "      <th>18</th>\n",
       "      <td>../lyrics/taylorswift/writingsongsaboutyou.html</td>\n",
       "      <td>Taylor Swift Lyrics</td>\n",
       "      <td>Writing Songs About You</td>\n",
       "      <td>\\n\\r\\nI can't believe you did it again\\nWalked...</td>\n",
       "    </tr>\n",
       "    <tr>\n",
       "      <th>19</th>\n",
       "      <td>../lyrics/backstreetboys/trustme.html</td>\n",
       "      <td>Backstreet Boys Lyrics</td>\n",
       "      <td>Trust Me</td>\n",
       "      <td>\\n\\r\\nLet me tell you about this girl I know\\n...</td>\n",
       "    </tr>\n",
       "  </tbody>\n",
       "</table>\n",
       "</div>"
      ],
      "text/plain": [
       "                                                 link                  artist  \\\n",
       "0      ../lyrics/backstreetboys/climbingthewalls.html  Backstreet Boys Lyrics   \n",
       "1            ../lyrics/westlife/howtobreakaheart.html         Westlife Lyrics   \n",
       "2                     ../lyrics/deanmartin/iwill.html      Dean Martin Lyrics   \n",
       "3       ../lyrics/deanmartin/tellyourmotherhello.html      Dean Martin Lyrics   \n",
       "4            ../lyrics/deanmartin/behonestwithme.html      Dean Martin Lyrics   \n",
       "5        ../lyrics/deanmartin/myriflemyponyandme.html      Dean Martin Lyrics   \n",
       "6              ../lyrics/westlife/changeyourmind.html         Westlife Lyrics   \n",
       "7             ../lyrics/deanmartin/togetheragain.html      Dean Martin Lyrics   \n",
       "8                ../lyrics/westlife/fragileheart.html         Westlife Lyrics   \n",
       "9   ../lyrics/backstreetboys/everytimeiclosemyeyes...  Backstreet Boys Lyrics   \n",
       "10     ../lyrics/deanmartin/whosyourlittlewhozis.html      Dean Martin Lyrics   \n",
       "11  ../lyrics/deanmartin/justtheothersideofnowhere...      Dean Martin Lyrics   \n",
       "12              ../lyrics/backstreetboys/newlove.html  Backstreet Boys Lyrics   \n",
       "13        ../lyrics/backstreetboys/theperfectfan.html  Backstreet Boys Lyrics   \n",
       "14             ../lyrics/deanmartin/clingingvine.html      Dean Martin Lyrics   \n",
       "15                   ../lyrics/westlife/thedance.html         Westlife Lyrics   \n",
       "16               ../lyrics/taylorswift/stupidboy.html     Taylor Swift Lyrics   \n",
       "17                 ../lyrics/deanmartin/captured.html      Dean Martin Lyrics   \n",
       "18    ../lyrics/taylorswift/writingsongsaboutyou.html     Taylor Swift Lyrics   \n",
       "19              ../lyrics/backstreetboys/trustme.html  Backstreet Boys Lyrics   \n",
       "\n",
       "                         song_name  \\\n",
       "0               Climbing The Walls   \n",
       "1             How To Break A Heart   \n",
       "2                           I Will   \n",
       "3           Tell Your Mother Hello   \n",
       "4                Be Honest With Me   \n",
       "5         My Rifle, My Pony And Me   \n",
       "6                 Change Your Mind   \n",
       "7                   Together Again   \n",
       "8                    Fragile Heart   \n",
       "9        Everytime I Close My Eyes   \n",
       "10       Who's Your Little Who-Zis   \n",
       "11  Just The Other Side Of Nowhere   \n",
       "12                        New Love   \n",
       "13                 The Perfect Fan   \n",
       "14                   Clinging Vine   \n",
       "15                       The Dance   \n",
       "16                      Stupid Boy   \n",
       "17                        Captured   \n",
       "18         Writing Songs About You   \n",
       "19                        Trust Me   \n",
       "\n",
       "                                               lyrics  \n",
       "0   \\n\\n[Brian:]\\nClose your eyes, make a wish\\nTh...  \n",
       "1   \\n\\r\\nSince you're not worth my love\\nI haven'...  \n",
       "2   \\n\\r\\nI don't want to be the one to say I'm go...  \n",
       "3   \\n\\r\\nSure I loved the dear money that shines ...  \n",
       "4   \\n\\r\\nBe honest with me dear whatever you do\\n...  \n",
       "5   \\n\\r\\nThe sun is sinking in the west\\nThe catt...  \n",
       "6   \\n\\r\\nHey, girl, it's all over town \\r\\nSo how...  \n",
       "7   \\n\\r\\nTogether again my tears have stopped fal...  \n",
       "8   \\n\\r\\nA fragile heart was broken before\\nI don...  \n",
       "9   \\n\\r\\nEverytime I close my eyes\\r\\nEverytime I...  \n",
       "10  \\n\\r\\nWho's your little who-zis\\nAh, your litt...  \n",
       "11  \\n\\r\\nI come from just the other side of nowhe...  \n",
       "12  \\n\\r\\nOh yeah\\nOh, oh, oh yeah\\nOh, oh, oh, oh...  \n",
       "13  \\n\\r\\nIt takes a lot to know what is love\\nIt'...  \n",
       "14  \\n\\r\\nCling to me clinging vine\\nJust to me cl...  \n",
       "15  \\n\\r\\nLooking back on the memory of \\r\\nThe da...  \n",
       "16  \\n\\r\\nLet me know, how's it feel\\nTo be under ...  \n",
       "17  \\n\\r\\nI tried to get away from your burning li...  \n",
       "18  \\n\\r\\nI can't believe you did it again\\nWalked...  \n",
       "19  \\n\\r\\nLet me tell you about this girl I know\\n...  "
      ]
     },
     "execution_count": 4,
     "metadata": {},
     "output_type": "execute_result"
    }
   ],
   "source": [
    "# https://www.kaggle.com/datasets/terminate9298/songs-lyrics?resource=download&select=lyrics.csv\n",
    "df = pd.read_csv(data_path)\n",
    "df = df.iloc[:,1:5]\n",
    "df.head(20)"
   ]
  },
  {
   "cell_type": "code",
   "execution_count": 5,
   "metadata": {},
   "outputs": [
    {
     "data": {
      "text/html": [
       "<div>\n",
       "<style scoped>\n",
       "    .dataframe tbody tr th:only-of-type {\n",
       "        vertical-align: middle;\n",
       "    }\n",
       "\n",
       "    .dataframe tbody tr th {\n",
       "        vertical-align: top;\n",
       "    }\n",
       "\n",
       "    .dataframe thead th {\n",
       "        text-align: right;\n",
       "    }\n",
       "</style>\n",
       "<table border=\"1\" class=\"dataframe\">\n",
       "  <thead>\n",
       "    <tr style=\"text-align: right;\">\n",
       "      <th></th>\n",
       "      <th>link</th>\n",
       "      <th>artist</th>\n",
       "      <th>song_name</th>\n",
       "      <th>lyrics</th>\n",
       "    </tr>\n",
       "  </thead>\n",
       "  <tbody>\n",
       "    <tr>\n",
       "      <th>16</th>\n",
       "      <td>../lyrics/taylorswift/stupidboy.html</td>\n",
       "      <td>Taylor Swift Lyrics</td>\n",
       "      <td>Stupid Boy</td>\n",
       "      <td>\\n\\r\\nLet me know, how's it feel\\nTo be under ...</td>\n",
       "    </tr>\n",
       "    <tr>\n",
       "      <th>18</th>\n",
       "      <td>../lyrics/taylorswift/writingsongsaboutyou.html</td>\n",
       "      <td>Taylor Swift Lyrics</td>\n",
       "      <td>Writing Songs About You</td>\n",
       "      <td>\\n\\r\\nI can't believe you did it again\\nWalked...</td>\n",
       "    </tr>\n",
       "    <tr>\n",
       "      <th>23</th>\n",
       "      <td>../lyrics/taylorswift/badbloodremix.html</td>\n",
       "      <td>Taylor Swift Lyrics</td>\n",
       "      <td>Bad Blood (Remix)</td>\n",
       "      <td>\\n\\n[Taylor Swift:]\\nâCause, baby, now we've...</td>\n",
       "    </tr>\n",
       "    <tr>\n",
       "      <th>29</th>\n",
       "      <td>../lyrics/taylorswift/longlive.html</td>\n",
       "      <td>Taylor Swift Lyrics</td>\n",
       "      <td>Long Live</td>\n",
       "      <td>\\n\\r\\nI said remember this moment\\nIn the back...</td>\n",
       "    </tr>\n",
       "    <tr>\n",
       "      <th>32</th>\n",
       "      <td>../lyrics/taylorswift/readyforitbloodpopremix....</td>\n",
       "      <td>Taylor Swift Lyrics</td>\n",
       "      <td>...Ready For It? (BloodpopÂ® Remix)</td>\n",
       "      <td>\\n\\r\\nKnew he was a killer first time that I s...</td>\n",
       "    </tr>\n",
       "    <tr>\n",
       "      <th>...</th>\n",
       "      <td>...</td>\n",
       "      <td>...</td>\n",
       "      <td>...</td>\n",
       "      <td>...</td>\n",
       "    </tr>\n",
       "    <tr>\n",
       "      <th>1262</th>\n",
       "      <td>../lyrics/taylorswift/soitgoes.html</td>\n",
       "      <td>Taylor Swift Lyrics</td>\n",
       "      <td>So It Goes...</td>\n",
       "      <td>\\n\\r\\nSee you in the dark\\nAll eyes on you, my...</td>\n",
       "    </tr>\n",
       "    <tr>\n",
       "      <th>1275</th>\n",
       "      <td>../lyrics/taylorswift/americanboy.html</td>\n",
       "      <td>Taylor Swift Lyrics</td>\n",
       "      <td>American Boy</td>\n",
       "      <td>\\n\\r\\nAmerican boy, living life as it goes\\nSi...</td>\n",
       "    </tr>\n",
       "    <tr>\n",
       "      <th>1283</th>\n",
       "      <td>../lyrics/taylorswift/foreveralwayspianoversio...</td>\n",
       "      <td>Taylor Swift Lyrics</td>\n",
       "      <td>Forever &amp; Always (Piano Version)</td>\n",
       "      <td>\\n\\r\\nOnce upon a time\\nI believe it was a Tue...</td>\n",
       "    </tr>\n",
       "    <tr>\n",
       "      <th>1286</th>\n",
       "      <td>../lyrics/taylorswift/oursong.html</td>\n",
       "      <td>Taylor Swift Lyrics</td>\n",
       "      <td>Our Song</td>\n",
       "      <td>\\n\\r\\nI was riding shotgun\\nWith my hair undon...</td>\n",
       "    </tr>\n",
       "    <tr>\n",
       "      <th>1289</th>\n",
       "      <td>../lyrics/taylorswift/delicate.html</td>\n",
       "      <td>Taylor Swift Lyrics</td>\n",
       "      <td>Delicate</td>\n",
       "      <td>\\n\\r\\nThis ain't for the best\\nMy reputation's...</td>\n",
       "    </tr>\n",
       "  </tbody>\n",
       "</table>\n",
       "<p>242 rows × 4 columns</p>\n",
       "</div>"
      ],
      "text/plain": [
       "                                                   link               artist  \\\n",
       "16                 ../lyrics/taylorswift/stupidboy.html  Taylor Swift Lyrics   \n",
       "18      ../lyrics/taylorswift/writingsongsaboutyou.html  Taylor Swift Lyrics   \n",
       "23             ../lyrics/taylorswift/badbloodremix.html  Taylor Swift Lyrics   \n",
       "29                  ../lyrics/taylorswift/longlive.html  Taylor Swift Lyrics   \n",
       "32    ../lyrics/taylorswift/readyforitbloodpopremix....  Taylor Swift Lyrics   \n",
       "...                                                 ...                  ...   \n",
       "1262                ../lyrics/taylorswift/soitgoes.html  Taylor Swift Lyrics   \n",
       "1275             ../lyrics/taylorswift/americanboy.html  Taylor Swift Lyrics   \n",
       "1283  ../lyrics/taylorswift/foreveralwayspianoversio...  Taylor Swift Lyrics   \n",
       "1286                 ../lyrics/taylorswift/oursong.html  Taylor Swift Lyrics   \n",
       "1289                ../lyrics/taylorswift/delicate.html  Taylor Swift Lyrics   \n",
       "\n",
       "                                song_name  \\\n",
       "16                             Stupid Boy   \n",
       "18                Writing Songs About You   \n",
       "23                      Bad Blood (Remix)   \n",
       "29                              Long Live   \n",
       "32    ...Ready For It? (BloodpopÂ® Remix)   \n",
       "...                                   ...   \n",
       "1262                        So It Goes...   \n",
       "1275                         American Boy   \n",
       "1283     Forever & Always (Piano Version)   \n",
       "1286                             Our Song   \n",
       "1289                             Delicate   \n",
       "\n",
       "                                                 lyrics  \n",
       "16    \\n\\r\\nLet me know, how's it feel\\nTo be under ...  \n",
       "18    \\n\\r\\nI can't believe you did it again\\nWalked...  \n",
       "23    \\n\\n[Taylor Swift:]\\nâCause, baby, now we've...  \n",
       "29    \\n\\r\\nI said remember this moment\\nIn the back...  \n",
       "32    \\n\\r\\nKnew he was a killer first time that I s...  \n",
       "...                                                 ...  \n",
       "1262  \\n\\r\\nSee you in the dark\\nAll eyes on you, my...  \n",
       "1275  \\n\\r\\nAmerican boy, living life as it goes\\nSi...  \n",
       "1283  \\n\\r\\nOnce upon a time\\nI believe it was a Tue...  \n",
       "1286  \\n\\r\\nI was riding shotgun\\nWith my hair undon...  \n",
       "1289  \\n\\r\\nThis ain't for the best\\nMy reputation's...  \n",
       "\n",
       "[242 rows x 4 columns]"
      ]
     },
     "execution_count": 5,
     "metadata": {},
     "output_type": "execute_result"
    }
   ],
   "source": [
    "df = df[df['artist']=='Taylor Swift Lyrics']; df"
   ]
  },
  {
   "cell_type": "code",
   "execution_count": 6,
   "metadata": {
    "colab": {
     "base_uri": "https://localhost:8080/",
     "height": 240
    },
    "executionInfo": {
     "elapsed": 390,
     "status": "ok",
     "timestamp": 1655720661125,
     "user": {
      "displayName": "Florent HAFFNER",
      "userId": "00167581191322455559"
     },
     "user_tz": -120
    },
    "id": "sDXz2JtEZsQ3",
    "outputId": "fa25f020-2a88-4b0f-b204-2e808145eabb"
   },
   "outputs": [
    {
     "data": {
      "text/html": [
       "<div>\n",
       "<style scoped>\n",
       "    .dataframe tbody tr th:only-of-type {\n",
       "        vertical-align: middle;\n",
       "    }\n",
       "\n",
       "    .dataframe tbody tr th {\n",
       "        vertical-align: top;\n",
       "    }\n",
       "\n",
       "    .dataframe thead th {\n",
       "        text-align: right;\n",
       "    }\n",
       "</style>\n",
       "<table border=\"1\" class=\"dataframe\">\n",
       "  <thead>\n",
       "    <tr style=\"text-align: right;\">\n",
       "      <th></th>\n",
       "      <th>link</th>\n",
       "      <th>artist</th>\n",
       "      <th>song_name</th>\n",
       "      <th>lyrics</th>\n",
       "    </tr>\n",
       "  </thead>\n",
       "  <tbody>\n",
       "    <tr>\n",
       "      <th>16</th>\n",
       "      <td>../lyrics/taylorswift/stupidboy.html</td>\n",
       "      <td>Taylor Swift Lyrics</td>\n",
       "      <td>Stupid Boy</td>\n",
       "      <td>Let me know, how's it feel To be under my s...</td>\n",
       "    </tr>\n",
       "    <tr>\n",
       "      <th>18</th>\n",
       "      <td>../lyrics/taylorswift/writingsongsaboutyou.html</td>\n",
       "      <td>Taylor Swift Lyrics</td>\n",
       "      <td>Writing Songs About You</td>\n",
       "      <td>I can't believe you did it again Walked by ...</td>\n",
       "    </tr>\n",
       "    <tr>\n",
       "      <th>23</th>\n",
       "      <td>../lyrics/taylorswift/badbloodremix.html</td>\n",
       "      <td>Taylor Swift Lyrics</td>\n",
       "      <td>Bad Blood</td>\n",
       "      <td>âCause, baby, now we've got bad blood Yo...</td>\n",
       "    </tr>\n",
       "  </tbody>\n",
       "</table>\n",
       "</div>"
      ],
      "text/plain": [
       "                                               link               artist  \\\n",
       "16             ../lyrics/taylorswift/stupidboy.html  Taylor Swift Lyrics   \n",
       "18  ../lyrics/taylorswift/writingsongsaboutyou.html  Taylor Swift Lyrics   \n",
       "23         ../lyrics/taylorswift/badbloodremix.html  Taylor Swift Lyrics   \n",
       "\n",
       "                  song_name                                             lyrics  \n",
       "16               Stupid Boy     Let me know, how's it feel To be under my s...  \n",
       "18  Writing Songs About You     I can't believe you did it again Walked by ...  \n",
       "23              Bad Blood        âCause, baby, now we've got bad blood Yo...  "
      ]
     },
     "execution_count": 6,
     "metadata": {},
     "output_type": "execute_result"
    }
   ],
   "source": [
    "import re\n",
    "\n",
    "for col in df.columns:\n",
    "    df[col] = df[col].str.replace(re.compile('\\(.+?\\)'), ' ', regex=True)\n",
    "    df[col] = df[col].str.replace(re.compile('\\[.+?\\]'), ' ', regex=True)\n",
    "    df[col] = df[col].str.replace(re.compile('\\\\n'), ' ', regex=True)\n",
    "    df[col] = df[col].str.replace(re.compile('\\\\r'), ' ', regex=True)\n",
    "\n",
    "df.head(3)"
   ]
  },
  {
   "cell_type": "markdown",
   "metadata": {
    "id": "Z3bbciVPqrUT"
   },
   "source": [
    "## Data normalization & Tokenization"
   ]
  },
  {
   "cell_type": "code",
   "execution_count": 7,
   "metadata": {
    "executionInfo": {
     "elapsed": 3,
     "status": "ok",
     "timestamp": 1655720661535,
     "user": {
      "displayName": "Florent HAFFNER",
      "userId": "00167581191322455559"
     },
     "user_tz": -120
    },
    "id": "gqoOcRgUchlT"
   },
   "outputs": [],
   "source": [
    "corpus = df.lyrics"
   ]
  },
  {
   "cell_type": "code",
   "execution_count": 8,
   "metadata": {
    "executionInfo": {
     "elapsed": 5,
     "status": "ok",
     "timestamp": 1655720662299,
     "user": {
      "displayName": "Florent HAFFNER",
      "userId": "00167581191322455559"
     },
     "user_tz": -120
    },
    "id": "t10XH0BmlzD3"
   },
   "outputs": [],
   "source": [
    "# # Combining all the article snippets into one string\n",
    "# snippet = '\\n'.join(df['lyrics'])\n",
    "# print(type(snippet))\n",
    "# print(snippet)"
   ]
  },
  {
   "cell_type": "code",
   "execution_count": 9,
   "metadata": {
    "executionInfo": {
     "elapsed": 3,
     "status": "ok",
     "timestamp": 1655720663115,
     "user": {
      "displayName": "Florent HAFFNER",
      "userId": "00167581191322455559"
     },
     "user_tz": -120
    },
    "id": "rk1ykK5NiTX8"
   },
   "outputs": [],
   "source": [
    "# # applying lowercase for all capitalizations in order to reduce the corpus.\n",
    "# # splitting each snippet based on newline\n",
    "# corpus = snippet.lower().split('\\n')\n",
    "# print(len(corpus)) # we have 1,385 snippets from articles\n",
    "\n",
    "# print(type(corpus))\n",
    "# print(corpus[:2])"
   ]
  },
  {
   "cell_type": "markdown",
   "metadata": {
    "id": "7CancymmqymB"
   },
   "source": [
    "## Building corpus index of known words"
   ]
  },
  {
   "cell_type": "code",
   "execution_count": 10,
   "metadata": {
    "colab": {
     "base_uri": "https://localhost:8080/"
    },
    "executionInfo": {
     "elapsed": 5157,
     "status": "ok",
     "timestamp": 1655720669249,
     "user": {
      "displayName": "Florent HAFFNER",
      "userId": "00167581191322455559"
     },
     "user_tz": -120
    },
    "id": "NhUJ1uM0lUKm",
    "outputId": "8df396a3-ec23-4fa8-b396-a430e0ff707a"
   },
   "outputs": [
    {
     "name": "stdout",
     "output_type": "stream",
     "text": [
      "3744\n"
     ]
    }
   ],
   "source": [
    "tokenizer = Tokenizer()\n",
    "tokenizer.fit_on_texts(corpus)\n",
    "word_index = tokenizer.word_index\n",
    "total_unique_words = len(tokenizer.word_index) + 1 # +1 b/c of OOV words\n",
    "\n",
    "print(total_unique_words) # we have 6,862 unique words in the corpus plus one (1) for OOV\n",
    "# print(word_index)"
   ]
  },
  {
   "cell_type": "code",
   "execution_count": 11,
   "metadata": {
    "colab": {
     "base_uri": "https://localhost:8080/"
    },
    "executionInfo": {
     "elapsed": 10,
     "status": "ok",
     "timestamp": 1655720669250,
     "user": {
      "displayName": "Florent HAFFNER",
      "userId": "00167581191322455559"
     },
     "user_tz": -120
    },
    "id": "ofSpR5vF2bzG",
    "outputId": "fc0baa9f-711a-4cc4-9044-197485480a79"
   },
   "outputs": [
    {
     "name": "stdout",
     "output_type": "stream",
     "text": [
      "112\n",
      "1128\n"
     ]
    }
   ],
   "source": [
    "print(tokenizer.word_index['good'])\n",
    "print(tokenizer.word_index['great'])"
   ]
  },
  {
   "cell_type": "markdown",
   "metadata": {
    "id": "tYxy7tKXI7LN"
   },
   "source": [
    "## Fetch and load the Standford's \"GloVe-100\" high dimensional word embeddings"
   ]
  },
  {
   "cell_type": "code",
   "execution_count": 12,
   "metadata": {
    "colab": {
     "base_uri": "https://localhost:8080/"
    },
    "executionInfo": {
     "elapsed": 5765,
     "status": "ok",
     "timestamp": 1655720675009,
     "user": {
      "displayName": "Florent HAFFNER",
      "userId": "00167581191322455559"
     },
     "user_tz": -120
    },
    "id": "sVlHdeEpIEJn",
    "outputId": "750635bd-8dbb-404f-c5f1-5e12bc4a5dbd"
   },
   "outputs": [
    {
     "data": {
      "text/plain": [
       "{'the': array([ 4.1800e-01,  2.4968e-01, -4.1242e-01,  1.2170e-01,  3.4527e-01,\n",
       "        -4.4457e-02, -4.9688e-01, -1.7862e-01, -6.6023e-04, -6.5660e-01,\n",
       "         2.7843e-01, -1.4767e-01, -5.5677e-01,  1.4658e-01, -9.5095e-03,\n",
       "         1.1658e-02,  1.0204e-01, -1.2792e-01, -8.4430e-01, -1.2181e-01,\n",
       "        -1.6801e-02, -3.3279e-01, -1.5520e-01, -2.3131e-01, -1.9181e-01,\n",
       "        -1.8823e+00, -7.6746e-01,  9.9051e-02, -4.2125e-01, -1.9526e-01,\n",
       "         4.0071e+00, -1.8594e-01, -5.2287e-01, -3.1681e-01,  5.9213e-04,\n",
       "         7.4449e-03,  1.7778e-01, -1.5897e-01,  1.2041e-02, -5.4223e-02,\n",
       "        -2.9871e-01, -1.5749e-01, -3.4758e-01, -4.5637e-02, -4.4251e-01,\n",
       "         1.8785e-01,  2.7849e-03, -1.8411e-01, -1.1514e-01, -7.8581e-01],\n",
       "       dtype=float32),\n",
       " ',': array([ 0.013441,  0.23682 , -0.16899 ,  0.40951 ,  0.63812 ,  0.47709 ,\n",
       "        -0.42852 , -0.55641 , -0.364   , -0.23938 ,  0.13001 , -0.063734,\n",
       "        -0.39575 , -0.48162 ,  0.23291 ,  0.090201, -0.13324 ,  0.078639,\n",
       "        -0.41634 , -0.15428 ,  0.10068 ,  0.48891 ,  0.31226 , -0.1252  ,\n",
       "        -0.037512, -1.5179  ,  0.12612 , -0.02442 , -0.042961, -0.28351 ,\n",
       "         3.5416  , -0.11956 , -0.014533, -0.1499  ,  0.21864 , -0.33412 ,\n",
       "        -0.13872 ,  0.31806 ,  0.70358 ,  0.44858 , -0.080262,  0.63003 ,\n",
       "         0.32111 , -0.46765 ,  0.22786 ,  0.36034 , -0.37818 , -0.56657 ,\n",
       "         0.044691,  0.30392 ], dtype=float32)}"
      ]
     },
     "execution_count": 12,
     "metadata": {},
     "output_type": "execute_result"
    }
   ],
   "source": [
    "# \"https://nlp.stanford.edu/projects/glove/\"\n",
    "# model_path = path + 'Ynov - Deep learning/Semaine 2 - NLP on Keras & Spacy/' + 'model/glove.6B.100d.txt'\n",
    "model_path = path + '/' + 'model/glove.6B.50d.txt'\n",
    "\n",
    "embeddings_index = {}\n",
    "with open(model_path) as f:\n",
    "  for line in f:\n",
    "    values = line.split()\n",
    "    word = values[0]\n",
    "    coeffs = np.array(values[1:], dtype='float32')\n",
    "    embeddings_index[word] = coeffs\n",
    "\n",
    "# print out sample word embeddings\n",
    "dict(list(embeddings_index.items())[0:2])"
   ]
  },
  {
   "cell_type": "markdown",
   "metadata": {
    "id": "maqUbL2urFT5"
   },
   "source": [
    "## Building the right data type to use embedding"
   ]
  },
  {
   "cell_type": "code",
   "execution_count": 13,
   "metadata": {},
   "outputs": [],
   "source": [
    "output_dim = 50"
   ]
  },
  {
   "cell_type": "code",
   "execution_count": 14,
   "metadata": {
    "executionInfo": {
     "elapsed": 866,
     "status": "ok",
     "timestamp": 1655720689560,
     "user": {
      "displayName": "Florent HAFFNER",
      "userId": "00167581191322455559"
     },
     "user_tz": -120
    },
    "id": "SxkwD1YqI6Oi"
   },
   "outputs": [],
   "source": [
    "# creating a matrix which will store our unique corpus words and their glove embeddings\n",
    "# embeddings_matrix = np.zeros((total_unique_words, 100))\n",
    "embeddings_matrix = np.zeros((total_unique_words, output_dim))\n",
    "\n",
    "for word, i in word_index.items():\n",
    "    embedding_vector = embeddings_index.get(word)\n",
    "    if embedding_vector is not None:\n",
    "        embeddings_matrix[i] = embedding_vector"
   ]
  },
  {
   "cell_type": "code",
   "execution_count": 15,
   "metadata": {
    "colab": {
     "base_uri": "https://localhost:8080/"
    },
    "executionInfo": {
     "elapsed": 197,
     "status": "ok",
     "timestamp": 1655720690755,
     "user": {
      "displayName": "Florent HAFFNER",
      "userId": "00167581191322455559"
     },
     "user_tz": -120
    },
    "id": "Mjv_oQltEf71",
    "outputId": "a7305113-b531-4eba-f710-e1dcc399cc14"
   },
   "outputs": [
    {
     "data": {
      "text/plain": [
       "array([[-1.09190005e-03,  3.33240002e-01,  3.57430011e-01,\n",
       "        -5.40409982e-01,  8.20320010e-01, -4.93910015e-01,\n",
       "        -3.25879991e-01,  1.99720007e-03, -2.38289997e-01,\n",
       "         3.55540007e-01, -6.06549978e-01,  9.89319980e-01,\n",
       "        -2.17859998e-01,  1.12360001e-01,  1.14940000e+00,\n",
       "         7.32840002e-01,  5.11820018e-01,  2.92869985e-01,\n",
       "         2.83879995e-01, -1.35899997e+00, -3.79509985e-01,\n",
       "         5.09429991e-01,  7.07099974e-01,  6.29410028e-01,\n",
       "         1.05340004e+00, -2.17560005e+00, -1.32040000e+00,\n",
       "         4.00009990e-01,  1.57410002e+00, -1.65999997e+00,\n",
       "         3.77209997e+00,  8.69490027e-01, -8.04390013e-01,\n",
       "         1.83899999e-01, -3.43320012e-01,  1.07140001e-02,\n",
       "         2.39690006e-01,  6.67480007e-02,  7.01170027e-01,\n",
       "        -7.37020016e-01,  2.08770007e-01,  1.15640000e-01,\n",
       "        -1.51899993e-01,  8.59080017e-01,  2.26199999e-01,\n",
       "         1.65189996e-01,  3.63090008e-01, -4.56970006e-01,\n",
       "        -4.89690006e-02,  1.13160002e+00],\n",
       "       [ 1.18910000e-01,  1.52549997e-01, -8.20730031e-02,\n",
       "        -7.41439998e-01,  7.59169996e-01, -4.83280003e-01,\n",
       "        -3.10090005e-01,  5.14760017e-01, -9.87079978e-01,\n",
       "         6.17570011e-04, -1.50429994e-01,  8.37700009e-01,\n",
       "        -1.07969999e+00, -5.14599979e-01,  1.31879997e+00,\n",
       "         6.20069981e-01,  1.37789994e-01,  4.71080005e-01,\n",
       "        -7.28740022e-02, -7.26750016e-01, -7.41159976e-01,\n",
       "         7.52629995e-01,  8.81799996e-01,  2.95610011e-01,\n",
       "         1.35479999e+00, -2.57010007e+00, -1.35230005e+00,\n",
       "         4.58799988e-01,  1.00680006e+00, -1.18560004e+00,\n",
       "         3.47370005e+00,  7.78980017e-01, -7.29290009e-01,\n",
       "         2.51020014e-01, -2.61559993e-01, -3.46839994e-01,\n",
       "         5.58409989e-01,  7.50980020e-01,  4.98299986e-01,\n",
       "        -2.68229991e-01, -2.74430006e-03, -1.82980001e-02,\n",
       "        -2.80959994e-01,  5.53179979e-01,  3.77059989e-02,\n",
       "         1.85550004e-01, -1.50250003e-01, -5.75119972e-01,\n",
       "        -2.66710013e-01,  9.21209991e-01]])"
      ]
     },
     "execution_count": 15,
     "metadata": {},
     "output_type": "execute_result"
    }
   ],
   "source": [
    "embeddings_matrix[1:3]"
   ]
  },
  {
   "cell_type": "code",
   "execution_count": 16,
   "metadata": {},
   "outputs": [],
   "source": [
    "# corpus"
   ]
  },
  {
   "cell_type": "code",
   "execution_count": 17,
   "metadata": {
    "executionInfo": {
     "elapsed": 53670,
     "status": "ok",
     "timestamp": 1655720748721,
     "user": {
      "displayName": "Florent HAFFNER",
      "userId": "00167581191322455559"
     },
     "user_tz": -120
    },
    "id": "q9sSRi15DPA4"
   },
   "outputs": [],
   "source": [
    "input_sequences = []\n",
    "for line in corpus:\n",
    "  token_list = tokenizer.texts_to_sequences([line])[0]\n",
    "  for i in range(1, len(token_list)): \n",
    "    n_gram_seqs = token_list[:i+1] \n",
    "    input_sequences.append(n_gram_seqs)\n",
    "\n",
    "# print(input_sequences)"
   ]
  },
  {
   "cell_type": "code",
   "execution_count": 18,
   "metadata": {
    "colab": {
     "base_uri": "https://localhost:8080/"
    },
    "executionInfo": {
     "elapsed": 8,
     "status": "ok",
     "timestamp": 1655720748722,
     "user": {
      "displayName": "Florent HAFFNER",
      "userId": "00167581191322455559"
     },
     "user_tz": -120
    },
    "id": "CWqO4ELtHWYD",
    "outputId": "62bc1ef1-faf6-4d89-ef91-77247cc2612f"
   },
   "outputs": [
    {
     "data": {
      "text/plain": [
       "76678"
      ]
     },
     "execution_count": 18,
     "metadata": {},
     "output_type": "execute_result"
    }
   ],
   "source": [
    "len(input_sequences) # we have almost 27,000 n_grams"
   ]
  },
  {
   "cell_type": "code",
   "execution_count": 19,
   "metadata": {
    "id": "n7YkOhBzdYmd"
   },
   "outputs": [
    {
     "data": {
      "text/plain": [
       "645"
      ]
     },
     "execution_count": 19,
     "metadata": {},
     "output_type": "execute_result"
    }
   ],
   "source": [
    "# the length of the largest sequence this will be the input_length for our model\n",
    "max_seq_length = max([len(x) for x in input_sequences])\n",
    "max_seq_length"
   ]
  },
  {
   "cell_type": "code",
   "execution_count": 20,
   "metadata": {},
   "outputs": [],
   "source": [
    "# padded input_sequences of tokens for each line\n",
    "input_seqs = np.array(pad_sequences(input_sequences, maxlen=max_seq_length, padding='pre'))\n",
    "# print(max_seq_length)\n",
    "# print(input_seqs[:5])"
   ]
  },
  {
   "cell_type": "code",
   "execution_count": 21,
   "metadata": {
    "id": "M2MShV1dixy0"
   },
   "outputs": [],
   "source": [
    "# creating X-values and y-values\n",
    "x_values, labels = input_seqs[:, :-1], input_seqs[:, -1]\n",
    "y_values = tf.keras.utils.to_categorical(labels, num_classes=total_unique_words)"
   ]
  },
  {
   "cell_type": "code",
   "execution_count": 22,
   "metadata": {
    "id": "Q2fHoniodnZd"
   },
   "outputs": [],
   "source": [
    "# print(x_values[:3])\n",
    "# print(labels[:3])"
   ]
  },
  {
   "cell_type": "code",
   "execution_count": 23,
   "metadata": {
    "id": "eaK49AVURabd"
   },
   "outputs": [
    {
     "data": {
      "text/plain": [
       "(3744, 645)"
      ]
     },
     "execution_count": 23,
     "metadata": {},
     "output_type": "execute_result"
    }
   ],
   "source": [
    "total_unique_words, max_seq_length"
   ]
  },
  {
   "cell_type": "markdown",
   "metadata": {
    "id": "HOYy59amrOy9"
   },
   "source": [
    "## Seq2Seq prediction - Building & training the model"
   ]
  },
  {
   "cell_type": "code",
   "execution_count": 24,
   "metadata": {
    "id": "IjeeOtrzfB6A"
   },
   "outputs": [
    {
     "name": "stderr",
     "output_type": "stream",
     "text": [
      "2022-06-20 15:51:37.886981: I tensorflow/stream_executor/cuda/cuda_gpu_executor.cc:975] successful NUMA node read from SysFS had negative value (-1), but there must be at least one NUMA node, so returning NUMA node zero\n",
      "2022-06-20 15:51:38.024285: I tensorflow/stream_executor/cuda/cuda_gpu_executor.cc:975] successful NUMA node read from SysFS had negative value (-1), but there must be at least one NUMA node, so returning NUMA node zero\n",
      "2022-06-20 15:51:38.024626: I tensorflow/stream_executor/cuda/cuda_gpu_executor.cc:975] successful NUMA node read from SysFS had negative value (-1), but there must be at least one NUMA node, so returning NUMA node zero\n",
      "2022-06-20 15:51:38.026284: I tensorflow/core/platform/cpu_feature_guard.cc:193] This TensorFlow binary is optimized with oneAPI Deep Neural Network Library (oneDNN) to use the following CPU instructions in performance-critical operations:  AVX2 FMA\n",
      "To enable them in other operations, rebuild TensorFlow with the appropriate compiler flags.\n",
      "2022-06-20 15:51:38.027101: I tensorflow/stream_executor/cuda/cuda_gpu_executor.cc:975] successful NUMA node read from SysFS had negative value (-1), but there must be at least one NUMA node, so returning NUMA node zero\n",
      "2022-06-20 15:51:38.027412: I tensorflow/stream_executor/cuda/cuda_gpu_executor.cc:975] successful NUMA node read from SysFS had negative value (-1), but there must be at least one NUMA node, so returning NUMA node zero\n",
      "2022-06-20 15:51:38.027759: I tensorflow/stream_executor/cuda/cuda_gpu_executor.cc:975] successful NUMA node read from SysFS had negative value (-1), but there must be at least one NUMA node, so returning NUMA node zero\n",
      "2022-06-20 15:51:39.677535: I tensorflow/stream_executor/cuda/cuda_gpu_executor.cc:975] successful NUMA node read from SysFS had negative value (-1), but there must be at least one NUMA node, so returning NUMA node zero\n",
      "2022-06-20 15:51:39.677709: I tensorflow/stream_executor/cuda/cuda_gpu_executor.cc:975] successful NUMA node read from SysFS had negative value (-1), but there must be at least one NUMA node, so returning NUMA node zero\n",
      "2022-06-20 15:51:39.677826: I tensorflow/stream_executor/cuda/cuda_gpu_executor.cc:975] successful NUMA node read from SysFS had negative value (-1), but there must be at least one NUMA node, so returning NUMA node zero\n",
      "2022-06-20 15:51:39.677913: I tensorflow/core/common_runtime/gpu/gpu_device.cc:1532] Created device /job:localhost/replica:0/task:0/device:GPU:0 with 8701 MB memory:  -> device: 0, name: NVIDIA GeForce RTX 2080 Ti, pci bus id: 0000:01:00.0, compute capability: 7.5\n"
     ]
    },
    {
     "data": {
      "image/png": "[encoded data removed]",
      "text/plain": [
       "<IPython.core.display.Image object>"
      ]
     },
     "execution_count": 24,
     "metadata": {},
     "output_type": "execute_result"
    }
   ],
   "source": [
    "K.clear_session()\n",
    "\n",
    "'''\n",
    "callbacks = [EarlyStopping(monitor='val_accuracy', mode='max', patience=7),\n",
    "             ModelCheckpoint('/content/drive/MyDrive/Colab Notebooks/nlp_word_prediction/modelmodel.h5', save_best_only=True, \n",
    "                             save_weights_only=False)]\n",
    "'''\n",
    "\n",
    "model = tf.keras.Sequential([\n",
    "                             # input_dim: the total num of unique words which need embeddings\n",
    "                             # input_length: the largest size of sequences \n",
    "                             # output_dim is 100 as we are using GloVe_100 dimensions\n",
    "                             tf.keras.layers.Embedding(input_dim = total_unique_words, output_dim=output_dim, \n",
    "                                                       # subtract one b/c the last word is what we are predicting\n",
    "                                                       \n",
    "                                                       weights=[embeddings_matrix],\n",
    "                                                       input_length=max_seq_length-1,\n",
    "                                                       trainable=False),\n",
    "                             # using a bidirectional LSTM we wouldnt get a much repeating words\n",
    "                             tf.keras.layers.Bidirectional(tf.keras.layers.LSTM(128, return_sequences=True)),\n",
    "                             tf.keras.layers.Dropout(0.5),\n",
    "                             tf.keras.layers.Bidirectional(tf.keras.layers.LSTM(256, return_sequences=True)),\n",
    "                             tf.keras.layers.Dropout(0.5),\n",
    "                             tf.keras.layers.Bidirectional(tf.keras.layers.LSTM(512)),\n",
    "                             tf.keras.layers.Dropout(0.5),\n",
    "                             # this is our last layer so we are predicting all the words for all one-hot encoding\n",
    "                             # we could have also used y_values.shape[1] as the input for the dense layer\n",
    "                             tf.keras.layers.Dense(total_unique_words , activation='softmax')])\n",
    "\n",
    "model.compile(optimizer=Adam(learning_rate=0.001), loss='categorical_crossentropy', metrics=['accuracy'])\n",
    "tf.keras.utils.plot_model(model, show_shapes=True)\n"
   ]
  },
  {
   "cell_type": "code",
   "execution_count": 26,
   "metadata": {
    "id": "AlFzV_5sOIDX",
    "scrolled": true,
    "tags": []
   },
   "outputs": [
    {
     "name": "stderr",
     "output_type": "stream",
     "text": [
      "2022-06-20 15:51:41.152743: W tensorflow/core/framework/cpu_allocator_impl.cc:82] Allocation of 918657792 exceeds 10% of free system memory.\n",
      "2022-06-20 15:51:41.692341: W tensorflow/core/framework/cpu_allocator_impl.cc:82] Allocation of 918657792 exceeds 10% of free system memory.\n"
     ]
    },
    {
     "name": "stdout",
     "output_type": "stream",
     "text": [
      "Epoch 1/100\n"
     ]
    },
    {
     "name": "stderr",
     "output_type": "stream",
     "text": [
      "2022-06-20 15:51:47.798479: I tensorflow/stream_executor/cuda/cuda_dnn.cc:384] Loaded cuDNN version 8400\n"
     ]
    },
    {
     "name": "stdout",
     "output_type": "stream",
     "text": [
      "480/480 [==============================] - 228s 462ms/step - loss: 6.1018 - accuracy: 0.0506 - val_loss: 5.9200 - val_accuracy: 0.0686\n",
      "Epoch 2/100\n",
      "480/480 [==============================] - 224s 466ms/step - loss: 5.7851 - accuracy: 0.0635 - val_loss: 5.7726 - val_accuracy: 0.0731\n",
      "Epoch 3/100\n",
      "480/480 [==============================] - 224s 466ms/step - loss: 5.5343 - accuracy: 0.0765 - val_loss: 5.6672 - val_accuracy: 0.0875\n",
      "Epoch 4/100\n",
      "480/480 [==============================] - 225s 468ms/step - loss: 5.3058 - accuracy: 0.0924 - val_loss: 5.6152 - val_accuracy: 0.0939\n",
      "Epoch 5/100\n",
      "480/480 [==============================] - 229s 477ms/step - loss: 5.1210 - accuracy: 0.1065 - val_loss: 5.5840 - val_accuracy: 0.1017\n",
      "Epoch 6/100\n",
      "480/480 [==============================] - 223s 465ms/step - loss: 4.9489 - accuracy: 0.1168 - val_loss: 5.6493 - val_accuracy: 0.1013\n",
      "Epoch 7/100\n",
      "480/480 [==============================] - 225s 469ms/step - loss: 4.7885 - accuracy: 0.1316 - val_loss: 5.6199 - val_accuracy: 0.1086\n",
      "Epoch 8/100\n",
      "480/480 [==============================] - 224s 467ms/step - loss: 4.6476 - accuracy: 0.1409 - val_loss: 5.6601 - val_accuracy: 0.1075\n",
      "Epoch 9/100\n",
      "480/480 [==============================] - 221s 461ms/step - loss: 4.5031 - accuracy: 0.1517 - val_loss: 5.6779 - val_accuracy: 0.1065\n",
      "Epoch 10/100\n",
      "480/480 [==============================] - 219s 455ms/step - loss: 4.3750 - accuracy: 0.1643 - val_loss: 5.7383 - val_accuracy: 0.1057\n",
      "Epoch 11/100\n",
      "480/480 [==============================] - 220s 458ms/step - loss: 4.2373 - accuracy: 0.1758 - val_loss: 5.7182 - val_accuracy: 0.1114\n",
      "Epoch 12/100\n",
      "480/480 [==============================] - 218s 454ms/step - loss: 4.1119 - accuracy: 0.1888 - val_loss: 5.7915 - val_accuracy: 0.1142\n",
      "Epoch 13/100\n",
      "480/480 [==============================] - 223s 464ms/step - loss: 3.9951 - accuracy: 0.2030 - val_loss: 5.8123 - val_accuracy: 0.1158\n",
      "Epoch 14/100\n",
      "480/480 [==============================] - 233s 486ms/step - loss: 3.8835 - accuracy: 0.2154 - val_loss: 5.8548 - val_accuracy: 0.1174\n",
      "Epoch 15/100\n",
      "480/480 [==============================] - 225s 468ms/step - loss: 3.7879 - accuracy: 0.2261 - val_loss: 5.9526 - val_accuracy: 0.1134\n",
      "Epoch 16/100\n",
      "480/480 [==============================] - 225s 468ms/step - loss: 3.7078 - accuracy: 0.2357 - val_loss: 5.9497 - val_accuracy: 0.1155\n",
      "Epoch 17/100\n",
      "480/480 [==============================] - 224s 468ms/step - loss: 3.6005 - accuracy: 0.2503 - val_loss: 6.0697 - val_accuracy: 0.1164\n",
      "Epoch 18/100\n",
      "480/480 [==============================] - 225s 469ms/step - loss: 3.5111 - accuracy: 0.2632 - val_loss: 6.0278 - val_accuracy: 0.1210\n",
      "Epoch 19/100\n",
      "480/480 [==============================] - 217s 453ms/step - loss: 3.4314 - accuracy: 0.2741 - val_loss: 6.1401 - val_accuracy: 0.1221\n",
      "Epoch 20/100\n",
      "480/480 [==============================] - 219s 457ms/step - loss: 3.3566 - accuracy: 0.2836 - val_loss: 6.1731 - val_accuracy: 0.1186\n",
      "Epoch 21/100\n",
      "480/480 [==============================] - 219s 456ms/step - loss: 3.2887 - accuracy: 0.2923 - val_loss: 6.2279 - val_accuracy: 0.1192\n",
      "Epoch 22/100\n",
      "480/480 [==============================] - 219s 456ms/step - loss: 3.2190 - accuracy: 0.3032 - val_loss: 6.3296 - val_accuracy: 0.1174\n",
      "Epoch 23/100\n",
      "480/480 [==============================] - 218s 453ms/step - loss: 3.1806 - accuracy: 0.3084 - val_loss: 6.2973 - val_accuracy: 0.1206\n",
      "Epoch 24/100\n",
      "480/480 [==============================] - 218s 455ms/step - loss: 3.1152 - accuracy: 0.3194 - val_loss: 6.3814 - val_accuracy: 0.1215\n",
      "Epoch 25/100\n",
      "480/480 [==============================] - 222s 463ms/step - loss: 3.0796 - accuracy: 0.3250 - val_loss: 6.3937 - val_accuracy: 0.1228\n",
      "Epoch 26/100\n",
      "480/480 [==============================] - 222s 462ms/step - loss: 3.1292 - accuracy: 0.3174 - val_loss: 6.4169 - val_accuracy: 0.1202\n",
      "Epoch 27/100\n",
      "480/480 [==============================] - 225s 468ms/step - loss: 3.0000 - accuracy: 0.3359 - val_loss: 6.5613 - val_accuracy: 0.1240\n",
      "Epoch 28/100\n",
      "480/480 [==============================] - 226s 471ms/step - loss: 2.9220 - accuracy: 0.3500 - val_loss: 6.5230 - val_accuracy: 0.1245\n",
      "Epoch 29/100\n",
      "480/480 [==============================] - 226s 470ms/step - loss: 2.8612 - accuracy: 0.3598 - val_loss: 6.5546 - val_accuracy: 0.1207\n",
      "Epoch 30/100\n",
      "480/480 [==============================] - 227s 473ms/step - loss: 2.8045 - accuracy: 0.3718 - val_loss: 6.6213 - val_accuracy: 0.1191\n",
      "Epoch 31/100\n",
      "480/480 [==============================] - 227s 474ms/step - loss: 2.9399 - accuracy: 0.3428 - val_loss: 6.5802 - val_accuracy: 0.1242\n",
      "Epoch 32/100\n",
      "480/480 [==============================] - 221s 461ms/step - loss: 2.7850 - accuracy: 0.3712 - val_loss: 6.6770 - val_accuracy: 0.1212\n",
      "Epoch 33/100\n",
      "480/480 [==============================] - 218s 453ms/step - loss: 2.7160 - accuracy: 0.3864 - val_loss: 6.7748 - val_accuracy: 0.1179\n",
      "Epoch 34/100\n",
      "480/480 [==============================] - 218s 454ms/step - loss: 2.6664 - accuracy: 0.3973 - val_loss: 6.7960 - val_accuracy: 0.1214\n",
      "Epoch 35/100\n",
      "480/480 [==============================] - 222s 463ms/step - loss: 2.6229 - accuracy: 0.4011 - val_loss: 6.8173 - val_accuracy: 0.1250\n",
      "Epoch 36/100\n",
      "480/480 [==============================] - 221s 459ms/step - loss: 2.5836 - accuracy: 0.4082 - val_loss: 6.8495 - val_accuracy: 0.1254\n",
      "Epoch 37/100\n",
      "480/480 [==============================] - 218s 454ms/step - loss: 2.5547 - accuracy: 0.4149 - val_loss: 6.9103 - val_accuracy: 0.1255\n",
      "Epoch 38/100\n",
      "480/480 [==============================] - 219s 456ms/step - loss: 2.5149 - accuracy: 0.4192 - val_loss: 6.8897 - val_accuracy: 0.1260\n",
      "Epoch 39/100\n",
      "480/480 [==============================] - 219s 455ms/step - loss: 2.4804 - accuracy: 0.4290 - val_loss: 6.9437 - val_accuracy: 0.1229\n",
      "Epoch 40/100\n",
      "480/480 [==============================] - 220s 458ms/step - loss: 2.4499 - accuracy: 0.4333 - val_loss: 6.9123 - val_accuracy: 0.1249\n",
      "Epoch 41/100\n",
      "480/480 [==============================] - 223s 465ms/step - loss: 2.4276 - accuracy: 0.4369 - val_loss: 7.0078 - val_accuracy: 0.1246\n",
      "Epoch 42/100\n",
      "480/480 [==============================] - 224s 467ms/step - loss: 2.3905 - accuracy: 0.4435 - val_loss: 7.0158 - val_accuracy: 0.1254\n",
      "Epoch 43/100\n",
      "480/480 [==============================] - 221s 461ms/step - loss: 2.3713 - accuracy: 0.4469 - val_loss: 7.0819 - val_accuracy: 0.1253\n",
      "Epoch 44/100\n",
      "480/480 [==============================] - 221s 461ms/step - loss: 2.3435 - accuracy: 0.4514 - val_loss: 7.1645 - val_accuracy: 0.1186\n",
      "Epoch 45/100\n",
      "480/480 [==============================] - 219s 457ms/step - loss: 2.3124 - accuracy: 0.4557 - val_loss: 7.1781 - val_accuracy: 0.1212\n",
      "Epoch 46/100\n",
      "480/480 [==============================] - 218s 454ms/step - loss: 2.2863 - accuracy: 0.4622 - val_loss: 7.1704 - val_accuracy: 0.1246\n",
      "Epoch 47/100\n",
      "480/480 [==============================] - 221s 460ms/step - loss: 2.2674 - accuracy: 0.4656 - val_loss: 7.1083 - val_accuracy: 0.1188\n",
      "Epoch 48/100\n",
      "480/480 [==============================] - 220s 459ms/step - loss: 2.2501 - accuracy: 0.4692 - val_loss: 7.2364 - val_accuracy: 0.1200\n",
      "Epoch 49/100\n",
      "480/480 [==============================] - 219s 456ms/step - loss: 2.3867 - accuracy: 0.4414 - val_loss: 7.2087 - val_accuracy: 0.1230\n",
      "Epoch 50/100\n",
      "480/480 [==============================] - 222s 463ms/step - loss: 2.2299 - accuracy: 0.4742 - val_loss: 7.2297 - val_accuracy: 0.1255\n",
      "Epoch 51/100\n",
      "480/480 [==============================] - 235s 489ms/step - loss: 2.1913 - accuracy: 0.4808 - val_loss: 7.2383 - val_accuracy: 0.1185\n",
      "Epoch 52/100\n",
      "480/480 [==============================] - 225s 470ms/step - loss: 2.1549 - accuracy: 0.4880 - val_loss: 7.2989 - val_accuracy: 0.1214\n",
      "Epoch 53/100\n",
      "480/480 [==============================] - 219s 457ms/step - loss: 2.2361 - accuracy: 0.4691 - val_loss: 7.3283 - val_accuracy: 0.1206\n",
      "Epoch 54/100\n",
      "480/480 [==============================] - 222s 462ms/step - loss: 2.1717 - accuracy: 0.4852 - val_loss: 7.3571 - val_accuracy: 0.1227\n",
      "Epoch 55/100\n",
      "480/480 [==============================] - 223s 464ms/step - loss: 2.1123 - accuracy: 0.4949 - val_loss: 7.3412 - val_accuracy: 0.1238\n",
      "Epoch 56/100\n",
      "480/480 [==============================] - 220s 459ms/step - loss: 2.0865 - accuracy: 0.5018 - val_loss: 7.4370 - val_accuracy: 0.1251\n",
      "Epoch 57/100\n",
      "480/480 [==============================] - 220s 459ms/step - loss: 2.0663 - accuracy: 0.5028 - val_loss: 7.4280 - val_accuracy: 0.1179\n",
      "Epoch 58/100\n",
      "480/480 [==============================] - 218s 454ms/step - loss: 2.0496 - accuracy: 0.5054 - val_loss: 7.3989 - val_accuracy: 0.1178\n",
      "Epoch 59/100\n",
      "480/480 [==============================] - 220s 458ms/step - loss: 2.0199 - accuracy: 0.5105 - val_loss: 7.5197 - val_accuracy: 0.1218\n",
      "Epoch 60/100\n",
      "480/480 [==============================] - 218s 455ms/step - loss: 2.0203 - accuracy: 0.5135 - val_loss: 7.4876 - val_accuracy: 0.1170\n",
      "Epoch 61/100\n",
      "480/480 [==============================] - 220s 459ms/step - loss: 2.0039 - accuracy: 0.5138 - val_loss: 7.4795 - val_accuracy: 0.1189\n",
      "Epoch 62/100\n",
      "480/480 [==============================] - 230s 478ms/step - loss: 1.9847 - accuracy: 0.5181 - val_loss: 7.5577 - val_accuracy: 0.1179\n",
      "Epoch 63/100\n",
      "480/480 [==============================] - 229s 478ms/step - loss: 1.9618 - accuracy: 0.5222 - val_loss: 7.5681 - val_accuracy: 0.1209\n",
      "Epoch 64/100\n",
      "480/480 [==============================] - 230s 479ms/step - loss: 1.9544 - accuracy: 0.5256 - val_loss: 7.6720 - val_accuracy: 0.1193\n",
      "Epoch 65/100\n",
      "480/480 [==============================] - 229s 478ms/step - loss: 1.9406 - accuracy: 0.5248 - val_loss: 7.5358 - val_accuracy: 0.1236\n",
      "Epoch 66/100\n",
      "480/480 [==============================] - 230s 479ms/step - loss: 1.9205 - accuracy: 0.5306 - val_loss: 7.6417 - val_accuracy: 0.1185\n",
      "Epoch 67/100\n",
      "480/480 [==============================] - 229s 477ms/step - loss: 1.9178 - accuracy: 0.5307 - val_loss: 7.7066 - val_accuracy: 0.1197\n",
      "Epoch 68/100\n",
      "480/480 [==============================] - 229s 477ms/step - loss: 1.8918 - accuracy: 0.5359 - val_loss: 7.8177 - val_accuracy: 0.1204\n",
      "Epoch 69/100\n",
      "480/480 [==============================] - 229s 476ms/step - loss: 1.8934 - accuracy: 0.5372 - val_loss: 7.7177 - val_accuracy: 0.1172\n",
      "Epoch 70/100\n",
      "480/480 [==============================] - 218s 454ms/step - loss: 1.8697 - accuracy: 0.5417 - val_loss: 7.7235 - val_accuracy: 0.1216\n",
      "Epoch 71/100\n",
      "480/480 [==============================] - 218s 453ms/step - loss: 1.8730 - accuracy: 0.5397 - val_loss: 7.7438 - val_accuracy: 0.1225\n",
      "Epoch 72/100\n",
      "480/480 [==============================] - 219s 456ms/step - loss: 1.8705 - accuracy: 0.5408 - val_loss: 7.8235 - val_accuracy: 0.1249\n",
      "Epoch 73/100\n",
      "480/480 [==============================] - 218s 454ms/step - loss: 1.8285 - accuracy: 0.5476 - val_loss: 7.8240 - val_accuracy: 0.1225\n",
      "Epoch 74/100\n",
      "480/480 [==============================] - 219s 456ms/step - loss: 1.8451 - accuracy: 0.5449 - val_loss: 7.7855 - val_accuracy: 0.1203\n",
      "Epoch 75/100\n",
      "480/480 [==============================] - 220s 457ms/step - loss: 1.8463 - accuracy: 0.5449 - val_loss: 7.8322 - val_accuracy: 0.1220\n",
      "Epoch 76/100\n",
      "480/480 [==============================] - 217s 453ms/step - loss: 1.8044 - accuracy: 0.5540 - val_loss: 7.8111 - val_accuracy: 0.1255\n",
      "Epoch 77/100\n",
      "480/480 [==============================] - 230s 479ms/step - loss: 1.8225 - accuracy: 0.5492 - val_loss: 7.8393 - val_accuracy: 0.1230\n",
      "Epoch 78/100\n",
      "480/480 [==============================] - 227s 473ms/step - loss: 1.7811 - accuracy: 0.5574 - val_loss: 8.0255 - val_accuracy: 0.1202\n",
      "Epoch 79/100\n",
      "480/480 [==============================] - 218s 455ms/step - loss: 1.7565 - accuracy: 0.5613 - val_loss: 7.9170 - val_accuracy: 0.1213\n",
      "Epoch 80/100\n",
      "480/480 [==============================] - 218s 455ms/step - loss: 1.7548 - accuracy: 0.5639 - val_loss: 7.8784 - val_accuracy: 0.1228\n",
      "Epoch 81/100\n",
      "480/480 [==============================] - 219s 456ms/step - loss: 1.7345 - accuracy: 0.5643 - val_loss: 7.9503 - val_accuracy: 0.1216\n",
      "Epoch 82/100\n",
      "480/480 [==============================] - 220s 459ms/step - loss: 1.7910 - accuracy: 0.5542 - val_loss: 7.9190 - val_accuracy: 0.1221\n",
      "Epoch 83/100\n",
      "480/480 [==============================] - 230s 478ms/step - loss: 1.7173 - accuracy: 0.5708 - val_loss: 7.9680 - val_accuracy: 0.1212\n",
      "Epoch 84/100\n",
      "480/480 [==============================] - 230s 479ms/step - loss: 1.7091 - accuracy: 0.5714 - val_loss: 8.0096 - val_accuracy: 0.1232\n",
      "Epoch 85/100\n",
      "480/480 [==============================] - 220s 458ms/step - loss: 1.6905 - accuracy: 0.5746 - val_loss: 7.9789 - val_accuracy: 0.1238\n",
      "Epoch 86/100\n",
      "480/480 [==============================] - 219s 455ms/step - loss: 1.6826 - accuracy: 0.5762 - val_loss: 8.0101 - val_accuracy: 0.1200\n",
      "Epoch 87/100\n",
      "480/480 [==============================] - 218s 455ms/step - loss: 1.6690 - accuracy: 0.5815 - val_loss: 8.1468 - val_accuracy: 0.1218\n",
      "Epoch 88/100\n",
      "480/480 [==============================] - 218s 454ms/step - loss: 1.6713 - accuracy: 0.5790 - val_loss: 8.0404 - val_accuracy: 0.1203\n",
      "Epoch 89/100\n",
      "480/480 [==============================] - 226s 470ms/step - loss: 1.6562 - accuracy: 0.5835 - val_loss: 8.0572 - val_accuracy: 0.1241\n",
      "Epoch 90/100\n",
      "480/480 [==============================] - 230s 479ms/step - loss: 1.6534 - accuracy: 0.5807 - val_loss: 8.1345 - val_accuracy: 0.1211\n",
      "Epoch 91/100\n",
      "480/480 [==============================] - 230s 480ms/step - loss: 1.7461 - accuracy: 0.5634 - val_loss: 8.0398 - val_accuracy: 0.1214\n",
      "Epoch 92/100\n",
      "480/480 [==============================] - 228s 476ms/step - loss: 1.6478 - accuracy: 0.5835 - val_loss: 8.1350 - val_accuracy: 0.1197\n",
      "Epoch 93/100\n",
      "480/480 [==============================] - 229s 478ms/step - loss: 1.6230 - accuracy: 0.5899 - val_loss: 8.1442 - val_accuracy: 0.1198\n",
      "Epoch 94/100\n",
      "480/480 [==============================] - 230s 478ms/step - loss: 1.6034 - accuracy: 0.5942 - val_loss: 8.1874 - val_accuracy: 0.1186\n",
      "Epoch 95/100\n",
      "480/480 [==============================] - 229s 478ms/step - loss: 1.5954 - accuracy: 0.5932 - val_loss: 8.2544 - val_accuracy: 0.1229\n",
      "Epoch 96/100\n",
      "480/480 [==============================] - 229s 476ms/step - loss: 1.5892 - accuracy: 0.5961 - val_loss: 8.2267 - val_accuracy: 0.1199\n",
      "Epoch 97/100\n",
      "480/480 [==============================] - 230s 478ms/step - loss: 1.5821 - accuracy: 0.5972 - val_loss: 8.2617 - val_accuracy: 0.1191\n",
      "Epoch 98/100\n",
      "480/480 [==============================] - 229s 476ms/step - loss: 1.5640 - accuracy: 0.6016 - val_loss: 8.2424 - val_accuracy: 0.1201\n",
      "Epoch 99/100\n",
      "480/480 [==============================] - 230s 479ms/step - loss: 1.5589 - accuracy: 0.6027 - val_loss: 8.2980 - val_accuracy: 0.1225\n",
      "Epoch 100/100\n",
      "480/480 [==============================] - 228s 475ms/step - loss: 1.5565 - accuracy: 0.6017 - val_loss: 8.2980 - val_accuracy: 0.1187\n"
     ]
    }
   ],
   "source": [
    "history = model.fit(x_values, y_values, epochs=100, validation_split=0.2, verbose=1, batch_size=128)"
   ]
  },
  {
   "cell_type": "code",
   "execution_count": 51,
   "metadata": {},
   "outputs": [],
   "source": [
    "path_model_tostore = path + '/model/lstm-taylor_swift.h5'\n",
    "model.save(path_model_tostore)"
   ]
  },
  {
   "cell_type": "code",
   "execution_count": 27,
   "metadata": {
    "id": "uW9QwmC8EIFE"
   },
   "outputs": [
    {
     "data": {
      "image/png": "[encoded data removed]",
      "text/plain": [
       "<Figure size 720x432 with 1 Axes>"
      ]
     },
     "metadata": {
      "needs_background": "light"
     },
     "output_type": "display_data"
    },
    {
     "data": {
      "image/png": "[encoded data removed]",
      "text/plain": [
       "<Figure size 720x432 with 1 Axes>"
      ]
     },
     "metadata": {
      "needs_background": "light"
     },
     "output_type": "display_data"
    }
   ],
   "source": [
    "import matplotlib.pyplot as plt\n",
    "\n",
    "acc = history.history['accuracy']\n",
    "val_acc = history.history['val_accuracy']\n",
    "loss = history.history['loss']\n",
    "val_loss = history.history['val_loss']\n",
    "\n",
    "epochs = range(len(acc))\n",
    "\n",
    "plt.figure(figsize=(10,6))\n",
    "plt.plot(epochs, acc, 'bo', label='Training accuracy')\n",
    "plt.plot(epochs, val_acc, 'b', label='Validation accuracy')\n",
    "plt.title('Training and validation accuracy')\n",
    "\n",
    "plt.figure(figsize=(10,6))\n",
    "\n",
    "plt.plot(epochs, loss, 'bo', label='Training Loss')\n",
    "plt.plot(epochs, val_loss, 'b', label='Validation Loss')\n",
    "plt.title('Training and validation loss')\n",
    "plt.legend()\n",
    "\n",
    "plt.show()"
   ]
  },
  {
   "cell_type": "markdown",
   "metadata": {
    "id": "7jBNF15NrbV5"
   },
   "source": [
    "## Seq2Seq prediction - Predicting sequence from input text"
   ]
  },
  {
   "cell_type": "code",
   "execution_count": null,
   "metadata": {},
   "outputs": [],
   "source": [
    "# model.load(path + '/model/lstm-taylor_swift.h5')"
   ]
  },
  {
   "cell_type": "code",
   "execution_count": 28,
   "metadata": {
    "id": "qWTE_EwHqF5W"
   },
   "outputs": [],
   "source": [
    "def prediction(seed_text, next_words):\n",
    "  for _ in range(next_words):\n",
    "    token_list = tokenizer.texts_to_sequences([seed_text])[0]\n",
    "    token_list = pad_sequences([token_list], maxlen=max_seq_length-1, padding='pre')\n",
    "  #This will give us the token of the word most likely to be the next one in the sequence\n",
    "    predicted = np.argmax(model.predict(token_list, verbose=1), axis=-1)\n",
    "\n",
    "    ouput_word = \"\"\n",
    "  # otkenizer.word_index.items() produces the word/index for training words\n",
    "    for word, index in tokenizer.word_index.items():\n",
    "    # predicted output is the token/index \n",
    "      if index == predicted:\n",
    "        output_word = word\n",
    "        break\n",
    "    seed_text += ' '+output_word\n",
    "    print(seed_text)"
   ]
  },
  {
   "cell_type": "code",
   "execution_count": 44,
   "metadata": {
    "id": "8iqLSG4kc0yC"
   },
   "outputs": [
    {
     "name": "stdout",
     "output_type": "stream",
     "text": [
      "1/1 [==============================] - 0s 56ms/step\n",
      "You never let me drive you're\n",
      "1/1 [==============================] - 0s 47ms/step\n",
      "You never let me drive you're a\n",
      "1/1 [==============================] - 0s 49ms/step\n",
      "You never let me drive you're a redneck\n",
      "1/1 [==============================] - 0s 45ms/step\n",
      "You never let me drive you're a redneck heartbreak\n",
      "1/1 [==============================] - 0s 44ms/step\n",
      "You never let me drive you're a redneck heartbreak who's\n",
      "1/1 [==============================] - 0s 41ms/step\n",
      "You never let me drive you're a redneck heartbreak who's really\n",
      "1/1 [==============================] - 0s 40ms/step\n",
      "You never let me drive you're a redneck heartbreak who's really bad\n",
      "1/1 [==============================] - 0s 38ms/step\n",
      "You never let me drive you're a redneck heartbreak who's really bad at\n",
      "1/1 [==============================] - 0s 42ms/step\n",
      "You never let me drive you're a redneck heartbreak who's really bad at lying\n",
      "1/1 [==============================] - 0s 39ms/step\n",
      "You never let me drive you're a redneck heartbreak who's really bad at lying so\n",
      "1/1 [==============================] - 0s 40ms/step\n",
      "You never let me drive you're a redneck heartbreak who's really bad at lying so watch\n",
      "1/1 [==============================] - 0s 37ms/step\n",
      "You never let me drive you're a redneck heartbreak who's really bad at lying so watch me\n",
      "1/1 [==============================] - 0s 41ms/step\n",
      "You never let me drive you're a redneck heartbreak who's really bad at lying so watch me strike\n",
      "1/1 [==============================] - 0s 40ms/step\n",
      "You never let me drive you're a redneck heartbreak who's really bad at lying so watch me strike a\n",
      "1/1 [==============================] - 0s 42ms/step\n",
      "You never let me drive you're a redneck heartbreak who's really bad at lying so watch me strike a match\n",
      "1/1 [==============================] - 0s 41ms/step\n",
      "You never let me drive you're a redneck heartbreak who's really bad at lying so watch me strike a match on\n",
      "1/1 [==============================] - 0s 41ms/step\n",
      "You never let me drive you're a redneck heartbreak who's really bad at lying so watch me strike a match on all\n",
      "1/1 [==============================] - 0s 41ms/step\n",
      "You never let me drive you're a redneck heartbreak who's really bad at lying so watch me strike a match on all my\n",
      "1/1 [==============================] - 0s 42ms/step\n",
      "You never let me drive you're a redneck heartbreak who's really bad at lying so watch me strike a match on all my wasted\n",
      "1/1 [==============================] - 0s 57ms/step\n",
      "You never let me drive you're a redneck heartbreak who's really bad at lying so watch me strike a match on all my wasted time\n",
      "1/1 [==============================] - 0s 65ms/step\n",
      "You never let me drive you're a redneck heartbreak who's really bad at lying so watch me strike a match on all my wasted time as\n",
      "1/1 [==============================] - 0s 45ms/step\n",
      "You never let me drive you're a redneck heartbreak who's really bad at lying so watch me strike a match on all my wasted time as far\n",
      "1/1 [==============================] - 0s 47ms/step\n",
      "You never let me drive you're a redneck heartbreak who's really bad at lying so watch me strike a match on all my wasted time as far as\n",
      "1/1 [==============================] - 0s 51ms/step\n",
      "You never let me drive you're a redneck heartbreak who's really bad at lying so watch me strike a match on all my wasted time as far as i'm\n",
      "1/1 [==============================] - 0s 60ms/step\n",
      "You never let me drive you're a redneck heartbreak who's really bad at lying so watch me strike a match on all my wasted time as far as i'm concerned\n"
     ]
    }
   ],
   "source": [
    "seed_text1 = \"You never let me drive\"\n",
    "prediction(seed_text1, 25)"
   ]
  },
  {
   "cell_type": "code",
   "execution_count": 46,
   "metadata": {},
   "outputs": [
    {
     "name": "stdout",
     "output_type": "stream",
     "text": [
      "1/1 [==============================] - 0s 45ms/step\n",
      "And if you're missing me you'd\n",
      "1/1 [==============================] - 0s 48ms/step\n",
      "And if you're missing me you'd better\n",
      "1/1 [==============================] - 0s 46ms/step\n",
      "And if you're missing me you'd better keep\n",
      "1/1 [==============================] - 0s 55ms/step\n",
      "And if you're missing me you'd better keep it\n",
      "1/1 [==============================] - 0s 54ms/step\n",
      "And if you're missing me you'd better keep it to\n",
      "1/1 [==============================] - 0s 51ms/step\n",
      "And if you're missing me you'd better keep it to yourself\n",
      "1/1 [==============================] - 0s 57ms/step\n",
      "And if you're missing me you'd better keep it to yourself and\n",
      "1/1 [==============================] - 0s 66ms/step\n",
      "And if you're missing me you'd better keep it to yourself and your\n",
      "1/1 [==============================] - 0s 80ms/step\n",
      "And if you're missing me you'd better keep it to yourself and your temper\n",
      "1/1 [==============================] - 0s 76ms/step\n",
      "And if you're missing me you'd better keep it to yourself and your temper and\n",
      "1/1 [==============================] - 0s 65ms/step\n",
      "And if you're missing me you'd better keep it to yourself and your temper and i\n",
      "1/1 [==============================] - 0s 83ms/step\n",
      "And if you're missing me you'd better keep it to yourself and your temper and i know\n",
      "1/1 [==============================] - 0s 69ms/step\n",
      "And if you're missing me you'd better keep it to yourself and your temper and i know i\n",
      "1/1 [==============================] - 0s 95ms/step\n",
      "And if you're missing me you'd better keep it to yourself and your temper and i know i was\n",
      "1/1 [==============================] - 0s 76ms/step\n",
      "And if you're missing me you'd better keep it to yourself and your temper and i know i was dealing\n",
      "1/1 [==============================] - 0s 51ms/step\n",
      "And if you're missing me you'd better keep it to yourself and your temper and i know i was dealing to\n",
      "1/1 [==============================] - 0s 46ms/step\n",
      "And if you're missing me you'd better keep it to yourself and your temper and i know i was dealing to be\n",
      "1/1 [==============================] - 0s 45ms/step\n",
      "And if you're missing me you'd better keep it to yourself and your temper and i know i was dealing to be i\n",
      "1/1 [==============================] - 0s 48ms/step\n",
      "And if you're missing me you'd better keep it to yourself and your temper and i know i was dealing to be i was\n",
      "1/1 [==============================] - 0s 42ms/step\n",
      "And if you're missing me you'd better keep it to yourself and your temper and i know i was dealing to be i was a\n",
      "1/1 [==============================] - 0s 39ms/step\n",
      "And if you're missing me you'd better keep it to yourself and your temper and i know i was dealing to be i was a robber\n",
      "1/1 [==============================] - 0s 40ms/step\n",
      "And if you're missing me you'd better keep it to yourself and your temper and i know i was dealing to be i was a robber first\n",
      "1/1 [==============================] - 0s 38ms/step\n",
      "And if you're missing me you'd better keep it to yourself and your temper and i know i was dealing to be i was a robber first time\n",
      "1/1 [==============================] - 0s 41ms/step\n",
      "And if you're missing me you'd better keep it to yourself and your temper and i know i was dealing to be i was a robber first time that\n",
      "1/1 [==============================] - 0s 40ms/step\n",
      "And if you're missing me you'd better keep it to yourself and your temper and i know i was dealing to be i was a robber first time that i\n"
     ]
    }
   ],
   "source": [
    "seed_text1 = \"And if you're missing me\"\n",
    "prediction(seed_text1, 25)"
   ]
  },
  {
   "cell_type": "code",
   "execution_count": 47,
   "metadata": {},
   "outputs": [
    {
     "name": "stdout",
     "output_type": "stream",
     "text": [
      "1/1 [==============================] - 0s 73ms/step\n",
      "I'm just gonna shake and\n",
      "1/1 [==============================] - 0s 53ms/step\n",
      "I'm just gonna shake and i\n",
      "1/1 [==============================] - 0s 48ms/step\n",
      "I'm just gonna shake and i don't\n",
      "1/1 [==============================] - 0s 51ms/step\n",
      "I'm just gonna shake and i don't want\n",
      "1/1 [==============================] - 0s 50ms/step\n",
      "I'm just gonna shake and i don't want you\n",
      "1/1 [==============================] - 0s 47ms/step\n",
      "I'm just gonna shake and i don't want you like\n",
      "1/1 [==============================] - 0s 57ms/step\n",
      "I'm just gonna shake and i don't want you like a\n",
      "1/1 [==============================] - 0s 83ms/step\n",
      "I'm just gonna shake and i don't want you like a best\n",
      "1/1 [==============================] - 0s 84ms/step\n",
      "I'm just gonna shake and i don't want you like a best friend\n",
      "1/1 [==============================] - 0s 79ms/step\n",
      "I'm just gonna shake and i don't want you like a best friend only\n",
      "1/1 [==============================] - 0s 58ms/step\n",
      "I'm just gonna shake and i don't want you like a best friend only bought\n",
      "1/1 [==============================] - 0s 50ms/step\n",
      "I'm just gonna shake and i don't want you like a best friend only bought this\n",
      "1/1 [==============================] - 0s 51ms/step\n",
      "I'm just gonna shake and i don't want you like a best friend only bought this dress\n",
      "1/1 [==============================] - 0s 52ms/step\n",
      "I'm just gonna shake and i don't want you like a best friend only bought this dress so\n",
      "1/1 [==============================] - 0s 54ms/step\n",
      "I'm just gonna shake and i don't want you like a best friend only bought this dress so you\n",
      "1/1 [==============================] - 0s 52ms/step\n",
      "I'm just gonna shake and i don't want you like a best friend only bought this dress so you could\n",
      "1/1 [==============================] - 0s 53ms/step\n",
      "I'm just gonna shake and i don't want you like a best friend only bought this dress so you could take\n",
      "1/1 [==============================] - 0s 57ms/step\n",
      "I'm just gonna shake and i don't want you like a best friend only bought this dress so you could take it\n",
      "1/1 [==============================] - 0s 69ms/step\n",
      "I'm just gonna shake and i don't want you like a best friend only bought this dress so you could take it off\n",
      "1/1 [==============================] - 0s 91ms/step\n",
      "I'm just gonna shake and i don't want you like a best friend only bought this dress so you could take it off take\n",
      "1/1 [==============================] - 0s 88ms/step\n",
      "I'm just gonna shake and i don't want you like a best friend only bought this dress so you could take it off take it\n",
      "1/1 [==============================] - 0s 67ms/step\n",
      "I'm just gonna shake and i don't want you like a best friend only bought this dress so you could take it off take it off\n",
      "1/1 [==============================] - 0s 47ms/step\n",
      "I'm just gonna shake and i don't want you like a best friend only bought this dress so you could take it off take it off carve\n",
      "1/1 [==============================] - 0s 46ms/step\n",
      "I'm just gonna shake and i don't want you like a best friend only bought this dress so you could take it off take it off carve your\n",
      "1/1 [==============================] - 0s 63ms/step\n",
      "I'm just gonna shake and i don't want you like a best friend only bought this dress so you could take it off take it off carve your name\n"
     ]
    }
   ],
   "source": [
    "seed_text1 = \"I'm just gonna shake\"\n",
    "prediction(seed_text1, 25)"
   ]
  },
  {
   "cell_type": "code",
   "execution_count": 48,
   "metadata": {},
   "outputs": [
    {
     "name": "stdout",
     "output_type": "stream",
     "text": [
      "1/1 [==============================] - 0s 59ms/step\n",
      " You're really gonna be someone and\n",
      "1/1 [==============================] - 0s 57ms/step\n",
      " You're really gonna be someone and i\n",
      "1/1 [==============================] - 0s 51ms/step\n",
      " You're really gonna be someone and i know\n",
      "1/1 [==============================] - 0s 49ms/step\n",
      " You're really gonna be someone and i know i\n",
      "1/1 [==============================] - 0s 45ms/step\n",
      " You're really gonna be someone and i know i was\n",
      "1/1 [==============================] - 0s 46ms/step\n",
      " You're really gonna be someone and i know i was a\n",
      "1/1 [==============================] - 0s 45ms/step\n",
      " You're really gonna be someone and i know i was a responsibility\n",
      "1/1 [==============================] - 0s 63ms/step\n",
      " You're really gonna be someone and i know i was a responsibility i\n",
      "1/1 [==============================] - 0s 60ms/step\n",
      " You're really gonna be someone and i know i was a responsibility i was\n",
      "1/1 [==============================] - 0s 60ms/step\n",
      " You're really gonna be someone and i know i was a responsibility i was lying\n",
      "1/1 [==============================] - 0s 67ms/step\n",
      " You're really gonna be someone and i know i was a responsibility i was lying to\n",
      "1/1 [==============================] - 0s 61ms/step\n",
      " You're really gonna be someone and i know i was a responsibility i was lying to end\n",
      "1/1 [==============================] - 0s 60ms/step\n",
      " You're really gonna be someone and i know i was a responsibility i was lying to end and\n",
      "1/1 [==============================] - 0s 62ms/step\n",
      " You're really gonna be someone and i know i was a responsibility i was lying to end and i\n",
      "1/1 [==============================] - 0s 63ms/step\n",
      " You're really gonna be someone and i know i was a responsibility i was lying to end and i could\n",
      "1/1 [==============================] - 0s 66ms/step\n",
      " You're really gonna be someone and i know i was a responsibility i was lying to end and i could go\n",
      "1/1 [==============================] - 0s 64ms/step\n",
      " You're really gonna be someone and i know i was a responsibility i was lying to end and i could go on\n",
      "1/1 [==============================] - 0s 62ms/step\n",
      " You're really gonna be someone and i know i was a responsibility i was lying to end and i could go on and\n",
      "1/1 [==============================] - 0s 64ms/step\n",
      " You're really gonna be someone and i know i was a responsibility i was lying to end and i could go on and on\n",
      "1/1 [==============================] - 0s 61ms/step\n",
      " You're really gonna be someone and i know i was a responsibility i was lying to end and i could go on and on on\n",
      "1/1 [==============================] - 0s 70ms/step\n",
      " You're really gonna be someone and i know i was a responsibility i was lying to end and i could go on and on on and\n",
      "1/1 [==============================] - 0s 54ms/step\n",
      " You're really gonna be someone and i know i was a responsibility i was lying to end and i could go on and on on and on\n",
      "1/1 [==============================] - 0s 46ms/step\n",
      " You're really gonna be someone and i know i was a responsibility i was lying to end and i could go on and on on and on on\n",
      "1/1 [==============================] - 0s 48ms/step\n",
      " You're really gonna be someone and i know i was a responsibility i was lying to end and i could go on and on on and on on and\n",
      "1/1 [==============================] - 0s 45ms/step\n",
      " You're really gonna be someone and i know i was a responsibility i was lying to end and i could go on and on on and on on and on\n"
     ]
    }
   ],
   "source": [
    "seed_text1 = \" You're really gonna be someone\"\n",
    "prediction(seed_text1, 25)"
   ]
  },
  {
   "cell_type": "code",
   "execution_count": 49,
   "metadata": {},
   "outputs": [
    {
     "name": "stdout",
     "output_type": "stream",
     "text": [
      "1/1 [==============================] - 0s 78ms/step\n",
      " The smiles, the flowers, everything is gone gone\n",
      "1/1 [==============================] - 0s 68ms/step\n",
      " The smiles, the flowers, everything is gone gone gone\n",
      "1/1 [==============================] - 0s 58ms/step\n",
      " The smiles, the flowers, everything is gone gone gone gone\n",
      "1/1 [==============================] - 0s 55ms/step\n",
      " The smiles, the flowers, everything is gone gone gone gone gone\n",
      "1/1 [==============================] - 0s 65ms/step\n",
      " The smiles, the flowers, everything is gone gone gone gone gone gone\n",
      "1/1 [==============================] - 0s 45ms/step\n",
      " The smiles, the flowers, everything is gone gone gone gone gone gone gone\n",
      "1/1 [==============================] - 0s 44ms/step\n",
      " The smiles, the flowers, everything is gone gone gone gone gone gone gone gone\n",
      "1/1 [==============================] - 0s 43ms/step\n",
      " The smiles, the flowers, everything is gone gone gone gone gone gone gone gone gone\n",
      "1/1 [==============================] - 0s 45ms/step\n",
      " The smiles, the flowers, everything is gone gone gone gone gone gone gone gone gone gone\n",
      "1/1 [==============================] - 0s 61ms/step\n",
      " The smiles, the flowers, everything is gone gone gone gone gone gone gone gone gone gone gone\n",
      "1/1 [==============================] - 0s 55ms/step\n",
      " The smiles, the flowers, everything is gone gone gone gone gone gone gone gone gone gone gone gone\n",
      "1/1 [==============================] - 0s 61ms/step\n",
      " The smiles, the flowers, everything is gone gone gone gone gone gone gone gone gone gone gone gone gone\n",
      "1/1 [==============================] - 0s 58ms/step\n",
      " The smiles, the flowers, everything is gone gone gone gone gone gone gone gone gone gone gone gone gone gone\n",
      "1/1 [==============================] - 0s 60ms/step\n",
      " The smiles, the flowers, everything is gone gone gone gone gone gone gone gone gone gone gone gone gone gone gone\n",
      "1/1 [==============================] - 0s 99ms/step\n",
      " The smiles, the flowers, everything is gone gone gone gone gone gone gone gone gone gone gone gone gone gone gone gone\n",
      "1/1 [==============================] - 0s 100ms/step\n",
      " The smiles, the flowers, everything is gone gone gone gone gone gone gone gone gone gone gone gone gone gone gone gone gone\n",
      "1/1 [==============================] - 0s 105ms/step\n",
      " The smiles, the flowers, everything is gone gone gone gone gone gone gone gone gone gone gone gone gone gone gone gone gone gone\n",
      "1/1 [==============================] - 0s 97ms/step\n",
      " The smiles, the flowers, everything is gone gone gone gone gone gone gone gone gone gone gone gone gone gone gone gone gone gone gone\n",
      "1/1 [==============================] - 0s 94ms/step\n",
      " The smiles, the flowers, everything is gone gone gone gone gone gone gone gone gone gone gone gone gone gone gone gone gone gone gone gone\n",
      "1/1 [==============================] - 0s 95ms/step\n",
      " The smiles, the flowers, everything is gone gone gone gone gone gone gone gone gone gone gone gone gone gone gone gone gone gone gone gone gone\n",
      "1/1 [==============================] - 0s 67ms/step\n",
      " The smiles, the flowers, everything is gone gone gone gone gone gone gone gone gone gone gone gone gone gone gone gone gone gone gone gone gone gone\n",
      "1/1 [==============================] - 0s 59ms/step\n",
      " The smiles, the flowers, everything is gone gone gone gone gone gone gone gone gone gone gone gone gone gone gone gone gone gone gone gone gone gone gone\n",
      "1/1 [==============================] - 0s 59ms/step\n",
      " The smiles, the flowers, everything is gone gone gone gone gone gone gone gone gone gone gone gone gone gone gone gone gone gone gone gone gone gone gone and\n",
      "1/1 [==============================] - 0s 58ms/step\n",
      " The smiles, the flowers, everything is gone gone gone gone gone gone gone gone gone gone gone gone gone gone gone gone gone gone gone gone gone gone gone and gone\n",
      "1/1 [==============================] - 0s 67ms/step\n",
      " The smiles, the flowers, everything is gone gone gone gone gone gone gone gone gone gone gone gone gone gone gone gone gone gone gone gone gone gone gone and gone in\n"
     ]
    }
   ],
   "source": [
    "seed_text1 = \" The smiles, the flowers, everything is gone\"\n",
    "prediction(seed_text1, 25)"
   ]
  },
  {
   "cell_type": "code",
   "execution_count": 40,
   "metadata": {},
   "outputs": [
    {
     "name": "stdout",
     "output_type": "stream",
     "text": [
      "1/1 [==============================] - 0s 72ms/step\n",
      " The smiles, the flowers, everything is gone gone\n",
      "1/1 [==============================] - 0s 62ms/step\n",
      " The smiles, the flowers, everything is gone gone gone\n",
      "1/1 [==============================] - 0s 52ms/step\n",
      " The smiles, the flowers, everything is gone gone gone gone\n",
      "1/1 [==============================] - 0s 53ms/step\n",
      " The smiles, the flowers, everything is gone gone gone gone gone\n",
      "1/1 [==============================] - 0s 58ms/step\n",
      " The smiles, the flowers, everything is gone gone gone gone gone gone\n",
      "1/1 [==============================] - 0s 79ms/step\n",
      " The smiles, the flowers, everything is gone gone gone gone gone gone gone\n",
      "1/1 [==============================] - 0s 82ms/step\n",
      " The smiles, the flowers, everything is gone gone gone gone gone gone gone gone\n",
      "1/1 [==============================] - 0s 50ms/step\n",
      " The smiles, the flowers, everything is gone gone gone gone gone gone gone gone gone\n",
      "1/1 [==============================] - 0s 48ms/step\n",
      " The smiles, the flowers, everything is gone gone gone gone gone gone gone gone gone gone\n",
      "1/1 [==============================] - 0s 50ms/step\n",
      " The smiles, the flowers, everything is gone gone gone gone gone gone gone gone gone gone gone\n",
      "1/1 [==============================] - 0s 58ms/step\n",
      " The smiles, the flowers, everything is gone gone gone gone gone gone gone gone gone gone gone gone\n",
      "1/1 [==============================] - 0s 80ms/step\n",
      " The smiles, the flowers, everything is gone gone gone gone gone gone gone gone gone gone gone gone gone\n",
      "1/1 [==============================] - 0s 97ms/step\n",
      " The smiles, the flowers, everything is gone gone gone gone gone gone gone gone gone gone gone gone gone gone\n",
      "1/1 [==============================] - 0s 109ms/step\n",
      " The smiles, the flowers, everything is gone gone gone gone gone gone gone gone gone gone gone gone gone gone gone\n",
      "1/1 [==============================] - 0s 102ms/step\n",
      " The smiles, the flowers, everything is gone gone gone gone gone gone gone gone gone gone gone gone gone gone gone gone\n",
      "1/1 [==============================] - 0s 89ms/step\n",
      " The smiles, the flowers, everything is gone gone gone gone gone gone gone gone gone gone gone gone gone gone gone gone gone\n",
      "1/1 [==============================] - 0s 90ms/step\n",
      " The smiles, the flowers, everything is gone gone gone gone gone gone gone gone gone gone gone gone gone gone gone gone gone gone\n",
      "1/1 [==============================] - 0s 96ms/step\n",
      " The smiles, the flowers, everything is gone gone gone gone gone gone gone gone gone gone gone gone gone gone gone gone gone gone gone\n",
      "1/1 [==============================] - 0s 90ms/step\n",
      " The smiles, the flowers, everything is gone gone gone gone gone gone gone gone gone gone gone gone gone gone gone gone gone gone gone gone\n",
      "1/1 [==============================] - 0s 69ms/step\n",
      " The smiles, the flowers, everything is gone gone gone gone gone gone gone gone gone gone gone gone gone gone gone gone gone gone gone gone gone\n",
      "1/1 [==============================] - 0s 76ms/step\n",
      " The smiles, the flowers, everything is gone gone gone gone gone gone gone gone gone gone gone gone gone gone gone gone gone gone gone gone gone gone\n",
      "1/1 [==============================] - 0s 93ms/step\n",
      " The smiles, the flowers, everything is gone gone gone gone gone gone gone gone gone gone gone gone gone gone gone gone gone gone gone gone gone gone gone\n",
      "1/1 [==============================] - 0s 61ms/step\n",
      " The smiles, the flowers, everything is gone gone gone gone gone gone gone gone gone gone gone gone gone gone gone gone gone gone gone gone gone gone gone and\n",
      "1/1 [==============================] - 0s 52ms/step\n",
      " The smiles, the flowers, everything is gone gone gone gone gone gone gone gone gone gone gone gone gone gone gone gone gone gone gone gone gone gone gone and gone\n",
      "1/1 [==============================] - 0s 58ms/step\n",
      " The smiles, the flowers, everything is gone gone gone gone gone gone gone gone gone gone gone gone gone gone gone gone gone gone gone gone gone gone gone and gone in\n",
      "1/1 [==============================] - 0s 44ms/step\n",
      " The smiles, the flowers, everything is gone gone gone gone gone gone gone gone gone gone gone gone gone gone gone gone gone gone gone gone gone gone gone and gone in silent\n",
      "1/1 [==============================] - 0s 45ms/step\n",
      " The smiles, the flowers, everything is gone gone gone gone gone gone gone gone gone gone gone gone gone gone gone gone gone gone gone gone gone gone gone and gone in silent screams\n",
      "1/1 [==============================] - 0s 41ms/step\n",
      " The smiles, the flowers, everything is gone gone gone gone gone gone gone gone gone gone gone gone gone gone gone gone gone gone gone gone gone gone gone and gone in silent screams in\n",
      "1/1 [==============================] - 0s 53ms/step\n",
      " The smiles, the flowers, everything is gone gone gone gone gone gone gone gone gone gone gone gone gone gone gone gone gone gone gone gone gone gone gone and gone in silent screams in wildest\n",
      "1/1 [==============================] - 0s 49ms/step\n",
      " The smiles, the flowers, everything is gone gone gone gone gone gone gone gone gone gone gone gone gone gone gone gone gone gone gone gone gone gone gone and gone in silent screams in wildest that\n",
      "1/1 [==============================] - 0s 51ms/step\n",
      " The smiles, the flowers, everything is gone gone gone gone gone gone gone gone gone gone gone gone gone gone gone gone gone gone gone gone gone gone gone and gone in silent screams in wildest that we\n",
      "1/1 [==============================] - 0s 53ms/step\n",
      " The smiles, the flowers, everything is gone gone gone gone gone gone gone gone gone gone gone gone gone gone gone gone gone gone gone gone gone gone gone and gone in silent screams in wildest that we share\n",
      "1/1 [==============================] - 0s 49ms/step\n",
      " The smiles, the flowers, everything is gone gone gone gone gone gone gone gone gone gone gone gone gone gone gone gone gone gone gone gone gone gone gone and gone in silent screams in wildest that we share today\n",
      "1/1 [==============================] - 0s 50ms/step\n",
      " The smiles, the flowers, everything is gone gone gone gone gone gone gone gone gone gone gone gone gone gone gone gone gone gone gone gone gone gone gone and gone in silent screams in wildest that we share today i\n",
      "1/1 [==============================] - 0s 52ms/step\n",
      " The smiles, the flowers, everything is gone gone gone gone gone gone gone gone gone gone gone gone gone gone gone gone gone gone gone gone gone gone gone and gone in silent screams in wildest that we share today i deserve\n"
     ]
    }
   ],
   "source": [
    "seed_text1 = \" The smiles, the flowers, everything is gone\"\n",
    "prediction(seed_text1, 35)"
   ]
  },
  {
   "cell_type": "code",
   "execution_count": null,
   "metadata": {},
   "outputs": [
    {
     "name": "stdout",
     "output_type": "stream",
     "text": [
      "1/1 [==============================] - 0s 81ms/step\n",
      " We could ever be the same? girl\n",
      "1/1 [==============================] - 0s 53ms/step\n",
      " We could ever be the same? girl picking\n",
      "1/1 [==============================] - 0s 99ms/step\n",
      " We could ever be the same? girl picking daisies\n",
      "1/1 [==============================] - 0s 108ms/step\n",
      " We could ever be the same? girl picking daisies in\n",
      "1/1 [==============================] - 0s 90ms/step\n",
      " We could ever be the same? girl picking daisies in the\n",
      "1/1 [==============================] - 0s 108ms/step\n",
      " We could ever be the same? girl picking daisies in the field\n",
      "1/1 [==============================] - 0s 91ms/step\n",
      " We could ever be the same? girl picking daisies in the field behind\n",
      "1/1 [==============================] - 0s 108ms/step\n",
      " We could ever be the same? girl picking daisies in the field behind and\n",
      "1/1 [==============================] - 0s 56ms/step\n",
      " We could ever be the same? girl picking daisies in the field behind and six\n",
      "1/1 [==============================] - 0s 53ms/step\n",
      " We could ever be the same? girl picking daisies in the field behind and six and\n",
      "1/1 [==============================] - 0s 57ms/step\n",
      " We could ever be the same? girl picking daisies in the field behind and six and he\n",
      "1/1 [==============================] - 0s 55ms/step\n",
      " We could ever be the same? girl picking daisies in the field behind and six and he says\n",
      "1/1 [==============================] - 0s 55ms/step\n",
      " We could ever be the same? girl picking daisies in the field behind and six and he says do\n",
      "1/1 [==============================] - 0s 54ms/step\n",
      " We could ever be the same? girl picking daisies in the field behind and six and he says do do\n",
      "1/1 [==============================] - 0s 54ms/step\n",
      " We could ever be the same? girl picking daisies in the field behind and six and he says do do do\n",
      "1/1 [==============================] - 0s 76ms/step\n",
      " We could ever be the same? girl picking daisies in the field behind and six and he says do do do lucky\n",
      "1/1 [==============================] - 0s 95ms/step\n",
      " We could ever be the same? girl picking daisies in the field behind and six and he says do do do lucky you\n",
      "1/1 [==============================] - 0s 96ms/step\n",
      " We could ever be the same? girl picking daisies in the field behind and six and he says do do do lucky you lucky\n",
      "1/1 [==============================] - 0s 83ms/step\n",
      " We could ever be the same? girl picking daisies in the field behind and six and he says do do do lucky you lucky you\n",
      "1/1 [==============================] - 0s 77ms/step\n",
      " We could ever be the same? girl picking daisies in the field behind and six and he says do do do lucky you lucky you lucky\n",
      "1/1 [==============================] - 0s 76ms/step\n",
      " We could ever be the same? girl picking daisies in the field behind and six and he says do do do lucky you lucky you lucky you\n",
      "1/1 [==============================] - 0s 98ms/step\n",
      " We could ever be the same? girl picking daisies in the field behind and six and he says do do do lucky you lucky you lucky you lucky\n",
      "1/1 [==============================] - 0s 89ms/step\n",
      " We could ever be the same? girl picking daisies in the field behind and six and he says do do do lucky you lucky you lucky you lucky you\n",
      "1/1 [==============================] - 0s 73ms/step\n",
      " We could ever be the same? girl picking daisies in the field behind and six and he says do do do lucky you lucky you lucky you lucky you maybe\n",
      "1/1 [==============================] - 0s 68ms/step\n",
      " We could ever be the same? girl picking daisies in the field behind and six and he says do do do lucky you lucky you lucky you lucky you maybe she'll\n",
      "1/1 [==============================] - 0s 69ms/step\n",
      " We could ever be the same? girl picking daisies in the field behind and six and he says do do do lucky you lucky you lucky you lucky you maybe she'll sing\n",
      "1/1 [==============================] - 0s 70ms/step\n",
      " We could ever be the same? girl picking daisies in the field behind and six and he says do do do lucky you lucky you lucky you lucky you maybe she'll sing you\n",
      "1/1 [==============================] - 0s 74ms/step\n",
      " We could ever be the same? girl picking daisies in the field behind and six and he says do do do lucky you lucky you lucky you lucky you maybe she'll sing you do\n",
      "1/1 [==============================] - 0s 67ms/step\n",
      " We could ever be the same? girl picking daisies in the field behind and six and he says do do do lucky you lucky you lucky you lucky you maybe she'll sing you do do\n",
      "1/1 [==============================] - 0s 89ms/step\n",
      " We could ever be the same? girl picking daisies in the field behind and six and he says do do do lucky you lucky you lucky you lucky you maybe she'll sing you do do do\n",
      "1/1 [==============================] - 0s 74ms/step\n",
      " We could ever be the same? girl picking daisies in the field behind and six and he says do do do lucky you lucky you lucky you lucky you maybe she'll sing you do do do do\n",
      "1/1 [==============================] - 0s 58ms/step\n",
      " We could ever be the same? girl picking daisies in the field behind and six and he says do do do lucky you lucky you lucky you lucky you maybe she'll sing you do do do do do\n",
      "1/1 [==============================] - 0s 66ms/step\n",
      " We could ever be the same? girl picking daisies in the field behind and six and he says do do do lucky you lucky you lucky you lucky you maybe she'll sing you do do do do do do\n",
      "1/1 [==============================] - 0s 73ms/step\n",
      " We could ever be the same? girl picking daisies in the field behind and six and he says do do do lucky you lucky you lucky you lucky you maybe she'll sing you do do do do do do do\n",
      "1/1 [==============================] - 0s 82ms/step\n",
      " We could ever be the same? girl picking daisies in the field behind and six and he says do do do lucky you lucky you lucky you lucky you maybe she'll sing you do do do do do do do do\n"
     ]
    }
   ],
   "source": [
    "seed_text1 = \" We could ever be the same?\"\n",
    "prediction(seed_text1, 35)"
   ]
  },
  {
   "cell_type": "markdown",
   "metadata": {},
   "source": [
    "## Loading our model from filesystem"
   ]
  },
  {
   "cell_type": "code",
   "execution_count": 57,
   "metadata": {},
   "outputs": [
    {
     "name": "stdout",
     "output_type": "stream",
     "text": [
      "Model: \"sequential\"\n",
      "_________________________________________________________________\n",
      " Layer (type)                Output Shape              Param #   \n",
      "=================================================================\n",
      " embedding (Embedding)       (None, 644, 50)           187200    \n",
      "                                                                 \n",
      " bidirectional (Bidirectiona  (None, 644, 256)         183296    \n",
      " l)                                                              \n",
      "                                                                 \n",
      " dropout (Dropout)           (None, 644, 256)          0         \n",
      "                                                                 \n",
      " bidirectional_1 (Bidirectio  (None, 644, 512)         1050624   \n",
      " nal)                                                            \n",
      "                                                                 \n",
      " dropout_1 (Dropout)         (None, 644, 512)          0         \n",
      "                                                                 \n",
      " bidirectional_2 (Bidirectio  (None, 1024)             4198400   \n",
      " nal)                                                            \n",
      "                                                                 \n",
      " dropout_2 (Dropout)         (None, 1024)              0         \n",
      "                                                                 \n",
      " dense (Dense)               (None, 3744)              3837600   \n",
      "                                                                 \n",
      "=================================================================\n",
      "Total params: 9,457,120\n",
      "Trainable params: 9,269,920\n",
      "Non-trainable params: 187,200\n",
      "_________________________________________________________________\n"
     ]
    }
   ],
   "source": [
    "# loaded_model = tf.keras.models.load_model(path_model_tostore)\n",
    "loaded_model = tf.keras.models.load_model(path_model_tostore)\n",
    "loaded_model.summary()"
   ]
  },
  {
   "cell_type": "code",
   "execution_count": null,
   "metadata": {
    "id": "GD1wlwKMkYe7"
   },
   "outputs": [],
   "source": []
  }
 ],
 "metadata": {
  "accelerator": "GPU",
  "colab": {
   "collapsed_sections": [],
   "name": "TP - Final.ipynb",
   "provenance": [
    {
     "file_id": "1tpAFzzPJH1BfCKcfaHe3dnudBZGRErg6",
     "timestamp": 1655711308879
    }
   ],
   "toc_visible": true
  },
  "gpuClass": "standard",
  "kernelspec": {
   "display_name": "Python 3 (ipykernel)",
   "language": "python",
   "name": "python3"
  },
  "language_info": {
   "codemirror_mode": {
    "name": "ipython",
    "version": 3
   },
   "file_extension": ".py",
   "mimetype": "text/x-python",
   "name": "python",
   "nbconvert_exporter": "python",
   "pygments_lexer": "ipython3",
   "version": "3.10.4"
  }
 },
 "nbformat": 4,
 "nbformat_minor": 4
}
