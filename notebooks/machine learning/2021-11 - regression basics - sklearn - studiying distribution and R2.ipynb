{
 "cells": [
  {
   "cell_type": "code",
   "execution_count": 1,
   "id": "f221d27d",
   "metadata": {},
   "outputs": [],
   "source": [
    "import os\n",
    "import json\n",
    "import random\n",
    "from pathlib import Path\n",
    "from zipfile import ZipFile"
   ]
  },
  {
   "cell_type": "code",
   "execution_count": 2,
   "id": "9bdc1ce3",
   "metadata": {},
   "outputs": [],
   "source": [
    "import kaggle\n",
    "import pandas as pd\n",
    "import numpy as np\n",
    "import matplotlib.pyplot as plt\n",
    "\n",
    "from sklearn.model_selection import train_test_split\n",
    "from sklearn.linear_model import LinearRegression\n",
    "from sklearn.ensemble import RandomForestRegressor"
   ]
  },
  {
   "cell_type": "code",
   "execution_count": 3,
   "id": "72438673",
   "metadata": {},
   "outputs": [],
   "source": [
    "kaggle_data = json.load(open(str(Path.home()) + '/kaggle.json', 'r'))\n",
    "KAGGLE_USERNAME = kaggle_data['username']\n",
    "KAGGLE_KEY = kaggle_data['key']"
   ]
  },
  {
   "cell_type": "code",
   "execution_count": 4,
   "id": "2bd00500",
   "metadata": {},
   "outputs": [
    {
     "name": "stdout",
     "output_type": "stream",
     "text": [
      "Successfully imported access to kaggle\n"
     ]
    }
   ],
   "source": [
    "if KAGGLE_KEY and KAGGLE_USERNAME: print('Successfully imported access to kaggle')"
   ]
  },
  {
   "cell_type": "code",
   "execution_count": 5,
   "id": "1d8bd524",
   "metadata": {},
   "outputs": [],
   "source": [
    "os.environ['KAGGLE_USERNAME'] = KAGGLE_USERNAME\n",
    "os.environ['KAGGLE_KEY'] = KAGGLE_KEY"
   ]
  },
  {
   "cell_type": "code",
   "execution_count": 6,
   "id": "510eeee8",
   "metadata": {
    "scrolled": true
   },
   "outputs": [
    {
     "name": "stdout",
     "output_type": "stream",
     "text": [
      "Dataset will be downloaded as zip under the current directory\n",
      "beginners-regression-dataset.zip: Skipping, found more recently modified local copy (use --force to force download)\n"
     ]
    }
   ],
   "source": [
    "print('Dataset will be downloaded as zip under the current directory')\n",
    "!kaggle datasets download -d sveneschlbeck/beginners-regression-dataset"
   ]
  },
  {
   "cell_type": "code",
   "execution_count": 7,
   "id": "3784ecb2",
   "metadata": {},
   "outputs": [
    {
     "name": "stdout",
     "output_type": "stream",
     "text": [
      "Archive:  beginners-regression-dataset.zip\r\n",
      "  inflating: ./data/apartment_prices.csv  \r\n"
     ]
    }
   ],
   "source": [
    "!rm -rf data/ && unzip *.zip -d ./data"
   ]
  },
  {
   "cell_type": "code",
   "execution_count": 8,
   "id": "aef43a5d",
   "metadata": {},
   "outputs": [
    {
     "name": "stdout",
     "output_type": "stream",
     "text": [
      "apartment_prices.csv\r\n"
     ]
    }
   ],
   "source": [
    "!ls data/"
   ]
  },
  {
   "cell_type": "code",
   "execution_count": 9,
   "id": "b83711f9",
   "metadata": {
    "scrolled": true
   },
   "outputs": [
    {
     "data": {
      "text/html": [
       "<div>\n",
       "<style scoped>\n",
       "    .dataframe tbody tr th:only-of-type {\n",
       "        vertical-align: middle;\n",
       "    }\n",
       "\n",
       "    .dataframe tbody tr th {\n",
       "        vertical-align: top;\n",
       "    }\n",
       "\n",
       "    .dataframe thead th {\n",
       "        text-align: right;\n",
       "    }\n",
       "</style>\n",
       "<table border=\"1\" class=\"dataframe\">\n",
       "  <thead>\n",
       "    <tr style=\"text-align: right;\">\n",
       "      <th></th>\n",
       "      <th>Squaremeter</th>\n",
       "      <th>Price</th>\n",
       "    </tr>\n",
       "  </thead>\n",
       "  <tbody>\n",
       "    <tr>\n",
       "      <th>0</th>\n",
       "      <td>70</td>\n",
       "      <td>351</td>\n",
       "    </tr>\n",
       "    <tr>\n",
       "      <th>1</th>\n",
       "      <td>72</td>\n",
       "      <td>39</td>\n",
       "    </tr>\n",
       "    <tr>\n",
       "      <th>2</th>\n",
       "      <td>91</td>\n",
       "      <td>473</td>\n",
       "    </tr>\n",
       "    <tr>\n",
       "      <th>3</th>\n",
       "      <td>58</td>\n",
       "      <td>282</td>\n",
       "    </tr>\n",
       "    <tr>\n",
       "      <th>4</th>\n",
       "      <td>49</td>\n",
       "      <td>3</td>\n",
       "    </tr>\n",
       "  </tbody>\n",
       "</table>\n",
       "</div>"
      ],
      "text/plain": [
       "   Squaremeter  Price\n",
       "0           70    351\n",
       "1           72     39\n",
       "2           91    473\n",
       "3           58    282\n",
       "4           49      3"
      ]
     },
     "execution_count": 9,
     "metadata": {},
     "output_type": "execute_result"
    }
   ],
   "source": [
    "df = pd.read_csv('./data/apartment_prices.csv'); df.head()"
   ]
  },
  {
   "cell_type": "markdown",
   "id": "07c487d3",
   "metadata": {},
   "source": [
    "## EDA / dataviz"
   ]
  },
  {
   "cell_type": "markdown",
   "id": "ff63389c",
   "metadata": {},
   "source": [
    "### First feature -> Squaremeter"
   ]
  },
  {
   "cell_type": "code",
   "execution_count": 10,
   "id": "8ddbf2af",
   "metadata": {},
   "outputs": [
    {
     "data": {
      "text/plain": [
       "(11, 109, 61.9, 60.5)"
      ]
     },
     "execution_count": 10,
     "metadata": {},
     "output_type": "execute_result"
    }
   ],
   "source": [
    "current = df['Squaremeter']\n",
    "current.min(), current.max(), current.mean(), current.median()"
   ]
  },
  {
   "cell_type": "code",
   "execution_count": 11,
   "id": "73832c37",
   "metadata": {},
   "outputs": [
    {
     "data": {
      "text/plain": [
       "array([[<AxesSubplot:title={'center':'Squaremeter'}>]], dtype=object)"
      ]
     },
     "execution_count": 11,
     "metadata": {},
     "output_type": "execute_result"
    },
    {
     "data": {
      "image/png": "[encoded data removed]",
      "text/plain": [
       "<Figure size 432x288 with 1 Axes>"
      ]
     },
     "metadata": {
      "needs_background": "light"
     },
     "output_type": "display_data"
    }
   ],
   "source": [
    "%matplotlib inline\n",
    "df.hist(column='Squaremeter', bins=10)"
   ]
  },
  {
   "cell_type": "code",
   "execution_count": 12,
   "id": "f617c7cc",
   "metadata": {},
   "outputs": [
    {
     "data": {
      "text/plain": [
       "(3, 576, 304.1, 306.5)"
      ]
     },
     "execution_count": 12,
     "metadata": {},
     "output_type": "execute_result"
    }
   ],
   "source": [
    "current = df['Price']\n",
    "current.min(), current.max(), current.mean(), current.median()"
   ]
  },
  {
   "cell_type": "code",
   "execution_count": 13,
   "id": "76f51f87",
   "metadata": {},
   "outputs": [
    {
     "data": {
      "text/plain": [
       "array([[<AxesSubplot:title={'center':'Price'}>]], dtype=object)"
      ]
     },
     "execution_count": 13,
     "metadata": {},
     "output_type": "execute_result"
    },
    {
     "data": {
      "image/png": "[encoded data removed]",
      "text/plain": [
       "<Figure size 432x288 with 1 Axes>"
      ]
     },
     "metadata": {
      "needs_background": "light"
     },
     "output_type": "display_data"
    }
   ],
   "source": [
    "%matplotlib inline\n",
    "df.hist(column='Price', bins=10)"
   ]
  },
  {
   "cell_type": "markdown",
   "id": "ec6bbabc",
   "metadata": {},
   "source": [
    "## Prediction and model training evolution"
   ]
  },
  {
   "cell_type": "code",
   "execution_count": 14,
   "id": "85ec4334",
   "metadata": {},
   "outputs": [],
   "source": [
    "import sklearn.metrics as metrics\n",
    "\n",
    "def regression_results(y_true, y_pred):\n",
    "\n",
    "    # Regression metrics\n",
    "    explained_variance=metrics.explained_variance_score(y_true, y_pred)\n",
    "    mean_absolute_error=metrics.mean_absolute_error(y_true, y_pred) \n",
    "    mse=metrics.mean_squared_error(y_true, y_pred) \n",
    "    mean_squared_log_error=metrics.mean_squared_log_error(y_true, y_pred)\n",
    "    median_absolute_error=metrics.median_absolute_error(y_true, y_pred)\n",
    "    r2=metrics.r2_score(y_true, y_pred)\n",
    "\n",
    "    print('explained_variance: ', round(explained_variance,4))    \n",
    "    print('mean_squared_log_error: ', round(mean_squared_log_error,4))\n",
    "    print('r2: ', round(r2,4))\n",
    "    print('MAE: ', round(mean_absolute_error,4))\n",
    "    print('MSE: ', round(mse,4))\n",
    "    print('RMSE: ', round(np.sqrt(mse),4))"
   ]
  },
  {
   "cell_type": "markdown",
   "id": "f182ef9f",
   "metadata": {},
   "source": [
    "First let's define our X and y, then separate on two set to be able to compute training metrics\n",
    "- Independant variable (X) -> Squaremeter\n",
    "- dependant variable (y) -> Price"
   ]
  },
  {
   "cell_type": "markdown",
   "id": "577da5fc",
   "metadata": {},
   "source": [
    "### Spliting train and validation set -> 80/20"
   ]
  },
  {
   "cell_type": "code",
   "execution_count": 15,
   "id": "254f687c",
   "metadata": {},
   "outputs": [],
   "source": [
    "X, y = df['Squaremeter'].values, df['Price'].values"
   ]
  },
  {
   "cell_type": "code",
   "execution_count": 16,
   "id": "84e85e00",
   "metadata": {},
   "outputs": [],
   "source": [
    "X_train, X_test, y_train, y_test = train_test_split(X, y, test_size=0.2, random_state=0)"
   ]
  },
  {
   "cell_type": "code",
   "execution_count": 17,
   "id": "b9b9cc59",
   "metadata": {},
   "outputs": [
    {
     "data": {
      "text/plain": [
       "((40,), numpy.ndarray, (40,), numpy.ndarray)"
      ]
     },
     "execution_count": 17,
     "metadata": {},
     "output_type": "execute_result"
    }
   ],
   "source": [
    "X_train.shape, type(X_train), y_train.shape, type(y_train)"
   ]
  },
  {
   "cell_type": "code",
   "execution_count": 18,
   "id": "dcb4a5f7",
   "metadata": {},
   "outputs": [
    {
     "data": {
      "text/plain": [
       "array([[ 60],\n",
       "       [ 74],\n",
       "       [ 65],\n",
       "       [ 60],\n",
       "       [ 89],\n",
       "       [ 33],\n",
       "       [ 70],\n",
       "       [109],\n",
       "       [ 25],\n",
       "       [ 50],\n",
       "       [ 47],\n",
       "       [ 62],\n",
       "       [ 11],\n",
       "       [ 55],\n",
       "       [ 55],\n",
       "       [ 42],\n",
       "       [ 60],\n",
       "       [ 61],\n",
       "       [ 81],\n",
       "       [ 62],\n",
       "       [ 50],\n",
       "       [ 70],\n",
       "       [ 76],\n",
       "       [ 88],\n",
       "       [ 72],\n",
       "       [ 35],\n",
       "       [ 56],\n",
       "       [ 72],\n",
       "       [ 48],\n",
       "       [ 52],\n",
       "       [ 64],\n",
       "       [ 93],\n",
       "       [ 68],\n",
       "       [ 51],\n",
       "       [ 40],\n",
       "       [ 51],\n",
       "       [ 58],\n",
       "       [ 70],\n",
       "       [ 48],\n",
       "       [ 79]])"
      ]
     },
     "execution_count": 18,
     "metadata": {},
     "output_type": "execute_result"
    }
   ],
   "source": [
    "X_train = X_train.reshape(-1, 1); X_train"
   ]
  },
  {
   "cell_type": "code",
   "execution_count": 19,
   "id": "4cee4e43",
   "metadata": {},
   "outputs": [
    {
     "data": {
      "text/plain": [
       "(40, 1)"
      ]
     },
     "execution_count": 19,
     "metadata": {},
     "output_type": "execute_result"
    }
   ],
   "source": [
    "X_train.shape"
   ]
  },
  {
   "cell_type": "code",
   "execution_count": 20,
   "id": "6cd61246",
   "metadata": {},
   "outputs": [
    {
     "data": {
      "text/plain": [
       "array([[328],\n",
       "       [322],\n",
       "       [331],\n",
       "       [282],\n",
       "       [499],\n",
       "       [181],\n",
       "       [352],\n",
       "       [576],\n",
       "       [101],\n",
       "       [215],\n",
       "       [239],\n",
       "       [287],\n",
       "       [  7],\n",
       "       [322],\n",
       "       [294],\n",
       "       [229],\n",
       "       [277],\n",
       "       [308],\n",
       "       [397],\n",
       "       [328],\n",
       "       [286],\n",
       "       [376],\n",
       "       [407],\n",
       "       [426],\n",
       "       [ 39],\n",
       "       [165],\n",
       "       [317],\n",
       "       [363],\n",
       "       [228],\n",
       "       [256],\n",
       "       [305],\n",
       "       [424],\n",
       "       [383],\n",
       "       [289],\n",
       "       [225],\n",
       "       [254],\n",
       "       [282],\n",
       "       [351],\n",
       "       [263],\n",
       "       [393]])"
      ]
     },
     "execution_count": 20,
     "metadata": {},
     "output_type": "execute_result"
    }
   ],
   "source": [
    "y_train = y_train.reshape(-1, 1); y_train"
   ]
  },
  {
   "cell_type": "code",
   "execution_count": 21,
   "id": "a08c3e2c",
   "metadata": {},
   "outputs": [],
   "source": [
    "X_test = X_test.reshape(-1, 1)\n",
    "y_test = y_test.reshape(-1, 1)"
   ]
  },
  {
   "cell_type": "markdown",
   "id": "9b0c65a2",
   "metadata": {},
   "source": [
    "### Model instanciation and basic training"
   ]
  },
  {
   "cell_type": "markdown",
   "id": "c8acacff",
   "metadata": {},
   "source": [
    "With a linear algorithm like LinearRegression"
   ]
  },
  {
   "cell_type": "code",
   "execution_count": 22,
   "id": "62650e69",
   "metadata": {},
   "outputs": [
    {
     "data": {
      "text/plain": [
       "LinearRegression()"
      ]
     },
     "execution_count": 22,
     "metadata": {},
     "output_type": "execute_result"
    }
   ],
   "source": [
    "model_linear = LinearRegression()\n",
    "model_linear.fit(X_train, y_train)"
   ]
  },
  {
   "cell_type": "code",
   "execution_count": 23,
   "id": "2b54af06",
   "metadata": {},
   "outputs": [],
   "source": [
    "preds = model_linear.predict(X_test)"
   ]
  },
  {
   "cell_type": "code",
   "execution_count": 24,
   "id": "af05293e",
   "metadata": {},
   "outputs": [
    {
     "data": {
      "text/plain": [
       "[<matplotlib.lines.Line2D at 0x7fd944d5bbb0>]"
      ]
     },
     "execution_count": 24,
     "metadata": {},
     "output_type": "execute_result"
    },
    {
     "data": {
      "image/png": "[encoded data removed]",
      "text/plain": [
       "<Figure size 432x288 with 1 Axes>"
      ]
     },
     "metadata": {
      "needs_background": "light"
     },
     "output_type": "display_data"
    }
   ],
   "source": [
    "plt.plot(y_test, preds)"
   ]
  },
  {
   "cell_type": "code",
   "execution_count": 25,
   "id": "ec744adc",
   "metadata": {},
   "outputs": [
    {
     "name": "stdout",
     "output_type": "stream",
     "text": [
      "explained_variance:  0.6503\n",
      "mean_squared_log_error:  1.7026\n",
      "r2:  0.6476\n",
      "MAE:  49.3944\n",
      "MSE:  6901.7369\n",
      "RMSE:  83.0767\n"
     ]
    }
   ],
   "source": [
    "regression_results(y_test, preds)"
   ]
  },
  {
   "cell_type": "markdown",
   "id": "8ba82aea",
   "metadata": {},
   "source": [
    "With an ensemble algorithm like RandomForest"
   ]
  },
  {
   "cell_type": "code",
   "execution_count": 26,
   "id": "40264206",
   "metadata": {},
   "outputs": [
    {
     "name": "stderr",
     "output_type": "stream",
     "text": [
      "/tmp/ipykernel_17025/4236113226.py:2: DataConversionWarning: A column-vector y was passed when a 1d array was expected. Please change the shape of y to (n_samples,), for example using ravel().\n",
      "  model_forest.fit(X_train, y_train)\n"
     ]
    },
    {
     "data": {
      "text/plain": [
       "RandomForestRegressor()"
      ]
     },
     "execution_count": 26,
     "metadata": {},
     "output_type": "execute_result"
    }
   ],
   "source": [
    "model_forest = RandomForestRegressor()\n",
    "model_forest.fit(X_train, y_train)"
   ]
  },
  {
   "cell_type": "code",
   "execution_count": 27,
   "id": "6d583642",
   "metadata": {},
   "outputs": [],
   "source": [
    "preds = model_forest.predict(X_test)"
   ]
  },
  {
   "cell_type": "code",
   "execution_count": 28,
   "id": "a6e25725",
   "metadata": {},
   "outputs": [
    {
     "data": {
      "text/plain": [
       "[<matplotlib.lines.Line2D at 0x7fd944ce68e0>]"
      ]
     },
     "execution_count": 28,
     "metadata": {},
     "output_type": "execute_result"
    },
    {
     "data": {
      "image/png": "[encoded data removed]",
      "text/plain": [
       "<Figure size 432x288 with 1 Axes>"
      ]
     },
     "metadata": {
      "needs_background": "light"
     },
     "output_type": "display_data"
    }
   ],
   "source": [
    "plt.plot(y_test, preds)"
   ]
  },
  {
   "cell_type": "code",
   "execution_count": 29,
   "id": "47924cd1",
   "metadata": {},
   "outputs": [
    {
     "name": "stdout",
     "output_type": "stream",
     "text": [
      "explained_variance:  0.6587\n",
      "mean_squared_log_error:  1.7188\n",
      "r2:  0.6422\n",
      "MAE:  48.372\n",
      "MSE:  7007.7667\n",
      "RMSE:  83.7124\n"
     ]
    }
   ],
   "source": [
    "regression_results(y_test, preds)"
   ]
  },
  {
   "cell_type": "markdown",
   "id": "4c1d3247",
   "metadata": {},
   "source": [
    "## Shuffling data"
   ]
  },
  {
   "cell_type": "code",
   "execution_count": 30,
   "id": "15c52f87",
   "metadata": {},
   "outputs": [],
   "source": [
    "X_train, X_test, y_train, y_test = train_test_split(X, y, test_size=0.2, random_state=1)"
   ]
  },
  {
   "cell_type": "code",
   "execution_count": 31,
   "id": "1934f8af",
   "metadata": {},
   "outputs": [],
   "source": [
    "X_train = X_train.reshape(-1, 1);"
   ]
  },
  {
   "cell_type": "code",
   "execution_count": 32,
   "id": "50da80bf",
   "metadata": {},
   "outputs": [],
   "source": [
    "y_train = y_train.reshape(-1, 1);"
   ]
  },
  {
   "cell_type": "code",
   "execution_count": 33,
   "id": "55087da2",
   "metadata": {},
   "outputs": [],
   "source": [
    "X_test = X_test.reshape(-1, 1)\n",
    "y_test = y_test.reshape(-1, 1)"
   ]
  },
  {
   "cell_type": "code",
   "execution_count": 34,
   "id": "1c765e37",
   "metadata": {},
   "outputs": [
    {
     "data": {
      "text/plain": [
       "LinearRegression()"
      ]
     },
     "execution_count": 34,
     "metadata": {},
     "output_type": "execute_result"
    }
   ],
   "source": [
    "model_linear = LinearRegression()\n",
    "model_linear.fit(X_train, y_train)"
   ]
  },
  {
   "cell_type": "code",
   "execution_count": 35,
   "id": "f58ea46d",
   "metadata": {},
   "outputs": [],
   "source": [
    "preds = model_linear.predict(X_test)"
   ]
  },
  {
   "cell_type": "code",
   "execution_count": 36,
   "id": "6f0aa7d3",
   "metadata": {},
   "outputs": [
    {
     "data": {
      "text/plain": [
       "[<matplotlib.lines.Line2D at 0x7fd944c46bb0>]"
      ]
     },
     "execution_count": 36,
     "metadata": {},
     "output_type": "execute_result"
    },
    {
     "data": {
      "image/png": "[encoded data removed]",
      "text/plain": [
       "<Figure size 432x288 with 1 Axes>"
      ]
     },
     "metadata": {
      "needs_background": "light"
     },
     "output_type": "display_data"
    }
   ],
   "source": [
    "plt.plot(y_test, preds)"
   ]
  },
  {
   "cell_type": "code",
   "execution_count": 37,
   "id": "afdc6a84",
   "metadata": {},
   "outputs": [
    {
     "name": "stdout",
     "output_type": "stream",
     "text": [
      "explained_variance:  0.9385\n",
      "mean_squared_log_error:  0.0098\n",
      "r2:  0.9384\n",
      "MAE:  24.2919\n",
      "MSE:  840.3053\n",
      "RMSE:  28.988\n"
     ]
    }
   ],
   "source": [
    "regression_results(y_test, preds)"
   ]
  },
  {
   "cell_type": "code",
   "execution_count": 38,
   "id": "9626cb98",
   "metadata": {},
   "outputs": [
    {
     "name": "stderr",
     "output_type": "stream",
     "text": [
      "/tmp/ipykernel_17025/4236113226.py:2: DataConversionWarning: A column-vector y was passed when a 1d array was expected. Please change the shape of y to (n_samples,), for example using ravel().\n",
      "  model_forest.fit(X_train, y_train)\n"
     ]
    },
    {
     "data": {
      "text/plain": [
       "RandomForestRegressor()"
      ]
     },
     "execution_count": 38,
     "metadata": {},
     "output_type": "execute_result"
    }
   ],
   "source": [
    "model_forest = RandomForestRegressor()\n",
    "model_forest.fit(X_train, y_train)"
   ]
  },
  {
   "cell_type": "code",
   "execution_count": 39,
   "id": "6d7dd476",
   "metadata": {},
   "outputs": [],
   "source": [
    "preds = model_forest.predict(X_test)"
   ]
  },
  {
   "cell_type": "code",
   "execution_count": 40,
   "id": "a82a01c1",
   "metadata": {},
   "outputs": [
    {
     "data": {
      "text/plain": [
       "[<matplotlib.lines.Line2D at 0x7fd944bca4f0>]"
      ]
     },
     "execution_count": 40,
     "metadata": {},
     "output_type": "execute_result"
    },
    {
     "data": {
      "image/png": "[encoded data removed]",
      "text/plain": [
       "<Figure size 432x288 with 1 Axes>"
      ]
     },
     "metadata": {
      "needs_background": "light"
     },
     "output_type": "display_data"
    }
   ],
   "source": [
    "plt.plot(y_test, preds)"
   ]
  },
  {
   "cell_type": "code",
   "execution_count": 41,
   "id": "cf0f419b",
   "metadata": {},
   "outputs": [
    {
     "name": "stdout",
     "output_type": "stream",
     "text": [
      "explained_variance:  0.8629\n",
      "mean_squared_log_error:  0.0423\n",
      "r2:  0.8602\n",
      "MAE:  33.9451\n",
      "MSE:  1908.0463\n",
      "RMSE:  43.6812\n"
     ]
    }
   ],
   "source": [
    "regression_results(y_test, preds)"
   ]
  },
  {
   "cell_type": "markdown",
   "id": "17b5e41d",
   "metadata": {},
   "source": [
    "### Shuffling and loging our price"
   ]
  },
  {
   "cell_type": "code",
   "execution_count": 42,
   "id": "d67195c6",
   "metadata": {},
   "outputs": [],
   "source": [
    "X, y = df['Squaremeter'].values, np.log(df['Price'].values)"
   ]
  },
  {
   "cell_type": "code",
   "execution_count": 43,
   "id": "d443c6b7",
   "metadata": {},
   "outputs": [
    {
     "data": {
      "text/plain": [
       "(351, '->', 5.860786223465865)"
      ]
     },
     "execution_count": 43,
     "metadata": {},
     "output_type": "execute_result"
    }
   ],
   "source": [
    "df['Price'].values[0], '->', y[0]"
   ]
  },
  {
   "cell_type": "code",
   "execution_count": 44,
   "id": "089b013b",
   "metadata": {},
   "outputs": [],
   "source": [
    "X_train, X_test, y_train, y_test = train_test_split(X, y, test_size=0.2, random_state=1)"
   ]
  },
  {
   "cell_type": "code",
   "execution_count": 45,
   "id": "4fb2fd52",
   "metadata": {},
   "outputs": [],
   "source": [
    "X_train = X_train.reshape(-1, 1);"
   ]
  },
  {
   "cell_type": "code",
   "execution_count": 46,
   "id": "0705c965",
   "metadata": {},
   "outputs": [],
   "source": [
    "y_train = y_train.reshape(-1, 1);"
   ]
  },
  {
   "cell_type": "code",
   "execution_count": 47,
   "id": "ab8db013",
   "metadata": {},
   "outputs": [],
   "source": [
    "X_test = X_test.reshape(-1, 1)\n",
    "y_test = y_test.reshape(-1, 1)"
   ]
  },
  {
   "cell_type": "code",
   "execution_count": 48,
   "id": "328d5d30",
   "metadata": {},
   "outputs": [
    {
     "data": {
      "text/plain": [
       "LinearRegression()"
      ]
     },
     "execution_count": 48,
     "metadata": {},
     "output_type": "execute_result"
    }
   ],
   "source": [
    "model_linear = LinearRegression()\n",
    "model_linear.fit(X_train, y_train)"
   ]
  },
  {
   "cell_type": "code",
   "execution_count": 49,
   "id": "3034f00b",
   "metadata": {},
   "outputs": [],
   "source": [
    "preds = model_linear.predict(X_test)"
   ]
  },
  {
   "cell_type": "code",
   "execution_count": 50,
   "id": "c7cbe213",
   "metadata": {},
   "outputs": [
    {
     "data": {
      "text/plain": [
       "[<matplotlib.lines.Line2D at 0x7fd944b3ad00>]"
      ]
     },
     "execution_count": 50,
     "metadata": {},
     "output_type": "execute_result"
    },
    {
     "data": {
      "image/png": "[encoded data removed]",
      "text/plain": [
       "<Figure size 432x288 with 1 Axes>"
      ]
     },
     "metadata": {
      "needs_background": "light"
     },
     "output_type": "display_data"
    }
   ],
   "source": [
    "plt.plot(y_test, preds)"
   ]
  },
  {
   "cell_type": "code",
   "execution_count": 51,
   "id": "fe3be773",
   "metadata": {},
   "outputs": [
    {
     "name": "stdout",
     "output_type": "stream",
     "text": [
      "explained_variance:  0.7648\n",
      "mean_squared_log_error:  0.0013\n",
      "r2:  0.7137\n",
      "MAE:  0.2215\n",
      "MSE:  0.0582\n",
      "RMSE:  0.2413\n"
     ]
    }
   ],
   "source": [
    "regression_results(y_test, preds)"
   ]
  },
  {
   "cell_type": "code",
   "execution_count": 52,
   "id": "ad56180b",
   "metadata": {},
   "outputs": [
    {
     "name": "stderr",
     "output_type": "stream",
     "text": [
      "/tmp/ipykernel_17025/4236113226.py:2: DataConversionWarning: A column-vector y was passed when a 1d array was expected. Please change the shape of y to (n_samples,), for example using ravel().\n",
      "  model_forest.fit(X_train, y_train)\n"
     ]
    },
    {
     "data": {
      "text/plain": [
       "RandomForestRegressor()"
      ]
     },
     "execution_count": 52,
     "metadata": {},
     "output_type": "execute_result"
    }
   ],
   "source": [
    "model_forest = RandomForestRegressor()\n",
    "model_forest.fit(X_train, y_train)"
   ]
  },
  {
   "cell_type": "code",
   "execution_count": 53,
   "id": "28c78cb2",
   "metadata": {},
   "outputs": [],
   "source": [
    "preds = model_linear.predict(X_test)"
   ]
  },
  {
   "cell_type": "code",
   "execution_count": 54,
   "id": "ab5f2856",
   "metadata": {},
   "outputs": [
    {
     "data": {
      "text/plain": [
       "[<matplotlib.lines.Line2D at 0x7fd944b36a00>]"
      ]
     },
     "execution_count": 54,
     "metadata": {},
     "output_type": "execute_result"
    },
    {
     "data": {
      "image/png": "[encoded data removed]",
      "text/plain": [
       "<Figure size 432x288 with 1 Axes>"
      ]
     },
     "metadata": {
      "needs_background": "light"
     },
     "output_type": "display_data"
    }
   ],
   "source": [
    "plt.plot(y_test, preds)"
   ]
  },
  {
   "cell_type": "code",
   "execution_count": 55,
   "id": "c4f0bcd2",
   "metadata": {},
   "outputs": [
    {
     "name": "stdout",
     "output_type": "stream",
     "text": [
      "explained_variance:  0.7648\n",
      "mean_squared_log_error:  0.0013\n",
      "r2:  0.7137\n",
      "MAE:  0.2215\n",
      "MSE:  0.0582\n",
      "RMSE:  0.2413\n"
     ]
    }
   ],
   "source": [
    "regression_results(y_test, preds)"
   ]
  },
  {
   "cell_type": "markdown",
   "id": "8e662dce",
   "metadata": {},
   "source": [
    "### Log our price but not shuffling our dataset"
   ]
  },
  {
   "cell_type": "code",
   "execution_count": 56,
   "id": "5fd92d6f",
   "metadata": {},
   "outputs": [],
   "source": [
    "X, y = df['Squaremeter'].values, np.log(df['Price'].values)"
   ]
  },
  {
   "cell_type": "code",
   "execution_count": 57,
   "id": "beb2597e",
   "metadata": {},
   "outputs": [
    {
     "data": {
      "text/plain": [
       "(351, '->', 5.860786223465865)"
      ]
     },
     "execution_count": 57,
     "metadata": {},
     "output_type": "execute_result"
    }
   ],
   "source": [
    "df['Price'].values[0], '->', y[0]"
   ]
  },
  {
   "cell_type": "code",
   "execution_count": 58,
   "id": "57f83440",
   "metadata": {},
   "outputs": [],
   "source": [
    "X_train, X_test, y_train, y_test = train_test_split(X, y, test_size=0.2, random_state=0)"
   ]
  },
  {
   "cell_type": "code",
   "execution_count": 59,
   "id": "b65c7bb1",
   "metadata": {},
   "outputs": [],
   "source": [
    "X_train = X_train.reshape(-1, 1);"
   ]
  },
  {
   "cell_type": "code",
   "execution_count": 60,
   "id": "59e287ed",
   "metadata": {},
   "outputs": [],
   "source": [
    "y_train = y_train.reshape(-1, 1);"
   ]
  },
  {
   "cell_type": "code",
   "execution_count": 61,
   "id": "2376579c",
   "metadata": {},
   "outputs": [],
   "source": [
    "X_test = X_test.reshape(-1, 1)\n",
    "y_test = y_test.reshape(-1, 1)"
   ]
  },
  {
   "cell_type": "code",
   "execution_count": 62,
   "id": "65ac7408",
   "metadata": {},
   "outputs": [
    {
     "data": {
      "text/plain": [
       "LinearRegression()"
      ]
     },
     "execution_count": 62,
     "metadata": {},
     "output_type": "execute_result"
    }
   ],
   "source": [
    "model_linear = LinearRegression()\n",
    "model_linear.fit(X_train, y_train)"
   ]
  },
  {
   "cell_type": "code",
   "execution_count": 63,
   "id": "e662f53f",
   "metadata": {},
   "outputs": [],
   "source": [
    "preds = model_linear.predict(X_test)"
   ]
  },
  {
   "cell_type": "code",
   "execution_count": 64,
   "id": "babbbb4b",
   "metadata": {},
   "outputs": [
    {
     "data": {
      "text/plain": [
       "[<matplotlib.lines.Line2D at 0x7fd944aa0bb0>]"
      ]
     },
     "execution_count": 64,
     "metadata": {},
     "output_type": "execute_result"
    },
    {
     "data": {
      "image/png": "[encoded data removed]",
      "text/plain": [
       "<Figure size 432x288 with 1 Axes>"
      ]
     },
     "metadata": {
      "needs_background": "light"
     },
     "output_type": "display_data"
    }
   ],
   "source": [
    "plt.plot(y_test, preds)"
   ]
  },
  {
   "cell_type": "code",
   "execution_count": 65,
   "id": "989307a0",
   "metadata": {},
   "outputs": [
    {
     "name": "stdout",
     "output_type": "stream",
     "text": [
      "explained_variance:  0.2128\n",
      "mean_squared_log_error:  0.1212\n",
      "r2:  0.1489\n",
      "MAE:  0.6073\n",
      "MSE:  1.8017\n",
      "RMSE:  1.3423\n"
     ]
    }
   ],
   "source": [
    "regression_results(y_test, preds)"
   ]
  },
  {
   "cell_type": "code",
   "execution_count": 66,
   "id": "42e279f3",
   "metadata": {},
   "outputs": [
    {
     "name": "stderr",
     "output_type": "stream",
     "text": [
      "/tmp/ipykernel_17025/4236113226.py:2: DataConversionWarning: A column-vector y was passed when a 1d array was expected. Please change the shape of y to (n_samples,), for example using ravel().\n",
      "  model_forest.fit(X_train, y_train)\n"
     ]
    },
    {
     "data": {
      "text/plain": [
       "RandomForestRegressor()"
      ]
     },
     "execution_count": 66,
     "metadata": {},
     "output_type": "execute_result"
    }
   ],
   "source": [
    "model_forest = RandomForestRegressor()\n",
    "model_forest.fit(X_train, y_train)"
   ]
  },
  {
   "cell_type": "code",
   "execution_count": 67,
   "id": "0c48cc17",
   "metadata": {},
   "outputs": [],
   "source": [
    "preds = model_forest.predict(X_test)"
   ]
  },
  {
   "cell_type": "code",
   "execution_count": 68,
   "id": "d0b57c00",
   "metadata": {},
   "outputs": [
    {
     "data": {
      "text/plain": [
       "[<matplotlib.lines.Line2D at 0x7fd944a1b910>]"
      ]
     },
     "execution_count": 68,
     "metadata": {},
     "output_type": "execute_result"
    },
    {
     "data": {
      "image/png": "[encoded data removed]",
      "text/plain": [
       "<Figure size 432x288 with 1 Axes>"
      ]
     },
     "metadata": {
      "needs_background": "light"
     },
     "output_type": "display_data"
    }
   ],
   "source": [
    "plt.plot(y_test, preds)"
   ]
  },
  {
   "cell_type": "code",
   "execution_count": 69,
   "id": "200a1121",
   "metadata": {},
   "outputs": [
    {
     "name": "stdout",
     "output_type": "stream",
     "text": [
      "explained_variance:  0.1597\n",
      "mean_squared_log_error:  0.1283\n",
      "r2:  0.0761\n",
      "MAE:  0.5226\n",
      "MSE:  1.9558\n",
      "RMSE:  1.3985\n"
     ]
    }
   ],
   "source": [
    "regression_results(y_test, preds)"
   ]
  },
  {
   "cell_type": "markdown",
   "id": "733d4fc7",
   "metadata": {},
   "source": [
    "## Analysing our results on this small dataset"
   ]
  },
  {
   "cell_type": "markdown",
   "id": "3aa7ed48",
   "metadata": {},
   "source": [
    "We tried 4 different approach on two different algorithm :\n",
    "- split 80/20\n",
    "- split 80/20, shuffling\n",
    "- split 80/20, shuffling, log('Price')\n",
    "- split 80/20, log('Price')\n",
    "\n",
    "It seems that the best approach on this dataset is to split and shuffle on the LinearRegression and RandomForestRegressor algorithms.\n",
    "\n",
    "LinearRegression returns the following results :\n",
    "```\n",
    "    explained_variance:  0.8489\n",
    "    mean_squared_log_error:  0.049\n",
    "    r2:  0.8479\n",
    "    MAE:  35.1883\n",
    "    MSE:  2075.54\n",
    "    RMSE:  45.5581\n",
    "```\n",
    "\n",
    "It seems the training was good enough, but maybe a little overfit (high variance).\n",
    "\n",
    "RandomForestRegressor returns the following results :\n",
    "```\n",
    "    explained_variance:  0.7648\n",
    "    mean_squared_log_error:  0.0013\n",
    "    r2:  0.7137\n",
    "    MAE:  0.2215\n",
    "    MSE:  0.0582\n",
    "    RMSE:  0.2413\n",
    "```\n",
    "\n",
    "It seems the training was good, probably this training did not overfit !\n",
    "\n",
    "Not mention the dataset is very small so it's purpose is to rapidly analyse but we'll not go too deep on the analysis. This is a first comparision for me."
   ]
  },
  {
   "cell_type": "code",
   "execution_count": null,
   "id": "761c8546",
   "metadata": {},
   "outputs": [],
   "source": []
  }
 ],
 "metadata": {
  "kernelspec": {
   "display_name": "Python 3 (ipykernel)",
   "language": "python",
   "name": "python3"
  },
  "language_info": {
   "codemirror_mode": {
    "name": "ipython",
    "version": 3
   },
   "file_extension": ".py",
   "mimetype": "text/x-python",
   "name": "python",
   "nbconvert_exporter": "python",
   "pygments_lexer": "ipython3",
   "version": "3.9.7"
  }
 },
 "nbformat": 4,
 "nbformat_minor": 5
}
