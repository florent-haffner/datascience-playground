{
 "cells": [
  {
   "cell_type": "markdown",
   "id": "5ddebba6",
   "metadata": {},
   "source": [
    "# Import and data downloading"
   ]
  },
  {
   "cell_type": "code",
   "execution_count": 1,
   "id": "f221d27d",
   "metadata": {},
   "outputs": [],
   "source": [
    "import os\n",
    "import json\n",
    "import random\n",
    "from pathlib import Path\n",
    "from zipfile import ZipFile\n",
    "from PIL import Image"
   ]
  },
  {
   "cell_type": "code",
   "execution_count": 2,
   "id": "9bdc1ce3",
   "metadata": {},
   "outputs": [],
   "source": [
    "import kaggle\n",
    "import pandas as pd\n",
    "import numpy as np\n",
    "import matplotlib.pyplot as plt\n",
    "\n",
    "from classification_models.tfkeras import Classifiers"
   ]
  },
  {
   "cell_type": "code",
   "execution_count": 3,
   "id": "72438673",
   "metadata": {},
   "outputs": [],
   "source": [
    "kaggle_data = json.load(open(str(Path.home()) + '/kaggle.json', 'r'))\n",
    "KAGGLE_USERNAME = kaggle_data['username']\n",
    "KAGGLE_KEY = kaggle_data['key']"
   ]
  },
  {
   "cell_type": "code",
   "execution_count": 4,
   "id": "2bd00500",
   "metadata": {},
   "outputs": [
    {
     "name": "stdout",
     "output_type": "stream",
     "text": [
      "Successfully imported access to kaggle\n"
     ]
    }
   ],
   "source": [
    "if KAGGLE_KEY and KAGGLE_USERNAME: print('Successfully imported access to kaggle')"
   ]
  },
  {
   "cell_type": "code",
   "execution_count": 5,
   "id": "1d8bd524",
   "metadata": {},
   "outputs": [],
   "source": [
    "os.environ['KAGGLE_USERNAME'] = KAGGLE_USERNAME\n",
    "os.environ['KAGGLE_KEY'] = KAGGLE_KEY"
   ]
  },
  {
   "cell_type": "code",
   "execution_count": null,
   "id": "510eeee8",
   "metadata": {
    "scrolled": true
   },
   "outputs": [],
   "source": [
    "print('Dataset will be downloaded as zip under the current directory')\n",
    "!kaggle datasets download -d lasaljaywardena/furniture-images-dataset\n",
    "\n",
    "# url -> https://www.kaggle.com/lasaljaywardena/furniture-images-dataset?select=furniture_images"
   ]
  },
  {
   "cell_type": "code",
   "execution_count": null,
   "id": "3784ecb2",
   "metadata": {},
   "outputs": [],
   "source": [
    "!unzip furniture-images-dataset.zip -d ../data"
   ]
  },
  {
   "cell_type": "code",
   "execution_count": 6,
   "id": "f75fe18c",
   "metadata": {},
   "outputs": [],
   "source": [
    "data_path = '../data/'"
   ]
  },
  {
   "cell_type": "code",
   "execution_count": 7,
   "id": "f09a2875",
   "metadata": {},
   "outputs": [
    {
     "data": {
      "text/html": [
       "<div>\n",
       "<style scoped>\n",
       "    .dataframe tbody tr th:only-of-type {\n",
       "        vertical-align: middle;\n",
       "    }\n",
       "\n",
       "    .dataframe tbody tr th {\n",
       "        vertical-align: top;\n",
       "    }\n",
       "\n",
       "    .dataframe thead th {\n",
       "        text-align: right;\n",
       "    }\n",
       "</style>\n",
       "<table border=\"1\" class=\"dataframe\">\n",
       "  <thead>\n",
       "    <tr style=\"text-align: right;\">\n",
       "      <th></th>\n",
       "      <th>Label</th>\n",
       "      <th>Furniture_Type</th>\n",
       "      <th>Image_File</th>\n",
       "    </tr>\n",
       "  </thead>\n",
       "  <tbody>\n",
       "    <tr>\n",
       "      <th>0</th>\n",
       "      <td>furniture set</td>\n",
       "      <td>Other</td>\n",
       "      <td>/furniture_images/1634011558853_Furniture Set ...</td>\n",
       "    </tr>\n",
       "    <tr>\n",
       "      <th>1</th>\n",
       "      <td>bed room set</td>\n",
       "      <td>Bed / bedroom item</td>\n",
       "      <td>/furniture_images/1634011559093_Bed Room Set f...</td>\n",
       "    </tr>\n",
       "    <tr>\n",
       "      <th>2</th>\n",
       "      <td>6by6 teak box bed with hybrids mattress</td>\n",
       "      <td>Bed / bedroom item</td>\n",
       "      <td>/furniture_images/1634011559259_6by6 Teak Box ...</td>\n",
       "    </tr>\n",
       "    <tr>\n",
       "      <th>3</th>\n",
       "      <td>new spring mattress</td>\n",
       "      <td>Bed / bedroom item</td>\n",
       "      <td>/furniture_images/1634011559590_New Spring Mat...</td>\n",
       "    </tr>\n",
       "    <tr>\n",
       "      <th>4</th>\n",
       "      <td>exclusive 6 by teak box bed with spring mattress</td>\n",
       "      <td>Bed / bedroom item</td>\n",
       "      <td>/furniture_images/1634011559751_Exclusive 6 by...</td>\n",
       "    </tr>\n",
       "    <tr>\n",
       "      <th>...</th>\n",
       "      <td>...</td>\n",
       "      <td>...</td>\n",
       "      <td>...</td>\n",
       "    </tr>\n",
       "    <tr>\n",
       "      <th>9341</th>\n",
       "      <td>library cupboard</td>\n",
       "      <td>Storage</td>\n",
       "      <td>/furniture_images/1634028757107_Library Cupboa...</td>\n",
       "    </tr>\n",
       "    <tr>\n",
       "      <th>9342</th>\n",
       "      <td>piyestra cupboard</td>\n",
       "      <td>Storage</td>\n",
       "      <td>/furniture_images/1634028757269_Piyestra Cupbo...</td>\n",
       "    </tr>\n",
       "    <tr>\n",
       "      <th>9343</th>\n",
       "      <td>dark 3d wardrobe</td>\n",
       "      <td>Bed / bedroom item</td>\n",
       "      <td>/furniture_images/1634028757678_Dark 3d wardro...</td>\n",
       "    </tr>\n",
       "    <tr>\n",
       "      <th>9344</th>\n",
       "      <td>3 door cupboard</td>\n",
       "      <td>Bed / bedroom item</td>\n",
       "      <td>/furniture_images/1634028757990_3 Door cupboar...</td>\n",
       "    </tr>\n",
       "    <tr>\n",
       "      <th>9345</th>\n",
       "      <td>king size bed</td>\n",
       "      <td>Bed / bedroom item</td>\n",
       "      <td>/furniture_images/1634028758408_King size Bed ...</td>\n",
       "    </tr>\n",
       "  </tbody>\n",
       "</table>\n",
       "<p>9346 rows × 3 columns</p>\n",
       "</div>"
      ],
      "text/plain": [
       "                                                  Label      Furniture_Type  \\\n",
       "0                                        furniture set                Other   \n",
       "1                                         bed room set   Bed / bedroom item   \n",
       "2              6by6 teak box bed with hybrids mattress   Bed / bedroom item   \n",
       "3                                  new spring mattress   Bed / bedroom item   \n",
       "4     exclusive 6 by teak box bed with spring mattress   Bed / bedroom item   \n",
       "...                                                 ...                 ...   \n",
       "9341                                  library cupboard              Storage   \n",
       "9342                                 piyestra cupboard              Storage   \n",
       "9343                                  dark 3d wardrobe   Bed / bedroom item   \n",
       "9344                                   3 door cupboard   Bed / bedroom item   \n",
       "9345                                     king size bed   Bed / bedroom item   \n",
       "\n",
       "                                             Image_File  \n",
       "0     /furniture_images/1634011558853_Furniture Set ...  \n",
       "1     /furniture_images/1634011559093_Bed Room Set f...  \n",
       "2     /furniture_images/1634011559259_6by6 Teak Box ...  \n",
       "3     /furniture_images/1634011559590_New Spring Mat...  \n",
       "4     /furniture_images/1634011559751_Exclusive 6 by...  \n",
       "...                                                 ...  \n",
       "9341  /furniture_images/1634028757107_Library Cupboa...  \n",
       "9342  /furniture_images/1634028757269_Piyestra Cupbo...  \n",
       "9343  /furniture_images/1634028757678_Dark 3d wardro...  \n",
       "9344  /furniture_images/1634028757990_3 Door cupboar...  \n",
       "9345  /furniture_images/1634028758408_King size Bed ...  \n",
       "\n",
       "[9346 rows x 3 columns]"
      ]
     },
     "execution_count": 7,
     "metadata": {},
     "output_type": "execute_result"
    }
   ],
   "source": [
    "df = pd.read_csv(data_path + 'furniture_data_img.csv'); df"
   ]
  },
  {
   "cell_type": "code",
   "execution_count": 8,
   "id": "eeabe7f8",
   "metadata": {},
   "outputs": [],
   "source": [
    "def get_random_image(path):\n",
    "    random_filename = random.choice([\n",
    "        x for x in os.listdir(path)\n",
    "        if os.path.isfile(os.path.join(path, x))\n",
    "    ])\n",
    "    return random_filename"
   ]
  },
  {
   "cell_type": "code",
   "execution_count": 9,
   "id": "9461b140",
   "metadata": {},
   "outputs": [],
   "source": [
    "img_path = data_path + 'furniture_images' + '/' + 'furniture_images'"
   ]
  },
  {
   "cell_type": "code",
   "execution_count": 10,
   "id": "26176ad9",
   "metadata": {},
   "outputs": [
    {
     "data": {
      "text/plain": [
       "'1634017347026_Deer Table for sale.jpg'"
      ]
     },
     "execution_count": 10,
     "metadata": {},
     "output_type": "execute_result"
    }
   ],
   "source": [
    "random_img = get_random_image(img_path); random_img"
   ]
  },
  {
   "cell_type": "code",
   "execution_count": 11,
   "id": "b8376448",
   "metadata": {},
   "outputs": [],
   "source": [
    "def show_img(img_to_show):\n",
    "    path = data_path + 'furniture_images' + '/' + 'furniture_images' + '/' + img_to_show\n",
    "    return Image.open(path)"
   ]
  },
  {
   "cell_type": "code",
   "execution_count": 12,
   "id": "3c05776c",
   "metadata": {},
   "outputs": [],
   "source": [
    "def get_img_labels(img):\n",
    "    res = df.query(f\"Image_File ==  '/furniture_images/{img}'\")\n",
    "    key_to_label = res.keys()[1]\n",
    "    idx = res[key_to_label].keys()[0]\n",
    "    return res[key_to_label][idx]"
   ]
  },
  {
   "cell_type": "code",
   "execution_count": 13,
   "id": "ea39cd2a",
   "metadata": {},
   "outputs": [
    {
     "data": {
      "image/png": "[encoded data removed]",
      "text/plain": [
       "<PIL.JpegImagePlugin.JpegImageFile image mode=RGB size=142x107 at 0x7F748C3C7220>"
      ]
     },
     "execution_count": 13,
     "metadata": {},
     "output_type": "execute_result"
    }
   ],
   "source": [
    "show_img(random_img)"
   ]
  },
  {
   "cell_type": "code",
   "execution_count": 14,
   "id": "76c4a26d",
   "metadata": {},
   "outputs": [
    {
     "data": {
      "text/plain": [
       "'Table / chair'"
      ]
     },
     "execution_count": 14,
     "metadata": {},
     "output_type": "execute_result"
    }
   ],
   "source": [
    "get_img_labels(random_img)"
   ]
  },
  {
   "cell_type": "code",
   "execution_count": 15,
   "id": "e710bc55",
   "metadata": {},
   "outputs": [],
   "source": [
    "def get_item(img_to_get):\n",
    "    return (\n",
    "        show_img(img_to_get),\n",
    "        get_img_labels(img_to_get)\n",
    "   )"
   ]
  },
  {
   "cell_type": "markdown",
   "id": "b23aae22",
   "metadata": {},
   "source": [
    "## Data loading and augmentation"
   ]
  },
  {
   "cell_type": "code",
   "execution_count": 16,
   "id": "1141ab61",
   "metadata": {},
   "outputs": [],
   "source": [
    "import random\n",
    "\n",
    "class RandomSplitter:\n",
    "    def __init__(self, valid_pct, seed=42):\n",
    "        self.valid_pct = valid_pct\n",
    "        random.seed = seed"
   ]
  },
  {
   "cell_type": "code",
   "execution_count": 17,
   "id": "f97a6892",
   "metadata": {},
   "outputs": [],
   "source": [
    "class ImageBlock:\n",
    "    \"\"\" A class that reppresent image \"\"\"\n",
    "    def __init__(self):\n",
    "        return\n",
    "    \n",
    "    def __repr__(self):\n",
    "        return 'ImageBlock() class'\n",
    "    \n",
    "\n",
    "    \n",
    "class LabelBlock:\n",
    "    \"\"\" A class that reppresent label \"\"\"\n",
    "    def __init__(self):\n",
    "        return\n",
    "    \n",
    "    def __repr__(self):\n",
    "        return 'LabelBlock() class'"
   ]
  },
  {
   "cell_type": "code",
   "execution_count": 26,
   "id": "d7baf20f",
   "metadata": {},
   "outputs": [],
   "source": [
    "import random\n",
    "\n",
    "class DataBlock:\n",
    "    \"\"\" A simple API to load and apply treatments to batch of data \"\"\"\n",
    "    def __init__(self, data, blocks, getItem, splitter, get_y, transformation):\n",
    "        \"\"\"\n",
    "        @param data: the input data\n",
    "        @param blocks: define the dependant and the independant variables\n",
    "        @param getItem: help query all the data from a specific item\n",
    "        @param splitter: manage the split between training and validation set\n",
    "        @param get_y:  define the function to get the independant variable from a specific file\n",
    "        @param transformation: pipeline of transformation we need to apply\n",
    "        \"\"\"\n",
    "        self.blocks = blocks\n",
    "        if data and splitter:\n",
    "            self.train, self.valid = self.apply_split(data, splitter)\n",
    "        self.getItem = getItem\n",
    "        self.get_y = get_y\n",
    "        \n",
    "    def apply_split(self, dataset, splitter):\n",
    "        len_to_split = int(splitter.valid_pct*len(dataset))\n",
    "        valid = []\n",
    "        \n",
    "        for item in range(0, len_to_split):\n",
    "            item_index_to_move = random.randint(0, len(dataset))\n",
    "            valid.append(dataset[item_index_to_move])\n",
    "            del dataset[item_index_to_move]\n",
    "\n",
    "        return dataset, valid\n",
    "    \n",
    "    def __repr__(self):\n",
    "        return '{ ' + \\\n",
    "            'train: ' + str(self.train) + \\\n",
    "            ', valid: ' + str(self.valid) + \\\n",
    "        ' }'"
   ]
  },
  {
   "cell_type": "code",
   "execution_count": 27,
   "id": "e37bd55a",
   "metadata": {},
   "outputs": [
    {
     "data": {
      "text/plain": [
       "{ train: [1, 2, 3, 5, 6, 7, 8, 10], valid: [4, 9] }"
      ]
     },
     "execution_count": 27,
     "metadata": {},
     "output_type": "execute_result"
    }
   ],
   "source": [
    "loader = DataBlock(\n",
    "    data=[1,2,3,4,5,6,7,8,9,10],\n",
    "    blocks=(ImageBlock, LabelBlock),\n",
    "    getItem=get_item,\n",
    "    splitter=RandomSplitter(valid_pct=0.2, seed=42),\n",
    "    get_y=get_img_labels,\n",
    "    transformation=None    \n",
    ")\n",
    "\n",
    "loader"
   ]
  },
  {
   "cell_type": "markdown",
   "id": "31e5fc79",
   "metadata": {},
   "source": [
    "Is it the right approach ? Still not sure, let's chill for a day and get back to it later !"
   ]
  },
  {
   "cell_type": "code",
   "execution_count": 31,
   "id": "f9d4f738",
   "metadata": {},
   "outputs": [
    {
     "data": {
      "text/plain": [
       "(<PIL.JpegImagePlugin.JpegImageFile image mode=RGB size=142x107 at 0x7F73842F61C0>,\n",
       " 'Table / chair')"
      ]
     },
     "execution_count": 31,
     "metadata": {},
     "output_type": "execute_result"
    }
   ],
   "source": [
    "loader.getItem(random_img)"
   ]
  },
  {
   "cell_type": "code",
   "execution_count": 30,
   "id": "8c7a711c",
   "metadata": {},
   "outputs": [
    {
     "data": {
      "text/plain": [
       "'Table / chair'"
      ]
     },
     "execution_count": 30,
     "metadata": {},
     "output_type": "execute_result"
    }
   ],
   "source": [
    "loader.get_y(random_img)"
   ]
  },
  {
   "cell_type": "code",
   "execution_count": null,
   "id": "d769a961",
   "metadata": {},
   "outputs": [],
   "source": []
  },
  {
   "cell_type": "markdown",
   "id": "fc11a3a4",
   "metadata": {},
   "source": [
    "---"
   ]
  },
  {
   "cell_type": "markdown",
   "id": "eadcf868",
   "metadata": {},
   "source": [
    "## Defining architecture"
   ]
  },
  {
   "cell_type": "code",
   "execution_count": null,
   "id": "ce4b0818",
   "metadata": {},
   "outputs": [],
   "source": [
    "ResNet34, _ = Classifiers.get('resnet34')\n",
    "ResNet34"
   ]
  },
  {
   "cell_type": "code",
   "execution_count": null,
   "id": "be73f450",
   "metadata": {},
   "outputs": [],
   "source": []
  },
  {
   "cell_type": "code",
   "execution_count": null,
   "id": "56e3f347",
   "metadata": {},
   "outputs": [],
   "source": []
  },
  {
   "cell_type": "code",
   "execution_count": null,
   "id": "f0217f0b",
   "metadata": {},
   "outputs": [],
   "source": []
  },
  {
   "cell_type": "code",
   "execution_count": null,
   "id": "3db077e3",
   "metadata": {},
   "outputs": [],
   "source": []
  },
  {
   "cell_type": "code",
   "execution_count": null,
   "id": "3806145c",
   "metadata": {},
   "outputs": [],
   "source": []
  },
  {
   "cell_type": "code",
   "execution_count": null,
   "id": "ca414b42",
   "metadata": {},
   "outputs": [],
   "source": [
    "# prepare your data\n",
    "X = ...\n",
    "y = ...\n",
    "\n",
    "X = preprocess_input(X)\n",
    "\n",
    "n_classes = 10"
   ]
  },
  {
   "cell_type": "code",
   "execution_count": null,
   "id": "80c08277",
   "metadata": {},
   "outputs": [],
   "source": [
    "ResNet18, preprocess_input = Classifiers.get('resnet18')"
   ]
  },
  {
   "cell_type": "code",
   "execution_count": null,
   "id": "88fa871b",
   "metadata": {},
   "outputs": [],
   "source": [
    "base_model = ResNet18(input_shape=(224,224,3), weights='imagenet', include_top=False)\n",
    "\n",
    "x = keras.layers.GlobalAveragePooling2D()(base_model.output)\n",
    "output = keras.layers.Dense(n_classes, activation='softmax')(x)\n",
    "model = keras.models.Model(inputs=[base_model.input], outputs=[output])\n",
    "\n",
    "# train\n",
    "model.compile(optimizer='SGD', loss='categorical_crossentropy', metrics=['accuracy'])\n",
    "model.fit(X, y)"
   ]
  },
  {
   "cell_type": "code",
   "execution_count": null,
   "id": "5ac4ba21",
   "metadata": {},
   "outputs": [],
   "source": []
  }
 ],
 "metadata": {
  "kernelspec": {
   "display_name": "Python 3 (ipykernel)",
   "language": "python",
   "name": "python3"
  },
  "language_info": {
   "codemirror_mode": {
    "name": "ipython",
    "version": 3
   },
   "file_extension": ".py",
   "mimetype": "text/x-python",
   "name": "python",
   "nbconvert_exporter": "python",
   "pygments_lexer": "ipython3",
   "version": "3.9.7"
  }
 },
 "nbformat": 4,
 "nbformat_minor": 5
}
