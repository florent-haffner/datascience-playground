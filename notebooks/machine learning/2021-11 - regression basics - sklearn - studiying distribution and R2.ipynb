{
 "cells": [
  {
   "cell_type": "code",
   "execution_count": 1,
   "id": "f221d27d",
   "metadata": {},
   "outputs": [],
   "source": [
    "import os\n",
    "import json\n",
    "import random\n",
    "from pathlib import Path\n",
    "from zipfile import ZipFile"
   ]
  },
  {
   "cell_type": "code",
   "execution_count": 37,
   "id": "9bdc1ce3",
   "metadata": {},
   "outputs": [],
   "source": [
    "import kaggle\n",
    "import pandas as pd\n",
    "import numpy as np\n",
    "import matplotlib.pyplot as plt\n",
    "\n",
    "from sklearn.linear_model import LinearRegression\n",
    "from sklearn.ensemble import RandomForestRegressor"
   ]
  },
  {
   "cell_type": "code",
   "execution_count": 3,
   "id": "72438673",
   "metadata": {},
   "outputs": [],
   "source": [
    "kaggle_data = json.load(open(str(Path.home()) + '/kaggle.json', 'r'))\n",
    "KAGGLE_USERNAME = kaggle_data['username']\n",
    "KAGGLE_KEY = kaggle_data['key']"
   ]
  },
  {
   "cell_type": "code",
   "execution_count": 4,
   "id": "2bd00500",
   "metadata": {},
   "outputs": [
    {
     "name": "stdout",
     "output_type": "stream",
     "text": [
      "Successfully imported access to kaggle\n"
     ]
    }
   ],
   "source": [
    "if KAGGLE_KEY and KAGGLE_USERNAME: print('Successfully imported access to kaggle')"
   ]
  },
  {
   "cell_type": "code",
   "execution_count": 5,
   "id": "1d8bd524",
   "metadata": {},
   "outputs": [],
   "source": [
    "os.environ['KAGGLE_USERNAME'] = KAGGLE_USERNAME\n",
    "os.environ['KAGGLE_KEY'] = KAGGLE_KEY"
   ]
  },
  {
   "cell_type": "code",
   "execution_count": 6,
   "id": "510eeee8",
   "metadata": {
    "scrolled": true
   },
   "outputs": [
    {
     "name": "stdout",
     "output_type": "stream",
     "text": [
      "Dataset will be downloaded as zip under the current directory\n",
      "Downloading beginners-regression-dataset.zip to /home/nelth/WORKSPACE/ml-playground/notebooks/machine learning\n",
      "  0%|                                                 | 0.00/401 [00:00<?, ?B/s]\n",
      "100%|███████████████████████████████████████████| 401/401 [00:00<00:00, 161kB/s]\n"
     ]
    }
   ],
   "source": [
    "print('Dataset will be downloaded as zip under the current directory')\n",
    "!kaggle datasets download -d sveneschlbeck/beginners-regression-dataset"
   ]
  },
  {
   "cell_type": "code",
   "execution_count": 33,
   "id": "3784ecb2",
   "metadata": {},
   "outputs": [
    {
     "name": "stdout",
     "output_type": "stream",
     "text": [
      "Archive:  beginners-regression-dataset.zip\r\n",
      "  inflating: ./data/apartment_prices.csv  \r\n"
     ]
    }
   ],
   "source": [
    "!rm -rf data/ && unzip *.zip -d ./data"
   ]
  },
  {
   "cell_type": "code",
   "execution_count": 13,
   "id": "7905f200",
   "metadata": {},
   "outputs": [
    {
     "name": "stdout",
     "output_type": "stream",
     "text": [
      "apartment_prices.csv\r\n"
     ]
    }
   ],
   "source": [
    "!ls data/"
   ]
  },
  {
   "cell_type": "code",
   "execution_count": 32,
   "id": "f2a517f5",
   "metadata": {
    "scrolled": true
   },
   "outputs": [
    {
     "data": {
      "text/html": [
       "<div>\n",
       "<style scoped>\n",
       "    .dataframe tbody tr th:only-of-type {\n",
       "        vertical-align: middle;\n",
       "    }\n",
       "\n",
       "    .dataframe tbody tr th {\n",
       "        vertical-align: top;\n",
       "    }\n",
       "\n",
       "    .dataframe thead th {\n",
       "        text-align: right;\n",
       "    }\n",
       "</style>\n",
       "<table border=\"1\" class=\"dataframe\">\n",
       "  <thead>\n",
       "    <tr style=\"text-align: right;\">\n",
       "      <th></th>\n",
       "      <th>Squaremeter</th>\n",
       "      <th>Price</th>\n",
       "    </tr>\n",
       "  </thead>\n",
       "  <tbody>\n",
       "    <tr>\n",
       "      <th>0</th>\n",
       "      <td>70</td>\n",
       "      <td>351</td>\n",
       "    </tr>\n",
       "    <tr>\n",
       "      <th>1</th>\n",
       "      <td>72</td>\n",
       "      <td>39</td>\n",
       "    </tr>\n",
       "    <tr>\n",
       "      <th>2</th>\n",
       "      <td>91</td>\n",
       "      <td>473</td>\n",
       "    </tr>\n",
       "    <tr>\n",
       "      <th>3</th>\n",
       "      <td>58</td>\n",
       "      <td>282</td>\n",
       "    </tr>\n",
       "    <tr>\n",
       "      <th>4</th>\n",
       "      <td>49</td>\n",
       "      <td>3</td>\n",
       "    </tr>\n",
       "  </tbody>\n",
       "</table>\n",
       "</div>"
      ],
      "text/plain": [
       "   Squaremeter  Price\n",
       "0           70    351\n",
       "1           72     39\n",
       "2           91    473\n",
       "3           58    282\n",
       "4           49      3"
      ]
     },
     "execution_count": 32,
     "metadata": {},
     "output_type": "execute_result"
    }
   ],
   "source": [
    "df = pd.read_csv('./data/apartment_prices.csv'); df.head()"
   ]
  },
  {
   "cell_type": "markdown",
   "id": "a94a2a46",
   "metadata": {},
   "source": [
    "## EDA / dataviz"
   ]
  },
  {
   "cell_type": "markdown",
   "id": "9519eb77",
   "metadata": {},
   "source": [
    "### First feature -> Squaremeter"
   ]
  },
  {
   "cell_type": "code",
   "execution_count": 30,
   "id": "3df7ec89",
   "metadata": {},
   "outputs": [
    {
     "data": {
      "text/plain": [
       "(11, 109, 61.9, 60.5)"
      ]
     },
     "execution_count": 30,
     "metadata": {},
     "output_type": "execute_result"
    }
   ],
   "source": [
    "current = df['Squaremeter']\n",
    "current.min(), current.max(), current.mean(), current.median()"
   ]
  },
  {
   "cell_type": "code",
   "execution_count": 20,
   "id": "5f071aff",
   "metadata": {},
   "outputs": [
    {
     "data": {
      "text/plain": [
       "array([[<AxesSubplot:title={'center':'Squaremeter'}>]], dtype=object)"
      ]
     },
     "execution_count": 20,
     "metadata": {},
     "output_type": "execute_result"
    },
    {
     "data": {
      "image/png": "[encoded data removed]",
      "text/plain": [
       "<Figure size 432x288 with 1 Axes>"
      ]
     },
     "metadata": {
      "needs_background": "light"
     },
     "output_type": "display_data"
    }
   ],
   "source": [
    "%matplotlib inline\n",
    "df.hist(column='Squaremeter', bins=10)"
   ]
  },
  {
   "cell_type": "code",
   "execution_count": 31,
   "id": "c07ec1ee",
   "metadata": {},
   "outputs": [
    {
     "data": {
      "text/plain": [
       "(3, 576, 304.1, 306.5)"
      ]
     },
     "execution_count": 31,
     "metadata": {},
     "output_type": "execute_result"
    }
   ],
   "source": [
    "current = df['Price']\n",
    "current.min(), current.max(), current.mean(), current.median()"
   ]
  },
  {
   "cell_type": "code",
   "execution_count": 29,
   "id": "3ca2a27e",
   "metadata": {},
   "outputs": [
    {
     "data": {
      "text/plain": [
       "array([[<AxesSubplot:title={'center':'Price'}>]], dtype=object)"
      ]
     },
     "execution_count": 29,
     "metadata": {},
     "output_type": "execute_result"
    },
    {
     "data": {
      "image/png": "[encoded data removed]",
      "text/plain": [
       "<Figure size 432x288 with 1 Axes>"
      ]
     },
     "metadata": {
      "needs_background": "light"
     },
     "output_type": "display_data"
    }
   ],
   "source": [
    "%matplotlib inline\n",
    "df.hist(column='Price', bins=10)"
   ]
  },
  {
   "cell_type": "markdown",
   "id": "9d20ac49",
   "metadata": {},
   "source": [
    "## Prediction and model training evolution"
   ]
  },
  {
   "cell_type": "code",
   "execution_count": 36,
   "id": "b27c6ecf",
   "metadata": {},
   "outputs": [],
   "source": [
    "import sklearn.metrics as metrics\n",
    "\n",
    "def regression_results(y_true, y_pred):\n",
    "\n",
    "    # Regression metrics\n",
    "    explained_variance=metrics.explained_variance_score(y_true, y_pred)\n",
    "    mean_absolute_error=metrics.mean_absolute_error(y_true, y_pred) \n",
    "    mse=metrics.mean_squared_error(y_true, y_pred) \n",
    "    mean_squared_log_error=metrics.mean_squared_log_error(y_true, y_pred)\n",
    "    median_absolute_error=metrics.median_absolute_error(y_true, y_pred)\n",
    "    r2=metrics.r2_score(y_true, y_pred)\n",
    "\n",
    "    print('explained_variance: ', round(explained_variance,4))    \n",
    "    print('mean_squared_log_error: ', round(mean_squared_log_error,4))\n",
    "    print('r2: ', round(r2,4))\n",
    "    print('MAE: ', round(mean_absolute_error,4))\n",
    "    print('MSE: ', round(mse,4))\n",
    "    print('RMSE: ', round(np.sqrt(mse),4))"
   ]
  },
  {
   "cell_type": "markdown",
   "id": "55e99fca",
   "metadata": {},
   "source": [
    "First let's define our X and y, then separate on two set to be able to compute training metrics\n",
    "- Independant variable (X) -> Squaremeter\n",
    "- dependant variable (y) -> Price"
   ]
  },
  {
   "cell_type": "code",
   "execution_count": 38,
   "id": "d2d04dd9",
   "metadata": {},
   "outputs": [],
   "source": [
    "X, y = df['Squaremeter'], df['Price']"
   ]
  },
  {
   "cell_type": "code",
   "execution_count": null,
   "id": "a2f2c035",
   "metadata": {},
   "outputs": [],
   "source": [
    "X_train = ...\n",
    "y_train = ..."
   ]
  },
  {
   "cell_type": "code",
   "execution_count": null,
   "id": "2da7e265",
   "metadata": {},
   "outputs": [],
   "source": [
    "X_valid = ...\n",
    "y_valid = ..."
   ]
  },
  {
   "cell_type": "code",
   "execution_count": null,
   "id": "852193cb",
   "metadata": {},
   "outputs": [],
   "source": [
    "model_linear = LinearRegression()\n",
    "model_linear.fit(X_train, y_train)"
   ]
  },
  {
   "cell_type": "code",
   "execution_count": null,
   "id": "e6b7dfaa",
   "metadata": {},
   "outputs": [],
   "source": []
  },
  {
   "cell_type": "code",
   "execution_count": null,
   "id": "761c8546",
   "metadata": {},
   "outputs": [],
   "source": []
  }
 ],
 "metadata": {
  "kernelspec": {
   "display_name": "Python 3 (ipykernel)",
   "language": "python",
   "name": "python3"
  },
  "language_info": {
   "codemirror_mode": {
    "name": "ipython",
    "version": 3
   },
   "file_extension": ".py",
   "mimetype": "text/x-python",
   "name": "python",
   "nbconvert_exporter": "python",
   "pygments_lexer": "ipython3",
   "version": "3.9.7"
  }
 },
 "nbformat": 4,
 "nbformat_minor": 5
}
