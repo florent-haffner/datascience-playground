{
 "cells": [
  {
   "cell_type": "markdown",
   "id": "5c5ddefa-db70-4866-a0f0-fc6e01d2b7e0",
   "metadata": {},
   "source": [
    "# NLP using textBlob + NLTK\n",
    "\n",
    "> Fork from https://seowithpython.com/how-to-do-text-analysis-using-textblob-and-nltk/"
   ]
  },
  {
   "cell_type": "code",
   "execution_count": 31,
   "id": "39f3b487-b509-4509-b133-39441d09114d",
   "metadata": {},
   "outputs": [],
   "source": [
    "from textblob import TextBlob"
   ]
  },
  {
   "cell_type": "code",
   "execution_count": 55,
   "id": "571185bf-e585-4832-8d84-0bf6ec6ae90f",
   "metadata": {},
   "outputs": [
    {
     "name": "stderr",
     "output_type": "stream",
     "text": [
      "[nltk_data] Downloading package averaged_perceptron_tagger to\n",
      "[nltk_data]     /home/nelth/nltk_data...\n",
      "[nltk_data]   Package averaged_perceptron_tagger is already up-to-\n",
      "[nltk_data]       date!\n",
      "[nltk_data] Downloading package movie_reviews to\n",
      "[nltk_data]     /home/nelth/nltk_data...\n",
      "[nltk_data]   Package movie_reviews is already up-to-date!\n",
      "[nltk_data] Downloading package wordnet to /home/nelth/nltk_data...\n",
      "[nltk_data]   Package wordnet is already up-to-date!\n",
      "[nltk_data] Downloading package omw-1.4 to /home/nelth/nltk_data...\n",
      "[nltk_data]   Unzipping corpora/omw-1.4.zip.\n"
     ]
    },
    {
     "data": {
      "text/plain": [
       "True"
      ]
     },
     "execution_count": 55,
     "metadata": {},
     "output_type": "execute_result"
    }
   ],
   "source": [
    "import nltk\n",
    "nltk.download('averaged_perceptron_tagger')\n",
    "nltk.download('movie_reviews')\n",
    "nltk.download('wordnet')\n",
    "nltk.download('omw-1.4')"
   ]
  },
  {
   "cell_type": "code",
   "execution_count": 35,
   "id": "6c4ae310-1d4b-465e-a3fc-9e18f6848cda",
   "metadata": {},
   "outputs": [
    {
     "data": {
      "text/plain": [
       "TextBlob(\"Your mind is tossing on the ocean,\n",
       "       There where your argosies, with portly sail\n",
       "       Like signiors and rich burghers on the flood,\n",
       "       Or as it were the pageants of the sea,\n",
       "       Do overpeer the petty traffickers\n",
       "       That curtsy to them, do them reverence,\n",
       "       As they fly by them with their woven wings.\")"
      ]
     },
     "execution_count": 35,
     "metadata": {},
     "output_type": "execute_result"
    }
   ],
   "source": [
    "text = \"\"\"Your mind is tossing on the ocean,\n",
    "       There where your argosies, with portly sail\n",
    "       Like signiors and rich burghers on the flood,\n",
    "       Or as it were the pageants of the sea,\n",
    "       Do overpeer the petty traffickers\n",
    "       That curtsy to them, do them reverence,\n",
    "       As they fly by them with their woven wings.\"\"\"\n",
    "blob = TextBlob(text)\n",
    "blob"
   ]
  },
  {
   "cell_type": "markdown",
   "id": "34672e79-9793-4bdd-92ed-2c750d136f38",
   "metadata": {},
   "source": [
    "## Pre-processing"
   ]
  },
  {
   "cell_type": "code",
   "execution_count": 36,
   "id": "1ac9d290-738f-41d9-82e9-2177559d06ca",
   "metadata": {},
   "outputs": [
    {
     "data": {
      "text/plain": [
       "WordList(['Your', 'mind', 'is', 'tossing', 'on', 'the', 'ocean', 'There', 'where', 'your', 'argosies', 'with', 'portly', 'sail', 'Like', 'signiors', 'and', 'rich', 'burghers', 'on', 'the', 'flood', 'Or', 'as', 'it', 'were', 'the', 'pageants', 'of', 'the', 'sea', 'Do', 'overpeer', 'the', 'petty', 'traffickers', 'That', 'curtsy', 'to', 'them', 'do', 'them', 'reverence', 'As', 'they', 'fly', 'by', 'them', 'with', 'their', 'woven', 'wings'])"
      ]
     },
     "execution_count": 36,
     "metadata": {},
     "output_type": "execute_result"
    }
   ],
   "source": [
    "tokens = blob.words; tokens"
   ]
  },
  {
   "cell_type": "code",
   "execution_count": 39,
   "id": "ccbb8a4e-ee9e-4bdf-b9f2-378c857ea0d4",
   "metadata": {},
   "outputs": [
    {
     "data": {
      "text/plain": [
       "[('Your', 'PRP$'),\n",
       " ('mind', 'NN'),\n",
       " ('is', 'VBZ'),\n",
       " ('tossing', 'VBG'),\n",
       " ('on', 'IN'),\n",
       " ('the', 'DT'),\n",
       " ('ocean', 'NN'),\n",
       " ('There', 'EX'),\n",
       " ('where', 'WRB'),\n",
       " ('your', 'PRP$'),\n",
       " ('argosies', 'NNS'),\n",
       " ('with', 'IN'),\n",
       " ('portly', 'RB'),\n",
       " ('sail', 'VBP'),\n",
       " ('Like', 'IN'),\n",
       " ('signiors', 'NNS'),\n",
       " ('and', 'CC'),\n",
       " ('rich', 'JJ'),\n",
       " ('burghers', 'NNS'),\n",
       " ('on', 'IN'),\n",
       " ('the', 'DT'),\n",
       " ('flood', 'NN'),\n",
       " ('Or', 'CC'),\n",
       " ('as', 'IN'),\n",
       " ('it', 'PRP'),\n",
       " ('were', 'VBD'),\n",
       " ('the', 'DT'),\n",
       " ('pageants', 'NNS'),\n",
       " ('of', 'IN'),\n",
       " ('the', 'DT'),\n",
       " ('sea', 'NN'),\n",
       " ('Do', 'NNP'),\n",
       " ('overpeer', 'VB'),\n",
       " ('the', 'DT'),\n",
       " ('petty', 'JJ'),\n",
       " ('traffickers', 'NNS'),\n",
       " ('That', 'WDT'),\n",
       " ('curtsy', 'VBP'),\n",
       " ('to', 'TO'),\n",
       " ('them', 'PRP'),\n",
       " ('do', 'VB'),\n",
       " ('them', 'PRP'),\n",
       " ('reverence', 'VB'),\n",
       " ('As', 'IN'),\n",
       " ('they', 'PRP'),\n",
       " ('fly', 'VBP'),\n",
       " ('by', 'IN'),\n",
       " ('them', 'PRP'),\n",
       " ('with', 'IN'),\n",
       " ('their', 'PRP$'),\n",
       " ('woven', 'JJ'),\n",
       " ('wings', 'NNS')]"
      ]
     },
     "execution_count": 39,
     "metadata": {},
     "output_type": "execute_result"
    }
   ],
   "source": [
    "pos_tagging = blob.tags; pos_tagging"
   ]
  },
  {
   "cell_type": "markdown",
   "id": "1ab1d898-82a6-43f0-9c13-c346c0e0e4c2",
   "metadata": {},
   "source": [
    "## Analysis"
   ]
  },
  {
   "cell_type": "markdown",
   "id": "424dcbed-951c-4964-bb85-8f93d4f19ac6",
   "metadata": {},
   "source": [
    "### TextBlog default"
   ]
  },
  {
   "cell_type": "code",
   "execution_count": 41,
   "id": "4b731993-a32f-47a2-b25b-f3ff4445eee7",
   "metadata": {},
   "outputs": [
    {
     "name": "stdout",
     "output_type": "stream",
     "text": [
      "Sentiment(polarity=0.5875, subjectivity=0.825)\n"
     ]
    }
   ],
   "source": [
    "for sentence in blob.sentences:\n",
    "    print(sentence.sentiment)"
   ]
  },
  {
   "cell_type": "markdown",
   "id": "a2677491-4dc4-4f61-817f-b4ec9626285b",
   "metadata": {},
   "source": [
    "---"
   ]
  },
  {
   "cell_type": "markdown",
   "id": "bab5b386-8ec0-4093-b26e-245d889f9d40",
   "metadata": {},
   "source": [
    "### Another analyser"
   ]
  },
  {
   "cell_type": "code",
   "execution_count": 46,
   "id": "b83af838-40b0-465a-a2d4-efad356a4e61",
   "metadata": {},
   "outputs": [
    {
     "data": {
      "text/plain": [
       "Sentiment(classification='pos', p_pos=0.9989437404713962, p_neg=0.0010562595286025896)"
      ]
     },
     "execution_count": 46,
     "metadata": {},
     "output_type": "execute_result"
    }
   ],
   "source": [
    "from textblob.sentiments import NaiveBayesAnalyzer\n",
    "\n",
    "blog = TextBlob(text, analyzer=NaiveBayesAnalyzer())\n",
    "blog.sentiment"
   ]
  },
  {
   "cell_type": "code",
   "execution_count": 51,
   "id": "c071f28b-244f-4a62-92cf-4772c3473f61",
   "metadata": {},
   "outputs": [],
   "source": [
    "# blob.detect_language()\n",
    "# Need access to Google API"
   ]
  },
  {
   "cell_type": "code",
   "execution_count": 58,
   "id": "803475df-4d1c-41e1-8913-efef4557361d",
   "metadata": {},
   "outputs": [
    {
     "name": "stdout",
     "output_type": "stream",
     "text": [
      "step -> varieti\n",
      "lemmatize -> variety\n"
     ]
    }
   ],
   "source": [
    "from textblob import Word\n",
    "\n",
    "word = Word('varieties')\n",
    "\n",
    "print('step ->', word.stem())\n",
    "\n",
    "print('lemmatize ->', word.lemmatize())"
   ]
  },
  {
   "cell_type": "markdown",
   "id": "a556ed2a-0f89-494d-af60-0ef3d404a5f6",
   "metadata": {},
   "source": [
    "# Testing textBlog /w French language\n",
    "\n",
    "> Fork from https://www.kaggle.com/fedi1996/french-sentiment-analysis-using-textblob"
   ]
  },
  {
   "cell_type": "code",
   "execution_count": 60,
   "id": "ddf20de7-4828-4b71-a851-f4b6b37e14a8",
   "metadata": {},
   "outputs": [],
   "source": [
    "import os\n",
    "import json\n",
    "import random\n",
    "from pathlib import Path\n",
    "from zipfile import ZipFile"
   ]
  },
  {
   "cell_type": "code",
   "execution_count": 61,
   "id": "2b158e58-6dfa-48b2-bf6b-fc00a4d45bcd",
   "metadata": {},
   "outputs": [],
   "source": [
    "kaggle_data = json.load(open(str(Path.home()) + '/kaggle.json', 'r'))\n",
    "KAGGLE_USERNAME = kaggle_data['username']\n",
    "KAGGLE_KEY = kaggle_data['key']"
   ]
  },
  {
   "cell_type": "code",
   "execution_count": 62,
   "id": "8fdab244-f56f-4250-a542-f0c4db6e9913",
   "metadata": {},
   "outputs": [
    {
     "name": "stdout",
     "output_type": "stream",
     "text": [
      "Successfully imported access to kaggle\n"
     ]
    }
   ],
   "source": [
    "if KAGGLE_KEY and KAGGLE_USERNAME: print('Successfully imported access to kaggle')"
   ]
  },
  {
   "cell_type": "code",
   "execution_count": 63,
   "id": "3f60a75d-7121-43ec-8c97-5b78897a0345",
   "metadata": {},
   "outputs": [],
   "source": [
    "os.environ['KAGGLE_USERNAME'] = KAGGLE_USERNAME\n",
    "os.environ['KAGGLE_KEY'] = KAGGLE_KEY"
   ]
  },
  {
   "cell_type": "code",
   "execution_count": 66,
   "id": "c2d6ee17-a218-45e6-8b60-9133ba4b358d",
   "metadata": {
    "scrolled": true
   },
   "outputs": [
    {
     "name": "stdout",
     "output_type": "stream",
     "text": [
      "Dataset will be downloaded as zip under the current directory\n",
      "Downloading insurance-reviews-france.zip to /home/nelth/WORKSPACE/datascience-playground/notebooks/machine learning\n",
      "  0%|                                               | 0.00/1.41M [00:00<?, ?B/s]\n",
      "100%|██████████████████████████████████████| 1.41M/1.41M [00:00<00:00, 25.4MB/s]\n"
     ]
    }
   ],
   "source": [
    "print('Dataset will be downloaded as zip under the current directory')\n",
    "!kaggle datasets download -d fedi1996/insurance-reviews-france"
   ]
  },
  {
   "cell_type": "code",
   "execution_count": 67,
   "id": "e187e807-517e-45a6-8bbd-c98229a1325e",
   "metadata": {},
   "outputs": [
    {
     "name": "stdout",
     "output_type": "stream",
     "text": [
      "Archive:  insurance-reviews-france.zip\n",
      "  inflating: ./data/Comments.csv     \n"
     ]
    }
   ],
   "source": [
    "!rm -rf data/ && unzip *.zip -d ./data"
   ]
  },
  {
   "cell_type": "code",
   "execution_count": 68,
   "id": "b15f77ac-69e8-4e62-8560-3ea5f65fc20e",
   "metadata": {},
   "outputs": [
    {
     "name": "stdout",
     "output_type": "stream",
     "text": [
      "Comments.csv\n"
     ]
    }
   ],
   "source": [
    "!ls data/"
   ]
  },
  {
   "cell_type": "code",
   "execution_count": 71,
   "id": "06b005b1-3636-408c-beb9-7e66873ab93b",
   "metadata": {},
   "outputs": [],
   "source": [
    "import pandas as pd \n",
    "from nltk.tokenize import sent_tokenize\n",
    "from nltk.tokenize import word_tokenize\n",
    "import re\n",
    "import spacy\n",
    "from spacy.lang.fr.stop_words import STOP_WORDS\n",
    "import string\n",
    "from textblob import Blobber\n",
    "from textblob_fr import PatternTagger, PatternAnalyzer\n",
    "tb = Blobber(pos_tagger=PatternTagger(), analyzer=PatternAnalyzer())\n",
    "import plotly.graph_objects as go\n",
    "import plotly.express as px"
   ]
  },
  {
   "cell_type": "code",
   "execution_count": 97,
   "id": "38f09153-2bfd-4904-9f69-e73dce7eb16c",
   "metadata": {
    "scrolled": true
   },
   "outputs": [
    {
     "data": {
      "text/html": [
       "<div>\n",
       "<style scoped>\n",
       "    .dataframe tbody tr th:only-of-type {\n",
       "        vertical-align: middle;\n",
       "    }\n",
       "\n",
       "    .dataframe tbody tr th {\n",
       "        vertical-align: top;\n",
       "    }\n",
       "\n",
       "    .dataframe thead th {\n",
       "        text-align: right;\n",
       "    }\n",
       "</style>\n",
       "<table border=\"1\" class=\"dataframe\">\n",
       "  <thead>\n",
       "    <tr style=\"text-align: right;\">\n",
       "      <th></th>\n",
       "      <th>Unnamed: 0</th>\n",
       "      <th>Name</th>\n",
       "      <th>Comment</th>\n",
       "      <th>Month</th>\n",
       "      <th>Year</th>\n",
       "    </tr>\n",
       "  </thead>\n",
       "  <tbody>\n",
       "    <tr>\n",
       "      <th>0</th>\n",
       "      <td>0</td>\n",
       "      <td>Réassurez-moi</td>\n",
       "      <td>Ravi ! La recherche et la comparaison des mutu...</td>\n",
       "      <td>8</td>\n",
       "      <td>2019</td>\n",
       "    </tr>\n",
       "    <tr>\n",
       "      <th>1</th>\n",
       "      <td>1</td>\n",
       "      <td>Réassurez-moi</td>\n",
       "      <td>Très satisfaite ! Un conseiller à l'écoute et ...</td>\n",
       "      <td>8</td>\n",
       "      <td>2019</td>\n",
       "    </tr>\n",
       "    <tr>\n",
       "      <th>2</th>\n",
       "      <td>2</td>\n",
       "      <td>Réassurez-moi</td>\n",
       "      <td>Je vous avais contacté pour la mise en place e...</td>\n",
       "      <td>8</td>\n",
       "      <td>2019</td>\n",
       "    </tr>\n",
       "    <tr>\n",
       "      <th>3</th>\n",
       "      <td>3</td>\n",
       "      <td>Réassurez-moi</td>\n",
       "      <td>Quelques mots sur Réassurez-moi. Je suis très ...</td>\n",
       "      <td>8</td>\n",
       "      <td>2019</td>\n",
       "    </tr>\n",
       "    <tr>\n",
       "      <th>4</th>\n",
       "      <td>4</td>\n",
       "      <td>Réassurez-moi</td>\n",
       "      <td>Votre cabinet m'a permis de pouvoir bénéficier...</td>\n",
       "      <td>8</td>\n",
       "      <td>2019</td>\n",
       "    </tr>\n",
       "  </tbody>\n",
       "</table>\n",
       "</div>"
      ],
      "text/plain": [
       "   Unnamed: 0           Name  ... Month  Year\n",
       "0           0  Réassurez-moi  ...     8  2019\n",
       "1           1  Réassurez-moi  ...     8  2019\n",
       "2           2  Réassurez-moi  ...     8  2019\n",
       "3           3  Réassurez-moi  ...     8  2019\n",
       "4           4  Réassurez-moi  ...     8  2019\n",
       "\n",
       "[5 rows x 5 columns]"
      ]
     },
     "execution_count": 97,
     "metadata": {},
     "output_type": "execute_result"
    }
   ],
   "source": [
    "df = pd.read_csv('./data/Comments.csv'); df.head()"
   ]
  },
  {
   "cell_type": "code",
   "execution_count": 98,
   "id": "d859411e-1215-41b9-afbe-d9597a28a2ce",
   "metadata": {},
   "outputs": [],
   "source": [
    "data = df.drop(['Unnamed: 0'],axis=1)"
   ]
  },
  {
   "cell_type": "code",
   "execution_count": 99,
   "id": "ce022cfb-cbc2-4639-b366-ff82fa323ed1",
   "metadata": {},
   "outputs": [
    {
     "data": {
      "text/plain": [
       "(11017, 4)"
      ]
     },
     "execution_count": 99,
     "metadata": {},
     "output_type": "execute_result"
    }
   ],
   "source": [
    "data.shape"
   ]
  },
  {
   "cell_type": "code",
   "execution_count": 100,
   "id": "b9744c0b-ea81-46c7-9319-54ea1322df42",
   "metadata": {},
   "outputs": [
    {
     "data": {
      "text/html": [
       "<div>\n",
       "<style scoped>\n",
       "    .dataframe tbody tr th:only-of-type {\n",
       "        vertical-align: middle;\n",
       "    }\n",
       "\n",
       "    .dataframe tbody tr th {\n",
       "        vertical-align: top;\n",
       "    }\n",
       "\n",
       "    .dataframe thead th {\n",
       "        text-align: right;\n",
       "    }\n",
       "</style>\n",
       "<table border=\"1\" class=\"dataframe\">\n",
       "  <thead>\n",
       "    <tr style=\"text-align: right;\">\n",
       "      <th></th>\n",
       "      <th>column_name</th>\n",
       "      <th>percentage</th>\n",
       "    </tr>\n",
       "  </thead>\n",
       "  <tbody>\n",
       "    <tr>\n",
       "      <th>1</th>\n",
       "      <td>Comment</td>\n",
       "      <td>0.14523</td>\n",
       "    </tr>\n",
       "    <tr>\n",
       "      <th>0</th>\n",
       "      <td>Name</td>\n",
       "      <td>0.00000</td>\n",
       "    </tr>\n",
       "    <tr>\n",
       "      <th>2</th>\n",
       "      <td>Month</td>\n",
       "      <td>0.00000</td>\n",
       "    </tr>\n",
       "    <tr>\n",
       "      <th>3</th>\n",
       "      <td>Year</td>\n",
       "      <td>0.00000</td>\n",
       "    </tr>\n",
       "  </tbody>\n",
       "</table>\n",
       "</div>"
      ],
      "text/plain": [
       "  column_name  percentage\n",
       "1     Comment     0.14523\n",
       "0        Name     0.00000\n",
       "2       Month     0.00000\n",
       "3        Year     0.00000"
      ]
     },
     "execution_count": 100,
     "metadata": {},
     "output_type": "execute_result"
    }
   ],
   "source": [
    "NAN = [(c, data[c].isna().mean()*100) for c in data]\n",
    "NAN = pd.DataFrame(NAN, columns=[\"column_name\", \"percentage\"])\n",
    "NAN.sort_values(\"percentage\", ascending=False)"
   ]
  },
  {
   "cell_type": "code",
   "execution_count": 101,
   "id": "780ebfd6-1dc6-4dc9-b430-3f9d2f6a3285",
   "metadata": {},
   "outputs": [],
   "source": [
    "data = data.dropna()"
   ]
  },
  {
   "cell_type": "code",
   "execution_count": 102,
   "id": "f5458ec4-1fca-45dc-8f9e-01e937d73fd2",
   "metadata": {},
   "outputs": [
    {
     "data": {
      "text/plain": [
       "(11001, 4)"
      ]
     },
     "execution_count": 102,
     "metadata": {},
     "output_type": "execute_result"
    }
   ],
   "source": [
    "data.shape"
   ]
  },
  {
   "cell_type": "code",
   "execution_count": 103,
   "id": "942c1f79-54e1-4778-94b2-b9e693f3dc05",
   "metadata": {},
   "outputs": [
    {
     "data": {
      "text/html": [
       "<div>\n",
       "<style scoped>\n",
       "    .dataframe tbody tr th:only-of-type {\n",
       "        vertical-align: middle;\n",
       "    }\n",
       "\n",
       "    .dataframe tbody tr th {\n",
       "        vertical-align: top;\n",
       "    }\n",
       "\n",
       "    .dataframe thead th {\n",
       "        text-align: right;\n",
       "    }\n",
       "</style>\n",
       "<table border=\"1\" class=\"dataframe\">\n",
       "  <thead>\n",
       "    <tr style=\"text-align: right;\">\n",
       "      <th></th>\n",
       "      <th>column_name</th>\n",
       "      <th>percentage</th>\n",
       "    </tr>\n",
       "  </thead>\n",
       "  <tbody>\n",
       "    <tr>\n",
       "      <th>0</th>\n",
       "      <td>Name</td>\n",
       "      <td>0.0</td>\n",
       "    </tr>\n",
       "    <tr>\n",
       "      <th>1</th>\n",
       "      <td>Comment</td>\n",
       "      <td>0.0</td>\n",
       "    </tr>\n",
       "    <tr>\n",
       "      <th>2</th>\n",
       "      <td>Month</td>\n",
       "      <td>0.0</td>\n",
       "    </tr>\n",
       "    <tr>\n",
       "      <th>3</th>\n",
       "      <td>Year</td>\n",
       "      <td>0.0</td>\n",
       "    </tr>\n",
       "  </tbody>\n",
       "</table>\n",
       "</div>"
      ],
      "text/plain": [
       "  column_name  percentage\n",
       "0        Name         0.0\n",
       "1     Comment         0.0\n",
       "2       Month         0.0\n",
       "3        Year         0.0"
      ]
     },
     "execution_count": 103,
     "metadata": {},
     "output_type": "execute_result"
    }
   ],
   "source": [
    "NAN = [(c, data[c].isna().mean()*100) for c in data]\n",
    "NAN = pd.DataFrame(NAN, columns=[\"column_name\", \"percentage\"])\n",
    "NAN.sort_values(\"percentage\", ascending=False)"
   ]
  },
  {
   "cell_type": "code",
   "execution_count": 105,
   "id": "7ba303fe-445a-4426-8f7a-aedff8af245a",
   "metadata": {},
   "outputs": [],
   "source": [
    "data[\"Comment\"] = data[\"Comment\"].str.lower()"
   ]
  },
  {
   "cell_type": "code",
   "execution_count": 106,
   "id": "3d6235af-1afb-4337-8925-17e1d30e300b",
   "metadata": {},
   "outputs": [],
   "source": [
    "AComment=[]\n",
    "for comment in data[\"Comment\"].apply(str):\n",
    "    Word_Tok = []\n",
    "    for word in  re.sub(\"\\W\",\" \",comment ).split():\n",
    "        Word_Tok.append(word)\n",
    "    AComment.append(Word_Tok)"
   ]
  },
  {
   "cell_type": "code",
   "execution_count": 107,
   "id": "9d34d2c2-164c-4dc4-a23e-ff1d49fbd42f",
   "metadata": {},
   "outputs": [
    {
     "data": {
      "text/html": [
       "<div>\n",
       "<style scoped>\n",
       "    .dataframe tbody tr th:only-of-type {\n",
       "        vertical-align: middle;\n",
       "    }\n",
       "\n",
       "    .dataframe tbody tr th {\n",
       "        vertical-align: top;\n",
       "    }\n",
       "\n",
       "    .dataframe thead th {\n",
       "        text-align: right;\n",
       "    }\n",
       "</style>\n",
       "<table border=\"1\" class=\"dataframe\">\n",
       "  <thead>\n",
       "    <tr style=\"text-align: right;\">\n",
       "      <th></th>\n",
       "      <th>Name</th>\n",
       "      <th>Comment</th>\n",
       "      <th>Month</th>\n",
       "      <th>Year</th>\n",
       "      <th>Word_Tok</th>\n",
       "    </tr>\n",
       "  </thead>\n",
       "  <tbody>\n",
       "    <tr>\n",
       "      <th>0</th>\n",
       "      <td>Réassurez-moi</td>\n",
       "      <td>ravi ! la recherche et la comparaison des mutu...</td>\n",
       "      <td>8</td>\n",
       "      <td>2019</td>\n",
       "      <td>[ravi, la, recherche, et, la, comparaison, des...</td>\n",
       "    </tr>\n",
       "    <tr>\n",
       "      <th>1</th>\n",
       "      <td>Réassurez-moi</td>\n",
       "      <td>très satisfaite ! un conseiller à l'écoute et ...</td>\n",
       "      <td>8</td>\n",
       "      <td>2019</td>\n",
       "      <td>[très, satisfaite, un, conseiller, à, l, écout...</td>\n",
       "    </tr>\n",
       "    <tr>\n",
       "      <th>2</th>\n",
       "      <td>Réassurez-moi</td>\n",
       "      <td>je vous avais contacté pour la mise en place e...</td>\n",
       "      <td>8</td>\n",
       "      <td>2019</td>\n",
       "      <td>[je, vous, avais, contacté, pour, la, mise, en...</td>\n",
       "    </tr>\n",
       "    <tr>\n",
       "      <th>3</th>\n",
       "      <td>Réassurez-moi</td>\n",
       "      <td>quelques mots sur réassurez-moi. je suis très ...</td>\n",
       "      <td>8</td>\n",
       "      <td>2019</td>\n",
       "      <td>[quelques, mots, sur, réassurez, moi, je, suis...</td>\n",
       "    </tr>\n",
       "    <tr>\n",
       "      <th>4</th>\n",
       "      <td>Réassurez-moi</td>\n",
       "      <td>votre cabinet m'a permis de pouvoir bénéficier...</td>\n",
       "      <td>8</td>\n",
       "      <td>2019</td>\n",
       "      <td>[votre, cabinet, m, a, permis, de, pouvoir, bé...</td>\n",
       "    </tr>\n",
       "  </tbody>\n",
       "</table>\n",
       "</div>"
      ],
      "text/plain": [
       "            Name  ...                                           Word_Tok\n",
       "0  Réassurez-moi  ...  [ravi, la, recherche, et, la, comparaison, des...\n",
       "1  Réassurez-moi  ...  [très, satisfaite, un, conseiller, à, l, écout...\n",
       "2  Réassurez-moi  ...  [je, vous, avais, contacté, pour, la, mise, en...\n",
       "3  Réassurez-moi  ...  [quelques, mots, sur, réassurez, moi, je, suis...\n",
       "4  Réassurez-moi  ...  [votre, cabinet, m, a, permis, de, pouvoir, bé...\n",
       "\n",
       "[5 rows x 5 columns]"
      ]
     },
     "execution_count": 107,
     "metadata": {},
     "output_type": "execute_result"
    }
   ],
   "source": [
    "data[\"Word_Tok\"] = AComment\n",
    "data.head()"
   ]
  },
  {
   "cell_type": "code",
   "execution_count": 108,
   "id": "b3a37d95-c5ca-440b-bd55-2590794d1edf",
   "metadata": {},
   "outputs": [],
   "source": [
    "stop_words=set(STOP_WORDS)\n",
    "\n",
    "deselect_stop_words = ['n\\'', 'ne','pas','plus','personne','aucun','ni','aucune','rien']\n",
    "for w in deselect_stop_words:\n",
    "    if w in stop_words:\n",
    "        stop_words.remove(w)\n",
    "    else:\n",
    "        continue"
   ]
  },
  {
   "cell_type": "code",
   "execution_count": 109,
   "id": "170e6951-82e1-41c0-ac6c-442b92788487",
   "metadata": {},
   "outputs": [],
   "source": [
    "AllfilteredComment=[]\n",
    "for comment in data[\"Word_Tok\"]:\n",
    "    filteredComment = [w for w in comment if not ((w in stop_words) or (len(w) == 1))]\n",
    "    AllfilteredComment.append(' '.join(filteredComment))"
   ]
  },
  {
   "cell_type": "code",
   "execution_count": 110,
   "id": "2b1cb048-5e83-4ff4-993d-5cf2698e0353",
   "metadata": {},
   "outputs": [
    {
     "data": {
      "text/html": [
       "<div>\n",
       "<style scoped>\n",
       "    .dataframe tbody tr th:only-of-type {\n",
       "        vertical-align: middle;\n",
       "    }\n",
       "\n",
       "    .dataframe tbody tr th {\n",
       "        vertical-align: top;\n",
       "    }\n",
       "\n",
       "    .dataframe thead th {\n",
       "        text-align: right;\n",
       "    }\n",
       "</style>\n",
       "<table border=\"1\" class=\"dataframe\">\n",
       "  <thead>\n",
       "    <tr style=\"text-align: right;\">\n",
       "      <th></th>\n",
       "      <th>Name</th>\n",
       "      <th>Comment</th>\n",
       "      <th>Month</th>\n",
       "      <th>Year</th>\n",
       "      <th>Word_Tok</th>\n",
       "      <th>CommentAferPreproc</th>\n",
       "    </tr>\n",
       "  </thead>\n",
       "  <tbody>\n",
       "    <tr>\n",
       "      <th>0</th>\n",
       "      <td>Réassurez-moi</td>\n",
       "      <td>ravi ! la recherche et la comparaison des mutu...</td>\n",
       "      <td>8</td>\n",
       "      <td>2019</td>\n",
       "      <td>[ravi, la, recherche, et, la, comparaison, des...</td>\n",
       "      <td>ravi recherche comparaison mutuelles simples r...</td>\n",
       "    </tr>\n",
       "    <tr>\n",
       "      <th>1</th>\n",
       "      <td>Réassurez-moi</td>\n",
       "      <td>très satisfaite ! un conseiller à l'écoute et ...</td>\n",
       "      <td>8</td>\n",
       "      <td>2019</td>\n",
       "      <td>[très, satisfaite, un, conseiller, à, l, écout...</td>\n",
       "      <td>satisfaite conseiller écoute sympathique bon p...</td>\n",
       "    </tr>\n",
       "    <tr>\n",
       "      <th>2</th>\n",
       "      <td>Réassurez-moi</td>\n",
       "      <td>je vous avais contacté pour la mise en place e...</td>\n",
       "      <td>8</td>\n",
       "      <td>2019</td>\n",
       "      <td>[je, vous, avais, contacté, pour, la, mise, en...</td>\n",
       "      <td>contacté mise place janvier dernier contrat mu...</td>\n",
       "    </tr>\n",
       "    <tr>\n",
       "      <th>3</th>\n",
       "      <td>Réassurez-moi</td>\n",
       "      <td>quelques mots sur réassurez-moi. je suis très ...</td>\n",
       "      <td>8</td>\n",
       "      <td>2019</td>\n",
       "      <td>[quelques, mots, sur, réassurez, moi, je, suis...</td>\n",
       "      <td>mots réassurez satisfait services cabinet trou...</td>\n",
       "    </tr>\n",
       "    <tr>\n",
       "      <th>4</th>\n",
       "      <td>Réassurez-moi</td>\n",
       "      <td>votre cabinet m'a permis de pouvoir bénéficier...</td>\n",
       "      <td>8</td>\n",
       "      <td>2019</td>\n",
       "      <td>[votre, cabinet, m, a, permis, de, pouvoir, bé...</td>\n",
       "      <td>cabinet permis pouvoir bénéficier contrat comp...</td>\n",
       "    </tr>\n",
       "  </tbody>\n",
       "</table>\n",
       "</div>"
      ],
      "text/plain": [
       "            Name  ...                                 CommentAferPreproc\n",
       "0  Réassurez-moi  ...  ravi recherche comparaison mutuelles simples r...\n",
       "1  Réassurez-moi  ...  satisfaite conseiller écoute sympathique bon p...\n",
       "2  Réassurez-moi  ...  contacté mise place janvier dernier contrat mu...\n",
       "3  Réassurez-moi  ...  mots réassurez satisfait services cabinet trou...\n",
       "4  Réassurez-moi  ...  cabinet permis pouvoir bénéficier contrat comp...\n",
       "\n",
       "[5 rows x 6 columns]"
      ]
     },
     "execution_count": 110,
     "metadata": {},
     "output_type": "execute_result"
    }
   ],
   "source": [
    "data[\"CommentAferPreproc\"]=AllfilteredComment\n",
    "data.head()"
   ]
  },
  {
   "cell_type": "code",
   "execution_count": 113,
   "id": "96ca59d3-2e67-4333-b75d-79fdda542095",
   "metadata": {},
   "outputs": [],
   "source": [
    "senti_list = []\n",
    "for i in data[\"CommentAferPreproc\"]:\n",
    "    vs = tb(i).sentiment[0]\n",
    "    if (vs > 0):\n",
    "        senti_list.append('Positive')\n",
    "    elif (vs < 0):\n",
    "        senti_list.append('Negative')\n",
    "    else:\n",
    "        senti_list.append('Neutral')"
   ]
  },
  {
   "cell_type": "markdown",
   "id": "d28da026-30b0-4701-bf2c-aec1d1de5f6a",
   "metadata": {},
   "source": [
    "> tb = textBlob.Blobber()"
   ]
  },
  {
   "cell_type": "code",
   "execution_count": 114,
   "id": "f4f604a4-833e-4614-8478-e0196c44797b",
   "metadata": {},
   "outputs": [
    {
     "data": {
      "text/html": [
       "<div>\n",
       "<style scoped>\n",
       "    .dataframe tbody tr th:only-of-type {\n",
       "        vertical-align: middle;\n",
       "    }\n",
       "\n",
       "    .dataframe tbody tr th {\n",
       "        vertical-align: top;\n",
       "    }\n",
       "\n",
       "    .dataframe thead th {\n",
       "        text-align: right;\n",
       "    }\n",
       "</style>\n",
       "<table border=\"1\" class=\"dataframe\">\n",
       "  <thead>\n",
       "    <tr style=\"text-align: right;\">\n",
       "      <th></th>\n",
       "      <th>Name</th>\n",
       "      <th>Comment</th>\n",
       "      <th>Month</th>\n",
       "      <th>Year</th>\n",
       "      <th>Word_Tok</th>\n",
       "      <th>CommentAferPreproc</th>\n",
       "      <th>sentiment</th>\n",
       "    </tr>\n",
       "  </thead>\n",
       "  <tbody>\n",
       "    <tr>\n",
       "      <th>0</th>\n",
       "      <td>Réassurez-moi</td>\n",
       "      <td>ravi ! la recherche et la comparaison des mutu...</td>\n",
       "      <td>8</td>\n",
       "      <td>2019</td>\n",
       "      <td>[ravi, la, recherche, et, la, comparaison, des...</td>\n",
       "      <td>ravi recherche comparaison mutuelles simples r...</td>\n",
       "      <td>Positive</td>\n",
       "    </tr>\n",
       "    <tr>\n",
       "      <th>1</th>\n",
       "      <td>Réassurez-moi</td>\n",
       "      <td>très satisfaite ! un conseiller à l'écoute et ...</td>\n",
       "      <td>8</td>\n",
       "      <td>2019</td>\n",
       "      <td>[très, satisfaite, un, conseiller, à, l, écout...</td>\n",
       "      <td>satisfaite conseiller écoute sympathique bon p...</td>\n",
       "      <td>Positive</td>\n",
       "    </tr>\n",
       "    <tr>\n",
       "      <th>2</th>\n",
       "      <td>Réassurez-moi</td>\n",
       "      <td>je vous avais contacté pour la mise en place e...</td>\n",
       "      <td>8</td>\n",
       "      <td>2019</td>\n",
       "      <td>[je, vous, avais, contacté, pour, la, mise, en...</td>\n",
       "      <td>contacté mise place janvier dernier contrat mu...</td>\n",
       "      <td>Positive</td>\n",
       "    </tr>\n",
       "    <tr>\n",
       "      <th>3</th>\n",
       "      <td>Réassurez-moi</td>\n",
       "      <td>quelques mots sur réassurez-moi. je suis très ...</td>\n",
       "      <td>8</td>\n",
       "      <td>2019</td>\n",
       "      <td>[quelques, mots, sur, réassurez, moi, je, suis...</td>\n",
       "      <td>mots réassurez satisfait services cabinet trou...</td>\n",
       "      <td>Positive</td>\n",
       "    </tr>\n",
       "    <tr>\n",
       "      <th>4</th>\n",
       "      <td>Réassurez-moi</td>\n",
       "      <td>votre cabinet m'a permis de pouvoir bénéficier...</td>\n",
       "      <td>8</td>\n",
       "      <td>2019</td>\n",
       "      <td>[votre, cabinet, m, a, permis, de, pouvoir, bé...</td>\n",
       "      <td>cabinet permis pouvoir bénéficier contrat comp...</td>\n",
       "      <td>Positive</td>\n",
       "    </tr>\n",
       "  </tbody>\n",
       "</table>\n",
       "</div>"
      ],
      "text/plain": [
       "            Name  ... sentiment\n",
       "0  Réassurez-moi  ...  Positive\n",
       "1  Réassurez-moi  ...  Positive\n",
       "2  Réassurez-moi  ...  Positive\n",
       "3  Réassurez-moi  ...  Positive\n",
       "4  Réassurez-moi  ...  Positive\n",
       "\n",
       "[5 rows x 7 columns]"
      ]
     },
     "execution_count": 114,
     "metadata": {},
     "output_type": "execute_result"
    }
   ],
   "source": [
    "data[\"sentiment\"] = senti_list\n",
    "data.head()"
   ]
  },
  {
   "cell_type": "code",
   "execution_count": null,
   "id": "b1446293-f913-4206-a209-67d6c6332632",
   "metadata": {},
   "outputs": [],
   "source": []
  }
 ],
 "metadata": {
  "kernelspec": {
   "display_name": "Python 3 (ipykernel)",
   "language": "python",
   "name": "python3"
  },
  "language_info": {
   "codemirror_mode": {
    "name": "ipython",
    "version": 3
   },
   "file_extension": ".py",
   "mimetype": "text/x-python",
   "name": "python",
   "nbconvert_exporter": "python",
   "pygments_lexer": "ipython3",
   "version": "3.9.7"
  }
 },
 "nbformat": 4,
 "nbformat_minor": 5
}
