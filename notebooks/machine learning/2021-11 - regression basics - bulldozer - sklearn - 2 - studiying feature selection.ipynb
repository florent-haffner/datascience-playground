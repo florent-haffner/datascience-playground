{
 "cells": [
  {
   "cell_type": "markdown",
   "id": "b8c66542",
   "metadata": {},
   "source": [
    "# Bulldozer dataset\n",
    "\n",
    "This notebook will use a datasets with a large number of columns (>30) and will propose and entire pipeline of treatments."
   ]
  },
  {
   "cell_type": "markdown",
   "id": "14649dc0",
   "metadata": {},
   "source": [
    "Will focus on here on the datasets distribution and sampling then we'll focus on features selection.\n",
    "\n",
    "Of course, our first concern will the efficiency of our data, model score will be secondary we'll only get concern about it while working around feature selection."
   ]
  },
  {
   "cell_type": "code",
   "execution_count": 1,
   "id": "f221d27d",
   "metadata": {},
   "outputs": [],
   "source": [
    "import os\n",
    "import json\n",
    "import random\n",
    "from pathlib import Path\n",
    "from zipfile import ZipFile"
   ]
  },
  {
   "cell_type": "code",
   "execution_count": 2,
   "id": "9bdc1ce3",
   "metadata": {},
   "outputs": [],
   "source": [
    "import kaggle\n",
    "import pandas as pd\n",
    "import numpy as np\n",
    "import matplotlib.pyplot as plt\n",
    "\n",
    "from sklearn.model_selection import train_test_split\n",
    "from sklearn.utils import resample\n",
    "from sklearn.linear_model import LinearRegression\n",
    "from sklearn.ensemble import RandomForestRegressor"
   ]
  },
  {
   "cell_type": "code",
   "execution_count": 3,
   "id": "bfeb9e2a",
   "metadata": {},
   "outputs": [],
   "source": [
    "def display_all(df):\n",
    "    with pd.option_context(\"display.max_rows\", 1000, \"display.max_columns\", 1000): \n",
    "        display(df)"
   ]
  },
  {
   "cell_type": "code",
   "execution_count": 4,
   "id": "61535ed9",
   "metadata": {},
   "outputs": [],
   "source": [
    "df = pd.read_feather('tmp/feather')"
   ]
  },
  {
   "cell_type": "code",
   "execution_count": 5,
   "id": "615e8db0",
   "metadata": {
    "scrolled": false
   },
   "outputs": [
    {
     "data": {
      "text/html": [
       "<div>\n",
       "<style scoped>\n",
       "    .dataframe tbody tr th:only-of-type {\n",
       "        vertical-align: middle;\n",
       "    }\n",
       "\n",
       "    .dataframe tbody tr th {\n",
       "        vertical-align: top;\n",
       "    }\n",
       "\n",
       "    .dataframe thead th {\n",
       "        text-align: right;\n",
       "    }\n",
       "</style>\n",
       "<table border=\"1\" class=\"dataframe\">\n",
       "  <thead>\n",
       "    <tr style=\"text-align: right;\">\n",
       "      <th></th>\n",
       "      <th>0</th>\n",
       "      <th>1</th>\n",
       "      <th>2</th>\n",
       "      <th>3</th>\n",
       "      <th>4</th>\n",
       "    </tr>\n",
       "  </thead>\n",
       "  <tbody>\n",
       "    <tr>\n",
       "      <th>SalesID</th>\n",
       "      <td>1139246</td>\n",
       "      <td>1139248</td>\n",
       "      <td>1139249</td>\n",
       "      <td>1139251</td>\n",
       "      <td>1139253</td>\n",
       "    </tr>\n",
       "    <tr>\n",
       "      <th>SalePrice</th>\n",
       "      <td>11.09741</td>\n",
       "      <td>10.950807</td>\n",
       "      <td>9.21034</td>\n",
       "      <td>10.558414</td>\n",
       "      <td>9.305651</td>\n",
       "    </tr>\n",
       "    <tr>\n",
       "      <th>MachineID</th>\n",
       "      <td>999089</td>\n",
       "      <td>117657</td>\n",
       "      <td>434808</td>\n",
       "      <td>1026470</td>\n",
       "      <td>1057373</td>\n",
       "    </tr>\n",
       "    <tr>\n",
       "      <th>ModelID</th>\n",
       "      <td>3157</td>\n",
       "      <td>77</td>\n",
       "      <td>7009</td>\n",
       "      <td>332</td>\n",
       "      <td>17311</td>\n",
       "    </tr>\n",
       "    <tr>\n",
       "      <th>datasource</th>\n",
       "      <td>121</td>\n",
       "      <td>121</td>\n",
       "      <td>121</td>\n",
       "      <td>121</td>\n",
       "      <td>121</td>\n",
       "    </tr>\n",
       "    <tr>\n",
       "      <th>auctioneerID</th>\n",
       "      <td>3.0</td>\n",
       "      <td>3.0</td>\n",
       "      <td>3.0</td>\n",
       "      <td>3.0</td>\n",
       "      <td>3.0</td>\n",
       "    </tr>\n",
       "    <tr>\n",
       "      <th>YearMade</th>\n",
       "      <td>2004</td>\n",
       "      <td>1996</td>\n",
       "      <td>2001</td>\n",
       "      <td>2001</td>\n",
       "      <td>2007</td>\n",
       "    </tr>\n",
       "    <tr>\n",
       "      <th>MachineHoursCurrentMeter</th>\n",
       "      <td>68.0</td>\n",
       "      <td>4640.0</td>\n",
       "      <td>2838.0</td>\n",
       "      <td>3486.0</td>\n",
       "      <td>722.0</td>\n",
       "    </tr>\n",
       "    <tr>\n",
       "      <th>UsageBand</th>\n",
       "      <td>1.0</td>\n",
       "      <td>1.0</td>\n",
       "      <td>0.0</td>\n",
       "      <td>0.0</td>\n",
       "      <td>2.0</td>\n",
       "    </tr>\n",
       "    <tr>\n",
       "      <th>fiModelDesc</th>\n",
       "      <td>949.0</td>\n",
       "      <td>1724.0</td>\n",
       "      <td>330.0</td>\n",
       "      <td>3673.0</td>\n",
       "      <td>4207.0</td>\n",
       "    </tr>\n",
       "    <tr>\n",
       "      <th>fiBaseModel</th>\n",
       "      <td>295.0</td>\n",
       "      <td>526.0</td>\n",
       "      <td>109.0</td>\n",
       "      <td>1374.0</td>\n",
       "      <td>1528.0</td>\n",
       "    </tr>\n",
       "    <tr>\n",
       "      <th>fiSecondaryDesc</th>\n",
       "      <td>40.0</td>\n",
       "      <td>54.0</td>\n",
       "      <td>54.0</td>\n",
       "      <td>54.0</td>\n",
       "      <td>54.0</td>\n",
       "    </tr>\n",
       "    <tr>\n",
       "      <th>fiProductClassDesc</th>\n",
       "      <td>58.0</td>\n",
       "      <td>61.0</td>\n",
       "      <td>38.0</td>\n",
       "      <td>7.0</td>\n",
       "      <td>39.0</td>\n",
       "    </tr>\n",
       "    <tr>\n",
       "      <th>state</th>\n",
       "      <td>0.0</td>\n",
       "      <td>32.0</td>\n",
       "      <td>31.0</td>\n",
       "      <td>43.0</td>\n",
       "      <td>31.0</td>\n",
       "    </tr>\n",
       "    <tr>\n",
       "      <th>ProductGroup</th>\n",
       "      <td>5.0</td>\n",
       "      <td>5.0</td>\n",
       "      <td>2.0</td>\n",
       "      <td>3.0</td>\n",
       "      <td>2.0</td>\n",
       "    </tr>\n",
       "    <tr>\n",
       "      <th>ProductGroupDesc</th>\n",
       "      <td>5.0</td>\n",
       "      <td>5.0</td>\n",
       "      <td>2.0</td>\n",
       "      <td>3.0</td>\n",
       "      <td>2.0</td>\n",
       "    </tr>\n",
       "    <tr>\n",
       "      <th>Enclosure</th>\n",
       "      <td>2.0</td>\n",
       "      <td>2.0</td>\n",
       "      <td>5.0</td>\n",
       "      <td>2.0</td>\n",
       "      <td>0.0</td>\n",
       "    </tr>\n",
       "    <tr>\n",
       "      <th>Forks</th>\n",
       "      <td>0.0</td>\n",
       "      <td>0.0</td>\n",
       "      <td>0.0</td>\n",
       "      <td>0.0</td>\n",
       "      <td>0.0</td>\n",
       "    </tr>\n",
       "    <tr>\n",
       "      <th>Ride_Control</th>\n",
       "      <td>1.0</td>\n",
       "      <td>1.0</td>\n",
       "      <td>1.0</td>\n",
       "      <td>1.0</td>\n",
       "      <td>1.0</td>\n",
       "    </tr>\n",
       "    <tr>\n",
       "      <th>Hydraulics</th>\n",
       "      <td>0.0</td>\n",
       "      <td>0.0</td>\n",
       "      <td>3.0</td>\n",
       "      <td>0.0</td>\n",
       "      <td>3.0</td>\n",
       "    </tr>\n",
       "    <tr>\n",
       "      <th>Tire_Size</th>\n",
       "      <td>16.0</td>\n",
       "      <td>11.0</td>\n",
       "      <td>11.0</td>\n",
       "      <td>11.0</td>\n",
       "      <td>11.0</td>\n",
       "    </tr>\n",
       "    <tr>\n",
       "      <th>Coupler</th>\n",
       "      <td>2.0</td>\n",
       "      <td>2.0</td>\n",
       "      <td>2.0</td>\n",
       "      <td>2.0</td>\n",
       "      <td>2.0</td>\n",
       "    </tr>\n",
       "    <tr>\n",
       "      <th>Differential_Type</th>\n",
       "      <td>3.0</td>\n",
       "      <td>3.0</td>\n",
       "      <td>3.0</td>\n",
       "      <td>3.0</td>\n",
       "      <td>3.0</td>\n",
       "    </tr>\n",
       "    <tr>\n",
       "      <th>Steering_Controls</th>\n",
       "      <td>1.0</td>\n",
       "      <td>1.0</td>\n",
       "      <td>1.0</td>\n",
       "      <td>1.0</td>\n",
       "      <td>1.0</td>\n",
       "    </tr>\n",
       "    <tr>\n",
       "      <th>saleYear</th>\n",
       "      <td>2006</td>\n",
       "      <td>2004</td>\n",
       "      <td>2004</td>\n",
       "      <td>2011</td>\n",
       "      <td>2009</td>\n",
       "    </tr>\n",
       "    <tr>\n",
       "      <th>saleElapsed</th>\n",
       "      <td>1163635200</td>\n",
       "      <td>1080259200</td>\n",
       "      <td>1077753600</td>\n",
       "      <td>1305763200</td>\n",
       "      <td>1248307200</td>\n",
       "    </tr>\n",
       "    <tr>\n",
       "      <th>saleMonth</th>\n",
       "      <td>11</td>\n",
       "      <td>3</td>\n",
       "      <td>2</td>\n",
       "      <td>5</td>\n",
       "      <td>7</td>\n",
       "    </tr>\n",
       "    <tr>\n",
       "      <th>saleWeek</th>\n",
       "      <td>46</td>\n",
       "      <td>13</td>\n",
       "      <td>9</td>\n",
       "      <td>20</td>\n",
       "      <td>30</td>\n",
       "    </tr>\n",
       "    <tr>\n",
       "      <th>saleDay</th>\n",
       "      <td>16</td>\n",
       "      <td>26</td>\n",
       "      <td>26</td>\n",
       "      <td>19</td>\n",
       "      <td>23</td>\n",
       "    </tr>\n",
       "    <tr>\n",
       "      <th>saleDayofweek</th>\n",
       "      <td>3</td>\n",
       "      <td>4</td>\n",
       "      <td>3</td>\n",
       "      <td>3</td>\n",
       "      <td>3</td>\n",
       "    </tr>\n",
       "    <tr>\n",
       "      <th>saleDayofyear</th>\n",
       "      <td>320</td>\n",
       "      <td>86</td>\n",
       "      <td>57</td>\n",
       "      <td>139</td>\n",
       "      <td>204</td>\n",
       "    </tr>\n",
       "    <tr>\n",
       "      <th>saleIs_month_end</th>\n",
       "      <td>False</td>\n",
       "      <td>False</td>\n",
       "      <td>False</td>\n",
       "      <td>False</td>\n",
       "      <td>False</td>\n",
       "    </tr>\n",
       "    <tr>\n",
       "      <th>saleIs_month_start</th>\n",
       "      <td>False</td>\n",
       "      <td>False</td>\n",
       "      <td>False</td>\n",
       "      <td>False</td>\n",
       "      <td>False</td>\n",
       "    </tr>\n",
       "    <tr>\n",
       "      <th>saleIs_quarter_end</th>\n",
       "      <td>False</td>\n",
       "      <td>False</td>\n",
       "      <td>False</td>\n",
       "      <td>False</td>\n",
       "      <td>False</td>\n",
       "    </tr>\n",
       "    <tr>\n",
       "      <th>saleIs_quarter_start</th>\n",
       "      <td>False</td>\n",
       "      <td>False</td>\n",
       "      <td>False</td>\n",
       "      <td>False</td>\n",
       "      <td>False</td>\n",
       "    </tr>\n",
       "    <tr>\n",
       "      <th>saleIs_year_end</th>\n",
       "      <td>False</td>\n",
       "      <td>False</td>\n",
       "      <td>False</td>\n",
       "      <td>False</td>\n",
       "      <td>False</td>\n",
       "    </tr>\n",
       "    <tr>\n",
       "      <th>saleIs_year_start</th>\n",
       "      <td>False</td>\n",
       "      <td>False</td>\n",
       "      <td>False</td>\n",
       "      <td>False</td>\n",
       "      <td>False</td>\n",
       "    </tr>\n",
       "  </tbody>\n",
       "</table>\n",
       "</div>"
      ],
      "text/plain": [
       "                                   0           1           2           3  \\\n",
       "SalesID                      1139246     1139248     1139249     1139251   \n",
       "SalePrice                   11.09741   10.950807     9.21034   10.558414   \n",
       "MachineID                     999089      117657      434808     1026470   \n",
       "ModelID                         3157          77        7009         332   \n",
       "datasource                       121         121         121         121   \n",
       "auctioneerID                     3.0         3.0         3.0         3.0   \n",
       "YearMade                        2004        1996        2001        2001   \n",
       "MachineHoursCurrentMeter        68.0      4640.0      2838.0      3486.0   \n",
       "UsageBand                        1.0         1.0         0.0         0.0   \n",
       "fiModelDesc                    949.0      1724.0       330.0      3673.0   \n",
       "fiBaseModel                    295.0       526.0       109.0      1374.0   \n",
       "fiSecondaryDesc                 40.0        54.0        54.0        54.0   \n",
       "fiProductClassDesc              58.0        61.0        38.0         7.0   \n",
       "state                            0.0        32.0        31.0        43.0   \n",
       "ProductGroup                     5.0         5.0         2.0         3.0   \n",
       "ProductGroupDesc                 5.0         5.0         2.0         3.0   \n",
       "Enclosure                        2.0         2.0         5.0         2.0   \n",
       "Forks                            0.0         0.0         0.0         0.0   \n",
       "Ride_Control                     1.0         1.0         1.0         1.0   \n",
       "Hydraulics                       0.0         0.0         3.0         0.0   \n",
       "Tire_Size                       16.0        11.0        11.0        11.0   \n",
       "Coupler                          2.0         2.0         2.0         2.0   \n",
       "Differential_Type                3.0         3.0         3.0         3.0   \n",
       "Steering_Controls                1.0         1.0         1.0         1.0   \n",
       "saleYear                        2006        2004        2004        2011   \n",
       "saleElapsed               1163635200  1080259200  1077753600  1305763200   \n",
       "saleMonth                         11           3           2           5   \n",
       "saleWeek                          46          13           9          20   \n",
       "saleDay                           16          26          26          19   \n",
       "saleDayofweek                      3           4           3           3   \n",
       "saleDayofyear                    320          86          57         139   \n",
       "saleIs_month_end               False       False       False       False   \n",
       "saleIs_month_start             False       False       False       False   \n",
       "saleIs_quarter_end             False       False       False       False   \n",
       "saleIs_quarter_start           False       False       False       False   \n",
       "saleIs_year_end                False       False       False       False   \n",
       "saleIs_year_start              False       False       False       False   \n",
       "\n",
       "                                   4  \n",
       "SalesID                      1139253  \n",
       "SalePrice                   9.305651  \n",
       "MachineID                    1057373  \n",
       "ModelID                        17311  \n",
       "datasource                       121  \n",
       "auctioneerID                     3.0  \n",
       "YearMade                        2007  \n",
       "MachineHoursCurrentMeter       722.0  \n",
       "UsageBand                        2.0  \n",
       "fiModelDesc                   4207.0  \n",
       "fiBaseModel                   1528.0  \n",
       "fiSecondaryDesc                 54.0  \n",
       "fiProductClassDesc              39.0  \n",
       "state                           31.0  \n",
       "ProductGroup                     2.0  \n",
       "ProductGroupDesc                 2.0  \n",
       "Enclosure                        0.0  \n",
       "Forks                            0.0  \n",
       "Ride_Control                     1.0  \n",
       "Hydraulics                       3.0  \n",
       "Tire_Size                       11.0  \n",
       "Coupler                          2.0  \n",
       "Differential_Type                3.0  \n",
       "Steering_Controls                1.0  \n",
       "saleYear                        2009  \n",
       "saleElapsed               1248307200  \n",
       "saleMonth                          7  \n",
       "saleWeek                          30  \n",
       "saleDay                           23  \n",
       "saleDayofweek                      3  \n",
       "saleDayofyear                    204  \n",
       "saleIs_month_end               False  \n",
       "saleIs_month_start             False  \n",
       "saleIs_quarter_end             False  \n",
       "saleIs_quarter_start           False  \n",
       "saleIs_year_end                False  \n",
       "saleIs_year_start              False  "
      ]
     },
     "execution_count": 5,
     "metadata": {},
     "output_type": "execute_result"
    }
   ],
   "source": [
    "df.head().T"
   ]
  },
  {
   "cell_type": "markdown",
   "id": "ed2a440e",
   "metadata": {},
   "source": [
    "Let's define some basic metrics to evaluate properly our model efficiency"
   ]
  },
  {
   "cell_type": "code",
   "execution_count": 6,
   "id": "2541845a",
   "metadata": {},
   "outputs": [],
   "source": [
    "import sklearn.metrics as metrics\n",
    "\n",
    "def regression_results(y_true, y_pred):\n",
    "\n",
    "    # Regression metrics\n",
    "    explained_variance=metrics.explained_variance_score(y_true, y_pred)\n",
    "    mean_absolute_error=metrics.mean_absolute_error(y_true, y_pred) \n",
    "    mse=metrics.mean_squared_error(y_true, y_pred) \n",
    "    mean_squared_log_error=metrics.mean_squared_log_error(y_true, y_pred)\n",
    "    median_absolute_error=metrics.median_absolute_error(y_true, y_pred)\n",
    "    r2=metrics.r2_score(y_true, y_pred)\n",
    "\n",
    "    print('explained_variance: ', round(explained_variance,4))    \n",
    "    print('mean_squared_log_error: ', round(mean_squared_log_error,4))\n",
    "    print('r2: ', round(r2,4))\n",
    "    print('MAE: ', round(mean_absolute_error,4))\n",
    "    print('MSE: ', round(mse,4))\n",
    "    print('RMSE: ', round(np.sqrt(mse),4))"
   ]
  },
  {
   "cell_type": "code",
   "execution_count": null,
   "id": "da7b78e4",
   "metadata": {},
   "outputs": [],
   "source": []
  },
  {
   "cell_type": "markdown",
   "id": "3e3d4788",
   "metadata": {},
   "source": [
    "## Building a simple first sample of our dataset\n",
    "\n",
    "Will our distribution will be the same ?"
   ]
  },
  {
   "cell_type": "code",
   "execution_count": 7,
   "id": "6e8de5b5",
   "metadata": {},
   "outputs": [
    {
     "data": {
      "text/plain": [
       "(array([ 1068.,   343.,  1305.,  1331.,  1782.,  2185.,  3392.,  5909.,\n",
       "         8499.,  8065., 13491.,  6102.,  7790., 11979., 12695., 12996.,\n",
       "        12561., 11805., 11742., 12112., 14414., 16148., 11874., 15097.,\n",
       "        11456., 17200., 13035., 12418., 15152., 10927., 13740.,  8391.,\n",
       "         8680., 10483.,  8982.,  5957.,  8675.,  7789.,  6538.,  6610.,\n",
       "         6298.,  4974.,  5267.,  3772.,  4046.,  2437.,  1489.,  1030.,\n",
       "          778.,   316.]),\n",
       " array([ 8.4658999 ,  8.53385355,  8.60180719,  8.66976084,  8.73771449,\n",
       "         8.80566814,  8.87362179,  8.94157544,  9.00952909,  9.07748274,\n",
       "         9.14543638,  9.21339003,  9.28134368,  9.34929733,  9.41725098,\n",
       "         9.48520463,  9.55315828,  9.62111193,  9.68906558,  9.75701922,\n",
       "         9.82497287,  9.89292652,  9.96088017, 10.02883382, 10.09678747,\n",
       "        10.16474112, 10.23269477, 10.30064841, 10.36860206, 10.43655571,\n",
       "        10.50450936, 10.57246301, 10.64041666, 10.70837031, 10.77632396,\n",
       "        10.8442776 , 10.91223125, 10.9801849 , 11.04813855, 11.1160922 ,\n",
       "        11.18404585, 11.2519995 , 11.31995315, 11.3879068 , 11.45586044,\n",
       "        11.52381409, 11.59176774, 11.65972139, 11.72767504, 11.79562869,\n",
       "        11.86358234]),\n",
       " <BarContainer object of 50 artists>)"
      ]
     },
     "execution_count": 7,
     "metadata": {},
     "output_type": "execute_result"
    },
    {
     "data": {
      "image/png": "[encoded data removed]",
      "text/plain": [
       "<Figure size 432x288 with 1 Axes>"
      ]
     },
     "metadata": {
      "needs_background": "light"
     },
     "output_type": "display_data"
    }
   ],
   "source": [
    "plt.hist(df.SalePrice.values, bins=50)"
   ]
  },
  {
   "cell_type": "markdown",
   "id": "3c885e66",
   "metadata": {},
   "source": [
    "There is our base distribution. Let's try to get something similare on a test and validation set !"
   ]
  },
  {
   "cell_type": "code",
   "execution_count": 8,
   "id": "1a464f03",
   "metadata": {},
   "outputs": [],
   "source": [
    "X, y = df.drop('SalePrice', axis=1), df.SalePrice.values"
   ]
  },
  {
   "cell_type": "code",
   "execution_count": 9,
   "id": "a295f9dd",
   "metadata": {},
   "outputs": [],
   "source": [
    "X_train, X_test, y_train, y_test = train_test_split(X, y, test_size=0.2, random_state=0)"
   ]
  },
  {
   "cell_type": "code",
   "execution_count": 10,
   "id": "8aba7c28",
   "metadata": {},
   "outputs": [
    {
     "data": {
      "text/plain": [
       "((320900, 36), pandas.core.frame.DataFrame, (320900,), numpy.ndarray)"
      ]
     },
     "execution_count": 10,
     "metadata": {},
     "output_type": "execute_result"
    }
   ],
   "source": [
    "X_train.shape, type(X_train), y_train.shape, type(y_train)"
   ]
  },
  {
   "cell_type": "code",
   "execution_count": 11,
   "id": "38f7303c",
   "metadata": {},
   "outputs": [],
   "source": [
    "y_train = y_train.reshape(-1, 1)"
   ]
  },
  {
   "cell_type": "code",
   "execution_count": 12,
   "id": "9e869303",
   "metadata": {},
   "outputs": [],
   "source": [
    "y_test = y_test.reshape(-1, 1)"
   ]
  },
  {
   "cell_type": "code",
   "execution_count": 13,
   "id": "8ebb805c",
   "metadata": {},
   "outputs": [
    {
     "data": {
      "text/plain": [
       "3209"
      ]
     },
     "execution_count": 13,
     "metadata": {},
     "output_type": "execute_result"
    }
   ],
   "source": [
    "minimal_df_size = int(len(X_train)/100); minimal_df_size"
   ]
  },
  {
   "cell_type": "code",
   "execution_count": 14,
   "id": "11987924",
   "metadata": {},
   "outputs": [],
   "source": [
    "X_train_sample = resample(X_train, replace=True, n_samples=minimal_df_size, random_state=0)"
   ]
  },
  {
   "cell_type": "code",
   "execution_count": 15,
   "id": "eb1d7c11",
   "metadata": {},
   "outputs": [],
   "source": [
    "y_train_sample = resample(y_train, replace=True, n_samples=minimal_df_size, random_state=0)"
   ]
  },
  {
   "cell_type": "code",
   "execution_count": 16,
   "id": "969ba708",
   "metadata": {},
   "outputs": [],
   "source": [
    "X_test_sample = resample(X_test, replace=True, n_samples=minimal_df_size, random_state=1)"
   ]
  },
  {
   "cell_type": "code",
   "execution_count": 17,
   "id": "1b04f341",
   "metadata": {},
   "outputs": [],
   "source": [
    "y_test_sample = resample(y_test, replace=True, n_samples=minimal_df_size, random_state=1)"
   ]
  },
  {
   "cell_type": "code",
   "execution_count": 18,
   "id": "17bd7963",
   "metadata": {},
   "outputs": [
    {
     "data": {
      "text/plain": [
       "((3209, 36), (3209, 1))"
      ]
     },
     "execution_count": 18,
     "metadata": {},
     "output_type": "execute_result"
    }
   ],
   "source": [
    "(X_train_sample.shape, y_train_sample.shape)"
   ]
  },
  {
   "cell_type": "code",
   "execution_count": 19,
   "id": "de0a7f92",
   "metadata": {},
   "outputs": [
    {
     "data": {
      "text/plain": [
       "(8.517193191416238, 11.794337924408413, 10.118865252582957, 0.697376749520267)"
      ]
     },
     "execution_count": 19,
     "metadata": {},
     "output_type": "execute_result"
    }
   ],
   "source": [
    "(y_train_sample.min(), y_train_sample.max(), y_train_sample.mean(), y_train_sample.std())"
   ]
  },
  {
   "cell_type": "code",
   "execution_count": 20,
   "id": "5c01d276",
   "metadata": {},
   "outputs": [
    {
     "data": {
      "text/plain": [
       "(array([  9.,   8.,  11.,   1.,  13.,  21.,  20.,  56., 117.,  65.,  81.,\n",
       "         30.,  88., 100.,  60.,  96.,  89., 102.,  98., 129.,  84., 115.,\n",
       "         94., 117.,  86., 126., 122., 104.,  76.,  84., 119.,  76.,  72.,\n",
       "         74.,  83.,  63.,  45.,  82.,  46.,  52.,  62.,  47.,  26.,  47.,\n",
       "         36.,  19.,  33.,  14.,   5.,   6.]),\n",
       " array([ 8.51719319,  8.58273609,  8.64827898,  8.71382188,  8.77936477,\n",
       "         8.84490766,  8.91045056,  8.97599345,  9.04153635,  9.10707924,\n",
       "         9.17262214,  9.23816503,  9.30370793,  9.36925082,  9.43479372,\n",
       "         9.50033661,  9.56587951,  9.6314224 ,  9.6969653 ,  9.76250819,\n",
       "         9.82805108,  9.89359398,  9.95913687, 10.02467977, 10.09022266,\n",
       "        10.15576556, 10.22130845, 10.28685135, 10.35239424, 10.41793714,\n",
       "        10.48348003, 10.54902293, 10.61456582, 10.68010872, 10.74565161,\n",
       "        10.8111945 , 10.8767374 , 10.94228029, 11.00782319, 11.07336608,\n",
       "        11.13890898, 11.20445187, 11.26999477, 11.33553766, 11.40108056,\n",
       "        11.46662345, 11.53216635, 11.59770924, 11.66325214, 11.72879503,\n",
       "        11.79433792]),\n",
       " <BarContainer object of 50 artists>)"
      ]
     },
     "execution_count": 20,
     "metadata": {},
     "output_type": "execute_result"
    },
    {
     "data": {
      "image/png": "[encoded data removed]",
      "text/plain": [
       "<Figure size 432x288 with 1 Axes>"
      ]
     },
     "metadata": {
      "needs_background": "light"
     },
     "output_type": "display_data"
    }
   ],
   "source": [
    "plt.hist(y_train_sample, bins=50)"
   ]
  },
  {
   "cell_type": "code",
   "execution_count": 21,
   "id": "b78fcda1",
   "metadata": {},
   "outputs": [
    {
     "name": "stderr",
     "output_type": "stream",
     "text": [
      "<timed eval>:1: DataConversionWarning: A column-vector y was passed when a 1d array was expected. Please change the shape of y to (n_samples,), for example using ravel().\n"
     ]
    },
    {
     "name": "stdout",
     "output_type": "stream",
     "text": [
      "CPU times: user 3.09 s, sys: 18.4 ms, total: 3.11 s\n",
      "Wall time: 487 ms\n"
     ]
    },
    {
     "data": {
      "text/plain": [
       "0.9641880457537583"
      ]
     },
     "execution_count": 21,
     "metadata": {},
     "output_type": "execute_result"
    }
   ],
   "source": [
    "m = RandomForestRegressor(n_jobs=-1)\n",
    "%time m.fit(X_train_sample, y_train_sample)\n",
    "m.score(X_train_sample, y_train_sample)"
   ]
  },
  {
   "cell_type": "code",
   "execution_count": 22,
   "id": "5a90b09c",
   "metadata": {},
   "outputs": [],
   "source": [
    "preds = m.predict(X_test)"
   ]
  },
  {
   "cell_type": "code",
   "execution_count": 23,
   "id": "9adbd050",
   "metadata": {},
   "outputs": [
    {
     "name": "stdout",
     "output_type": "stream",
     "text": [
      "explained_variance:  0.7406\n",
      "mean_squared_log_error:  0.001\n",
      "r2:  0.7402\n",
      "MAE:  0.2655\n",
      "MSE:  0.1252\n",
      "RMSE:  0.3538\n"
     ]
    }
   ],
   "source": [
    "regression_results(y_test, preds)"
   ]
  },
  {
   "cell_type": "markdown",
   "id": "1b884480",
   "metadata": {},
   "source": [
    "Okay so here are our numbers from a sample data how isn't even randomised.\n",
    "\n",
    "The R2 and the explained variance are similare, the RMSE is pretty high but we'll try another approach to try to generalize better !"
   ]
  },
  {
   "cell_type": "markdown",
   "id": "a71d631b",
   "metadata": {},
   "source": [
    "## What if we randomized our sample ?\n",
    "\n",
    "Let's try to use a random sample this time."
   ]
  },
  {
   "cell_type": "code",
   "execution_count": 24,
   "id": "b15449e9",
   "metadata": {},
   "outputs": [],
   "source": [
    "X, y = df.drop('SalePrice', axis=1), df.SalePrice.values"
   ]
  },
  {
   "cell_type": "code",
   "execution_count": 25,
   "id": "fbe63891",
   "metadata": {},
   "outputs": [],
   "source": [
    "X_train, X_test, y_train, y_test = train_test_split(X, y, test_size=0.2, random_state=0)"
   ]
  },
  {
   "cell_type": "code",
   "execution_count": 26,
   "id": "4e767a53",
   "metadata": {},
   "outputs": [
    {
     "data": {
      "text/plain": [
       "((320900, 36), pandas.core.frame.DataFrame, (320900,), numpy.ndarray)"
      ]
     },
     "execution_count": 26,
     "metadata": {},
     "output_type": "execute_result"
    }
   ],
   "source": [
    "X_train.shape, type(X_train), y_train.shape, type(y_train)"
   ]
  },
  {
   "cell_type": "code",
   "execution_count": 27,
   "id": "403e60c2",
   "metadata": {},
   "outputs": [],
   "source": [
    "y_train = y_train.reshape(-1, 1)"
   ]
  },
  {
   "cell_type": "code",
   "execution_count": 28,
   "id": "ad058d19",
   "metadata": {},
   "outputs": [],
   "source": [
    "y_test = y_test.reshape(-1, 1)"
   ]
  },
  {
   "cell_type": "code",
   "execution_count": 29,
   "id": "9a2f002b",
   "metadata": {},
   "outputs": [
    {
     "data": {
      "text/plain": [
       "3209"
      ]
     },
     "execution_count": 29,
     "metadata": {},
     "output_type": "execute_result"
    }
   ],
   "source": [
    "minimal_df_size = int(len(X_train)/100); minimal_df_size"
   ]
  },
  {
   "cell_type": "code",
   "execution_count": 30,
   "id": "039e1ded",
   "metadata": {},
   "outputs": [],
   "source": [
    "X_train_sample = resample(X_train, replace=True, n_samples=minimal_df_size, random_state=1)"
   ]
  },
  {
   "cell_type": "code",
   "execution_count": 31,
   "id": "6e677e32",
   "metadata": {},
   "outputs": [],
   "source": [
    "y_train_sample = resample(y_train, replace=True, n_samples=minimal_df_size, random_state=1)"
   ]
  },
  {
   "cell_type": "code",
   "execution_count": 32,
   "id": "8721a8c1",
   "metadata": {},
   "outputs": [],
   "source": [
    "X_test_sample = resample(X_test, replace=True, n_samples=minimal_df_size, random_state=1)"
   ]
  },
  {
   "cell_type": "code",
   "execution_count": 33,
   "id": "95fc1577",
   "metadata": {},
   "outputs": [],
   "source": [
    "y_test_sample = resample(y_test, replace=True, n_samples=minimal_df_size, random_state=1)"
   ]
  },
  {
   "cell_type": "code",
   "execution_count": 34,
   "id": "930baf87",
   "metadata": {
    "scrolled": true
   },
   "outputs": [
    {
     "data": {
      "text/plain": [
       "((3209, 36), (3209, 1))"
      ]
     },
     "execution_count": 34,
     "metadata": {},
     "output_type": "execute_result"
    }
   ],
   "source": [
    "(X_train_sample.shape, y_train_sample.shape)"
   ]
  },
  {
   "cell_type": "code",
   "execution_count": 35,
   "id": "a942020b",
   "metadata": {},
   "outputs": [
    {
     "data": {
      "text/plain": [
       "(8.465899897028686, 11.831379196088763, 10.105780803662698, 0.6901670635327153)"
      ]
     },
     "execution_count": 35,
     "metadata": {},
     "output_type": "execute_result"
    }
   ],
   "source": [
    "(y_train_sample.min(), y_train_sample.max(), y_train_sample.mean(), y_train_sample.std())"
   ]
  },
  {
   "cell_type": "code",
   "execution_count": 36,
   "id": "456ac45b",
   "metadata": {},
   "outputs": [
    {
     "data": {
      "text/plain": [
       "(array([  6.,   2.,   8.,  11.,  19.,  18.,  23.,  44.,  64.,  71.,  51.,\n",
       "        112.,  68.,  89., 104.,  39.,  86.,  99., 136., 108., 129.,  79.,\n",
       "        124.,  92., 150., 108., 132.,  89.,  82.,  93., 112.,  96.,  69.,\n",
       "         72.,  76.,  36.,  68.,  69.,  54.,  62.,  56.,  49.,  36.,  39.,\n",
       "         27.,  22.,  12.,  13.,   3.,   2.]),\n",
       " array([ 8.4658999 ,  8.53320948,  8.60051907,  8.66782865,  8.73513824,\n",
       "         8.80244783,  8.86975741,  8.937067  ,  9.00437658,  9.07168617,\n",
       "         9.13899576,  9.20630534,  9.27361493,  9.34092451,  9.4082341 ,\n",
       "         9.47554369,  9.54285327,  9.61016286,  9.67747244,  9.74478203,\n",
       "         9.81209162,  9.8794012 ,  9.94671079, 10.01402037, 10.08132996,\n",
       "        10.14863955, 10.21594913, 10.28325872, 10.3505683 , 10.41787789,\n",
       "        10.48518748, 10.55249706, 10.61980665, 10.68711623, 10.75442582,\n",
       "        10.82173541, 10.88904499, 10.95635458, 11.02366416, 11.09097375,\n",
       "        11.15828334, 11.22559292, 11.29290251, 11.36021209, 11.42752168,\n",
       "        11.49483127, 11.56214085, 11.62945044, 11.69676002, 11.76406961,\n",
       "        11.8313792 ]),\n",
       " <BarContainer object of 50 artists>)"
      ]
     },
     "execution_count": 36,
     "metadata": {},
     "output_type": "execute_result"
    },
    {
     "data": {
      "image/png": "[encoded data removed]",
      "text/plain": [
       "<Figure size 432x288 with 1 Axes>"
      ]
     },
     "metadata": {
      "needs_background": "light"
     },
     "output_type": "display_data"
    }
   ],
   "source": [
    "plt.hist(y_train_sample, bins=50)"
   ]
  },
  {
   "cell_type": "code",
   "execution_count": 37,
   "id": "e30d3a7b",
   "metadata": {},
   "outputs": [
    {
     "name": "stderr",
     "output_type": "stream",
     "text": [
      "<timed eval>:1: DataConversionWarning: A column-vector y was passed when a 1d array was expected. Please change the shape of y to (n_samples,), for example using ravel().\n"
     ]
    },
    {
     "name": "stdout",
     "output_type": "stream",
     "text": [
      "CPU times: user 3.1 s, sys: 6.81 ms, total: 3.11 s\n",
      "Wall time: 441 ms\n"
     ]
    },
    {
     "data": {
      "text/plain": [
       "0.9646249600536894"
      ]
     },
     "execution_count": 37,
     "metadata": {},
     "output_type": "execute_result"
    }
   ],
   "source": [
    "m = RandomForestRegressor(n_jobs=-1)\n",
    "%time m.fit(X_train_sample, y_train_sample)\n",
    "m.score(X_train_sample, y_train_sample)"
   ]
  },
  {
   "cell_type": "code",
   "execution_count": 38,
   "id": "51ba93e5",
   "metadata": {},
   "outputs": [],
   "source": [
    "preds = m.predict(X_test)"
   ]
  },
  {
   "cell_type": "code",
   "execution_count": 39,
   "id": "702eaa87",
   "metadata": {},
   "outputs": [
    {
     "name": "stdout",
     "output_type": "stream",
     "text": [
      "explained_variance:  0.7408\n",
      "mean_squared_log_error:  0.001\n",
      "r2:  0.7407\n",
      "MAE:  0.2667\n",
      "MSE:  0.1249\n",
      "RMSE:  0.3535\n"
     ]
    }
   ],
   "source": [
    "regression_results(y_test, preds)"
   ]
  },
  {
   "cell_type": "markdown",
   "id": "0d0b145a",
   "metadata": {},
   "source": [
    "The numbers on a randomized sample looks similar to an origianl one. What if we also randomize our train and validation set ?"
   ]
  },
  {
   "cell_type": "code",
   "execution_count": null,
   "id": "a0ef8488",
   "metadata": {},
   "outputs": [],
   "source": []
  },
  {
   "cell_type": "markdown",
   "id": "602b6fc7",
   "metadata": {},
   "source": [
    "## What if we randomized the train/validation set AND the sample ?\n",
    "\n",
    "Let's try to use a random sample this time."
   ]
  },
  {
   "cell_type": "code",
   "execution_count": 40,
   "id": "9b5abafc",
   "metadata": {},
   "outputs": [],
   "source": [
    "X, y = df.drop('SalePrice', axis=1), df.SalePrice.values"
   ]
  },
  {
   "cell_type": "code",
   "execution_count": 41,
   "id": "f9522195",
   "metadata": {},
   "outputs": [],
   "source": [
    "X_train, X_test, y_train, y_test = train_test_split(X, y, test_size=0.2, random_state=1)"
   ]
  },
  {
   "cell_type": "code",
   "execution_count": 42,
   "id": "46ae9ba3",
   "metadata": {},
   "outputs": [
    {
     "data": {
      "text/plain": [
       "((320900, 36), pandas.core.frame.DataFrame, (320900,), numpy.ndarray)"
      ]
     },
     "execution_count": 42,
     "metadata": {},
     "output_type": "execute_result"
    }
   ],
   "source": [
    "X_train.shape, type(X_train), y_train.shape, type(y_train)"
   ]
  },
  {
   "cell_type": "code",
   "execution_count": 43,
   "id": "cc2929d3",
   "metadata": {},
   "outputs": [],
   "source": [
    "y_train = y_train.reshape(-1, 1)"
   ]
  },
  {
   "cell_type": "code",
   "execution_count": 44,
   "id": "c62b875b",
   "metadata": {},
   "outputs": [],
   "source": [
    "y_test = y_test.reshape(-1, 1)"
   ]
  },
  {
   "cell_type": "code",
   "execution_count": 45,
   "id": "af11c694",
   "metadata": {},
   "outputs": [
    {
     "data": {
      "text/plain": [
       "3209"
      ]
     },
     "execution_count": 45,
     "metadata": {},
     "output_type": "execute_result"
    }
   ],
   "source": [
    "minimal_df_size = int(len(X_train)/100); minimal_df_size"
   ]
  },
  {
   "cell_type": "code",
   "execution_count": 46,
   "id": "24d115bd",
   "metadata": {},
   "outputs": [],
   "source": [
    "X_train_sample = resample(X_train, replace=True, n_samples=minimal_df_size, random_state=1)"
   ]
  },
  {
   "cell_type": "code",
   "execution_count": 47,
   "id": "0597dcfb",
   "metadata": {},
   "outputs": [],
   "source": [
    "y_train_sample = resample(y_train, replace=True, n_samples=minimal_df_size, random_state=1)"
   ]
  },
  {
   "cell_type": "code",
   "execution_count": 48,
   "id": "2339aa8e",
   "metadata": {},
   "outputs": [],
   "source": [
    "X_test_sample = resample(X_test, replace=True, n_samples=minimal_df_size, random_state=1)"
   ]
  },
  {
   "cell_type": "code",
   "execution_count": 49,
   "id": "0e24b847",
   "metadata": {},
   "outputs": [],
   "source": [
    "y_test_sample = resample(y_test, replace=True, n_samples=minimal_df_size, random_state=1)"
   ]
  },
  {
   "cell_type": "code",
   "execution_count": 50,
   "id": "a90260c6",
   "metadata": {},
   "outputs": [
    {
     "data": {
      "text/plain": [
       "((3209, 36), (3209, 1))"
      ]
     },
     "execution_count": 50,
     "metadata": {},
     "output_type": "execute_result"
    }
   ],
   "source": [
    "(X_train_sample.shape, y_train_sample.shape)"
   ]
  },
  {
   "cell_type": "code",
   "execution_count": 51,
   "id": "54adad39",
   "metadata": {},
   "outputs": [
    {
     "data": {
      "text/plain": [
       "(8.465899897028686, 11.842229212112828, 10.126867491313003, 0.6832482617646924)"
      ]
     },
     "execution_count": 51,
     "metadata": {},
     "output_type": "execute_result"
    }
   ],
   "source": [
    "(y_train_sample.min(), y_train_sample.max(), y_train_sample.mean(), y_train_sample.std())"
   ]
  },
  {
   "cell_type": "code",
   "execution_count": 52,
   "id": "db05edfb",
   "metadata": {},
   "outputs": [
    {
     "data": {
      "text/plain": [
       "(array([ 11.,   2.,  10.,  10.,  12.,  16.,  22.,  45.,  49.,  69.,  43.,\n",
       "        108.,  68.,  90.,  88.,  45.,  91., 139., 104.,  93., 108.,  82.,\n",
       "        111., 142.,  87., 118., 136., 101., 113., 136.,  92.,  94.,  73.,\n",
       "         87.,  68.,  59.,  71.,  47.,  71.,  60.,  48.,  41.,  35.,  38.,\n",
       "         20.,  33.,   6.,   6.,   7.,   4.]),\n",
       " array([ 8.4658999 ,  8.53342648,  8.60095307,  8.66847966,  8.73600624,\n",
       "         8.80353283,  8.87105941,  8.938586  ,  9.00611259,  9.07363917,\n",
       "         9.14116576,  9.20869235,  9.27621893,  9.34374552,  9.41127211,\n",
       "         9.47879869,  9.54632528,  9.61385186,  9.68137845,  9.74890504,\n",
       "         9.81643162,  9.88395821,  9.9514848 , 10.01901138, 10.08653797,\n",
       "        10.15406455, 10.22159114, 10.28911773, 10.35664431, 10.4241709 ,\n",
       "        10.49169749, 10.55922407, 10.62675066, 10.69427724, 10.76180383,\n",
       "        10.82933042, 10.896857  , 10.96438359, 11.03191018, 11.09943676,\n",
       "        11.16696335, 11.23448994, 11.30201652, 11.36954311, 11.43706969,\n",
       "        11.50459628, 11.57212287, 11.63964945, 11.70717604, 11.77470263,\n",
       "        11.84222921]),\n",
       " <BarContainer object of 50 artists>)"
      ]
     },
     "execution_count": 52,
     "metadata": {},
     "output_type": "execute_result"
    },
    {
     "data": {
      "image/png": "[encoded data removed]",
      "text/plain": [
       "<Figure size 432x288 with 1 Axes>"
      ]
     },
     "metadata": {
      "needs_background": "light"
     },
     "output_type": "display_data"
    }
   ],
   "source": [
    "plt.hist(y_train_sample, bins=50)"
   ]
  },
  {
   "cell_type": "code",
   "execution_count": 53,
   "id": "b87b3479",
   "metadata": {},
   "outputs": [
    {
     "name": "stderr",
     "output_type": "stream",
     "text": [
      "<timed eval>:1: DataConversionWarning: A column-vector y was passed when a 1d array was expected. Please change the shape of y to (n_samples,), for example using ravel().\n"
     ]
    },
    {
     "name": "stdout",
     "output_type": "stream",
     "text": [
      "CPU times: user 3.07 s, sys: 13.6 ms, total: 3.08 s\n",
      "Wall time: 442 ms\n"
     ]
    },
    {
     "data": {
      "text/plain": [
       "0.9622040383195666"
      ]
     },
     "execution_count": 53,
     "metadata": {},
     "output_type": "execute_result"
    }
   ],
   "source": [
    "m = RandomForestRegressor(n_jobs=-1)\n",
    "%time m.fit(X_train_sample, y_train_sample)\n",
    "m.score(X_train_sample, y_train_sample)"
   ]
  },
  {
   "cell_type": "code",
   "execution_count": 54,
   "id": "27cd8b9a",
   "metadata": {},
   "outputs": [],
   "source": [
    "preds = m.predict(X_test)"
   ]
  },
  {
   "cell_type": "code",
   "execution_count": 55,
   "id": "ddc53c6a",
   "metadata": {},
   "outputs": [
    {
     "name": "stdout",
     "output_type": "stream",
     "text": [
      "explained_variance:  0.7363\n",
      "mean_squared_log_error:  0.001\n",
      "r2:  0.7358\n",
      "MAE:  0.2698\n",
      "MSE:  0.1276\n",
      "RMSE:  0.3573\n"
     ]
    }
   ],
   "source": [
    "regression_results(y_test, preds)"
   ]
  },
  {
   "cell_type": "code",
   "execution_count": null,
   "id": "32bdbcd0",
   "metadata": {},
   "outputs": [],
   "source": []
  },
  {
   "cell_type": "markdown",
   "id": "0bea1229",
   "metadata": {},
   "source": [
    "## Let's try enhance our fitting results by using logarithms !\n",
    "\n",
    "With our SalePrice as log it could probably be enhance :D"
   ]
  },
  {
   "cell_type": "code",
   "execution_count": 56,
   "id": "8285e6f3",
   "metadata": {},
   "outputs": [],
   "source": [
    "X, y = df.drop('SalePrice', axis=1), np.log(df.SalePrice.values)"
   ]
  },
  {
   "cell_type": "code",
   "execution_count": 57,
   "id": "1d2f5a03",
   "metadata": {},
   "outputs": [],
   "source": [
    "X_train, X_test, y_train, y_test = train_test_split(X, y, test_size=0.2, random_state=1)"
   ]
  },
  {
   "cell_type": "code",
   "execution_count": 58,
   "id": "17859257",
   "metadata": {},
   "outputs": [
    {
     "data": {
      "text/plain": [
       "((320900, 36), pandas.core.frame.DataFrame, (320900,), numpy.ndarray)"
      ]
     },
     "execution_count": 58,
     "metadata": {},
     "output_type": "execute_result"
    }
   ],
   "source": [
    "X_train.shape, type(X_train), y_train.shape, type(y_train)"
   ]
  },
  {
   "cell_type": "code",
   "execution_count": 59,
   "id": "6d418215",
   "metadata": {},
   "outputs": [],
   "source": [
    "y_train = y_train.reshape(-1, 1)"
   ]
  },
  {
   "cell_type": "code",
   "execution_count": 60,
   "id": "991f425c",
   "metadata": {},
   "outputs": [],
   "source": [
    "y_test = y_test.reshape(-1, 1)"
   ]
  },
  {
   "cell_type": "code",
   "execution_count": 61,
   "id": "5fc212b0",
   "metadata": {},
   "outputs": [
    {
     "data": {
      "text/plain": [
       "3209"
      ]
     },
     "execution_count": 61,
     "metadata": {},
     "output_type": "execute_result"
    }
   ],
   "source": [
    "minimal_df_size = int(len(X_train)/100); minimal_df_size"
   ]
  },
  {
   "cell_type": "code",
   "execution_count": 62,
   "id": "88622b01",
   "metadata": {},
   "outputs": [],
   "source": [
    "X_train_sample = resample(X_train, replace=True, n_samples=minimal_df_size, random_state=1)"
   ]
  },
  {
   "cell_type": "code",
   "execution_count": 63,
   "id": "d96533f2",
   "metadata": {},
   "outputs": [],
   "source": [
    "y_train_sample = resample(y_train, replace=True, n_samples=minimal_df_size, random_state=1)"
   ]
  },
  {
   "cell_type": "code",
   "execution_count": 64,
   "id": "91dea9db",
   "metadata": {},
   "outputs": [],
   "source": [
    "X_test_sample = resample(X_test, replace=True, n_samples=minimal_df_size, random_state=1)"
   ]
  },
  {
   "cell_type": "code",
   "execution_count": 65,
   "id": "1f1a6389",
   "metadata": {},
   "outputs": [],
   "source": [
    "y_test_sample = resample(y_test, replace=True, n_samples=minimal_df_size, random_state=1)"
   ]
  },
  {
   "cell_type": "code",
   "execution_count": 66,
   "id": "de5bb0f7",
   "metadata": {},
   "outputs": [
    {
     "data": {
      "text/plain": [
       "((3209, 36), (3209, 1))"
      ]
     },
     "execution_count": 66,
     "metadata": {},
     "output_type": "execute_result"
    }
   ],
   "source": [
    "(X_train_sample.shape, y_train_sample.shape)"
   ]
  },
  {
   "cell_type": "code",
   "execution_count": 67,
   "id": "f9945207",
   "metadata": {},
   "outputs": [
    {
     "data": {
      "text/plain": [
       "(2.1360463179122053,\n",
       " 2.471671889783842,\n",
       " 2.3129118957088366,\n",
       " 0.06758154918988253)"
      ]
     },
     "execution_count": 67,
     "metadata": {},
     "output_type": "execute_result"
    }
   ],
   "source": [
    "(y_train_sample.min(), y_train_sample.max(), y_train_sample.mean(), y_train_sample.std())"
   ]
  },
  {
   "cell_type": "code",
   "execution_count": 68,
   "id": "96139bce",
   "metadata": {},
   "outputs": [
    {
     "data": {
      "text/plain": [
       "(array([ 11.,   2.,   8.,   2.,  11.,  11.,  16.,  22.,  43.,  48.,  66.,\n",
       "         42.,  74.,  50.,  98.,  56.,  84.,  97.,  95.,  82., 104.,  93.,\n",
       "        108.,  82., 111.,  98., 131., 118., 136., 101., 113., 136.,  92.,\n",
       "         99.,  68., 105.,  70.,  68.,  54.,  70.,  73.,  57.,  55.,  39.,\n",
       "         34.,  35.,  21.,   7.,   9.,   4.]),\n",
       " array([2.13604632, 2.14275883, 2.14947134, 2.15618385, 2.16289636,\n",
       "        2.16960888, 2.17632139, 2.1830339 , 2.18974641, 2.19645892,\n",
       "        2.20317143, 2.20988394, 2.21659646, 2.22330897, 2.23002148,\n",
       "        2.23673399, 2.2434465 , 2.25015901, 2.25687152, 2.26358404,\n",
       "        2.27029655, 2.27700906, 2.28372157, 2.29043408, 2.29714659,\n",
       "        2.3038591 , 2.31057162, 2.31728413, 2.32399664, 2.33070915,\n",
       "        2.33742166, 2.34413417, 2.35084668, 2.3575592 , 2.36427171,\n",
       "        2.37098422, 2.37769673, 2.38440924, 2.39112175, 2.39783426,\n",
       "        2.40454678, 2.41125929, 2.4179718 , 2.42468431, 2.43139682,\n",
       "        2.43810933, 2.44482184, 2.45153436, 2.45824687, 2.46495938,\n",
       "        2.47167189]),\n",
       " <BarContainer object of 50 artists>)"
      ]
     },
     "execution_count": 68,
     "metadata": {},
     "output_type": "execute_result"
    },
    {
     "data": {
      "image/png": "[encoded data removed]",
      "text/plain": [
       "<Figure size 432x288 with 1 Axes>"
      ]
     },
     "metadata": {
      "needs_background": "light"
     },
     "output_type": "display_data"
    }
   ],
   "source": [
    "plt.hist(y_train_sample, bins=50)"
   ]
  },
  {
   "cell_type": "code",
   "execution_count": 69,
   "id": "1c878ef2",
   "metadata": {},
   "outputs": [
    {
     "name": "stderr",
     "output_type": "stream",
     "text": [
      "<timed eval>:1: DataConversionWarning: A column-vector y was passed when a 1d array was expected. Please change the shape of y to (n_samples,), for example using ravel().\n"
     ]
    },
    {
     "name": "stdout",
     "output_type": "stream",
     "text": [
      "CPU times: user 3.12 s, sys: 7.14 ms, total: 3.13 s\n",
      "Wall time: 447 ms\n"
     ]
    },
    {
     "data": {
      "text/plain": [
       "0.9615858181608061"
      ]
     },
     "execution_count": 69,
     "metadata": {},
     "output_type": "execute_result"
    }
   ],
   "source": [
    "m = RandomForestRegressor(n_jobs=-1)\n",
    "%time m.fit(X_train_sample, y_train_sample)\n",
    "m.score(X_train_sample, y_train_sample)"
   ]
  },
  {
   "cell_type": "code",
   "execution_count": 70,
   "id": "c82b97d3",
   "metadata": {},
   "outputs": [],
   "source": [
    "preds = m.predict(X_test)"
   ]
  },
  {
   "cell_type": "code",
   "execution_count": 71,
   "id": "64879790",
   "metadata": {},
   "outputs": [
    {
     "name": "stdout",
     "output_type": "stream",
     "text": [
      "explained_variance:  0.733\n",
      "mean_squared_log_error:  0.0001\n",
      "r2:  0.7327\n",
      "MAE:  0.0269\n",
      "MSE:  0.0013\n",
      "RMSE:  0.0355\n"
     ]
    }
   ],
   "source": [
    "regression_results(y_test, preds)"
   ]
  },
  {
   "cell_type": "markdown",
   "id": "ca465db4",
   "metadata": {},
   "source": [
    "Instantly the RMSE is going down, it's incredible how this metric was sensitive to this !"
   ]
  },
  {
   "cell_type": "code",
   "execution_count": null,
   "id": "933c95eb",
   "metadata": {},
   "outputs": [],
   "source": []
  },
  {
   "cell_type": "markdown",
   "id": "c9424807",
   "metadata": {},
   "source": [
    "---"
   ]
  },
  {
   "cell_type": "markdown",
   "id": "699d2a82",
   "metadata": {},
   "source": [
    "### Feature selection"
   ]
  },
  {
   "cell_type": "markdown",
   "id": "64d174a9",
   "metadata": {},
   "source": [
    "#### Basic first try\n",
    "Let's try to select the most usefull features with an automated approach"
   ]
  },
  {
   "cell_type": "code",
   "execution_count": 72,
   "id": "827663ef",
   "metadata": {
    "scrolled": true
   },
   "outputs": [],
   "source": [
    "# from sklearn.feature_selection import SequentialFeatureSelector\n",
    "\n",
    "# #Selecting the Best important features according to RandomForestRegressor\n",
    "# sfs_selector = SequentialFeatureSelector(estimator=RandomForestRegressor(), \n",
    "#                                         n_features_to_select=10,\n",
    "#                                         cv=4,\n",
    "#                                         direction ='backward')\n",
    "\n",
    "# sfs_selector.fit(X_train_boot, y_train_boot)\n",
    "# X.columns[sfs_selector.get_support()]"
   ]
  },
  {
   "cell_type": "markdown",
   "id": "ea36a4f5",
   "metadata": {},
   "source": [
    "We try boostraping with the previous method of feature selection but it doesen't work.\n",
    "\n",
    "Even with a very tiny part of our dataset (0.8% random parts from the original set) the computation take too much time (more than 10mins on an 8 core CPU)."
   ]
  },
  {
   "cell_type": "markdown",
   "id": "bbf221ec",
   "metadata": {},
   "source": [
    "#### Fastai approach of feature Importance"
   ]
  },
  {
   "cell_type": "code",
   "execution_count": 73,
   "id": "8f2ce639",
   "metadata": {},
   "outputs": [],
   "source": [
    "def rf_feat_importance(m, df):\n",
    "    return pd.DataFrame({'cols':df.columns, 'imp':m.feature_importances_})\n",
    "\n",
    "def plot_fi(fi): return fi.plot('cols', 'imp', 'barh', figsize=(12,7), legend=False)"
   ]
  },
  {
   "cell_type": "code",
   "execution_count": 74,
   "id": "b2f07cde",
   "metadata": {
    "scrolled": true
   },
   "outputs": [
    {
     "name": "stdout",
     "output_type": "stream",
     "text": [
      "CPU times: user 20.8 ms, sys: 276 µs, total: 21.1 ms\n",
      "Wall time: 14 ms\n"
     ]
    },
    {
     "data": {
      "text/html": [
       "<div>\n",
       "<style scoped>\n",
       "    .dataframe tbody tr th:only-of-type {\n",
       "        vertical-align: middle;\n",
       "    }\n",
       "\n",
       "    .dataframe tbody tr th {\n",
       "        vertical-align: top;\n",
       "    }\n",
       "\n",
       "    .dataframe thead th {\n",
       "        text-align: right;\n",
       "    }\n",
       "</style>\n",
       "<table border=\"1\" class=\"dataframe\">\n",
       "  <thead>\n",
       "    <tr style=\"text-align: right;\">\n",
       "      <th></th>\n",
       "      <th>cols</th>\n",
       "      <th>imp</th>\n",
       "    </tr>\n",
       "  </thead>\n",
       "  <tbody>\n",
       "    <tr>\n",
       "      <th>0</th>\n",
       "      <td>SalesID</td>\n",
       "      <td>0.041607</td>\n",
       "    </tr>\n",
       "    <tr>\n",
       "      <th>1</th>\n",
       "      <td>MachineID</td>\n",
       "      <td>0.033141</td>\n",
       "    </tr>\n",
       "    <tr>\n",
       "      <th>2</th>\n",
       "      <td>ModelID</td>\n",
       "      <td>0.123818</td>\n",
       "    </tr>\n",
       "    <tr>\n",
       "      <th>3</th>\n",
       "      <td>datasource</td>\n",
       "      <td>0.001933</td>\n",
       "    </tr>\n",
       "    <tr>\n",
       "      <th>4</th>\n",
       "      <td>auctioneerID</td>\n",
       "      <td>0.010087</td>\n",
       "    </tr>\n",
       "    <tr>\n",
       "      <th>5</th>\n",
       "      <td>YearMade</td>\n",
       "      <td>0.139974</td>\n",
       "    </tr>\n",
       "    <tr>\n",
       "      <th>6</th>\n",
       "      <td>MachineHoursCurrentMeter</td>\n",
       "      <td>0.021776</td>\n",
       "    </tr>\n",
       "    <tr>\n",
       "      <th>7</th>\n",
       "      <td>UsageBand</td>\n",
       "      <td>0.004366</td>\n",
       "    </tr>\n",
       "    <tr>\n",
       "      <th>8</th>\n",
       "      <td>fiModelDesc</td>\n",
       "      <td>0.041990</td>\n",
       "    </tr>\n",
       "    <tr>\n",
       "      <th>9</th>\n",
       "      <td>fiBaseModel</td>\n",
       "      <td>0.030198</td>\n",
       "    </tr>\n",
       "    <tr>\n",
       "      <th>10</th>\n",
       "      <td>fiSecondaryDesc</td>\n",
       "      <td>0.044478</td>\n",
       "    </tr>\n",
       "    <tr>\n",
       "      <th>11</th>\n",
       "      <td>fiProductClassDesc</td>\n",
       "      <td>0.080947</td>\n",
       "    </tr>\n",
       "    <tr>\n",
       "      <th>12</th>\n",
       "      <td>state</td>\n",
       "      <td>0.017493</td>\n",
       "    </tr>\n",
       "    <tr>\n",
       "      <th>13</th>\n",
       "      <td>ProductGroup</td>\n",
       "      <td>0.039652</td>\n",
       "    </tr>\n",
       "    <tr>\n",
       "      <th>14</th>\n",
       "      <td>ProductGroupDesc</td>\n",
       "      <td>0.047978</td>\n",
       "    </tr>\n",
       "    <tr>\n",
       "      <th>15</th>\n",
       "      <td>Enclosure</td>\n",
       "      <td>0.164033</td>\n",
       "    </tr>\n",
       "    <tr>\n",
       "      <th>16</th>\n",
       "      <td>Forks</td>\n",
       "      <td>0.001341</td>\n",
       "    </tr>\n",
       "    <tr>\n",
       "      <th>17</th>\n",
       "      <td>Ride_Control</td>\n",
       "      <td>0.005193</td>\n",
       "    </tr>\n",
       "    <tr>\n",
       "      <th>18</th>\n",
       "      <td>Hydraulics</td>\n",
       "      <td>0.033263</td>\n",
       "    </tr>\n",
       "    <tr>\n",
       "      <th>19</th>\n",
       "      <td>Tire_Size</td>\n",
       "      <td>0.007037</td>\n",
       "    </tr>\n",
       "    <tr>\n",
       "      <th>20</th>\n",
       "      <td>Coupler</td>\n",
       "      <td>0.002530</td>\n",
       "    </tr>\n",
       "    <tr>\n",
       "      <th>21</th>\n",
       "      <td>Differential_Type</td>\n",
       "      <td>0.000185</td>\n",
       "    </tr>\n",
       "    <tr>\n",
       "      <th>22</th>\n",
       "      <td>Steering_Controls</td>\n",
       "      <td>0.000161</td>\n",
       "    </tr>\n",
       "    <tr>\n",
       "      <th>23</th>\n",
       "      <td>saleYear</td>\n",
       "      <td>0.010380</td>\n",
       "    </tr>\n",
       "    <tr>\n",
       "      <th>24</th>\n",
       "      <td>saleElapsed</td>\n",
       "      <td>0.044916</td>\n",
       "    </tr>\n",
       "    <tr>\n",
       "      <th>25</th>\n",
       "      <td>saleMonth</td>\n",
       "      <td>0.004039</td>\n",
       "    </tr>\n",
       "    <tr>\n",
       "      <th>26</th>\n",
       "      <td>saleWeek</td>\n",
       "      <td>0.007347</td>\n",
       "    </tr>\n",
       "    <tr>\n",
       "      <th>27</th>\n",
       "      <td>saleDay</td>\n",
       "      <td>0.018878</td>\n",
       "    </tr>\n",
       "    <tr>\n",
       "      <th>28</th>\n",
       "      <td>saleDayofweek</td>\n",
       "      <td>0.008657</td>\n",
       "    </tr>\n",
       "    <tr>\n",
       "      <th>29</th>\n",
       "      <td>saleDayofyear</td>\n",
       "      <td>0.011196</td>\n",
       "    </tr>\n",
       "    <tr>\n",
       "      <th>30</th>\n",
       "      <td>saleIs_month_end</td>\n",
       "      <td>0.000600</td>\n",
       "    </tr>\n",
       "    <tr>\n",
       "      <th>31</th>\n",
       "      <td>saleIs_month_start</td>\n",
       "      <td>0.000264</td>\n",
       "    </tr>\n",
       "    <tr>\n",
       "      <th>32</th>\n",
       "      <td>saleIs_quarter_end</td>\n",
       "      <td>0.000291</td>\n",
       "    </tr>\n",
       "    <tr>\n",
       "      <th>33</th>\n",
       "      <td>saleIs_quarter_start</td>\n",
       "      <td>0.000250</td>\n",
       "    </tr>\n",
       "    <tr>\n",
       "      <th>34</th>\n",
       "      <td>saleIs_year_end</td>\n",
       "      <td>0.000000</td>\n",
       "    </tr>\n",
       "    <tr>\n",
       "      <th>35</th>\n",
       "      <td>saleIs_year_start</td>\n",
       "      <td>0.000000</td>\n",
       "    </tr>\n",
       "  </tbody>\n",
       "</table>\n",
       "</div>"
      ],
      "text/plain": [
       "                        cols       imp\n",
       "0                    SalesID  0.041607\n",
       "1                  MachineID  0.033141\n",
       "2                    ModelID  0.123818\n",
       "3                 datasource  0.001933\n",
       "4               auctioneerID  0.010087\n",
       "5                   YearMade  0.139974\n",
       "6   MachineHoursCurrentMeter  0.021776\n",
       "7                  UsageBand  0.004366\n",
       "8                fiModelDesc  0.041990\n",
       "9                fiBaseModel  0.030198\n",
       "10           fiSecondaryDesc  0.044478\n",
       "11        fiProductClassDesc  0.080947\n",
       "12                     state  0.017493\n",
       "13              ProductGroup  0.039652\n",
       "14          ProductGroupDesc  0.047978\n",
       "15                 Enclosure  0.164033\n",
       "16                     Forks  0.001341\n",
       "17              Ride_Control  0.005193\n",
       "18                Hydraulics  0.033263\n",
       "19                 Tire_Size  0.007037\n",
       "20                   Coupler  0.002530\n",
       "21         Differential_Type  0.000185\n",
       "22         Steering_Controls  0.000161\n",
       "23                  saleYear  0.010380\n",
       "24               saleElapsed  0.044916\n",
       "25                 saleMonth  0.004039\n",
       "26                  saleWeek  0.007347\n",
       "27                   saleDay  0.018878\n",
       "28             saleDayofweek  0.008657\n",
       "29             saleDayofyear  0.011196\n",
       "30          saleIs_month_end  0.000600\n",
       "31        saleIs_month_start  0.000264\n",
       "32        saleIs_quarter_end  0.000291\n",
       "33      saleIs_quarter_start  0.000250\n",
       "34           saleIs_year_end  0.000000\n",
       "35         saleIs_year_start  0.000000"
      ]
     },
     "execution_count": 74,
     "metadata": {},
     "output_type": "execute_result"
    }
   ],
   "source": [
    "%time fi = rf_feat_importance(m, X_train_sample); fi"
   ]
  },
  {
   "cell_type": "markdown",
   "id": "565d1084",
   "metadata": {},
   "source": [
    "This approach is manuel but yet efficient and powerfull !\n",
    "\n",
    "Let's select the most interesting features :"
   ]
  },
  {
   "cell_type": "code",
   "execution_count": 75,
   "id": "8156c324",
   "metadata": {},
   "outputs": [
    {
     "data": {
      "text/plain": [
       "<AxesSubplot:ylabel='cols'>"
      ]
     },
     "execution_count": 75,
     "metadata": {},
     "output_type": "execute_result"
    },
    {
     "data": {
      "image/png": "[encoded data removed]",
      "text/plain": [
       "<Figure size 864x504 with 1 Axes>"
      ]
     },
     "metadata": {
      "needs_background": "light"
     },
     "output_type": "display_data"
    }
   ],
   "source": [
    "plot_fi(fi)"
   ]
  },
  {
   "cell_type": "code",
   "execution_count": 76,
   "id": "fc5e2348",
   "metadata": {},
   "outputs": [
    {
     "data": {
      "text/plain": [
       "(36, 2)"
      ]
     },
     "execution_count": 76,
     "metadata": {},
     "output_type": "execute_result"
    }
   ],
   "source": [
    "fi.shape"
   ]
  },
  {
   "cell_type": "code",
   "execution_count": 77,
   "id": "eca0e49f",
   "metadata": {
    "scrolled": false
   },
   "outputs": [
    {
     "data": {
      "text/plain": [
       "<AxesSubplot:ylabel='cols'>"
      ]
     },
     "execution_count": 77,
     "metadata": {},
     "output_type": "execute_result"
    },
    {
     "data": {
      "image/png": "[encoded data removed]",
      "text/plain": [
       "<Figure size 864x504 with 1 Axes>"
      ]
     },
     "metadata": {
      "needs_background": "light"
     },
     "output_type": "display_data"
    }
   ],
   "source": [
    "to_keep = fi[fi.imp > 0.025]\n",
    "plot_fi(to_keep)"
   ]
  },
  {
   "cell_type": "code",
   "execution_count": 78,
   "id": "8ad4481a",
   "metadata": {},
   "outputs": [
    {
     "data": {
      "text/plain": [
       "(13, 2)"
      ]
     },
     "execution_count": 78,
     "metadata": {},
     "output_type": "execute_result"
    }
   ],
   "source": [
    "to_keep.shape"
   ]
  },
  {
   "cell_type": "markdown",
   "id": "6ef62b14",
   "metadata": {},
   "source": [
    "---"
   ]
  },
  {
   "cell_type": "markdown",
   "id": "5208dca9",
   "metadata": {},
   "source": [
    "## Optimizing training time and results with features importance"
   ]
  },
  {
   "cell_type": "code",
   "execution_count": 79,
   "id": "53106bec",
   "metadata": {},
   "outputs": [
    {
     "name": "stderr",
     "output_type": "stream",
     "text": [
      "<timed eval>:1: DataConversionWarning: A column-vector y was passed when a 1d array was expected. Please change the shape of y to (n_samples,), for example using ravel().\n"
     ]
    },
    {
     "name": "stdout",
     "output_type": "stream",
     "text": [
      "CPU times: user 1.72 s, sys: 19.2 ms, total: 1.74 s\n",
      "Wall time: 288 ms\n"
     ]
    },
    {
     "data": {
      "text/plain": [
       "0.753677029196751"
      ]
     },
     "execution_count": 79,
     "metadata": {},
     "output_type": "execute_result"
    }
   ],
   "source": [
    "m = RandomForestRegressor(n_jobs=-1)\n",
    "%time m.fit(X_train_sample[to_keep.cols], y_train_sample[:])\n",
    "m.score(X_test_sample[to_keep.cols], y_test_sample[:])"
   ]
  },
  {
   "cell_type": "code",
   "execution_count": 80,
   "id": "208b5f0d",
   "metadata": {},
   "outputs": [],
   "source": [
    "preds = m.predict(X_test[to_keep.cols])"
   ]
  },
  {
   "cell_type": "code",
   "execution_count": 81,
   "id": "0ef8a0f0",
   "metadata": {},
   "outputs": [
    {
     "name": "stdout",
     "output_type": "stream",
     "text": [
      "explained_variance:  0.7558\n",
      "mean_squared_log_error:  0.0001\n",
      "r2:  0.7553\n",
      "MAE:  0.0255\n",
      "MSE:  0.0012\n",
      "RMSE:  0.034\n"
     ]
    }
   ],
   "source": [
    "regression_results(y_test, preds)"
   ]
  },
  {
   "cell_type": "markdown",
   "id": "273bb5a7",
   "metadata": {},
   "source": [
    "This is becomming better and better, we just won 0.02 on our variance and R2 !"
   ]
  },
  {
   "cell_type": "code",
   "execution_count": null,
   "id": "9e403954",
   "metadata": {},
   "outputs": [],
   "source": []
  },
  {
   "cell_type": "markdown",
   "id": "c330294e",
   "metadata": {},
   "source": [
    "### Let's try to use even less feature"
   ]
  },
  {
   "cell_type": "code",
   "execution_count": 82,
   "id": "81ab17b9",
   "metadata": {
    "scrolled": false
   },
   "outputs": [
    {
     "data": {
      "text/plain": [
       "<AxesSubplot:ylabel='cols'>"
      ]
     },
     "execution_count": 82,
     "metadata": {},
     "output_type": "execute_result"
    },
    {
     "data": {
      "image/png": "[encoded data removed]",
      "text/plain": [
       "<Figure size 864x504 with 1 Axes>"
      ]
     },
     "metadata": {
      "needs_background": "light"
     },
     "output_type": "display_data"
    }
   ],
   "source": [
    "to_keep = fi[fi.imp > 0.05]\n",
    "plot_fi(to_keep)"
   ]
  },
  {
   "cell_type": "code",
   "execution_count": 83,
   "id": "7a645532",
   "metadata": {},
   "outputs": [
    {
     "data": {
      "text/plain": [
       "(4, 2)"
      ]
     },
     "execution_count": 83,
     "metadata": {},
     "output_type": "execute_result"
    }
   ],
   "source": [
    "to_keep.shape"
   ]
  },
  {
   "cell_type": "code",
   "execution_count": 84,
   "id": "9ba59e4b",
   "metadata": {},
   "outputs": [
    {
     "name": "stderr",
     "output_type": "stream",
     "text": [
      "<timed eval>:1: DataConversionWarning: A column-vector y was passed when a 1d array was expected. Please change the shape of y to (n_samples,), for example using ravel().\n"
     ]
    },
    {
     "name": "stdout",
     "output_type": "stream",
     "text": [
      "CPU times: user 2.29 s, sys: 99.8 ms, total: 2.39 s\n",
      "Wall time: 565 ms\n"
     ]
    },
    {
     "data": {
      "text/plain": [
       "0.6700535691759679"
      ]
     },
     "execution_count": 84,
     "metadata": {},
     "output_type": "execute_result"
    }
   ],
   "source": [
    "m = RandomForestRegressor(n_jobs=-1)\n",
    "%time m.fit(X_train_sample[to_keep.cols], y_train_sample[:])\n",
    "m.score(X_test_sample[to_keep.cols], y_test_sample[:])"
   ]
  },
  {
   "cell_type": "code",
   "execution_count": 85,
   "id": "6bc262eb",
   "metadata": {},
   "outputs": [],
   "source": [
    "preds = m.predict(X_test[to_keep.cols])"
   ]
  },
  {
   "cell_type": "code",
   "execution_count": 86,
   "id": "a1421962",
   "metadata": {},
   "outputs": [
    {
     "name": "stdout",
     "output_type": "stream",
     "text": [
      "explained_variance:  0.6685\n",
      "mean_squared_log_error:  0.0001\n",
      "r2:  0.6682\n",
      "MAE:  0.0302\n",
      "MSE:  0.0016\n",
      "RMSE:  0.0396\n"
     ]
    }
   ],
   "source": [
    "regression_results(y_test, preds)"
   ]
  },
  {
   "cell_type": "markdown",
   "id": "0d6491ee",
   "metadata": {},
   "source": [
    "Our results are less good, maybe it was too much, let's try with a more reasonable number of features."
   ]
  },
  {
   "cell_type": "markdown",
   "id": "ffa1dcb6",
   "metadata": {},
   "source": [
    "### Let's try to use even less feature"
   ]
  },
  {
   "cell_type": "code",
   "execution_count": 87,
   "id": "e5ad0455",
   "metadata": {
    "scrolled": false
   },
   "outputs": [
    {
     "data": {
      "text/plain": [
       "<AxesSubplot:ylabel='cols'>"
      ]
     },
     "execution_count": 87,
     "metadata": {},
     "output_type": "execute_result"
    },
    {
     "data": {
      "image/png": "[encoded data removed]",
      "text/plain": [
       "<Figure size 864x504 with 1 Axes>"
      ]
     },
     "metadata": {
      "needs_background": "light"
     },
     "output_type": "display_data"
    }
   ],
   "source": [
    "to_keep = fi[fi.imp > 0.04]\n",
    "plot_fi(to_keep)"
   ]
  },
  {
   "cell_type": "code",
   "execution_count": 88,
   "id": "80f9cb64",
   "metadata": {},
   "outputs": [
    {
     "data": {
      "text/plain": [
       "(9, 2)"
      ]
     },
     "execution_count": 88,
     "metadata": {},
     "output_type": "execute_result"
    }
   ],
   "source": [
    "to_keep.shape"
   ]
  },
  {
   "cell_type": "code",
   "execution_count": 89,
   "id": "b0ebed4c",
   "metadata": {},
   "outputs": [
    {
     "name": "stderr",
     "output_type": "stream",
     "text": [
      "<timed eval>:1: DataConversionWarning: A column-vector y was passed when a 1d array was expected. Please change the shape of y to (n_samples,), for example using ravel().\n"
     ]
    },
    {
     "name": "stdout",
     "output_type": "stream",
     "text": [
      "CPU times: user 1.85 s, sys: 28.7 ms, total: 1.88 s\n",
      "Wall time: 331 ms\n"
     ]
    },
    {
     "data": {
      "text/plain": [
       "0.7591783696737293"
      ]
     },
     "execution_count": 89,
     "metadata": {},
     "output_type": "execute_result"
    }
   ],
   "source": [
    "m = RandomForestRegressor(n_jobs=-1)\n",
    "%time m.fit(X_train_sample[to_keep.cols], y_train_sample[:])\n",
    "m.score(X_test_sample[to_keep.cols], y_test_sample[:])"
   ]
  },
  {
   "cell_type": "code",
   "execution_count": 90,
   "id": "d3a32a21",
   "metadata": {},
   "outputs": [],
   "source": [
    "preds = m.predict(X_test[to_keep.cols])"
   ]
  },
  {
   "cell_type": "code",
   "execution_count": 91,
   "id": "46aaf496",
   "metadata": {},
   "outputs": [
    {
     "name": "stdout",
     "output_type": "stream",
     "text": [
      "explained_variance:  0.759\n",
      "mean_squared_log_error:  0.0001\n",
      "r2:  0.7587\n",
      "MAE:  0.0252\n",
      "MSE:  0.0011\n",
      "RMSE:  0.0338\n"
     ]
    }
   ],
   "source": [
    "regression_results(y_test, preds)"
   ]
  },
  {
   "cell_type": "markdown",
   "id": "1b19edf5",
   "metadata": {},
   "source": [
    "We're back into the number race, our numbers are continue to be better !"
   ]
  },
  {
   "cell_type": "code",
   "execution_count": null,
   "id": "7cc1dcfb",
   "metadata": {},
   "outputs": [],
   "source": []
  }
 ],
 "metadata": {
  "kernelspec": {
   "display_name": "Python 3 (ipykernel)",
   "language": "python",
   "name": "python3"
  },
  "language_info": {
   "codemirror_mode": {
    "name": "ipython",
    "version": 3
   },
   "file_extension": ".py",
   "mimetype": "text/x-python",
   "name": "python",
   "nbconvert_exporter": "python",
   "pygments_lexer": "ipython3",
   "version": "3.9.7"
  }
 },
 "nbformat": 4,
 "nbformat_minor": 5
}
